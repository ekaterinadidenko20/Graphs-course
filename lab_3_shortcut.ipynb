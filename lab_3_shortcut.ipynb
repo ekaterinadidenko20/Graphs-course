{
  "nbformat": 4,
  "nbformat_minor": 0,
  "metadata": {
    "colab": {
      "provenance": []
    },
    "kernelspec": {
      "name": "python3",
      "display_name": "Python 3"
    },
    "language_info": {
      "name": "python"
    }
  },
  "cells": [
    {
      "cell_type": "code",
      "source": [
        "!pip install python-graphblas[default]"
      ],
      "metadata": {
        "colab": {
          "base_uri": "https://localhost:8080/"
        },
        "id": "89aaE2kbOBas",
        "outputId": "e94d1f01-e3c5-47b4-9562-2ec75f31679f"
      },
      "execution_count": null,
      "outputs": [
        {
          "output_type": "stream",
          "name": "stdout",
          "text": [
            "Collecting python-graphblas[default]\n",
            "  Downloading python_graphblas-2024.2.0-py3-none-any.whl (350 kB)\n",
            "\u001b[2K     \u001b[90m━━━━━━━━━━━━━━━━━━━━━━━━━━━━━━━━━━━━━━━━\u001b[0m \u001b[32m350.9/350.9 kB\u001b[0m \u001b[31m3.7 MB/s\u001b[0m eta \u001b[36m0:00:00\u001b[0m\n",
            "\u001b[?25hRequirement already satisfied: numpy>=1.22 in /usr/local/lib/python3.10/dist-packages (from python-graphblas[default]) (1.25.2)\n",
            "Collecting donfig>=0.6 (from python-graphblas[default])\n",
            "  Downloading donfig-0.8.1.post1-py3-none-any.whl (21 kB)\n",
            "Requirement already satisfied: pyyaml>=5.4 in /usr/local/lib/python3.10/dist-packages (from python-graphblas[default]) (6.0.1)\n",
            "Collecting suitesparse-graphblas<9,>=7.4.0.0 (from python-graphblas[default])\n",
            "  Downloading suitesparse_graphblas-8.2.1.0-cp310-cp310-manylinux_2_17_x86_64.manylinux2014_x86_64.whl (45.7 MB)\n",
            "\u001b[2K     \u001b[90m━━━━━━━━━━━━━━━━━━━━━━━━━━━━━━━━━━━━━━━━\u001b[0m \u001b[32m45.7/45.7 MB\u001b[0m \u001b[31m9.6 MB/s\u001b[0m eta \u001b[36m0:00:00\u001b[0m\n",
            "\u001b[?25hRequirement already satisfied: numba>=0.55 in /usr/local/lib/python3.10/dist-packages (from python-graphblas[default]) (0.58.1)\n",
            "Requirement already satisfied: llvmlite<0.42,>=0.41.0dev0 in /usr/local/lib/python3.10/dist-packages (from numba>=0.55->python-graphblas[default]) (0.41.1)\n",
            "Requirement already satisfied: cffi>=1.11 in /usr/local/lib/python3.10/dist-packages (from suitesparse-graphblas<9,>=7.4.0.0->python-graphblas[default]) (1.16.0)\n",
            "Requirement already satisfied: scipy>=1.9 in /usr/local/lib/python3.10/dist-packages (from python-graphblas[default]) (1.11.4)\n",
            "Requirement already satisfied: pandas>=1.2 in /usr/local/lib/python3.10/dist-packages (from python-graphblas[default]) (2.0.3)\n",
            "Requirement already satisfied: pycparser in /usr/local/lib/python3.10/dist-packages (from cffi>=1.11->suitesparse-graphblas<9,>=7.4.0.0->python-graphblas[default]) (2.22)\n",
            "Requirement already satisfied: python-dateutil>=2.8.2 in /usr/local/lib/python3.10/dist-packages (from pandas>=1.2->python-graphblas[default]) (2.8.2)\n",
            "Requirement already satisfied: pytz>=2020.1 in /usr/local/lib/python3.10/dist-packages (from pandas>=1.2->python-graphblas[default]) (2023.4)\n",
            "Requirement already satisfied: tzdata>=2022.1 in /usr/local/lib/python3.10/dist-packages (from pandas>=1.2->python-graphblas[default]) (2024.1)\n",
            "Requirement already satisfied: six>=1.5 in /usr/local/lib/python3.10/dist-packages (from python-dateutil>=2.8.2->pandas>=1.2->python-graphblas[default]) (1.16.0)\n",
            "Installing collected packages: donfig, suitesparse-graphblas, python-graphblas\n",
            "Successfully installed donfig-0.8.1.post1 python-graphblas-2024.2.0 suitesparse-graphblas-8.2.1.0\n"
          ]
        }
      ]
    },
    {
      "cell_type": "code",
      "source": [
        "import numpy as np\n",
        "import pandas as pd\n",
        "import networkx as nx\n",
        "import matplotlib.pyplot as plt\n",
        "import graphblas as gb\n",
        "from graphblas import Matrix, Vector, Scalar\n",
        "from graphblas import dtypes\n",
        "from graphblas import unary, binary, monoid, semiring"
      ],
      "metadata": {
        "id": "xgG2knFzN0yR"
      },
      "execution_count": null,
      "outputs": []
    },
    {
      "cell_type": "markdown",
      "source": [
        "# **Bellman Ford с одной стартовой вершиной**"
      ],
      "metadata": {
        "id": "Fjtch-sqOIaS"
      }
    },
    {
      "cell_type": "markdown",
      "source": [
        "Используя python-graphblas реализовать функцию поиска кратчайших путей в ориентированном графе из заданной вершины (Bellman–Ford).\n",
        "* Функция принимает представление графа, удобное для неё (загрузка, конвертация\n",
        "реализованы отдельно) и номер стартовой вершины.\n",
        "* Функция возвращает массив, где для каждой вершины указано расстояние до неё от указанной стартовой вершины. Если вершина не достижима или кратчайшего пути для неё не существует, то значение соответствующей ячейки равно float('inf')."
      ],
      "metadata": {
        "id": "PcW_JDN1Od2H"
      }
    },
    {
      "cell_type": "code",
      "source": [
        "# ошибка присутсвия цикла орицательного веса\n",
        "\n",
        "class NegativeWeightError(Exception):\n",
        "    print(\"Присутсвует цикл отрицательного веса\")"
      ],
      "metadata": {
        "colab": {
          "base_uri": "https://localhost:8080/"
        },
        "id": "CBgSn_HLXC_k",
        "outputId": "be05f708-d250-4661-a290-c88751adeef7"
      },
      "execution_count": null,
      "outputs": [
        {
          "output_type": "stream",
          "name": "stdout",
          "text": [
            "Присутсвует цикл отрицательного веса\n"
          ]
        }
      ]
    },
    {
      "cell_type": "code",
      "source": [
        "def Bellman_Ford(A, vertex):\n",
        "  # количество вершин\n",
        "  m = A.nrows\n",
        "  # создаем вектор и инициализируем начальную вершину с нулевым расстоянием\n",
        "  v = Vector(A.dtype, m)\n",
        "  v[vertex] << 0\n",
        "  # реализуем алгоритм обхода графа\n",
        "  w = v.dup()\n",
        "  for i in range(m - 1):\n",
        "      # данные по расстоянию копируем в новый вектор\n",
        "      w_old = w.dup()\n",
        "      # обновляем расстояния\n",
        "      w(binary.min) << w.vxm(A, semiring.min_plus)\n",
        "      # алгоритм работает до тех пор, пока на каком-либо шаге расстояния не перестанут меняться\n",
        "      if w.isequal(w_old):\n",
        "        break\n",
        "  # проверяем на наличие циклов отрицательного веса\n",
        "  w_old = w.dup()\n",
        "  w(binary.min) << w.vxm(A, semiring.min_plus)\n",
        "  # при наличие выводим ошибку с сообщением\n",
        "  if not w.isequal(w_old):\n",
        "    raise NegativeWeightError(\"Присутсвует цикл отрицательного веса\")\n",
        "  #формирую ответ\n",
        "  final = []\n",
        "  for i in range(m):\n",
        "    # если вершина недостижима, то значение 'inf'\n",
        "    if w[i].value is None:\n",
        "        final.append(float('inf'))\n",
        "    # формируем массив с расстояниями от стартовой вершины до остальных\n",
        "    else:\n",
        "        final.append(w[i].value)\n",
        "  return final"
      ],
      "metadata": {
        "id": "H_4tsKYwWhs1"
      },
      "execution_count": null,
      "outputs": []
    },
    {
      "cell_type": "markdown",
      "source": [
        "# **Bellman Ford с несколькими стартовыми вершинами**"
      ],
      "metadata": {
        "id": "_5huyyRmOuw-"
      }
    },
    {
      "cell_type": "markdown",
      "source": [
        "Используя python-graphblas реализовать функцию поиска кратчайших путей в ориентированном графе из нескольких заданных вершин, модифицировав предыдущий алгоритм.\n",
        "* Функция принимает представление графа, удобное для неё (загрузка, конвертация реализованы отдельно) и массив номеров стартовых вершин.\n",
        "*  Функция возвращает массив пар: вершина, и массив, где для каждой вершины указано расстояние до неё из указанной. Если вершина не достижима или кратчайшего пути для неё не существует, то значение соответствующей ячейки равно float('inf')."
      ],
      "metadata": {
        "id": "X7Yt9yCoO1T_"
      }
    },
    {
      "cell_type": "code",
      "source": [
        "def Bellman_Ford_new(A, massiv):\n",
        "  # количество вершин в графе\n",
        "  n = A.ncols\n",
        "  # количество стартовых вершин\n",
        "  m = len(massiv)\n",
        "  # создаем матрицу и инициализируем начальные вершины с нулевым расстоянием\n",
        "  v = Matrix(dtypes.UINT32, m, n)\n",
        "  for i in range(m):\n",
        "    v[i, massiv[i]] << 0\n",
        "  # реализуем алгоритм обхода графа\n",
        "  w = v.dup()\n",
        "  for i in range(n - 1):\n",
        "    w_old = w.dup()\n",
        "    for i in range(m):\n",
        "      w[i, :](binary.min) << w[i, :].vxm(A, semiring.min_plus)\n",
        "    if w.isequal(w_old):\n",
        "        break\n",
        "  # проверяем на наличие циклов отрицательного веса\n",
        "  w_old = w.dup()\n",
        "  for i in range(m):\n",
        "    w[i, :](binary.min) << w[i, :].vxm(A, semiring.min_plus)\n",
        "  if not w.isequal(w_old):\n",
        "    raise NegativeWeightError(\"Присутсвует цикл отрицательного веса\")\n",
        "  # если все ок, то формируем ответ\n",
        "  # расстояния помещаем в массив пар final\n",
        "  final = {}\n",
        "  for i in range(m):\n",
        "    values = []\n",
        "    for j in range(n):\n",
        "      # если вершина недостижима, то значение 'inf'\n",
        "      if w[i, j].value is None:\n",
        "        values.append(float('inf'))\n",
        "        # формируем массив с расстояниями от стартовой вершины до остальных\n",
        "      else:\n",
        "        values.append(w[i, j].value)\n",
        "    final[massiv[i]] = (values)\n",
        "  return final"
      ],
      "metadata": {
        "id": "5DEzKFJsumL_"
      },
      "execution_count": null,
      "outputs": []
    },
    {
      "cell_type": "markdown",
      "source": [
        "# **Тестирование**"
      ],
      "metadata": {
        "id": "jarbQfneB_EJ"
      }
    },
    {
      "cell_type": "markdown",
      "source": [
        "Тесты для проверки корректности полученных реализаций.\n"
      ],
      "metadata": {
        "id": "ejEJ5ceFCFU6"
      }
    },
    {
      "cell_type": "markdown",
      "source": [
        "**TEST 1**\n",
        "\n",
        "Граф, где в каждую вершину можно папость из любой вершины.\n",
        "\n",
        "Проверим, что вес берется в расчет при нахождение кратчайших путей.\n",
        "\n",
        "*Например, из вершины \"2\" можно попасть в \"3\" перейдя по связанному их ребру, но вес там 5. Алгоритм должен найти кратчайший путь до \"3\" из \"2\" через вершину \"1\", где вес будет составлять 3.*"
      ],
      "metadata": {
        "id": "XQCH6Y3HCJVq"
      }
    },
    {
      "cell_type": "code",
      "source": [
        "data = [\n",
        "    [0, 1, 1, 2, 2, 3, 1, 3],\n",
        "    [1, 0, 2, 1, 3, 1, 3, 2],\n",
        "    [3, 3, 2, 2, 5, 1, 1, 5],\n",
        "]\n",
        "rows, cols, weights = data\n",
        "M1 = Matrix.from_coo(rows, cols, weights)\n",
        "gb.viz.draw(M1)"
      ],
      "metadata": {
        "colab": {
          "base_uri": "https://localhost:8080/",
          "height": 406
        },
        "id": "tc1nYaiHCO89",
        "outputId": "a1815b1e-c28f-469b-aa48-14c7cb1cd4e7"
      },
      "execution_count": null,
      "outputs": [
        {
          "output_type": "display_data",
          "data": {
            "text/plain": [
              "<Figure size 640x480 with 1 Axes>"
            ],
            "image/png": "[encoded data removed]"
          },
          "metadata": {}
        }
      ]
    },
    {
      "cell_type": "code",
      "source": [
        "# стартовая вершина 0 и 0, 1, 2\n",
        "p1 = 0\n",
        "p2 = [0, 1, 2]\n",
        "# правильные ответы\n",
        "a1 = [0, 3, 5, 4]\n",
        "a2 = {0: [0, 3, 5, 4], 1: [3, 0, 2, 1], 2: [5, 2, 0, 3]}\n",
        "\n",
        "print('Bellman_Ford:', Bellman_Ford(M1, p1))\n",
        "print('Bellman_Ford_new:', Bellman_Ford_new(M1, p2))\n",
        "\n",
        "if Bellman_Ford(M1, p1) == a1 and Bellman_Ford_new(M1, p2) == a2:\n",
        "  print('Test passed')\n",
        "else:\n",
        "  print('Test failed')"
      ],
      "metadata": {
        "colab": {
          "base_uri": "https://localhost:8080/"
        },
        "id": "D6U5dtA9CzE_",
        "outputId": "1cf1e19d-bba0-43b5-c9d0-1ada59e75e0b"
      },
      "execution_count": null,
      "outputs": [
        {
          "output_type": "stream",
          "name": "stdout",
          "text": [
            "Bellman_Ford: [0, 3, 5, 4]\n",
            "Bellman_Ford_new: {0: [0, 3, 5, 4], 1: [3, 0, 2, 1], 2: [5, 2, 0, 3]}\n",
            "Test passed\n"
          ]
        }
      ]
    },
    {
      "cell_type": "markdown",
      "source": [
        "**TEST 2**\n",
        "\n",
        "Немного изменим предыдущий граф, теперь из вершины \"1\" нельзя попасть в вершину \"3\" по прямой.\n",
        "\n",
        "*Проверим, что алгоритм пройдет в вершину \"3\" через вершину \"2\". А из вершины \"3\" в вершину \"1\" по прямой веса 1.*"
      ],
      "metadata": {
        "id": "jHDCppd7Ez2f"
      }
    },
    {
      "cell_type": "code",
      "source": [
        "data = [\n",
        "    [0, 1, 1, 2, 2, 3, 3],\n",
        "    [1, 0, 2, 1, 3, 1, 2],\n",
        "    [3, 3, 2, 2, 5, 1, 5],\n",
        "]\n",
        "rows, cols, weights = data\n",
        "M2 = Matrix.from_coo(rows, cols, weights)\n",
        "gb.viz.draw(M2)"
      ],
      "metadata": {
        "colab": {
          "base_uri": "https://localhost:8080/",
          "height": 406
        },
        "id": "PwWDpDNQFLkx",
        "outputId": "f7b23039-1e2d-47a5-d419-41ca91a81222"
      },
      "execution_count": null,
      "outputs": [
        {
          "output_type": "display_data",
          "data": {
            "text/plain": [
              "<Figure size 640x480 with 1 Axes>"
            ],
            "image/png": "[encoded data removed]"
          },
          "metadata": {}
        }
      ]
    },
    {
      "cell_type": "code",
      "source": [
        "# стартовая вершина 1 и 0, 1, 3\n",
        "p1 = 1\n",
        "p2 = [0, 1, 3]\n",
        "# правильные ответы\n",
        "a1 = [3, 0, 2, 7]\n",
        "a2 = {0: [0, 3, 5, 10], 1: [3, 0, 2, 7], 3: [4, 1, 3, 0]}\n",
        "\n",
        "print('Bellman_Ford:', Bellman_Ford(M2, p1))\n",
        "print('Bellman_Ford_new:', Bellman_Ford_new(M2, p2))\n",
        "\n",
        "if Bellman_Ford(M2, p1) == a1 and Bellman_Ford_new(M2, p2) == a2:\n",
        "  print('Test passed')\n",
        "else:\n",
        "  print('Test failed')"
      ],
      "metadata": {
        "colab": {
          "base_uri": "https://localhost:8080/"
        },
        "id": "GPYVQ39TCuLG",
        "outputId": "bb1b3551-41e3-4dac-b83d-0e330da66ce0"
      },
      "execution_count": null,
      "outputs": [
        {
          "output_type": "stream",
          "name": "stdout",
          "text": [
            "Bellman_Ford: [3, 0, 2, 7]\n",
            "Bellman_Ford_new: {0: [0, 3, 5, 10], 1: [3, 0, 2, 7], 3: [4, 1, 3, 0]}\n",
            "Test passed\n"
          ]
        }
      ]
    },
    {
      "cell_type": "markdown",
      "source": [
        "**TEST 3**\n",
        "\n",
        "Исправим теперь веса на том же графе на отрицательные.\n",
        "\n",
        "*Проверим, что алгоритм вернет созданную ранее ошибку NegativeWeightError.*"
      ],
      "metadata": {
        "id": "KAlGeQIKNiCH"
      }
    },
    {
      "cell_type": "code",
      "source": [
        "data = [\n",
        "    [0, 1, 1, 2, 2, 3, 3],\n",
        "    [1, 0, 2, 1, 3, 1, 2],\n",
        "    [-3, -3, -2, -2, -5, -1, -5],\n",
        "]\n",
        "rows, cols, weights = data\n",
        "M3 = Matrix.from_coo(rows, cols, weights)\n",
        "gb.viz.draw(M3)"
      ],
      "metadata": {
        "colab": {
          "base_uri": "https://localhost:8080/",
          "height": 406
        },
        "id": "_hRkW8wHCuNT",
        "outputId": "d85a067f-b443-4794-c25a-871994e275f8"
      },
      "execution_count": null,
      "outputs": [
        {
          "output_type": "display_data",
          "data": {
            "text/plain": [
              "<Figure size 640x480 with 1 Axes>"
            ],
            "image/png": "[encoded data removed]"
          },
          "metadata": {}
        }
      ]
    },
    {
      "cell_type": "code",
      "source": [
        "# стартовая вершина 0\n",
        "p1 = 0\n",
        "\n",
        "Bellman_Ford(M3, p1)"
      ],
      "metadata": {
        "id": "89Z-eHjgCuPr",
        "colab": {
          "base_uri": "https://localhost:8080/",
          "height": 311
        },
        "outputId": "d93cb280-26d3-4def-ede0-30a3224d3e6d"
      },
      "execution_count": null,
      "outputs": [
        {
          "output_type": "error",
          "ename": "NegativeWeightError",
          "evalue": "Присутсвует цикл отрицательного веса",
          "traceback": [
            "\u001b[0;31m---------------------------------------------------------------------------\u001b[0m",
            "\u001b[0;31mNegativeWeightError\u001b[0m                       Traceback (most recent call last)",
            "\u001b[0;32m<ipython-input-148-b1e0cfb292b5>\u001b[0m in \u001b[0;36m<cell line: 4>\u001b[0;34m()\u001b[0m\n\u001b[1;32m      2\u001b[0m \u001b[0mp1\u001b[0m \u001b[0;34m=\u001b[0m \u001b[0;36m0\u001b[0m\u001b[0;34m\u001b[0m\u001b[0;34m\u001b[0m\u001b[0m\n\u001b[1;32m      3\u001b[0m \u001b[0;34m\u001b[0m\u001b[0m\n\u001b[0;32m----> 4\u001b[0;31m \u001b[0mBellman_Ford\u001b[0m\u001b[0;34m(\u001b[0m\u001b[0mM3\u001b[0m\u001b[0;34m,\u001b[0m \u001b[0mp1\u001b[0m\u001b[0;34m)\u001b[0m\u001b[0;34m\u001b[0m\u001b[0;34m\u001b[0m\u001b[0m\n\u001b[0m",
            "\u001b[0;32m<ipython-input-104-458b04f7ad60>\u001b[0m in \u001b[0;36mBellman_Ford\u001b[0;34m(A, vertex)\u001b[0m\n\u001b[1;32m     16\u001b[0m   \u001b[0;31m# при наличие выводим сообщение\u001b[0m\u001b[0;34m\u001b[0m\u001b[0;34m\u001b[0m\u001b[0m\n\u001b[1;32m     17\u001b[0m   \u001b[0;32mif\u001b[0m \u001b[0;32mnot\u001b[0m \u001b[0mw\u001b[0m\u001b[0;34m.\u001b[0m\u001b[0misequal\u001b[0m\u001b[0;34m(\u001b[0m\u001b[0mw_old\u001b[0m\u001b[0;34m)\u001b[0m\u001b[0;34m:\u001b[0m\u001b[0;34m\u001b[0m\u001b[0;34m\u001b[0m\u001b[0m\n\u001b[0;32m---> 18\u001b[0;31m     \u001b[0;32mraise\u001b[0m \u001b[0mNegativeWeightError\u001b[0m\u001b[0;34m(\u001b[0m\u001b[0;34m\"Присутсвует цикл отрицательного веса\"\u001b[0m\u001b[0;34m)\u001b[0m\u001b[0;34m\u001b[0m\u001b[0;34m\u001b[0m\u001b[0m\n\u001b[0m\u001b[1;32m     19\u001b[0m   \u001b[0;31m#формирую ответ\u001b[0m\u001b[0;34m\u001b[0m\u001b[0;34m\u001b[0m\u001b[0m\n\u001b[1;32m     20\u001b[0m   \u001b[0mfinal\u001b[0m \u001b[0;34m=\u001b[0m \u001b[0;34m[\u001b[0m\u001b[0;34m]\u001b[0m\u001b[0;34m\u001b[0m\u001b[0;34m\u001b[0m\u001b[0m\n",
            "\u001b[0;31mNegativeWeightError\u001b[0m: Присутсвует цикл отрицательного веса"
          ]
        }
      ]
    },
    {
      "cell_type": "code",
      "source": [
        "# стартовая вершина 0, 1\n",
        "p1 = np.array([0, 1])\n",
        "\n",
        "Bellman_Ford_new(M3, p1)"
      ],
      "metadata": {
        "id": "jE6wpPF5UETF",
        "colab": {
          "base_uri": "https://localhost:8080/",
          "height": 311
        },
        "outputId": "9cbbeb27-5b11-471c-e46e-2d1b5ffbf8cd"
      },
      "execution_count": null,
      "outputs": [
        {
          "output_type": "error",
          "ename": "NegativeWeightError",
          "evalue": "Присутсвует цикл отрицательного веса",
          "traceback": [
            "\u001b[0;31m---------------------------------------------------------------------------\u001b[0m",
            "\u001b[0;31mNegativeWeightError\u001b[0m                       Traceback (most recent call last)",
            "\u001b[0;32m<ipython-input-149-b495e54fd522>\u001b[0m in \u001b[0;36m<cell line: 4>\u001b[0;34m()\u001b[0m\n\u001b[1;32m      2\u001b[0m \u001b[0mp1\u001b[0m \u001b[0;34m=\u001b[0m \u001b[0mnp\u001b[0m\u001b[0;34m.\u001b[0m\u001b[0marray\u001b[0m\u001b[0;34m(\u001b[0m\u001b[0;34m[\u001b[0m\u001b[0;36m0\u001b[0m\u001b[0;34m,\u001b[0m \u001b[0;36m1\u001b[0m\u001b[0;34m]\u001b[0m\u001b[0;34m)\u001b[0m\u001b[0;34m\u001b[0m\u001b[0;34m\u001b[0m\u001b[0m\n\u001b[1;32m      3\u001b[0m \u001b[0;34m\u001b[0m\u001b[0m\n\u001b[0;32m----> 4\u001b[0;31m \u001b[0mBellman_Ford_new\u001b[0m\u001b[0;34m(\u001b[0m\u001b[0mM3\u001b[0m\u001b[0;34m,\u001b[0m \u001b[0mp1\u001b[0m\u001b[0;34m)\u001b[0m\u001b[0;34m\u001b[0m\u001b[0;34m\u001b[0m\u001b[0m\n\u001b[0m",
            "\u001b[0;32m<ipython-input-125-9c9e2c74f0d9>\u001b[0m in \u001b[0;36mBellman_Ford_new\u001b[0;34m(A, massiv)\u001b[0m\n\u001b[1;32m     21\u001b[0m     \u001b[0mw\u001b[0m\u001b[0;34m[\u001b[0m\u001b[0mi\u001b[0m\u001b[0;34m,\u001b[0m \u001b[0;34m:\u001b[0m\u001b[0;34m]\u001b[0m\u001b[0;34m(\u001b[0m\u001b[0mbinary\u001b[0m\u001b[0;34m.\u001b[0m\u001b[0mmin\u001b[0m\u001b[0;34m)\u001b[0m \u001b[0;34m<<\u001b[0m \u001b[0mw\u001b[0m\u001b[0;34m[\u001b[0m\u001b[0mi\u001b[0m\u001b[0;34m,\u001b[0m \u001b[0;34m:\u001b[0m\u001b[0;34m]\u001b[0m\u001b[0;34m.\u001b[0m\u001b[0mvxm\u001b[0m\u001b[0;34m(\u001b[0m\u001b[0mA\u001b[0m\u001b[0;34m,\u001b[0m \u001b[0msemiring\u001b[0m\u001b[0;34m.\u001b[0m\u001b[0mmin_plus\u001b[0m\u001b[0;34m)\u001b[0m\u001b[0;34m\u001b[0m\u001b[0;34m\u001b[0m\u001b[0m\n\u001b[1;32m     22\u001b[0m   \u001b[0;32mif\u001b[0m \u001b[0;32mnot\u001b[0m \u001b[0mw\u001b[0m\u001b[0;34m.\u001b[0m\u001b[0misequal\u001b[0m\u001b[0;34m(\u001b[0m\u001b[0mw_old\u001b[0m\u001b[0;34m)\u001b[0m\u001b[0;34m:\u001b[0m\u001b[0;34m\u001b[0m\u001b[0;34m\u001b[0m\u001b[0m\n\u001b[0;32m---> 23\u001b[0;31m     \u001b[0;32mraise\u001b[0m \u001b[0mNegativeWeightError\u001b[0m\u001b[0;34m(\u001b[0m\u001b[0;34m\"Присутсвует цикл отрицательного веса\"\u001b[0m\u001b[0;34m)\u001b[0m\u001b[0;34m\u001b[0m\u001b[0;34m\u001b[0m\u001b[0m\n\u001b[0m\u001b[1;32m     24\u001b[0m   \u001b[0;31m# если все ок, то формируем ответ\u001b[0m\u001b[0;34m\u001b[0m\u001b[0;34m\u001b[0m\u001b[0m\n\u001b[1;32m     25\u001b[0m   \u001b[0;31m# расстояния помещаем в массив пар final\u001b[0m\u001b[0;34m\u001b[0m\u001b[0;34m\u001b[0m\u001b[0m\n",
            "\u001b[0;31mNegativeWeightError\u001b[0m: Присутсвует цикл отрицательного веса"
          ]
        }
      ]
    },
    {
      "cell_type": "markdown",
      "source": [
        "# **Дополнительно**\n",
        "\n",
        "Провести экспериментальное исследование полученных реализаций на некоторых больших графах в формате Matrix Market с сайта SuiteSparse Matrix Collection и на случайных сгенерированных. При этом описать зависимость времени работы всех полученных реализаций от размеров графа, его степени разреженности, количестве стартовых вершин. В частности выяснить, начиная с какой доли вершин в графе целесообразнее использовать алгоритм поиска кратчайших путей для всех пар вершин вместо того, чтобы решать задачу поиска кратчайших путей из нескольких стартовых (модифицированный Bellman-Ford).![Снимок экрана (451).png](data:image/png;base64,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)"
      ],
      "metadata": {
        "id": "mM9sJ4aFu1Px"
      }
    },
    {
      "cell_type": "code",
      "source": [
        "import random\n",
        "from graphblas.io import mmread"
      ],
      "metadata": {
        "id": "tS1ByEm8vGpo"
      },
      "execution_count": null,
      "outputs": []
    },
    {
      "cell_type": "markdown",
      "source": [
        "**Тестирование на больших графах с сайта SuiteSparse Matrix Collection**"
      ],
      "metadata": {
        "id": "g_ZPUtKW-mXb"
      }
    },
    {
      "cell_type": "code",
      "source": [
        "# читаем 3 графа\n",
        "graph1 = mmread('/content/can_838.mtx')\n",
        "graph2 = mmread('/content/dwt_992.mtx')\n",
        "graph3 = mmread('/content/can_1054.mtx')\n",
        "\n",
        "# создаем массив графов\n",
        "graphs = [graph1, graph2, graph3]"
      ],
      "metadata": {
        "id": "h98brvYGvGr8"
      },
      "execution_count": null,
      "outputs": []
    },
    {
      "cell_type": "code",
      "source": [
        "# создаем функцию реализации для алгоритмов с подсчетом времени выполнения\n",
        "def alg_time(A, a):\n",
        "  print('Bellman_Ford:')\n",
        "  %timeit Bellman_Ford(A, a)\n",
        "\n",
        "def alg_time2(A, a):\n",
        "  print('Bellman_Ford_new:')\n",
        "  %timeit Bellman_Ford_new(A, a)"
      ],
      "metadata": {
        "id": "3QSh4X6Wvg0f"
      },
      "execution_count": null,
      "outputs": []
    },
    {
      "cell_type": "code",
      "source": [
        "# создаем функцию для генерации массива стартовых вершин, где n - количество вершин в графе и p - доля генерируемых стартовых вершин\n",
        "def vertex_generate(n, p):\n",
        "  population = range(n)\n",
        "  vertex_array = random.sample(population, round(n * p))\n",
        "  return np.array(vertex_array)"
      ],
      "metadata": {
        "id": "Umc0t6eDvsYE"
      },
      "execution_count": null,
      "outputs": []
    },
    {
      "cell_type": "code",
      "source": [
        "# Выводим нужные нам данные для сравнения результатов\n",
        "\n",
        "vertex = [1]\n",
        "gen_vertex = [0.01, 0.05, 0.1, 0.5] # доля генерируемых вершин\n",
        "for k in graphs:\n",
        "  print('Количество вершин:', k.nrows, 'Количество ребер:', k.nvals)\n",
        "  print('Количество стартовых вершин:', vertex)\n",
        "  print(alg_time(k, vertex))\n",
        "  print(alg_time2(k, vertex))\n",
        "  for p in gen_vertex:\n",
        "    print('Количество стартовых вершин:', round(k.nrows * p))\n",
        "    print(alg_time2(k, vertex_generate(k.nrows, p)))"
      ],
      "metadata": {
        "colab": {
          "base_uri": "https://localhost:8080/"
        },
        "id": "Egjib4U9vGvt",
        "outputId": "64724600-79c6-41da-ea0d-445edc435579"
      },
      "execution_count": null,
      "outputs": [
        {
          "output_type": "stream",
          "name": "stdout",
          "text": [
            "Количество вершин: 838 Количество ребер: 10010\n",
            "Количество стартовых вершин: [1]\n",
            "Bellman_Ford:\n",
            "81.7 ms ± 21.7 ms per loop (mean ± std. dev. of 7 runs, 10 loops each)\n",
            "None\n",
            "Bellman_Ford_new:\n",
            "95 ms ± 20.9 ms per loop (mean ± std. dev. of 7 runs, 10 loops each)\n",
            "None\n",
            "Количество стартовых вершин: 8\n",
            "Bellman_Ford_new:\n",
            "854 ms ± 330 ms per loop (mean ± std. dev. of 7 runs, 1 loop each)\n",
            "None\n",
            "Количество стартовых вершин: 42\n",
            "Bellman_Ford_new:\n",
            "3.58 s ± 513 ms per loop (mean ± std. dev. of 7 runs, 1 loop each)\n",
            "None\n",
            "Количество стартовых вершин: 84\n",
            "Bellman_Ford_new:\n",
            "7.21 s ± 473 ms per loop (mean ± std. dev. of 7 runs, 1 loop each)\n",
            "None\n",
            "Количество стартовых вершин: 419\n",
            "Bellman_Ford_new:\n",
            "36.2 s ± 721 ms per loop (mean ± std. dev. of 7 runs, 1 loop each)\n",
            "None\n",
            "Количество вершин: 992 Количество ребер: 16744\n",
            "Количество стартовых вершин: [1]\n",
            "Bellman_Ford:\n",
            "75.4 ms ± 15.2 ms per loop (mean ± std. dev. of 7 runs, 10 loops each)\n",
            "None\n",
            "Bellman_Ford_new:\n",
            "95.7 ms ± 2.1 ms per loop (mean ± std. dev. of 7 runs, 10 loops each)\n",
            "None\n",
            "Количество стартовых вершин: 10\n",
            "Bellman_Ford_new:\n",
            "1.15 s ± 237 ms per loop (mean ± std. dev. of 7 runs, 1 loop each)\n",
            "None\n",
            "Количество стартовых вершин: 50\n",
            "Bellman_Ford_new:\n",
            "5.37 s ± 678 ms per loop (mean ± std. dev. of 7 runs, 1 loop each)\n",
            "None\n",
            "Количество стартовых вершин: 99\n",
            "Bellman_Ford_new:\n",
            "10.5 s ± 600 ms per loop (mean ± std. dev. of 7 runs, 1 loop each)\n",
            "None\n",
            "Количество стартовых вершин: 496\n",
            "Bellman_Ford_new:\n",
            "54.9 s ± 781 ms per loop (mean ± std. dev. of 7 runs, 1 loop each)\n",
            "None\n",
            "Количество вершин: 1054 Количество ребер: 12196\n",
            "Количество стартовых вершин: [1]\n",
            "Bellman_Ford:\n",
            "71.5 ms ± 1.83 ms per loop (mean ± std. dev. of 7 runs, 10 loops each)\n",
            "None\n",
            "Bellman_Ford_new:\n",
            "113 ms ± 25.3 ms per loop (mean ± std. dev. of 7 runs, 10 loops each)\n",
            "None\n",
            "Количество стартовых вершин: 11\n",
            "Bellman_Ford_new:\n",
            "1.04 s ± 4.07 ms per loop (mean ± std. dev. of 7 runs, 1 loop each)\n",
            "None\n",
            "Количество стартовых вершин: 53\n",
            "Bellman_Ford_new:\n",
            "5.63 s ± 555 ms per loop (mean ± std. dev. of 7 runs, 1 loop each)\n",
            "None\n",
            "Количество стартовых вершин: 105\n",
            "Bellman_Ford_new:\n",
            "11.4 s ± 685 ms per loop (mean ± std. dev. of 7 runs, 1 loop each)\n",
            "None\n",
            "Количество стартовых вершин: 527\n",
            "Bellman_Ford_new:\n",
            "57.5 s ± 658 ms per loop (mean ± std. dev. of 7 runs, 1 loop each)\n",
            "None\n"
          ]
        }
      ]
    },
    {
      "cell_type": "code",
      "source": [
        "# Выводим нужные нам данные для сравнения результатов\n",
        "\n",
        "vertex = [[1, 5], [10, 5, 85], [22, 53, 4, 51] ]\n",
        "for k in graphs:\n",
        "  print('Количество вершин:', k.nrows, 'Количество ребер:', k.nvals)\n",
        "  for p in vertex:\n",
        "    print('Количество стартовых вершин:', len(p))\n",
        "    print(alg_time2(k, p))"
      ],
      "metadata": {
        "colab": {
          "base_uri": "https://localhost:8080/"
        },
        "id": "GDabvsK_wUja",
        "outputId": "94085e0c-a309-404d-c656-97d307f2b410"
      },
      "execution_count": null,
      "outputs": [
        {
          "output_type": "stream",
          "name": "stdout",
          "text": [
            "Количество вершин: 838 Количество ребер: 10010\n",
            "Количество стартовых вершин: 2\n",
            "Bellman_Ford_new:\n",
            "153 ms ± 5.87 ms per loop (mean ± std. dev. of 7 runs, 1 loop each)\n",
            "None\n",
            "Количество стартовых вершин: 3\n",
            "Bellman_Ford_new:\n",
            "338 ms ± 67.6 ms per loop (mean ± std. dev. of 7 runs, 1 loop each)\n",
            "None\n",
            "Количество стартовых вершин: 4\n",
            "Bellman_Ford_new:\n",
            "348 ms ± 80.6 ms per loop (mean ± std. dev. of 7 runs, 1 loop each)\n",
            "None\n",
            "Количество вершин: 992 Количество ребер: 16744\n",
            "Количество стартовых вершин: 2\n",
            "Bellman_Ford_new:\n",
            "227 ms ± 62.3 ms per loop (mean ± std. dev. of 7 runs, 10 loops each)\n",
            "None\n",
            "Количество стартовых вершин: 3\n",
            "Bellman_Ford_new:\n",
            "286 ms ± 11.1 ms per loop (mean ± std. dev. of 7 runs, 1 loop each)\n",
            "None\n",
            "Количество стартовых вершин: 4\n",
            "Bellman_Ford_new:\n",
            "380 ms ± 13 ms per loop (mean ± std. dev. of 7 runs, 1 loop each)\n",
            "None\n",
            "Количество вершин: 1054 Количество ребер: 12196\n",
            "Количество стартовых вершин: 2\n",
            "Bellman_Ford_new:\n",
            "308 ms ± 8.47 ms per loop (mean ± std. dev. of 7 runs, 1 loop each)\n",
            "None\n",
            "Количество стартовых вершин: 3\n",
            "Bellman_Ford_new:\n",
            "327 ms ± 78.2 ms per loop (mean ± std. dev. of 7 runs, 1 loop each)\n",
            "None\n",
            "Количество стартовых вершин: 4\n",
            "Bellman_Ford_new:\n",
            "370 ms ± 3.52 ms per loop (mean ± std. dev. of 7 runs, 1 loop each)\n",
            "None\n"
          ]
        }
      ]
    },
    {
      "cell_type": "code",
      "source": [
        "vertex = [[1, 5], [10, 5, 85], [22, 53, 4, 51]]\n",
        "for k in graphs:\n",
        "  print('Количество вершин:', k.nrows, 'Количество ребер:', k.nvals)\n",
        "  for p in vertex:\n",
        "    for i in p:\n",
        "      print(alg_time(k, i))"
      ],
      "metadata": {
        "id": "Zo4gCfQUw05G",
        "colab": {
          "base_uri": "https://localhost:8080/"
        },
        "outputId": "155e5630-426f-4aa1-be9c-3ecc4021279d"
      },
      "execution_count": null,
      "outputs": [
        {
          "output_type": "stream",
          "name": "stdout",
          "text": [
            "Количество вершин: 838 Количество ребер: 10010\n",
            "Bellman_Ford:\n",
            "74.1 ms ± 17.3 ms per loop (mean ± std. dev. of 7 runs, 10 loops each)\n",
            "None\n",
            "Bellman_Ford:\n",
            "56.9 ms ± 720 µs per loop (mean ± std. dev. of 7 runs, 10 loops each)\n",
            "None\n",
            "Bellman_Ford:\n",
            "68 ms ± 24.7 ms per loop (mean ± std. dev. of 7 runs, 10 loops each)\n",
            "None\n",
            "Bellman_Ford:\n",
            "94.8 ms ± 4 ms per loop (mean ± std. dev. of 7 runs, 1 loop each)\n",
            "None\n",
            "Bellman_Ford:\n",
            "56.6 ms ± 525 µs per loop (mean ± std. dev. of 7 runs, 10 loops each)\n",
            "None\n",
            "Bellman_Ford:\n",
            "56.9 ms ± 1.16 ms per loop (mean ± std. dev. of 7 runs, 10 loops each)\n",
            "None\n",
            "Bellman_Ford:\n",
            "74.2 ms ± 16.8 ms per loop (mean ± std. dev. of 7 runs, 10 loops each)\n",
            "None\n",
            "Bellman_Ford:\n",
            "56.9 ms ± 1.21 ms per loop (mean ± std. dev. of 7 runs, 10 loops each)\n",
            "None\n",
            "Bellman_Ford:\n",
            "64 ms ± 12.2 ms per loop (mean ± std. dev. of 7 runs, 10 loops each)\n",
            "None\n",
            "Количество вершин: 992 Количество ребер: 16744\n",
            "Bellman_Ford:\n",
            "71.5 ms ± 7.83 ms per loop (mean ± std. dev. of 7 runs, 10 loops each)\n",
            "None\n",
            "Bellman_Ford:\n",
            "69.7 ms ± 2.23 ms per loop (mean ± std. dev. of 7 runs, 10 loops each)\n",
            "None\n",
            "Bellman_Ford:\n",
            "78.7 ms ± 17.8 ms per loop (mean ± std. dev. of 7 runs, 10 loops each)\n",
            "None\n",
            "Bellman_Ford:\n",
            "68.8 ms ± 620 µs per loop (mean ± std. dev. of 7 runs, 10 loops each)\n",
            "None\n",
            "Bellman_Ford:\n",
            "84.4 ms ± 19.7 ms per loop (mean ± std. dev. of 7 runs, 10 loops each)\n",
            "None\n",
            "Bellman_Ford:\n",
            "68.4 ms ± 895 µs per loop (mean ± std. dev. of 7 runs, 10 loops each)\n",
            "None\n",
            "Bellman_Ford:\n",
            "86.8 ms ± 19.5 ms per loop (mean ± std. dev. of 7 runs, 10 loops each)\n",
            "None\n",
            "Bellman_Ford:\n",
            "68.8 ms ± 581 µs per loop (mean ± std. dev. of 7 runs, 10 loops each)\n",
            "None\n",
            "Bellman_Ford:\n",
            "90.6 ms ± 22.7 ms per loop (mean ± std. dev. of 7 runs, 10 loops each)\n",
            "None\n",
            "Количество вершин: 1054 Количество ребер: 12196\n",
            "Bellman_Ford:\n",
            "71.2 ms ± 810 µs per loop (mean ± std. dev. of 7 runs, 10 loops each)\n",
            "None\n",
            "Bellman_Ford:\n",
            "88.4 ms ± 20.4 ms per loop (mean ± std. dev. of 7 runs, 10 loops each)\n",
            "None\n",
            "Bellman_Ford:\n",
            "71.1 ms ± 679 µs per loop (mean ± std. dev. of 7 runs, 10 loops each)\n",
            "None\n",
            "Bellman_Ford:\n",
            "93.8 ms ± 24 ms per loop (mean ± std. dev. of 7 runs, 10 loops each)\n",
            "None\n",
            "Bellman_Ford:\n",
            "70.5 ms ± 874 µs per loop (mean ± std. dev. of 7 runs, 10 loops each)\n",
            "None\n",
            "Bellman_Ford:\n",
            "88.4 ms ± 19.3 ms per loop (mean ± std. dev. of 7 runs, 10 loops each)\n",
            "None\n",
            "Bellman_Ford:\n",
            "119 ms ± 50.9 ms per loop (mean ± std. dev. of 7 runs, 10 loops each)\n",
            "None\n",
            "Bellman_Ford:\n",
            "124 ms ± 50 ms per loop (mean ± std. dev. of 7 runs, 10 loops each)\n",
            "None\n",
            "Bellman_Ford:\n",
            "88.9 ms ± 18.7 ms per loop (mean ± std. dev. of 7 runs, 10 loops each)\n",
            "None\n"
          ]
        }
      ]
    },
    {
      "cell_type": "markdown",
      "source": [
        "**Тестирование на случайно сгенерированных графах с использованием реализации с прошлой лабораторной работы**"
      ],
      "metadata": {
        "id": "ip1J7P3f-o_C"
      }
    },
    {
      "cell_type": "code",
      "source": [
        "# n_rows - количество вершин графа, density - условно, насколько матрица смежности разряженная\n",
        "def graph_generator(n_rows, density):\n",
        "  # создание пустой матрицы размера n_rows на n_rows\n",
        "  A = gb.Matrix(int, n_rows, n_rows)\n",
        "  # ограничение на количество итераций\n",
        "  while density > 0:\n",
        "      # генерация рандомных чисел для матрицы смежности в интервале от 0 до количества ребер -1\n",
        "      i = random.randint(0, n_rows - 1)\n",
        "      j = random.randint(0, n_rows - 1)\n",
        "      # проверка, что для данной ячеки еще не генерировались значения\n",
        "      if A.get(i,j) is None and i != j:\n",
        "          # заполнение матрицы смежности - записываем '1' в ячейку с только что сгенерированными числами и в смежную ей ячейку\n",
        "          weight = random.randint(0, 10)\n",
        "          A[i,j] = weight\n",
        "          A[j,i] = weight\n",
        "          density = density - 1\n",
        "  return A"
      ],
      "metadata": {
        "id": "Q11NiwfQwhyG"
      },
      "execution_count": null,
      "outputs": []
    },
    {
      "cell_type": "code",
      "source": [
        "# 10 vertexes\n",
        "rows = 10\n",
        "density = [45, 33, 22, 11]\n",
        "gen_vertex = [0.1, 0.3, 0.5] # доля генерируемых вершин\n",
        "vertex = [1]\n",
        "for d in density:\n",
        "  k = graph_generator(rows, d)\n",
        "  print('Количество вершин:', k.nrows, 'количество ребер:', k.nvals)\n",
        "  print('Количество стартовых вершин:', vertex)\n",
        "  print(alg_time(k, vertex))\n",
        "  print(alg_time2(k, vertex))\n",
        "  for p in gen_vertex:\n",
        "    print('Количество стартовых вершин:', round(k.nrows * p))\n",
        "    print(alg_time2(k, vertex_generate(k.nrows, p)))"
      ],
      "metadata": {
        "id": "YzZwlYJQCuVZ",
        "colab": {
          "base_uri": "https://localhost:8080/"
        },
        "outputId": "87c6b124-d965-4e3b-e3d9-bd6c4b6b1c73"
      },
      "execution_count": null,
      "outputs": [
        {
          "output_type": "stream",
          "name": "stdout",
          "text": [
            "Количество вершин: 10 количество ребер: 90\n",
            "Количество стартовых вершин: [1]\n",
            "Bellman_Ford:\n",
            "1.56 ms ± 188 µs per loop (mean ± std. dev. of 7 runs, 100 loops each)\n",
            "None\n",
            "Bellman_Ford_new:\n",
            "2.46 ms ± 85.8 µs per loop (mean ± std. dev. of 7 runs, 100 loops each)\n",
            "None\n",
            "Количество стартовых вершин: 1\n",
            "Bellman_Ford_new:\n",
            "2.79 ms ± 88.5 µs per loop (mean ± std. dev. of 7 runs, 100 loops each)\n",
            "None\n",
            "Количество стартовых вершин: 3\n",
            "Bellman_Ford_new:\n",
            "7.92 ms ± 1.55 ms per loop (mean ± std. dev. of 7 runs, 100 loops each)\n",
            "None\n",
            "Количество стартовых вершин: 5\n",
            "Bellman_Ford_new:\n",
            "18.6 ms ± 10.5 ms per loop (mean ± std. dev. of 7 runs, 100 loops each)\n",
            "None\n",
            "Количество вершин: 10 количество ребер: 66\n",
            "Количество стартовых вершин: [1]\n",
            "Bellman_Ford:\n",
            "1.47 ms ± 258 µs per loop (mean ± std. dev. of 7 runs, 1000 loops each)\n",
            "None\n",
            "Bellman_Ford_new:\n",
            "2.66 ms ± 614 µs per loop (mean ± std. dev. of 7 runs, 100 loops each)\n",
            "None\n",
            "Количество стартовых вершин: 1\n",
            "Bellman_Ford_new:\n",
            "2.33 ms ± 59.2 µs per loop (mean ± std. dev. of 7 runs, 100 loops each)\n",
            "None\n",
            "Количество стартовых вершин: 3\n",
            "Bellman_Ford_new:\n",
            "6.91 ms ± 155 µs per loop (mean ± std. dev. of 7 runs, 100 loops each)\n",
            "None\n",
            "Количество стартовых вершин: 5\n",
            "Bellman_Ford_new:\n",
            "12.7 ms ± 2.53 ms per loop (mean ± std. dev. of 7 runs, 100 loops each)\n",
            "None\n",
            "Количество вершин: 10 количество ребер: 44\n",
            "Количество стартовых вершин: [1]\n",
            "Bellman_Ford:\n",
            "1.53 ms ± 315 µs per loop (mean ± std. dev. of 7 runs, 1000 loops each)\n",
            "None\n",
            "Bellman_Ford_new:\n",
            "2.31 ms ± 48.6 µs per loop (mean ± std. dev. of 7 runs, 100 loops each)\n",
            "None\n",
            "Количество стартовых вершин: 1\n",
            "Bellman_Ford_new:\n",
            "3.03 ms ± 117 µs per loop (mean ± std. dev. of 7 runs, 100 loops each)\n",
            "None\n",
            "Количество стартовых вершин: 3\n",
            "Bellman_Ford_new:\n",
            "8.68 ms ± 1.97 ms per loop (mean ± std. dev. of 7 runs, 100 loops each)\n",
            "None\n",
            "Количество стартовых вершин: 5\n",
            "Bellman_Ford_new:\n",
            "14.5 ms ± 2.99 ms per loop (mean ± std. dev. of 7 runs, 100 loops each)\n",
            "None\n",
            "Количество вершин: 10 количество ребер: 22\n",
            "Количество стартовых вершин: [1]\n",
            "Bellman_Ford:\n",
            "1.48 ms ± 309 µs per loop (mean ± std. dev. of 7 runs, 1000 loops each)\n",
            "None\n",
            "Bellman_Ford_new:\n",
            "2.45 ms ± 96.3 µs per loop (mean ± std. dev. of 7 runs, 100 loops each)\n",
            "None\n",
            "Количество стартовых вершин: 1\n",
            "Bellman_Ford_new:\n",
            "2.46 ms ± 75 µs per loop (mean ± std. dev. of 7 runs, 100 loops each)\n",
            "None\n",
            "Количество стартовых вершин: 3\n",
            "Bellman_Ford_new:\n",
            "8.02 ms ± 1.69 ms per loop (mean ± std. dev. of 7 runs, 100 loops each)\n",
            "None\n",
            "Количество стартовых вершин: 5\n",
            "Bellman_Ford_new:\n",
            "17.6 ms ± 3.86 ms per loop (mean ± std. dev. of 7 runs, 10 loops each)\n",
            "None\n"
          ]
        }
      ]
    },
    {
      "cell_type": "code",
      "source": [
        "# 10 vertexes\n",
        "rows = 10\n",
        "density = [45, 33, 22, 11]\n",
        "gen_vertex = [0.75, 0.85, 1] # доля генерируемых вершин\n",
        "vertex = [1]\n",
        "for d in density:\n",
        "  k = graph_generator(rows, d)\n",
        "  print('Количество вершин:', k.nrows, 'количество ребер:', k.nvals)\n",
        "  for p in gen_vertex:\n",
        "    print('Количество стартовых вершин:', round(k.nrows * p))\n",
        "    print(alg_time2(k, vertex_generate(k.nrows, p)))"
      ],
      "metadata": {
        "colab": {
          "base_uri": "https://localhost:8080/"
        },
        "id": "BWPvLrzXoUtx",
        "outputId": "525899f2-5785-4010-cd66-7e6f2063441a"
      },
      "execution_count": null,
      "outputs": [
        {
          "output_type": "stream",
          "name": "stdout",
          "text": [
            "Количество вершин: 10 количество ребер: 90\n",
            "Количество стартовых вершин: 8\n",
            "Bellman_Ford_new:\n",
            "22.4 ms ± 5.2 ms per loop (mean ± std. dev. of 7 runs, 100 loops each)\n",
            "None\n",
            "Количество стартовых вершин: 8\n",
            "Bellman_Ford_new:\n",
            "33.1 ms ± 10.7 ms per loop (mean ± std. dev. of 7 runs, 100 loops each)\n",
            "None\n",
            "Количество стартовых вершин: 10\n",
            "Bellman_Ford_new:\n",
            "50.7 ms ± 4.96 ms per loop (mean ± std. dev. of 7 runs, 10 loops each)\n",
            "None\n",
            "Количество вершин: 10 количество ребер: 66\n",
            "Количество стартовых вершин: 8\n",
            "Bellman_Ford_new:\n",
            "29.4 ms ± 15.4 ms per loop (mean ± std. dev. of 7 runs, 10 loops each)\n",
            "None\n",
            "Количество стартовых вершин: 8\n",
            "Bellman_Ford_new:\n",
            "19.7 ms ± 3.95 ms per loop (mean ± std. dev. of 7 runs, 100 loops each)\n",
            "None\n",
            "Количество стартовых вершин: 10\n",
            "Bellman_Ford_new:\n",
            "20.9 ms ± 641 µs per loop (mean ± std. dev. of 7 runs, 10 loops each)\n",
            "None\n",
            "Количество вершин: 10 количество ребер: 44\n",
            "Количество стартовых вершин: 8\n",
            "Bellman_Ford_new:\n",
            "19 ms ± 3.24 ms per loop (mean ± std. dev. of 7 runs, 100 loops each)\n",
            "None\n",
            "Количество стартовых вершин: 8\n",
            "Bellman_Ford_new:\n",
            "25.4 ms ± 5.34 ms per loop (mean ± std. dev. of 7 runs, 10 loops each)\n",
            "None\n",
            "Количество стартовых вершин: 10\n",
            "Bellman_Ford_new:\n",
            "23.9 ms ± 6.88 ms per loop (mean ± std. dev. of 7 runs, 10 loops each)\n",
            "None\n",
            "Количество вершин: 10 количество ребер: 22\n",
            "Количество стартовых вершин: 8\n",
            "Bellman_Ford_new:\n",
            "17.7 ms ± 3.02 ms per loop (mean ± std. dev. of 7 runs, 100 loops each)\n",
            "None\n",
            "Количество стартовых вершин: 8\n",
            "Bellman_Ford_new:\n",
            "17.5 ms ± 3.51 ms per loop (mean ± std. dev. of 7 runs, 100 loops each)\n",
            "None\n",
            "Количество стартовых вершин: 10\n",
            "Bellman_Ford_new:\n",
            "21.6 ms ± 3.19 ms per loop (mean ± std. dev. of 7 runs, 100 loops each)\n",
            "None\n"
          ]
        }
      ]
    },
    {
      "cell_type": "code",
      "source": [
        "# 50 vertexes\n",
        "rows = 50\n",
        "density = [1225, 918, 612, 306]\n",
        "gen_vertex = [0.1, 0.3, 0.5] # доля генерируемых вершин\n",
        "vertex = [1]\n",
        "for d in density:\n",
        "  k = graph_generator(rows, d)\n",
        "  print('Количество вершин:', k.nrows, 'количество ребер:', k.nvals)\n",
        "  print('Количество стартовых вершин:', vertex)\n",
        "  print(alg_time(k, vertex))\n",
        "  print(alg_time2(k, vertex))\n",
        "  for p in gen_vertex:\n",
        "    print('Количество стартовых вершин:', round(k.nrows * p))\n",
        "    print(alg_time2(k, vertex_generate(k.nrows, p)))"
      ],
      "metadata": {
        "colab": {
          "base_uri": "https://localhost:8080/"
        },
        "id": "RxiEvUjY_JsW",
        "outputId": "23011f92-2657-4959-a343-a0b1b28f0f0e"
      },
      "execution_count": null,
      "outputs": [
        {
          "output_type": "stream",
          "name": "stdout",
          "text": [
            "Количество вершин: 50 количество ребер: 2450\n",
            "Количество стартовых вершин: [1]\n",
            "Bellman_Ford:\n",
            "4.51 ms ± 104 µs per loop (mean ± std. dev. of 7 runs, 100 loops each)\n",
            "None\n",
            "Bellman_Ford_new:\n",
            "7.06 ms ± 543 µs per loop (mean ± std. dev. of 7 runs, 100 loops each)\n",
            "None\n",
            "Количество стартовых вершин: 5\n",
            "Bellman_Ford_new:\n",
            "47.5 ms ± 19.9 ms per loop (mean ± std. dev. of 7 runs, 10 loops each)\n",
            "None\n",
            "Количество стартовых вершин: 15\n",
            "Bellman_Ford_new:\n",
            "91.8 ms ± 1.29 ms per loop (mean ± std. dev. of 7 runs, 10 loops each)\n",
            "None\n",
            "Количество стартовых вершин: 25\n",
            "Bellman_Ford_new:\n",
            "169 ms ± 35.4 ms per loop (mean ± std. dev. of 7 runs, 10 loops each)\n",
            "None\n",
            "Количество вершин: 50 количество ребер: 1836\n",
            "Количество стартовых вершин: [1]\n",
            "Bellman_Ford:\n",
            "6.31 ms ± 1.44 ms per loop (mean ± std. dev. of 7 runs, 100 loops each)\n",
            "None\n",
            "Bellman_Ford_new:\n",
            "6.87 ms ± 102 µs per loop (mean ± std. dev. of 7 runs, 100 loops each)\n",
            "None\n",
            "Количество стартовых вершин: 5\n",
            "Bellman_Ford_new:\n",
            "32 ms ± 1.68 ms per loop (mean ± std. dev. of 7 runs, 10 loops each)\n",
            "None\n",
            "Количество стартовых вершин: 15\n",
            "Bellman_Ford_new:\n",
            "111 ms ± 29.4 ms per loop (mean ± std. dev. of 7 runs, 10 loops each)\n",
            "None\n",
            "Количество стартовых вершин: 25\n",
            "Bellman_Ford_new:\n",
            "184 ms ± 36.4 ms per loop (mean ± std. dev. of 7 runs, 10 loops each)\n",
            "None\n",
            "Количество вершин: 50 количество ребер: 1224\n",
            "Количество стартовых вершин: [1]\n",
            "Bellman_Ford:\n",
            "5.95 ms ± 1.34 ms per loop (mean ± std. dev. of 7 runs, 100 loops each)\n",
            "None\n",
            "Bellman_Ford_new:\n",
            "7.15 ms ± 689 µs per loop (mean ± std. dev. of 7 runs, 100 loops each)\n",
            "None\n",
            "Количество стартовых вершин: 5\n",
            "Bellman_Ford_new:\n",
            "33 ms ± 462 µs per loop (mean ± std. dev. of 7 runs, 10 loops each)\n",
            "None\n",
            "Количество стартовых вершин: 15\n",
            "Bellman_Ford_new:\n",
            "115 ms ± 24.4 ms per loop (mean ± std. dev. of 7 runs, 10 loops each)\n",
            "None\n",
            "Количество стартовых вершин: 25\n",
            "Bellman_Ford_new:\n",
            "179 ms ± 32.6 ms per loop (mean ± std. dev. of 7 runs, 10 loops each)\n",
            "None\n",
            "Количество вершин: 50 количество ребер: 612\n",
            "Количество стартовых вершин: [1]\n",
            "Bellman_Ford:\n",
            "4.76 ms ± 178 µs per loop (mean ± std. dev. of 7 runs, 100 loops each)\n",
            "None\n",
            "Bellman_Ford_new:\n",
            "9.31 ms ± 2.82 ms per loop (mean ± std. dev. of 7 runs, 100 loops each)\n",
            "None\n",
            "Количество стартовых вершин: 5\n",
            "Bellman_Ford_new:\n",
            "33.9 ms ± 762 µs per loop (mean ± std. dev. of 7 runs, 10 loops each)\n",
            "None\n",
            "Количество стартовых вершин: 15\n",
            "Bellman_Ford_new:\n",
            "118 ms ± 25.3 ms per loop (mean ± std. dev. of 7 runs, 10 loops each)\n",
            "None\n",
            "Количество стартовых вершин: 25\n",
            "Bellman_Ford_new:\n",
            "188 ms ± 32.7 ms per loop (mean ± std. dev. of 7 runs, 10 loops each)\n",
            "None\n"
          ]
        }
      ]
    },
    {
      "cell_type": "code",
      "source": [
        "# 50 vertexes\n",
        "rows = 50\n",
        "density = [1225, 918, 612, 306]\n",
        "gen_vertex = [0.75, 0.85, 1] # доля генерируемых вершин\n",
        "vertex = [1]\n",
        "for d in density:\n",
        "  k = graph_generator(rows, d)\n",
        "  print('Количество вершин:', k.nrows, 'количество ребер:', k.nvals)\n",
        "\n",
        "  for p in gen_vertex:\n",
        "    print('Количество стартовых вершин:', round(k.nrows * p))\n",
        "    print(alg_time2(k, vertex_generate(k.nrows, p)))"
      ],
      "metadata": {
        "colab": {
          "base_uri": "https://localhost:8080/"
        },
        "id": "g1PpX-htogRP",
        "outputId": "79edf4df-6c85-4c0a-e814-049af7433efd"
      },
      "execution_count": null,
      "outputs": [
        {
          "output_type": "stream",
          "name": "stdout",
          "text": [
            "Количество вершин: 50 количество ребер: 2450\n",
            "Количество стартовых вершин: 38\n",
            "Bellman_Ford_new:\n",
            "366 ms ± 10.3 ms per loop (mean ± std. dev. of 7 runs, 1 loop each)\n",
            "None\n",
            "Количество стартовых вершин: 42\n",
            "Bellman_Ford_new:\n",
            "249 ms ± 13.6 ms per loop (mean ± std. dev. of 7 runs, 1 loop each)\n",
            "None\n",
            "Количество стартовых вершин: 50\n",
            "Bellman_Ford_new:\n",
            "290 ms ± 5.81 ms per loop (mean ± std. dev. of 7 runs, 1 loop each)\n",
            "None\n",
            "Количество вершин: 50 количество ребер: 1836\n",
            "Количество стартовых вершин: 38\n",
            "Bellman_Ford_new:\n",
            "231 ms ± 7.61 ms per loop (mean ± std. dev. of 7 runs, 1 loop each)\n",
            "None\n",
            "Количество стартовых вершин: 42\n",
            "Bellman_Ford_new:\n",
            "254 ms ± 6.25 ms per loop (mean ± std. dev. of 7 runs, 1 loop each)\n",
            "None\n",
            "Количество стартовых вершин: 50\n",
            "Bellman_Ford_new:\n",
            "364 ms ± 87 ms per loop (mean ± std. dev. of 7 runs, 1 loop each)\n",
            "None\n",
            "Количество вершин: 50 количество ребер: 1224\n",
            "Количество стартовых вершин: 38\n",
            "Bellman_Ford_new:\n",
            "374 ms ± 89.3 ms per loop (mean ± std. dev. of 7 runs, 1 loop each)\n",
            "None\n",
            "Количество стартовых вершин: 42\n",
            "Bellman_Ford_new:\n",
            "296 ms ± 10.7 ms per loop (mean ± std. dev. of 7 runs, 1 loop each)\n",
            "None\n",
            "Количество стартовых вершин: 50\n",
            "Bellman_Ford_new:\n",
            "349 ms ± 13.2 ms per loop (mean ± std. dev. of 7 runs, 1 loop each)\n",
            "None\n",
            "Количество вершин: 50 количество ребер: 612\n",
            "Количество стартовых вершин: 38\n",
            "Bellman_Ford_new:\n",
            "259 ms ± 8.59 ms per loop (mean ± std. dev. of 7 runs, 1 loop each)\n",
            "None\n",
            "Количество стартовых вершин: 42\n",
            "Bellman_Ford_new:\n",
            "345 ms ± 84.6 ms per loop (mean ± std. dev. of 7 runs, 1 loop each)\n",
            "None\n",
            "Количество стартовых вершин: 50\n",
            "Bellman_Ford_new:\n",
            "454 ms ± 117 ms per loop (mean ± std. dev. of 7 runs, 1 loop each)\n",
            "None\n"
          ]
        }
      ]
    },
    {
      "cell_type": "code",
      "source": [
        "# 100 vertexes\n",
        "rows = 100\n",
        "density = [4950, 3712, 2475, 1237]\n",
        "gen_vertex = [0.1, 0.3, 0.5] # доля генерируемых вершин\n",
        "vertex = [1]\n",
        "for d in density:\n",
        "  k = graph_generator(rows, d)\n",
        "  print('Количество вершин:', k.nrows, 'количество ребер:', k.nvals)\n",
        "  print('Количество стартовых вершин:', vertex)\n",
        "  print(alg_time(k, vertex))\n",
        "  print(alg_time2(k, vertex))\n",
        "  for p in gen_vertex:\n",
        "    print('Количество стартовых вершин:', round(k.nrows * p))\n",
        "    print(alg_time2(k, vertex_generate(k.nrows, p)))"
      ],
      "metadata": {
        "colab": {
          "base_uri": "https://localhost:8080/"
        },
        "id": "E18aaPcJ-77g",
        "outputId": "9d9e44e8-c370-4bb6-e7a0-e4b4bb8e93b4"
      },
      "execution_count": null,
      "outputs": [
        {
          "output_type": "stream",
          "name": "stdout",
          "text": [
            "Количество вершин: 100 количество ребер: 9900\n",
            "Количество стартовых вершин: [1]\n",
            "Bellman_Ford:\n",
            "9.56 ms ± 2.39 ms per loop (mean ± std. dev. of 7 runs, 100 loops each)\n",
            "None\n",
            "Bellman_Ford_new:\n",
            "10.9 ms ± 259 µs per loop (mean ± std. dev. of 7 runs, 100 loops each)\n",
            "None\n",
            "Количество стартовых вершин: 10\n",
            "Bellman_Ford_new:\n",
            "116 ms ± 26.9 ms per loop (mean ± std. dev. of 7 runs, 10 loops each)\n",
            "None\n",
            "Количество стартовых вершин: 30\n",
            "Bellman_Ford_new:\n",
            "308 ms ± 6.02 ms per loop (mean ± std. dev. of 7 runs, 1 loop each)\n",
            "None\n",
            "Количество стартовых вершин: 50\n",
            "Bellman_Ford_new:\n",
            "752 ms ± 151 ms per loop (mean ± std. dev. of 7 runs, 1 loop each)\n",
            "None\n",
            "Количество вершин: 100 количество ребер: 7424\n",
            "Количество стартовых вершин: [1]\n",
            "Bellman_Ford:\n",
            "8.08 ms ± 118 µs per loop (mean ± std. dev. of 7 runs, 100 loops each)\n",
            "None\n",
            "Bellman_Ford_new:\n",
            "13.4 ms ± 2.88 ms per loop (mean ± std. dev. of 7 runs, 100 loops each)\n",
            "None\n",
            "Количество стартовых вершин: 10\n",
            "Bellman_Ford_new:\n",
            "128 ms ± 26.7 ms per loop (mean ± std. dev. of 7 runs, 10 loops each)\n",
            "None\n",
            "Количество стартовых вершин: 30\n",
            "Bellman_Ford_new:\n",
            "322 ms ± 8.06 ms per loop (mean ± std. dev. of 7 runs, 1 loop each)\n",
            "None\n",
            "Количество стартовых вершин: 50\n",
            "Bellman_Ford_new:\n",
            "538 ms ± 12.3 ms per loop (mean ± std. dev. of 7 runs, 1 loop each)\n",
            "None\n",
            "Количество вершин: 100 количество ребер: 4950\n",
            "Количество стартовых вершин: [1]\n",
            "Bellman_Ford:\n",
            "9.94 ms ± 3.08 ms per loop (mean ± std. dev. of 7 runs, 100 loops each)\n",
            "None\n",
            "Bellman_Ford_new:\n",
            "14.2 ms ± 2.77 ms per loop (mean ± std. dev. of 7 runs, 100 loops each)\n",
            "None\n",
            "Количество стартовых вершин: 10\n",
            "Bellman_Ford_new:\n",
            "131 ms ± 28.2 ms per loop (mean ± std. dev. of 7 runs, 10 loops each)\n",
            "None\n",
            "Количество стартовых вершин: 30\n",
            "Bellman_Ford_new:\n",
            "333 ms ± 10.5 ms per loop (mean ± std. dev. of 7 runs, 1 loop each)\n",
            "None\n",
            "Количество стартовых вершин: 50\n",
            "Bellman_Ford_new:\n",
            "587 ms ± 14 ms per loop (mean ± std. dev. of 7 runs, 1 loop each)\n",
            "None\n",
            "Количество вершин: 100 количество ребер: 2474\n",
            "Количество стартовых вершин: [1]\n",
            "Bellman_Ford:\n",
            "9.9 ms ± 2.21 ms per loop (mean ± std. dev. of 7 runs, 100 loops each)\n",
            "None\n",
            "Bellman_Ford_new:\n",
            "16.1 ms ± 5.02 ms per loop (mean ± std. dev. of 7 runs, 100 loops each)\n",
            "None\n",
            "Количество стартовых вершин: 10\n",
            "Bellman_Ford_new:\n",
            "129 ms ± 26.6 ms per loop (mean ± std. dev. of 7 runs, 10 loops each)\n",
            "None\n",
            "Количество стартовых вершин: 30\n",
            "Bellman_Ford_new:\n",
            "404 ms ± 101 ms per loop (mean ± std. dev. of 7 runs, 1 loop each)\n",
            "None\n",
            "Количество стартовых вершин: 50\n",
            "Bellman_Ford_new:\n",
            "604 ms ± 16.1 ms per loop (mean ± std. dev. of 7 runs, 1 loop each)\n",
            "None\n"
          ]
        }
      ]
    },
    {
      "cell_type": "code",
      "source": [
        "# 100 vertexes\n",
        "rows = 100\n",
        "density = [4950, 3712, 2475, 1237]\n",
        "gen_vertex = [0.75, 0.85, 1] # доля генерируемых вершин\n",
        "vertex = [1]\n",
        "for d in density:\n",
        "  k = graph_generator(rows, d)\n",
        "  print('Количество вершин:', k.nrows, 'количество ребер:', k.nvals)\n",
        "  for p in gen_vertex:\n",
        "    print('Количество стартовых вершин:', round(k.nrows * p))\n",
        "    print(alg_time2(k, vertex_generate(k.nrows, p)))"
      ],
      "metadata": {
        "colab": {
          "base_uri": "https://localhost:8080/"
        },
        "id": "aYg2IyS5oRc3",
        "outputId": "602ac3cd-ca1e-45eb-eda0-7bdf48e2d40e"
      },
      "execution_count": null,
      "outputs": [
        {
          "output_type": "stream",
          "name": "stdout",
          "text": [
            "Количество вершин: 100 количество ребер: 9900\n",
            "Количество стартовых вершин: 75\n",
            "Bellman_Ford_new:\n",
            "779 ms ± 14.8 ms per loop (mean ± std. dev. of 7 runs, 1 loop each)\n",
            "None\n",
            "Количество стартовых вершин: 85\n",
            "Bellman_Ford_new:\n",
            "980 ms ± 225 ms per loop (mean ± std. dev. of 7 runs, 1 loop each)\n",
            "None\n",
            "Количество стартовых вершин: 100\n",
            "Bellman_Ford_new:\n",
            "1.21 s ± 237 ms per loop (mean ± std. dev. of 7 runs, 1 loop each)\n",
            "None\n",
            "Количество вершин: 100 количество ребер: 7424\n",
            "Количество стартовых вершин: 75\n",
            "Bellman_Ford_new:\n",
            "782 ms ± 11 ms per loop (mean ± std. dev. of 7 runs, 1 loop each)\n",
            "None\n",
            "Количество стартовых вершин: 85\n",
            "Bellman_Ford_new:\n",
            "1.08 s ± 226 ms per loop (mean ± std. dev. of 7 runs, 1 loop each)\n",
            "None\n",
            "Количество стартовых вершин: 100\n",
            "Bellman_Ford_new:\n",
            "1.23 s ± 268 ms per loop (mean ± std. dev. of 7 runs, 1 loop each)\n",
            "None\n",
            "Количество вершин: 100 количество ребер: 4950\n",
            "Количество стартовых вершин: 75\n",
            "Bellman_Ford_new:\n",
            "849 ms ± 16.2 ms per loop (mean ± std. dev. of 7 runs, 1 loop each)\n",
            "None\n",
            "Количество стартовых вершин: 85\n",
            "Bellman_Ford_new:\n",
            "1.13 s ± 232 ms per loop (mean ± std. dev. of 7 runs, 1 loop each)\n",
            "None\n",
            "Количество стартовых вершин: 100\n",
            "Bellman_Ford_new:\n",
            "1.52 s ± 506 ms per loop (mean ± std. dev. of 7 runs, 1 loop each)\n",
            "None\n",
            "Количество вершин: 100 количество ребер: 2474\n",
            "Количество стартовых вершин: 75\n",
            "Bellman_Ford_new:\n",
            "874 ms ± 34.8 ms per loop (mean ± std. dev. of 7 runs, 1 loop each)\n",
            "None\n",
            "Количество стартовых вершин: 85\n",
            "Bellman_Ford_new:\n",
            "1.19 s ± 246 ms per loop (mean ± std. dev. of 7 runs, 1 loop each)\n",
            "None\n",
            "Количество стартовых вершин: 100\n",
            "Bellman_Ford_new:\n",
            "1.37 s ± 289 ms per loop (mean ± std. dev. of 7 runs, 1 loop each)\n",
            "None\n"
          ]
        }
      ]
    },
    {
      "cell_type": "markdown",
      "source": [
        "Результаты тестирования алгоритмов по [ссылке](https://docs.google.com/document/d/1HkwUq6W-e53jyKa7eXlu_3q2DDyeHIq-EZs9QGwxaBA/edit?usp=sharing).\n",
        "\n",
        "**Выводы:**\n",
        "\n",
        "1. Судя по тестированию на реальных графах, модифицированный алгоритм Беллмана Форда эффективнее использовать на больших графах, причем используя его, когда стартовых вершин ~более 1% от всех вершин графа. Так, например в графе с 838 вершинами модифицированный алгоритм немного быстрее уже при вязтие 8 стартовых вершин, а при взятие половины вершин как стартовых, классический алгоритм медленне аж в 15 раз.\n",
        "2. На больших реальных графах с одной стартовой вершиной быстрее работает классический алгоритм,также при взятие 2-4 вершин классический алгоритм оказался немного быстрее, хотя в графе с 1054 вершинами при 4 стартовых вершинах модифицированный алгоритм уже ведет себя быстрее.\n",
        "\n",
        "3. Тестирование на случайно сгенерированных графах показывает, что на малых графах эффективнее использовать классический алгоритм (в тестирование были графы до 100 вершин). Причем по тестам разряженность графа не особо влияет на работу алгоритмов.\n",
        "4. Что касается количества стартовых вершин, даже при увеличение количества стартовых вершин классический алгоритм все еще показывает себя быстрее. Дополнительно было проверено будет ли выигрывать по времени модифицированный алгоритм, если взять 100% вершин в этих малых графах, но как выяснилось, по времени он все-таки слегка проигрывает. Поэтому, скорее всего с увеличением количество вершин в графе более 100 модифицированный алгоритм будет эффективнее, чем классический."
      ],
      "metadata": {
        "id": "0qWy4CeRlhmp"
      }
    },
    {
      "cell_type": "markdown",
      "source": [],
      "metadata": {
        "id": "GPZ8khrYv9Hm"
      }
    },
    {
      "cell_type": "markdown",
      "source": [],
      "metadata": {
        "id": "8xjYmCJ_v-ab"
      }
    },
    {
      "cell_type": "markdown",
      "source": [
        "Используя python-graphblas реализовать две функции поиска кратчайших путей в ориентированном графе для всех пар вершин (**Floyd–Warshall и вычисление транзитивного замыкания**).\n",
        "* Функции принимают представление графа, удобное для неё (загрузка, конвертация реализованы отдельно).\n",
        "* Функции возвращают массив пар: вершина, и массив, где для каждой вершины указано расстояние до неё из указанной. Если вершина не достижима или кратчайшего пути для неё не существует, то значение соответствующей ячейки равно float('inf')."
      ],
      "metadata": {
        "id": "2lw8eQmr5_i5"
      }
    },
    {
      "cell_type": "markdown",
      "source": [
        "# **Floyd Warshall**"
      ],
      "metadata": {
        "id": "6YxyatbI5jZ4"
      }
    },
    {
      "cell_type": "code",
      "source": [
        "def Floyd_Warshall(A):\n",
        "  # количество вершин в графе\n",
        "  n = A.nrows\n",
        "  w = A.dup()\n",
        "  w_cur = A.dup()\n",
        "  # реализуем алгоритм обхода графа\n",
        "  for i in range(n):\n",
        "    #  матрицы для рреализации умножения\n",
        "    w_c = Matrix(dtypes.INT32, n, n)\n",
        "    w_r = Matrix(dtypes.INT32, n, n)\n",
        "    # заполнение\n",
        "    w_c[:, i] = w[:, i].dup()\n",
        "    w_r[i, :] = w[i, :].dup()\n",
        "    # обновляем расстояния\n",
        "    w_cur << w_c.mxm(w_r, semiring.min_plus)\n",
        "    w << w.ewise_add(w_cur, op=\"min\")\n",
        "  # проверяем на наличие циклов отрицательного веса\n",
        "  weight = w.dup()\n",
        "  weight_cur = w_cur.dup()\n",
        "  weight_c = Matrix(dtypes.INT32, n, n)\n",
        "  weight_r = Matrix(dtypes.INT32, n, n)\n",
        "  weight_c[:, i] = weight[:, i].dup()\n",
        "  weight_r[i, :] = weight[i, :].dup()\n",
        "  weight_cur << weight_c.mxm(weight_r, semiring.min_plus)\n",
        "  weight << weight.ewise_add(weight_cur, op=\"min\")\n",
        "  if not weight.isequal(w):\n",
        "    raise NegativeWeightError(\"Присутсвует цикл отрицательного веса\")\n",
        "  # если все ок, то формируем ответ\n",
        "  # расстояния помещаем в массив пар final\n",
        "  final = {}\n",
        "  for i in range(n):\n",
        "    values = []\n",
        "    for j in range(n):\n",
        "      if i == j:\n",
        "        values.append(0)\n",
        "      elif w[i,j].value is None:\n",
        "        values.append(float('inf'))\n",
        "      else:\n",
        "        values.append(w[i,j].value)\n",
        "    final[i] = values\n",
        "  return final"
      ],
      "metadata": {
        "id": "sucKfatk6HHa"
      },
      "execution_count": null,
      "outputs": []
    },
    {
      "cell_type": "markdown",
      "source": [
        "# **Транзитивное замыкание**"
      ],
      "metadata": {
        "id": "JRT5LS9L6H_1"
      }
    },
    {
      "cell_type": "code",
      "source": [
        "def Transitive_Closure(A):\n",
        "  # количество вершин в графе\n",
        "  n = A.ncols\n",
        "  # создаем единичную матрицу, которая облегчит вычисления\n",
        "  I = Matrix(dtypes.INT32, n, n)\n",
        "  # заполним матрицу единичками\n",
        "  for i in range(n):\n",
        "    I[i, i] << 1\n",
        "  w = I.dup()\n",
        "  # реализуем алгоритм обхода графа\n",
        "  for i in range(n):\n",
        "    new_w = w.dup()\n",
        "    w << w.mxm(A, semiring.min_plus).ewise_add(I, binary.min)\n",
        "    if w.isequal(new_w):\n",
        "       break\n",
        "  # проверяем на наличие циклов отрицательного веса\n",
        "  w_old = w.dup()\n",
        "  w_old << w_old.mxm(A, semiring.min_plus).ewise_add(I, binary.min)\n",
        "  if not w.isequal(w_old):\n",
        "        raise NegativeWeightError(\"Присутсвует цикл отрицательного веса\")\n",
        "  # если все ок, то формируем ответ\n",
        "  # расстояния помещаем в массив пар final\n",
        "  final = {}\n",
        "  for i in range(n):\n",
        "      values = []\n",
        "      for j in range(n):\n",
        "        if i == j:\n",
        "          values.append(0)\n",
        "        elif w[i, j].value is None:\n",
        "          values.append(float('inf'))\n",
        "        else:\n",
        "          values.append(w[i, j].value - 1)\n",
        "      final[i] = (values)\n",
        "  return final"
      ],
      "metadata": {
        "id": "v9iXJbZFnFBd"
      },
      "execution_count": null,
      "outputs": []
    },
    {
      "cell_type": "markdown",
      "source": [
        "# **Тестирование**"
      ],
      "metadata": {
        "id": "mDazY1H2w6BD"
      }
    },
    {
      "cell_type": "markdown",
      "source": [
        "Проведем тестирование на тех же графах, что в первой части лабораторной работы"
      ],
      "metadata": {
        "id": "ggYBoeDKc2dg"
      }
    },
    {
      "cell_type": "markdown",
      "source": [
        "**TEST 1**\n",
        "\n",
        "Граф, где в каждую вершину можно папость из любой вершины.\n",
        "\n",
        "Проверим, что вес берется в расчет при нахождение кратчайших путей.\n",
        "\n",
        "*Например, из вершины \"2\" можно попасть в \"3\" перейдя по связанному их ребру, но вес там 5. Алгоритм должен найти кратчайший путь до \"3\" из \"2\" через вершину \"1\", где вес будет составлять 3.*"
      ],
      "metadata": {
        "id": "viiE-lrPxAPl"
      }
    },
    {
      "cell_type": "code",
      "source": [
        "# правильные ответы\n",
        "a = {0: [0, 3, 5, 4], 1: [3, 0, 2, 1], 2: [5, 2, 0, 3], 3: [4, 1, 3, 0]}\n",
        "\n",
        "print('floyd_warshall:', Floyd_Warshall(M1))\n",
        "print('Transitive_Closure:', Transitive_Closure(M1))\n",
        "\n",
        "if Floyd_Warshall(M1) == a and Transitive_Closure(M1) == a:\n",
        "  print('Test passed')\n",
        "else:\n",
        "  print('Test failed')"
      ],
      "metadata": {
        "colab": {
          "base_uri": "https://localhost:8080/"
        },
        "id": "PRpXbiTdw5V0",
        "outputId": "205ea6cb-0195-4d3e-8088-daf0fbb69a12"
      },
      "execution_count": null,
      "outputs": [
        {
          "output_type": "stream",
          "name": "stdout",
          "text": [
            "floyd_warshall: {0: [0, 3, 5, 4], 1: [3, 0, 2, 1], 2: [5, 2, 0, 3], 3: [4, 1, 3, 0]}\n",
            "Transitive_Closure: {0: [0, 3, 5, 4], 1: [3, 0, 2, 1], 2: [5, 2, 0, 3], 3: [4, 1, 3, 0]}\n",
            "Test passed\n"
          ]
        }
      ]
    },
    {
      "cell_type": "markdown",
      "source": [
        "**TEST 2**\n",
        "\n",
        "Немного изменим предыдущий граф, теперь из вершины \"1\" нельзя попасть в вершину \"3\" по прямой.\n",
        "\n",
        "*Проверим, что алгоритм пройдет в вершину \"3\" через вершину \"2\". А из вершины \"3\" в вершину \"1\" по прямой веса 1.*"
      ],
      "metadata": {
        "id": "ltGTwu6-xEzX"
      }
    },
    {
      "cell_type": "code",
      "source": [
        "# правильные ответы\n",
        "a = {0: [0, 3, 5, 10], 1: [3, 0, 2, 7], 2: [5, 2, 0, 5], 3: [4, 1, 3, 0]}\n",
        "\n",
        "print('Floyd_Warshall:', Floyd_Warshall(M2))\n",
        "print('Transitive_Closure:', Transitive_Closure(M2))\n",
        "\n",
        "if Floyd_Warshall(M2) == a and Transitive_Closure(M2) == a:\n",
        "  print('Test passed')\n",
        "else:\n",
        "  print('Test failed')"
      ],
      "metadata": {
        "id": "FJrAvKZ2xGZG",
        "colab": {
          "base_uri": "https://localhost:8080/"
        },
        "outputId": "90b15efb-d406-4554-9148-adc8f4c7d204"
      },
      "execution_count": null,
      "outputs": [
        {
          "output_type": "stream",
          "name": "stdout",
          "text": [
            "Floyd_Warshall: {0: [0, 3, 5, 10], 1: [3, 0, 2, 7], 2: [5, 2, 0, 5], 3: [4, 1, 3, 0]}\n",
            "Transitive_Closure: {0: [0, 3, 5, 10], 1: [3, 0, 2, 7], 2: [5, 2, 0, 5], 3: [4, 1, 3, 0]}\n",
            "Test passed\n"
          ]
        }
      ]
    },
    {
      "cell_type": "markdown",
      "source": [
        "**TEST 3**\n",
        "\n",
        "Исправим теперь веса на том же графе на отрицательные.\n",
        "\n",
        "*Проверим, что алгоритм вернет созданную ранее ошибку NegativeWeightError.*"
      ],
      "metadata": {
        "id": "HzuvV1dqxI_m"
      }
    },
    {
      "cell_type": "code",
      "source": [
        "Floyd_Warshall(M3)"
      ],
      "metadata": {
        "id": "EH383Q4SxKow",
        "colab": {
          "base_uri": "https://localhost:8080/",
          "height": 274
        },
        "outputId": "f1a5e291-6274-4cc6-ecea-715715713e71"
      },
      "execution_count": null,
      "outputs": [
        {
          "output_type": "error",
          "ename": "NegativeWeightError",
          "evalue": "Присутсвует цикл отрицательного веса",
          "traceback": [
            "\u001b[0;31m---------------------------------------------------------------------------\u001b[0m",
            "\u001b[0;31mNegativeWeightError\u001b[0m                       Traceback (most recent call last)",
            "\u001b[0;32m<ipython-input-25-49c3cf7a0396>\u001b[0m in \u001b[0;36m<cell line: 1>\u001b[0;34m()\u001b[0m\n\u001b[0;32m----> 1\u001b[0;31m \u001b[0mFloyd_Warshall\u001b[0m\u001b[0;34m(\u001b[0m\u001b[0mM3\u001b[0m\u001b[0;34m)\u001b[0m\u001b[0;34m\u001b[0m\u001b[0;34m\u001b[0m\u001b[0m\n\u001b[0m",
            "\u001b[0;32m<ipython-input-16-40166470f179>\u001b[0m in \u001b[0;36mFloyd_Warshall\u001b[0;34m(A)\u001b[0m\n\u001b[1;32m     25\u001b[0m   \u001b[0mweight\u001b[0m \u001b[0;34m<<\u001b[0m \u001b[0mweight\u001b[0m\u001b[0;34m.\u001b[0m\u001b[0mewise_add\u001b[0m\u001b[0;34m(\u001b[0m\u001b[0mweight_cur\u001b[0m\u001b[0;34m,\u001b[0m \u001b[0mop\u001b[0m\u001b[0;34m=\u001b[0m\u001b[0;34m\"min\"\u001b[0m\u001b[0;34m)\u001b[0m\u001b[0;34m\u001b[0m\u001b[0;34m\u001b[0m\u001b[0m\n\u001b[1;32m     26\u001b[0m   \u001b[0;32mif\u001b[0m \u001b[0;32mnot\u001b[0m \u001b[0mweight\u001b[0m\u001b[0;34m.\u001b[0m\u001b[0misequal\u001b[0m\u001b[0;34m(\u001b[0m\u001b[0mw\u001b[0m\u001b[0;34m)\u001b[0m\u001b[0;34m:\u001b[0m\u001b[0;34m\u001b[0m\u001b[0;34m\u001b[0m\u001b[0m\n\u001b[0;32m---> 27\u001b[0;31m     \u001b[0;32mraise\u001b[0m \u001b[0mNegativeWeightError\u001b[0m\u001b[0;34m(\u001b[0m\u001b[0;34m\"Присутсвует цикл отрицательного веса\"\u001b[0m\u001b[0;34m)\u001b[0m\u001b[0;34m\u001b[0m\u001b[0;34m\u001b[0m\u001b[0m\n\u001b[0m\u001b[1;32m     28\u001b[0m   \u001b[0;31m# если все ок, то формируем ответ\u001b[0m\u001b[0;34m\u001b[0m\u001b[0;34m\u001b[0m\u001b[0m\n\u001b[1;32m     29\u001b[0m   \u001b[0;31m# расстояния помещаем в массив пар final\u001b[0m\u001b[0;34m\u001b[0m\u001b[0;34m\u001b[0m\u001b[0m\n",
            "\u001b[0;31mNegativeWeightError\u001b[0m: Присутсвует цикл отрицательного веса"
          ]
        }
      ]
    },
    {
      "cell_type": "code",
      "source": [
        "Transitive_Closure(M3)"
      ],
      "metadata": {
        "id": "g_cX498RxLNA",
        "colab": {
          "base_uri": "https://localhost:8080/",
          "height": 274
        },
        "outputId": "da2c800a-3e12-4821-c602-4f872cae5f9e"
      },
      "execution_count": null,
      "outputs": [
        {
          "output_type": "error",
          "ename": "NegativeWeightError",
          "evalue": "Присутсвует цикл отрицательного веса",
          "traceback": [
            "\u001b[0;31m---------------------------------------------------------------------------\u001b[0m",
            "\u001b[0;31mNegativeWeightError\u001b[0m                       Traceback (most recent call last)",
            "\u001b[0;32m<ipython-input-26-2f193619401d>\u001b[0m in \u001b[0;36m<cell line: 1>\u001b[0;34m()\u001b[0m\n\u001b[0;32m----> 1\u001b[0;31m \u001b[0mTransitive_Closure\u001b[0m\u001b[0;34m(\u001b[0m\u001b[0mM3\u001b[0m\u001b[0;34m)\u001b[0m\u001b[0;34m\u001b[0m\u001b[0;34m\u001b[0m\u001b[0m\n\u001b[0m",
            "\u001b[0;32m<ipython-input-13-8904fac76dba>\u001b[0m in \u001b[0;36mTransitive_Closure\u001b[0;34m(A)\u001b[0m\n\u001b[1;32m     18\u001b[0m   \u001b[0mw_old\u001b[0m \u001b[0;34m<<\u001b[0m \u001b[0mw_old\u001b[0m\u001b[0;34m.\u001b[0m\u001b[0mmxm\u001b[0m\u001b[0;34m(\u001b[0m\u001b[0mA\u001b[0m\u001b[0;34m,\u001b[0m \u001b[0msemiring\u001b[0m\u001b[0;34m.\u001b[0m\u001b[0mmin_plus\u001b[0m\u001b[0;34m)\u001b[0m\u001b[0;34m.\u001b[0m\u001b[0mewise_add\u001b[0m\u001b[0;34m(\u001b[0m\u001b[0mI\u001b[0m\u001b[0;34m,\u001b[0m \u001b[0mbinary\u001b[0m\u001b[0;34m.\u001b[0m\u001b[0mmin\u001b[0m\u001b[0;34m)\u001b[0m\u001b[0;34m\u001b[0m\u001b[0;34m\u001b[0m\u001b[0m\n\u001b[1;32m     19\u001b[0m   \u001b[0;32mif\u001b[0m \u001b[0;32mnot\u001b[0m \u001b[0mw\u001b[0m\u001b[0;34m.\u001b[0m\u001b[0misequal\u001b[0m\u001b[0;34m(\u001b[0m\u001b[0mw_old\u001b[0m\u001b[0;34m)\u001b[0m\u001b[0;34m:\u001b[0m\u001b[0;34m\u001b[0m\u001b[0;34m\u001b[0m\u001b[0m\n\u001b[0;32m---> 20\u001b[0;31m         \u001b[0;32mraise\u001b[0m \u001b[0mNegativeWeightError\u001b[0m\u001b[0;34m(\u001b[0m\u001b[0;34m\"Присутсвует цикл отрицательного веса\"\u001b[0m\u001b[0;34m)\u001b[0m\u001b[0;34m\u001b[0m\u001b[0;34m\u001b[0m\u001b[0m\n\u001b[0m\u001b[1;32m     21\u001b[0m   \u001b[0;31m# если все ок, то формируем ответ\u001b[0m\u001b[0;34m\u001b[0m\u001b[0;34m\u001b[0m\u001b[0m\n\u001b[1;32m     22\u001b[0m   \u001b[0;31m# расстояния помещаем в массив пар final\u001b[0m\u001b[0;34m\u001b[0m\u001b[0;34m\u001b[0m\u001b[0m\n",
            "\u001b[0;31mNegativeWeightError\u001b[0m: Присутсвует цикл отрицательного веса"
          ]
        }
      ]
    },
    {
      "cell_type": "markdown",
      "source": [
        "**TEST 4**\n",
        "\n",
        "Построим более сложный граф и сравним выведенные данные трех алгоритмов."
      ],
      "metadata": {
        "id": "McbUAZrddTHP"
      }
    },
    {
      "cell_type": "code",
      "source": [
        "data = [\n",
        "    [0, 1, 1, 2, 2, 3, 0, 2, 0, 4, 4, 4, 3, 5],\n",
        "    [1, 0, 2, 1, 3, 2, 2, 4, 4, 0, 5, 3, 4, 1],\n",
        "    [3, 3, 2, 2, 5, 5, 8, 1, 2, 2, 7, 1, 1, 6],\n",
        "]\n",
        "rows, cols, weights = data\n",
        "M4 = Matrix.from_coo(rows, cols, weights)\n",
        "gb.viz.draw(M4)"
      ],
      "metadata": {
        "colab": {
          "base_uri": "https://localhost:8080/",
          "height": 406
        },
        "id": "_I9o4UWAdQOR",
        "outputId": "d7e7776a-c4ac-4b12-8b14-6f4ef9fb943e"
      },
      "execution_count": null,
      "outputs": [
        {
          "output_type": "display_data",
          "data": {
            "text/plain": [
              "<Figure size 640x480 with 1 Axes>"
            ],
            "image/png": "[encoded data removed]"
          },
          "metadata": {}
        }
      ]
    },
    {
      "cell_type": "code",
      "source": [
        "# стартовые вершины для Bellman_Ford_new\n",
        "p = [0, 1, 2, 3, 4, 5]\n",
        "\n",
        "print('Bellman_Ford_new:', Bellman_Ford_new(M4, p))\n",
        "print('Floyd_Warshall:', Floyd_Warshall(M4))\n",
        "print('Transitive_Closure:', Transitive_Closure(M4))\n",
        "\n",
        "if Bellman_Ford_new(M4, p) == Floyd_Warshall(M4) and  Bellman_Ford_new(M4, p) == Transitive_Closure(M4):\n",
        "  print('Test passed')\n",
        "else:\n",
        "  print('Test failed')"
      ],
      "metadata": {
        "colab": {
          "base_uri": "https://localhost:8080/"
        },
        "id": "ntUnelGTeOQz",
        "outputId": "27c14d3a-a81f-4672-e7b7-b3fcf8a5eb5e"
      },
      "execution_count": null,
      "outputs": [
        {
          "output_type": "stream",
          "name": "stdout",
          "text": [
            "Bellman_Ford_new: {0: [0, 3, 5, 3, 2, 9], 1: [3, 0, 2, 4, 3, 10], 2: [3, 2, 0, 2, 1, 8], 3: [3, 6, 5, 0, 1, 8], 4: [2, 5, 6, 1, 0, 7], 5: [9, 6, 8, 10, 9, 0]}\n",
            "Floyd_Warshall: {0: [0, 3, 5, 3, 2, 9], 1: [3, 0, 2, 4, 3, 10], 2: [3, 2, 0, 2, 1, 8], 3: [3, 6, 5, 0, 1, 8], 4: [2, 5, 6, 1, 0, 7], 5: [9, 6, 8, 10, 9, 0]}\n",
            "Transitive_Closure: {0: [0, 3, 5, 3, 2, 9], 1: [3, 0, 2, 4, 3, 10], 2: [3, 2, 0, 2, 1, 8], 3: [3, 6, 5, 0, 1, 8], 4: [2, 5, 6, 1, 0, 7], 5: [9, 6, 8, 10, 9, 0]}\n",
            "Test passed\n"
          ]
        }
      ]
    },
    {
      "cell_type": "markdown",
      "source": [
        "# **Дополнительно**\n",
        "\n",
        "Провести экспериментальное исследование полученных реализаций на некоторых больших графах в формате Matrix Market с сайта SuiteSparse Matrix Collection и на случайных сгенерированных. При этом описать зависимость времени работы всех полученных реализаций от размеров графа, его степени разреженности, количестве стартовых вершин. В частности выяснить, начиная с какой доли вершин в графе целесообразнее использовать алгоритм поиска кратчайших путей для всех пар вершин вместо того, чтобы решать задачу поиска кратчайших путей из нескольких стартовых (модифицированный Bellman-Ford)."
      ],
      "metadata": {
        "id": "kpZMcoEEe-2W"
      }
    },
    {
      "cell_type": "code",
      "source": [
        "# создаем функцию реализации для алгоритмов с подсчетом времени выполнения\n",
        "def alg_time3(A):\n",
        "  print('Floyd_Warshall:')\n",
        "  %timeit Floyd_Warshall(A)\n",
        "  print('Transitive_Closure:')\n",
        "  %timeit Transitive_Closure(A)"
      ],
      "metadata": {
        "id": "PPOPrLeRe-Xs"
      },
      "execution_count": null,
      "outputs": []
    },
    {
      "cell_type": "code",
      "source": [
        "# Выводим нужные нам данные для сравнения результатов\n",
        "\n",
        "for k in graphs:\n",
        "  print('Количество вершин:', k.nrows, 'Количество ребер:', k.nvals)\n",
        "  print(alg_time3(k))"
      ],
      "metadata": {
        "colab": {
          "base_uri": "https://localhost:8080/"
        },
        "id": "1EVW11ZMfrFu",
        "outputId": "0748a082-a004-455b-bc7f-c8f2a230ae53"
      },
      "execution_count": null,
      "outputs": [
        {
          "output_type": "stream",
          "name": "stdout",
          "text": [
            "Количество вершин: 838 Количество ребер: 10010\n",
            "Floyd_Warshall:\n",
            "1min 15s ± 867 ms per loop (mean ± std. dev. of 7 runs, 1 loop each)\n",
            "Transitive_Closure:\n",
            "1min 9s ± 607 ms per loop (mean ± std. dev. of 7 runs, 1 loop each)\n",
            "None\n",
            "Количество вершин: 992 Количество ребер: 16744\n",
            "Floyd_Warshall:\n",
            "1min 50s ± 7.76 s per loop (mean ± std. dev. of 7 runs, 1 loop each)\n",
            "Transitive_Closure:\n",
            "1min 39s ± 788 ms per loop (mean ± std. dev. of 7 runs, 1 loop each)\n",
            "None\n",
            "Количество вершин: 1054 Количество ребер: 12196\n",
            "Floyd_Warshall:\n",
            "2min 3s ± 1.87 s per loop (mean ± std. dev. of 7 runs, 1 loop each)\n",
            "Transitive_Closure:\n",
            "1min 50s ± 804 ms per loop (mean ± std. dev. of 7 runs, 1 loop each)\n",
            "None\n"
          ]
        }
      ]
    },
    {
      "cell_type": "code",
      "source": [
        "# Выводим нужные нам данные для сравнения результатов\n",
        "\n",
        "gen_vertex = [1] # доля генерируемых вершин\n",
        "for k in graphs:\n",
        "  print('Количество вершин:', k.nrows, 'Количество ребер:', k.nvals)\n",
        "  for p in gen_vertex:\n",
        "    print('Количество стартовых вершин:', round(k.nrows * p))\n",
        "    print(alg_time2(k, vertex_generate(k.nrows, p)))"
      ],
      "metadata": {
        "colab": {
          "base_uri": "https://localhost:8080/"
        },
        "id": "Wj0SkHFAmaGA",
        "outputId": "f3b3a319-f5ef-4347-a48e-daeb26945e1f"
      },
      "execution_count": null,
      "outputs": [
        {
          "output_type": "stream",
          "name": "stdout",
          "text": [
            "Количество вершин: 838 Количество ребер: 10010\n",
            "Количество стартовых вершин: 838\n",
            "Bellman_Ford_new:\n",
            "1min 15s ± 522 ms per loop (mean ± std. dev. of 7 runs, 1 loop each)\n",
            "None\n",
            "Количество вершин: 992 Количество ребер: 16744\n",
            "Количество стартовых вершин: 992\n",
            "Bellman_Ford_new:\n",
            "1min 56s ± 812 ms per loop (mean ± std. dev. of 7 runs, 1 loop each)\n",
            "None\n",
            "Количество вершин: 1054 Количество ребер: 12196\n",
            "Количество стартовых вершин: 1054\n",
            "Bellman_Ford_new:\n",
            "2min 12s ± 12.3 s per loop (mean ± std. dev. of 7 runs, 1 loop each)\n",
            "None\n"
          ]
        }
      ]
    },
    {
      "cell_type": "code",
      "source": [
        "# 10 vertexes\n",
        "rows = 10\n",
        "density = [45, 33, 22, 11]\n",
        "for d in density:\n",
        "  k = graph_generator(rows, d)\n",
        "  print('Количество вершин:', k.nrows, 'количество ребер:', k.nvals)\n",
        "  print(alg_time3(k))"
      ],
      "metadata": {
        "colab": {
          "base_uri": "https://localhost:8080/"
        },
        "id": "Z20CsDT1gAsB",
        "outputId": "0aa538a7-dc5b-49d8-8fc2-931779055c1c"
      },
      "execution_count": null,
      "outputs": [
        {
          "output_type": "stream",
          "name": "stdout",
          "text": [
            "Количество вершин: 10 количество ребер: 90\n",
            "Floyd_Warshall:\n",
            "15.8 ms ± 6.87 ms per loop (mean ± std. dev. of 7 runs, 100 loops each)\n",
            "Transitive_Closure:\n",
            "11.7 ms ± 2.73 ms per loop (mean ± std. dev. of 7 runs, 100 loops each)\n",
            "None\n",
            "Количество вершин: 10 количество ребер: 66\n",
            "Floyd_Warshall:\n",
            "16.2 ms ± 5.55 ms per loop (mean ± std. dev. of 7 runs, 100 loops each)\n",
            "Transitive_Closure:\n",
            "11.3 ms ± 2.23 ms per loop (mean ± std. dev. of 7 runs, 100 loops each)\n",
            "None\n",
            "Количество вершин: 10 количество ребер: 44\n",
            "Floyd_Warshall:\n",
            "16 ms ± 4.07 ms per loop (mean ± std. dev. of 7 runs, 10 loops each)\n",
            "Transitive_Closure:\n",
            "9.82 ms ± 182 µs per loop (mean ± std. dev. of 7 runs, 100 loops each)\n",
            "None\n",
            "Количество вершин: 10 количество ребер: 22\n",
            "Floyd_Warshall:\n",
            "14.7 ms ± 2.77 ms per loop (mean ± std. dev. of 7 runs, 100 loops each)\n",
            "Transitive_Closure:\n",
            "11.2 ms ± 2.26 ms per loop (mean ± std. dev. of 7 runs, 100 loops each)\n",
            "None\n"
          ]
        }
      ]
    },
    {
      "cell_type": "code",
      "source": [
        "# 50 vertexes\n",
        "rows = 50\n",
        "density = [1225, 918, 612, 306]\n",
        "for d in density:\n",
        "  k = graph_generator(rows, d)\n",
        "  print('Количество вершин:', k.nrows, 'количество ребер:', k.nvals)\n",
        "  print(alg_time3(k))"
      ],
      "metadata": {
        "colab": {
          "base_uri": "https://localhost:8080/"
        },
        "id": "7Df1DlkggQIE",
        "outputId": "3bf6a991-77d6-478c-db9d-a8f821848f32"
      },
      "execution_count": null,
      "outputs": [
        {
          "output_type": "stream",
          "name": "stdout",
          "text": [
            "Количество вершин: 50 количество ребер: 2450\n",
            "Floyd_Warshall:\n",
            "245 ms ± 3.47 ms per loop (mean ± std. dev. of 7 runs, 1 loop each)\n",
            "Transitive_Closure:\n",
            "231 ms ± 8.98 ms per loop (mean ± std. dev. of 7 runs, 1 loop each)\n",
            "None\n",
            "Количество вершин: 50 количество ребер: 1836\n",
            "Floyd_Warshall:\n",
            "244 ms ± 11.6 ms per loop (mean ± std. dev. of 7 runs, 1 loop each)\n",
            "Transitive_Closure:\n",
            "356 ms ± 57.2 ms per loop (mean ± std. dev. of 7 runs, 1 loop each)\n",
            "None\n",
            "Количество вершин: 50 количество ребер: 1224\n",
            "Floyd_Warshall:\n",
            "260 ms ± 68.2 ms per loop (mean ± std. dev. of 7 runs, 1 loop each)\n",
            "Transitive_Closure:\n",
            "231 ms ± 9.85 ms per loop (mean ± std. dev. of 7 runs, 1 loop each)\n",
            "None\n",
            "Количество вершин: 50 количество ребер: 612\n",
            "Floyd_Warshall:\n",
            "238 ms ± 7.52 ms per loop (mean ± std. dev. of 7 runs, 1 loop each)\n",
            "Transitive_Closure:\n",
            "220 ms ± 4.74 ms per loop (mean ± std. dev. of 7 runs, 1 loop each)\n",
            "None\n"
          ]
        }
      ]
    },
    {
      "cell_type": "code",
      "source": [
        "# 100 vertexes\n",
        "rows = 100\n",
        "density = [4950, 3712, 2475, 1237]\n",
        "for d in density:\n",
        "  k = graph_generator(rows, d)\n",
        "  print('Количество вершин:', k.nrows, 'количество ребер:', k.nvals)\n",
        "  print(alg_time3(k))"
      ],
      "metadata": {
        "colab": {
          "base_uri": "https://localhost:8080/"
        },
        "id": "wd1z9Kf3gQrv",
        "outputId": "aa5506ba-8ba0-4d4d-a864-8e0ccc4991d9"
      },
      "execution_count": null,
      "outputs": [
        {
          "output_type": "stream",
          "name": "stdout",
          "text": [
            "Количество вершин: 100 количество ребер: 9900\n",
            "Floyd_Warshall:\n",
            "1.1 s ± 230 ms per loop (mean ± std. dev. of 7 runs, 1 loop each)\n",
            "Transitive_Closure:\n",
            "1.12 s ± 247 ms per loop (mean ± std. dev. of 7 runs, 1 loop each)\n",
            "None\n",
            "Количество вершин: 100 количество ребер: 7424\n",
            "Floyd_Warshall:\n",
            "913 ms ± 9.9 ms per loop (mean ± std. dev. of 7 runs, 1 loop each)\n",
            "Transitive_Closure:\n",
            "1.11 s ± 256 ms per loop (mean ± std. dev. of 7 runs, 1 loop each)\n",
            "None\n",
            "Количество вершин: 100 количество ребер: 4950\n",
            "Floyd_Warshall:\n",
            "1.09 s ± 275 ms per loop (mean ± std. dev. of 7 runs, 1 loop each)\n",
            "Transitive_Closure:\n",
            "940 ms ± 17.9 ms per loop (mean ± std. dev. of 7 runs, 1 loop each)\n",
            "None\n",
            "Количество вершин: 100 количество ребер: 2474\n",
            "Floyd_Warshall:\n",
            "1.12 s ± 224 ms per loop (mean ± std. dev. of 7 runs, 1 loop each)\n",
            "Transitive_Closure:\n",
            "933 ms ± 84.4 ms per loop (mean ± std. dev. of 7 runs, 1 loop each)\n",
            "None\n"
          ]
        }
      ]
    },
    {
      "cell_type": "markdown",
      "source": [
        "Результаты тестирования алгоритмов на случайно сгенерированных графах\n",
        "\n",
        "![Снимок экрана (451).png](data:image/png;base64,iVBORw0KGgoAAAANSUhEUgAABC8AAAIjCAYAAAAjozF8AAAAAXNSR0IArs4c6QAAAARnQU1BAACxjwv8YQUAAAAJcEhZcwAADsMAAA7DAcdvqGQAAKZwSURBVHhe7f0NvBxlftj51omduxIvviaKPBlpIiMFk9nwiQwRM2KCtGwcRQkJEKO9CtFys2QgfCBZgRTQSBYblhBvYES0WAsaDEt4Sy6rLLqRd4TW+CqKA5EVJMcKBKNhAoo0VkbCIEtyeJHkvJ17fqV6mqdL1d1VfbrPqT79+34+Bae7q6urn5d/PfWvp1ojo2MSSZIkSZKkmvp92f8lSZIkSZJqyeSFJEmSJEmqNZMXkiRJkiSp1kxeSJIkSZKkWjN5IUmSJEmSas3khSRJkiRJqjWTF5IkSZIkqdZMXkiSJEmSpFobGR2T/Z2MjIxkf0mSJEmSJPVPlI7oqCl5ARIYVTagwWVdTz3WqTS87P+SesV4ImkiVI013jYiSZIkSZJqzeSFJEmSJEmqNZMXkiRJkiSp1kxeSJIkSZKkWjN5IUmSJEmSas3khSRJkiRJqjWTF5IkSZIkqdZMXkiSJEmSpFobGR2T/Z0aGRlJck9pirKupx7rVBpenfr/2bNns78kqb3p06d3HE8YUySNV5lYE3PmhSRJkiRJqjWTF5IkSZIkqdZMXkgaav/2//g/kv/PT/xEY+HxRIo/f6I/u9d+7+TJ5Ff+3J9Lvwv/5/F4lamfj/7Fv2ha562f//nsFam+fvPRR5P/75w5yfG9e7NnmtF/fvUv/sWWrwdhPZZe9LmJ8oP/8/9Mv39YeCwNm9B/Qz9o1Y/tL9375ODB5Je/8Y203H793nuT/3zmTPaKBtFAJC/OjDWy1atXJ/PmzWssW7duTU6dOpUsW7as8ViDi/qL65f6pt4fe+yxpsdSGf9prK382l//600ntPklnAT/kf/+v0/+3x9/nNz4a7+WXPiVr6TPTSQ+v+pn50/Wf+lP/Ink37///nkn+pQBZTFR/qs/8AeSP/crv5Jccc892TPjV6Z+vvQn/2S6zvLvfz/5g2NloakrP9AvWjqd7A8KvuvZsXb9+W/9VvbM4ODkgJOEUCf8/du/+qvpCQQnErj0lluS/9eRI8nSsecvmD07fU6qO+JLHG/ihYRkVRw3f+a73037wh8dO2a3Mqj9JU4cFC1xTOiXH7vssuTPjpXbnJ/92ewZDbKBSF7wQx6bNm1KNmzYkMwe67A7d+5MbrjhhuThhx9O3n777WwtDbLly5en9Ur9Us/U944dO5Knn346W0Mq70fHYsaiX/zF5Btj7YgTXk58ObmdzCRFL3GyHn+3m//Vv0r+n5df3jjRJ3nASfzX/u7fTctCmmoY5IfB/h+46qrkxrGxwHWvvJK9Ohj++Pr16XeYec012TPdCSc/LPw92TgR+f/9zM+kf9/8b/5N+h2/eu+9yb/6n/6n9DlpkNFfiTfEnRCHWHiOxEY3CYypLE4csISYwHL13/t72VpSeQN728g777yTbN++PVmzZk1y5ZVXJnPmzMleSZJ9+/YVXsUP8lf58wvvLyP/OfHCjIG8/OcWraNzmFWzZcuW5KabbkpuvfXWZNasWWkSK7wWZtywLF68ODkYZW3zr+eXsrM4imb8hCX/mejU7jTY8rMd4lkN3KYQng+zIPKzP+LbKPIzJF5dtCj5/Ic/TF8r66JLL03fc/Z3fif9PD6Xz+MzPj92LLlo7tzkR8b6DI/DrRzxwvcJ8uv81lhsjR/Ht2q02l7R7Ry//Wu/1ng9Pwsk7HO8jVB20njRTuMZGj/8v//vpsdhynXRVcH8lcBwewfv//7mzY31iqYf5z83LPEU707Tv8OshZ0/8zPJ6aNHk9/41rca68b7lp/dkN/v/Hdjv9i//JXj8D3y+57fXlm/NTbWmTbWn3/6b//tNAaBE5iv/cIvpH9XVXa/8uXKEr5z/Foo71Cv8XNx2fBe2k14nP/c/Od50jrcSByS2KAN0eaCuJ2xhLbWS/k+UrTEn5vfJ5a4/Ya2TZs/+MILjXVCf+qXfExjoTyD/OvsW/w4/g75+PdLf/SPJkf+r/8re7WceBvE/riM4/0K2tV1/FqIuYjjSKvYpmYDmbw4ceJEenWeE9tvfvObybZt25KFCxemr5EgWLFiRXrie+jQoXThxHfp0qWNk02u8u/fvz9Netx9993pOvGsjrCtTlgvni0QPo/PZsZAnAQhUfHEE0+k67POgQMHkmNjJxicZHOyrWbPPvtscvz48WTlypXJz4+dGK5duzZ9njqk3q8ZO0CE8t64cWNav+HWoUsuuSRtE3GdxvXNrI6QCGknzPjhPbyXbYS6W7BgQbJ5LJCF5ESZdqfJ859On05Pnlku/MN/OJ2pwCyFsjgx/yc/+7PJnxk78IUZHBeO1e+r116bnmxf9eCD6UwI/MmxdsEsCGY8MPOBGRCX/nf/XbLkl34pHcizD++MtdkwG6TbmSDT/uAfTN/32Q9+kPzOb/xGmsg4PhZzPjtyJFvjnHArR9hvFvb1X4z1rZAoCOvw/bD7r/215Etj3y2s+8E/+AfpgIXln42V20/9D/9DY1utbtX4nbEyPvmv/3W6zl/Opr3vve++RgKDMqIewnZYLr355uTNsYN6PwdHGg5hNkKYjbF3rN9xYhGu9h0a69O0M06q//ybbzauBLL84ZtuSn7j/vsb7ZAZElxhPfnWW8m0mTPTdbh6iO9l/R6sv2dsTDJvrI+EbYUrtLFO07+JE18fGy+E19nfsD32lX2O1+P5oiuY4bux7+l2/tf/tXGCFdanfNgGffXVseNcKCOWP7Z6dZpAqXKyRRkwqGc7fFaM5+L9L4OB/D/9C3+hab9IguT3i7+pU8o7rBeXCWWeL2/qNf9c+JxQ37Qbyoj6/oNf+1qamAknUNQ972f9cNW93yd3qi/a6r/bvj256Cd/Mj3+0w5oD7SL0C5pL7Sb+OS1F+hr146dyBNrwkw02jBov/QFPjecGIdZX2Fhv9j30KfoL7yH5OmZ3/7txnr0j3/9t//2uPb9kw8+SE/S+Sw+J8QEyuuNv/yX03XC7Az261/+zb/ZSErkY+PbDz2UPs/6fE++A9+RbRMjiGFsh9e7uWWE/Vr0D/9h+lnH/sk/ScuY7fFZ7FcozzJ1zb6E2ScLxs5PQmI3lDWfwWdViY/DauCSF0fHOhInidwucu3Y4Do+CeUkkQQBJ61xAuLOO+9MZo4NODihrSL83kJ+Kbrq3g5JDJIZnGRfljVK9psTc07Qd+3alT6nc9atW5eWFwkCkg8BiQISBjx/T3RPPXVNgoHEQZVEEHVIXRbVcZVZMb1ud+otTupfW7o0+cE//sfZM9Vwgk+ygZN4btcI/tj/+D8m03/iJ5JD2cH+K3/uz6Un8R+MHXzCCfoPf+VX0pP4n/orfyUdzJwYGwyzHyHBAf7P46pIXvD5//Hzz5MPd+9On+O7fvj668lnhw+nyZVWt4zEszaKcNsJCRmQ5CGxweCI9c98/HHy5thBOMym4ADM6/lkEGVBGYH9YH/Yr3aDnh/7I38k3X6r/ZJCUoLBd1448eT/eQzkw3sYLLa7xeLisWMAvzWRPwnlpODLf+bPpH/T7qd/+cvpYDWsx/95X5gpwaCVts9n8ZmT5SeXL0//z4k32E9O9BlE/4Gf/um0Tx7OHjPADthnyi0keiYa+/X9sWMrSYN4v6jf/H59euhQmmwgAUPZUy+d6rkMTlL4vHDSRBsi0cMVXJIo4USDzyA5RP1/OHaSo+Hwb37xFxtXzcNMqbljx0LaC+2A9hCShqC90G5oP7SjfiB5Gj4v9PFOWJ/ZUvSjGCfUIX6A2Pg7//JfJp+Pfc9u8L3/6Q03pOWU9/4zz6T/z8/You+HpERenAign5II4bsQG4gRIe7yOtvNJ5KriMv1vxobf+Hk/v3p/8vUNfvwE2PnrZ/91m+lcYvjQ0h2Uu6Uf3iv2hu45EW4ks6JIie58ewGZmSQ3IhvIQFX4rlSv3fsYFbl5Jar/eEqerzsHjtRCEmIgH0JJ74kV5gdMH/+/PS1I2ODKfZ7xowZ6eOA5zgR37Nnj7cXRKjbMFviySefzJ5NkrNnz6ZlGd9CElx33XVpQuv9ClPOqUPqsqiOw0yPgG1TV9TvFVdckd6yRD2zH71ud+otZidcP9aemP3QDU6kOdHnhD/GQYbZCR+N9V8OPjy+6n/+n9PkxG/90i+lzzFjgc+dkR0wmSXB/pB4iIVZFN04PPZ5zLi4+u/+3fSz3n7kkTRhQiIgyN+mwiySdmb96T+d/dUsn2jhu/6jn/zJdJvxbShlxbfbsJAUkfrhD/2pP5X9db78VF+SD90Ig9WAQStTldkmJ9OThf1iNkk4AWCgzYl+OMki2cqAOt7fsHByVpTImQhhv0gShZOZgPrkO3ySHfPDVc3gjb/0l9L9H88Vbk50fixLMsfCD6iGzwhLOHnNnwBq6uIEmYRpWHhMu6C/0w5oD7SLuJ3wOvr1Q7wXjh2TA06W830HxIH4lgqSfvSnfqOP/ukdO5pmO4E+eubDDxuzVmJ/YGzsjZAoiBV9P2IVMYtES4ztsv1+KFvX1A3lfGxsTEoSiL9JHNNeSL6YvChnYH/zgh/sJEHA1fZw4k9ygIQAJ7gxXucWDU4up02blj17zty5c7O/xocT7vjklxNsfquBk1Y+l5NbTnJj7U7Ghx2JhXvHBh2vvvpqY5YLdUdZUpf5ZE+rBBEzH/LPdSO+bYSF5Aq/t8LtIt20O02sH73ggoQf8GRpNRuhlfj2jBgD6/i3JUCSggQCSQuWeNYF8gmQ8eAz+ewTY5+BL193XfLlxYvTvxE+iwQBSYH4lpdwe0g3wr/sEZZwu0w846QT1mPWxg9+6Zeafkw1bEuaCAyYObnlpJ4pvuEEJL7doCoGoPHJTNgWA9RuT6J7IVw9/Xj37uTjPXuarsiGQT3Phena8VLlVo+wLU5E8t+Xk4owtbqMdtviZIAToHAFlHgYbqFhYeo2yYd+XOEOJ4fMyojLKSxFs4I0HC6/66603f32P/tn6ckzbTSOLfHSj9lY9Jc44RYnMgL6HyfZJDTDvoT+MhF+7Kd+Ko0p8fen/5KkJFmZH0f83u/8TpoYKPouRUgAMIthIpWta+IV63G7S5h98u5jj6VJjHyyRa0NbPKCk32ufHMFnB/vBCe8N95443kzMrh6H66U8y9Y8DsTXKHnlo381fJ+YAYGiRZOdsOJOCe2/Gsp7AP7o/MtWbKk6baLuM7jGRnUNXVO3ZNIoDxJKhw+fHhCEgdl2p3JqcHFbIP0txhWr26aXfCbGzemMw/i5AT//+N/82+mtz4wAyKedQH+nrlwYfKbv/ALjQM0A3p+54HZHVXwWdyKAbbJb3n8wauvbprBERIs8X7weW/9nb+T/l0VMzjyP6oZbpdpd5tKHici3EJCuYbbZ8LtOdJEoX8wWGYQH07OuSIZ/45FFdxnnf/BNW4z4aSgaPZAJ0WD8KLPKCPMvmDQzAl9fMWS/zMLg+dJ5AQhuVPl89gW/7IIVxX3jx0TQ9KB/3OvPFdEQ8Khk3i/4jrh5IvZMaHeQlIk3BcPyo5p3nGCI5RnmBnBPnFbSjiJKIukD4kePo/PDtgvrrbG+6HhQnsIV/3p+7Q32ljoB6AP0074f68RZ8JxePof+kMtZw7RL+LbQbhlYyJmXrTD/lB28W9qEHf4bYk42dpJ6Pvxb3yAx8SSfihb1xeOlTu3wYFZOiRAg7LJGSXJyOiY7O/UyMhIkntq0nGiv379+vREMGDGBUmB8DxXvl944YX0RJITSE4YA66aP/fcc+k0fk5qOckEv5PA7QH8vkH8T3Ky7TI/2pn/nLz8duLPBgmNR8cOcpN1Ylunus6XTaib+Hlmt/Bjq8xmueOOO5r+mdxQ1vFroU2AH3Zl9gvKlntRu4vlt9Ou3U2UOvbfycBJCT8OGf/OBSfw1zz+eNMJNifMv/qX/3LLxAEzAcJvOZC4iG+34IT9T42dzHOgzGO2A7MKfuYf/aPGyXmM1w9kCTiSDX9i7GD9r8YW9qPddvNIJpBUCfsZvje3kYTPzpcF2/+v/8bfSH+UE5TLvL/0l5JfbXEVKC638Hl5cTnlvxv7we+C5J9jRgs//snsFPA57NtvZP+cIr+7MW9snzrVD8mTeDt58e93THWd+j+z/aYCBoecGOcHogzIww+ecSIZpuzmMRAO90lzssGPbIaBezpIvuqqxg/BMcAEt08gfAa/H5F/jmnNRbecMPsiXHljMP1rf+WvtDxhjtdFfv34OzIgbnWLS7xeEMqE78cPz+VjTKt9Y4DNjJIqiuoo/twq5ZCvI8T7VPQ6ir5n/LmU0fy/9beSd/6X/yV9nK/rvHzdkKTIrxu3rUHH2KbTeGKqxJQq2sUW0I7C7JtWsSpep6gdBaEN08bb9Zcrx8YPR7773bQPhDbIyTrJyHxsou+QwIhjxzVjn//+//6/p++nX5A0PJDNGkPRe8rGhaK+nu9LQVF5lY2f+f6er6crH344/X5h22X2P/951BtJlvxz1GWZukaobz6fhAzvIdmbj9fDpEysiQ1E8kL9YV1PPdbp5AsJEWYVDMtJs+phWJIXkvrP5IWkiVA1eTGwt41IUif/5d//++yvc0Y//zz76wu9Xif86yNzb7op/X9sMvYnGOZ1NLWQpPnRM2eSH/mRH8meSZLf//t/f/ocr8F1XCeY6HXC65Kk3jN5IWlKOrNrV3Lk0kuT39t77sfhRv/Df0h++2d/Nvno5puT5D//5/S5Xq7zz//IH0n/xYxwe8TvrFzZt89ynfLraGr5fb/v9yUj//bfJkcvvzz5vX/8j9MTR04YT/71v5589Gf+TPIjv/d7ruM6k7bOJ3/v7yX/6Ujzj3dLknrH5IWkKefMP/tnyW//xb+YXPBn/2zy4dhg8/d+/dfTE9z/fPx48h8OHEg+/qt/NTnzq7+a/PZNNyXTlyzpyTr/9Z/6U8miM2eS5Tt2JN/48peTaZ9+2rfPcp3261xw/fXn1mnxOxgaXP/l4MHk2H/73ya/f9Gi5OMVK5Lf++VfTk6uWpWcfvXVZPRHfzT56C/8hWT03XfPrfONb7iO60zYOr/7t/5W8sn/9r8lo//xP2atVZLUc6M5BU9pirKupx7r9JwffOlLo5/+g3+Q/n3y539+9N+Olcu/+2N/bPQ/nzgx+h+PHBn9ra98JX3u3//iL9ZqnUPr1o3+w5kzSy3/dNGi0Q9GRgbie03GOv9+8+bRIz/1U+nfw6JT/z9z5szAL//ua18b/ehb30r/Pvnyy2mdH7r44tFP//W/Hj19/Hj6Os/99t13u06P1jn+wgujr/3YjxXGoaLl8D/8hwPxvfq1Ds9NhaXMeKLofS4uLi5VlqrnLv5g5xCzrqce6/Sc/3LqVPL7on/l5Xc3bEguvv325Edmzkwf/6fDh5PTv/IryY/99XO/Lg/XmXrr/Jff/d3k9/34j2ePpr5O/X8q/Lhevm+ffvnl5P+xYEHyo1/9avqY3zv5/KmnkoujX3d3HdfBRK4zFfiDnZImgv/aiEqzrqce61QaXsOQvJA0MUxeSJoI/msjkiRJkiRpSjF5USP79u1LFi9enBw8eDB7Rv1EOVPelLskSZIkqb5MXtTEqVOnkg0bNiQzZ85MZsyYkT2rXiJJMW/evMaydOnStLwvv/zybA1JkiRJUh2ZvKiJXbt2JW+//Xaybt265JLox8jUG8yy+Pa3v53s3LkzOXToUGPZtm2b5S1JkiRJNTehyYv8le94eeyxx7K1vsBz8Tpbt25Nnz9z5kyyevXq9Dmm/f/yL/9y+v/8evw/PMc6y5YtK3y8YMGCxvMs7Gf8GSz//J//86bH/P2bv/mbhZ9bFZ+1Z8+e5Morr3QWQCau+3zdFbWVuK6L1nnrrbfSH7MjeRGvV1RnrbZVtt1JkiRJknprQpMXCxcuTE8eZ8+end4iEa5+b9myJXn66acbvz3ALRScrO7duzfZv39/ug7ve+KJJ9KTR2zatCndxtGjR5NHH300eeGFF5rW44Rz+fLl6bbBrRg8Fz77G9/4Rvr83Xffnfzar/1actNNN6XLgQMH0v188sknk+3bt6frs83/5r/5b5KHHnooTTDwHj7/j//xP56uE57j87rBd+B7XnPNNU2zANjfcGLcapmqv9ewdu3aRt2tXLkynZFC/VJOtAvaAcmEkFCgzqmneB3aEG0Jhw8fTme2vP/++2kd59sKOm2LX9Uu0+4kSZIkST02mlPwVE998MEHo4sWLRp95ZVXsmdGR8dODkfnzp2b/h+8xjqsGytaj8fxthCvF/8df/bJkydHb7755tGxE9HR06dPj65atSpd+Dts96/+1b/atB/xe4Ki56oqKpOJ0O+6Hq9Qd/myjcsrrt9YvkzZRlyXAa+H58tui/+zXngctHr/RKp7nUrqH/u/pF4xnkiaCFVjzaT95gVX0sPsgRUrVqSzHubPn5++xlVyrmzzg4rxLAPWw5EjR9L/g5kRV111VfboHGZZ8Hy8XlnMZGDfmEnx5//8n8+ebcYskbBP3HLCFf1+GOaZF7Hrrrsu++sc6pcf2qSdhDqmbcTlQtuhDbFOUPRjqHPmzMn++qJdldlWr9udJEmSJKm1SUtebIhuG2GZNWtWcuutt6bT/OfOndu4XSNeJyzx7RmcVJ44cSJ7dA6PeT4+MS2DW0Buv/32NJFyzz33ZM+ej8RG2BduK+C2kV6IT47BrRPx9y5auMVlqssnA6jf48ePp+0k1DG3mBSVD2UIEiC8J99W4m2X3RZ62e4kSZIkSe3V8l8bWbJkSXqVfPPmzenvEAThhxTzP4y4Zs2a9F+TQPgnR+OZHFWQiOC3LaZPn549038kapjBsXfv3sZvNOgLzIQJM0xoD7QL2gfthDqmrqnzuOxYn7YSfoOC9SjjuE3RZvidihtvvDG57LLLSm8r6GW7kyRJkiS1NsK9I9nfKf5FhtxTPcNJYLj1owhXvMNMAk4w169fn86GiDHrIVwBJ4nBySfr8eOJXPVGWIcTy29+85uN51vhRzI5+SSJwA8wciLLiSq3hwQbN25MfuEXfqGxLU5S+Qx+TDLcNsJz7Ec3iQ++CyfpcRn0Wz/ruhdCeyHh8Pf//t9vW875+kJ+vaI2VVTenbbVqd1NprrXqaT+sf9L6hXjiaSJUDXWTGjyotfCSWRIOAwykid33HFH+vdzzz3X9K+O9Evd6zokLyYyoVNGndudgw1peNn/JfWK8UTSRKgaa2p528gwIlnBzIui32WQJEmSJGmYDeTMi1a3lNTtCn3d1bmui27d4Dcl4h9rnWiD0O68UiINL/u/pF4xnkiaCFVjzUDfNqLxsa6nHutUGl72f0m9YjyRNBGqxhpvG5EkSZIkSbVm8kKSJEmSJNWayQtJkiRJklRrJi8kSZIkSVKtmbwYQPxLHMuWLUtOnTqVPSNJkiRJ0tRl8mIAXXfddcnbb7+d7Nq1K3tGkiRJkqSpy+TFAJo/f35y0003JVu2bHH2hSRJkiRpypuQ5AW3OcybN6+x/PIv/3Jy++23JwcPHkz27dvX9Fp+CbdHsPB3/nXeD7a1ePHi9LnVq1cnL774YmMdnud1tNpOvIRtYuvWrU2v8V2Cdvse1ov3i4V9O3PmzHnv5fnwN58ZxOuF906fPj1ZsWKFsy8kSZIkSUOhr8kLTrQ54d67d2+yf//+5NChQ+ny7rvvJq+//npy4sSJbM0knUXAOldeeWVy9913p+vx/+CSSy5Jtm3b1tgGy4YNG5I1a9akCYLLLrss2blzZzojYfv27emJ/YEDB9L17r333mTp0qVNSYn4M/hMPpt9iJGAeOKJJ9Ltsi7bO3bsWCOhsnDhwvS12bNnp/sS9ovtPP300+nnsV/sT/hemzZtSpMP+fc++uij6b4jzKhg4TXw/oceeih9L2bMmJG+9/Dhw+ljSZIkSZKmqr4mL3bs2JEmBUgCkHwIOPn/6Z/+6fQEfDzmzJmTHD16tCkJAk7qV65c2TjRX758eZo4IBHwu7/7u+lznZB4IAGxcePGNAEBtsd2jx8/3rcZD5QL23/22WfTz+Bvnsuj7GbOnJkmU0gSSZIkSZI0VfU1ecGsAE6w80kKkgG/9Eu/1EgKkGwoSmTMnTs3++uc/C0c3DpRZMGCBek2Y2yLRMDJkycbj/PCbAYcOXKkcL94ju3v2bOnKWmwbt26pv1iFgW/TREjGcLr8W0seT/5kz+Z/PzP/3y6Ltu88cYbk2984xvZq5IkSZIkDZ++Ji9CwiA/MwLMxiAZwe0Tu3fvbiQyYsyY4FYRZm2wPifz3FIR355RhMTD2bNns0fnhEQKyQO2ybbz2Af2hX1qNauD7bL9WbNmNWZ2IL5thIXXb7311vTWj4DZH9x6QvJj8+bNLWdMMNOC5Ae3itx5553Zs83YL8o2vx+SJEmSJE01fU1eLFmyJE0Y5E/Uwy0ZZfFebo+IZzPEvweRx+9dPPzww43PDJ/HjIj49pV2wr/oEX5TA2yP7ZI04NaXfpk2bVr62xghcVOE5AXJlaIZJJIkSZIkTSUjo2Oyv1MjIyNJ7qlx4YR//fr16Y9Wxpg1wQwHkIi444470qRDjJkKa9euTf/Ob4dZCX/tr/219DcoQKKBH7QkuQBe/zt/5++kfyP+PDCTI59A4T3PPfdcU8KA2SHM+Aj4HH5ck9kOJEVa3boCPpPbTr75zW+miYaAW0/4LmwnPH/ttdemt6IEYVZJvH3e98ILLzTezwyQ/P5W0eu61uSzTqXhZf+X1CvGE0kToWqs6XvyYiKFBAdCgmEqCkkTZp4U3f5Slgemqcc6lYaX/V9SrxhPJE2EqrGmr7eNqD/eeOONdJYIt+VIkiRJkjTVTZmZF/wuRf72jKLbQPQFs+pTj3UqDS/7v6ReMZ5ImghVY82Uum1E1VjXU491Kg0v+7+kXjGeSJoIVWONt41IkiRJkqRaM3khSZIkSZJqzeSFJEmSJEmqNZMXkiRJkiSp1kxeSJIkSZKkWjN5IUmSJEmSas3khSRJkiRJqjWTF5IkSZIkqdZGRsdkfycjIyPZX5IkSZIkSf0TpSM6akpegARGlQ1ocFnXU491Kg0v+7+kXjGeSJoIVWONt41IkiRJkqRaM3khSZIkSZJqzeSFJEmSJEmqNZMXkiRJkiSp1kxeSJIkSZKkWjN5IUmSJEmSas3khSRJkiRJqjWTF5IkSZIkqdZMXkiSJEmSpFozeSFJkiRJkmrN5IUkSZIkSaq1oU5enDlzJlm9enW68Hcrjz32WDJv3rx02bp1a/as6u7UqVPJsmXLOtbdwYMHk8WLF6frsD7vU/2EeipTj2EZT33u27evJ9uZTE899VRaLr0Qx8FOMbOVTmUavx4v3X6ehk+nOBHQnsfTr8P4oai90o4HSS/iBOUdvn+35VqlTPPrUp9Sv7Rqm0V9Pe4L3bbLqXIsJK4QX3ql13G7U/3w+qCW/VQ2lMmL0HivuOKK5Morr0wuvvji7JXz0XDnzp2bHDp0KF2OHz/es5MB9Q91/PDDDyfr1q1r1N3hw4fPO9BQl4888kiyffv2dB3qe8uWLdmrqoNwMrJ27dpkxYoV2bPFeD3UN8u2bduSSy65JHu1PNoJ7eDAgQONdvH4448P5YGLQQKDhTgObtq0KZk+fXq2Rjlly3TDhg2Nz2HZuXNncvnll1f+PA2XsnEiDEYvuuiiZM6cOdmz3Zk1a1ayf//+pva6Zs2aZMaMGdkaw4G+vWfPnqa+ff/993d1glGmTKnrpUuXNsV74hOfK/VLUdtcuHBh9uo5JC4Ya8btMj/uLMtjYTP6/ZtvvjmuuP3kk08m1157bVP9FCW6ezXuUX8MZfKCxkcjpDEuWrQoe/Z8dBQGOMuXL8+eOXdyxEFa9Xb06NE0yMcHlnvuuSd57733mk6WOBg88MADjRPcyy67LLn00kvTulc9UCe7d+9OExEzZ87Mnu0vBigrV65sHKjYhy9/+ctpuxo2JBw4KYjjYDfKlCn9Nf85b7311oTVuwZX2ThBcoNjf6dEaCe0Y7YVJ0cZ8L7//vtDlbzgePrGG28kDz30UFPfvv7669OyqKJsmYa6jo/vS5YsSf8/jAlm1QNtlcQFY83ghhtuOG/cWYbHwmaU3+bNm5NVq1alSaRuhGQqdRJQxqdPn268FvRq3KP+8Dcv2jhx4kRhoPjoo488QA6ojz/+ODl79mz6N3X42WefnTfQ/Pzzz9O61/Ci3zNQCFq1lVZYn9ldXAl+8cUXG1MOjx07lmbzeZzP9ocrx2GKIlMtOXhOZqwJSTxOFsar2zJltttVV12VPeqMq1yU34MPPtiYHspzYSpv0ZRTyjmUO69T9t1eLdPw4rhB0rzsbK+pECeKEg6g3/YiiVO2THft2pVeJQ0JlE6ME+o12ioXPPNtMB53jkfVY2GIFbRv2jntlvYd2j6v5S/U1bWN79ixI01a5Ge69EJ+zN+LcU8oR+I65UxZEtdDrOH1GLEmxHwW6ot18jFI55i86AINsBeBSP0ze/bs9GpNCLoM7NavX5+8+uqrpRITR44cyf7SICFbHoI/S37gXxbZdq6ghO1wi9l1111X+qSEwQuzu2688cbk7bffTqdTM1XxlltuSQ9IzEJgBlc4MPF/riqE25dYOLEn1lSRPwBu3LgxnV4dHlctD/oKSYcw2GHh4NvNiVI3Zcr3oRzoz2UxuGFG1euvv55eXaesmX4bpvLyHCc6AWUSTw2lfmhHUlUk5xYsWJA96myqxIk84gX71YukZ7syjb8H/bvKVVLjhKqin9EWQz8peyz89NNPS4072+nmWEj/I1Ywnp0/f34aX4gntFv+pt8zUy3oVRtnO6GMiCt8TnhMfw3xrCySCa+99lpy5513Zs90J4w1SIQEfEf2L66fXox7SOgSTyh/Fm5hZ6Y/cYWyp02EJAnb5RZa9iWUPfW1d+/e9HWdz+SFpiQGhUxjJXgQeDhRImiwaGoKU4lD8GdhINrNQJyD69e//vXGdjjYdDP44CpMuFWC+zTvvffewgE92/7kk0+yR+dw8Kt6jyUHZwYjYb+5V5wBenhcdQokg5533nknPdhTBmyDPsR9o1V1U6YkIKtcTY2xn5ygTJs2LbnmmmtaDnxoI7HQjvpxhUdTFwNQ2hKzBKoa9DgRY8DPCU88db5bnco0/h7oJtYbJ1QG/Svcbh4W2g4Xxaqc1HZrPMdC2jW3SvBe+lJ8+2asV22c+BHKiLhCfAmP6a/tLlgU4T3chlb1fUWISyRwQlKCMuU8IdbLcQ9JC/abWWiUQ1FZcjE8f0syZdhNWQ0LkxddYOoSBzrVWzywYSGTSea6zFTW8f6Qm+qBLD9TLati8P2Vr3wle3Ru4PKDH/zgvCmWvcIggYNzfFWnmysU/cDB+7777msMdjj4fulLX6q8b92UKVdDq0yT7QYnK+xbKHeWbk6CNNwYfJKE6Odgs85xAvQb+tKjjz5aeHJUVZUy5aSEE45+xWjjhPIYU3I+0GkmNv8owHhvoRrWYyGxjRkIJAHYHy5EPv3008kdd9zRVdwjLsVJKJIERbe49WrcUwbx7a677mqa/VZ0S4++YPKiDRpz/sSHKx9F97Sp/hjYIAyEqEPqMn/1t1f36mpwXXjhhee1AaYRdpopMB7x1QoWphBO9r9wwmDpx3/8x7NH41O1TBkkVJ0m2418kpOFK1DhljOpjKq3jHSrjnEC7Af9puoskHYmqkzLME6oE45vHLPivhgSG+O54DnMx8L8PpFUuPvuu5PnnnuuMZYfDxIEH374YVPZ9nLcUxbJkbjcudWEWwT7kSyZCkxetMFVjvy/PMEUKLJjGiwEX6aG5aeEMhUs/tdjQl1T9xocDBa4JzG+SkDQZ0p10eCX9kB2u9VVy69+9atN9zuzfQ7i3UwJL4P9ruNVvHClNy4Lyo4fLc4PHHpdpuOZJlsW+0m7cYCgIp3adNDv+BDUMU5QLpQPfZV4G7CflF9eL8qUbefvQWdKN/eR9+MEzzihVm0O4VjI//kdp3ChDBzzeC5/HGM7bI++0KlPeywsj7KkTPN1VYTx/re+9a3ktttuayrbKuOeXmDbJH9V3lAmL+KgQSLi5ZdfTqciFQWRb3zjG+kBmddYuFLoiW39EYAZHIV6Yyoc9ZwPPDy+4IILGutR1yQ0VB8cYMKv6zN1MEwfjKfVceDhih+D3VCXJC1Yt+r9muA98baq/mBniDHhh/DCIJ79CQdV7qu86aabGt8hfK+w0BbjaYtl5Nt9L36Ijyu9cVnQl7q5n71qmXY7TZay5jvz3SlrrnyFH1qL6yEMFqgHXgv7xcJAsZt2o8lTJk6Aeud56pyrW6HuxzN47PaWkakQJ5g5xWzF/H7xeDzalSkxieN0GLexoMqsD+OEqmjV5uKEHbiVJL71gmPeeNtIt8dCYgaxg9ssbr311rTfM4ODdh/6OK/FsaYXbTwkEFhCHwuPOyUt22G7lH+3t42EeBv2hbp7/vnnC8/pxjvuIW4QP2gzoazZRvj+JFrjmM93Cp/FQr3x2yRVjynDYmR0TPZ3amRkJMk9pSnKup56rFNpeNn/JfWK8UTSRKgaa7xtRJIkSZIk1ZrJC0mSJEmSVGsmLyRJkiRJUq2ZvJAkSZIkSbVm8kKSJEmSJNWayQtJkiRJklRrJi8kSZIkSVKtmbyQJEmSJEm1ZvJCkiRJkiTVmskLSZIkSZJUayYvJEmSJElSrZm8kCRJkiRJtWbyQpIkSZIk1drI6Jjs72RkZCT7S5IkSZIkqX+idERHTckLkMCosgENLut66rFOpeFl/5fUK8YTSROhaqzxthFJkiRJklRrJi8kSZIkSVKtmbyQJEmSJEm1ZvJCkiRJkiTVmskLSZIkSZJUayYvJEmSJElSrZm8kCRJkiRJtWbyQpIkSZIk1ZrJC0mSJEmSVGsmLyRJkiRJUq2ZvJAkSZIkSbU21MmLM2fOJKtXr04X/m7lscceS+bNm5cuW7duzZ7VoNi3b1+j/hYvXpwcPHgwe+ULoS2E9ahz1Qv1Rv2V6YNxn+3Uv1vhc8I2li1blpw6dSp7ZXA89dRThe29rFDmoRzGUxZltxXXXViMuyqrbJygnfWiX5c5vtTdeOMEehkvy2zLY7bqoGy7j49r4zmesX0+pxfbmizsM3GzF/Ljilbb7RTvQxzv1X6pv4YyeREOeldccUVy5ZVXJhdffHH2yvlo8HPnzk0OHTqULsePHx/Iwcmwov62bNmSHDhwIK2/3bt3J5dddln26jnU59KlS5MVK1Y06nnt2rXZq5ps4eBEnVBH7YQDe9xnN23alEyfPj1boxwOYHv27Gm0G9rR/fff3/LAN5XF/YJl27ZtySWXXJK9Wk2ZbV100UXJzp07m9Zbvnx59qpUrGycCCcRtLM5c+Zkz3Ynf3zZvn178sgjjwzdGKGX8bLMtoqO2cR81pUmStl2z/O9OI/g3OXhhx9O1q1b19jW4cOHh/aEmyQI8Z64G8pj4cKF2atfoKzffPPNwnhP2XE8II7feuut2bOqu6FMXnAiwwkNDX3RokXZs+ejwTPAiQfOHCwJVqo/ghIHjHYnrxwMOIEi+BUFPU0+kk0knainmTNnZs8W4wDEQGE8J7u0iTfeeCN56KGHGu2Gfbj++uuT999/P30sqV7KxgkGuxz72yU4ymJb8fGFRBxx4sSJE+njYdDLeFl2W6Gu42P2kiVL0v+zDanfyrbVXp5HHD16NLn88sub2v0999yTvPfee0PX7ilXkkCdLqZQLps3b05WrVqVzJo1K3v2C5QlxwPieLsL2aoXf/OiDQYgRYOgjz76yANkzYUDSxjQtPLOO++kCY5urySrPsKVDAYQ48FAhJOSfJvgQDljxozsUXu0P2Z3cSX4xRdfTDP7PD527Fhjymd+uif7H09/ZCo3iRhjTTXhSsqDDz7YmFbOc5Q3fxdNHaWcQ7nzOmU/rFez1D3aFSclnGCUMRXiRC/iZTCebe3atSs9locTyU6MExqPsm11Is4jPv744+Ts2bPZo/aqtnv+DrEovI9+kO8bE43Zmcy+6mTHjh1p0qLfFydDuVI2iMstPBczloyPyYsuMLAoGyg0OUL9cHAIAYQBXzjBDY4cOZJOJQuBu1WgUf2FQUI4iLBwcO7FAIFtfvbZZ6UTIwxsyOTfeOONydtvv51OK7322muTW265JW1f+/fvT09ywgCA/3N1IJ7+yOcRa6rIDzQ2btyYHuDD4/yJUBnMZgnv73YbQZlt8b3jfeb7VBkoMUhhYPP666+nV7go6w0bNqTTa8MVd050AvYhntJL/bCfUlnh+HHTTTclK1euLJ0Mn0pxIlY1XrbTblvx96B/V5lxZ5xQr1Vp992cR8yePTud1cHngLHN+vXrk1dffbX0bK8q7Z7tP/7442lbD+1+/vz5yd69e9PXy2I7IVHCwm0vfE54zParYHuU8wUXXNC03VAuAeP91157LbnzzjuzZ/onlCuzbMAxgFkh8XOBsWT8TF5oSiKQc3AgKITAy4CPgV98IkTAZoZGCNwsBJXxDt408UhEMZOGTHu4B5UD5JNPPpmt0R0OiBxYmJ5ZFQctTmY4SSFJdu+99xYObGivn3zySfbonPyU9DLCATO05TVr1qQHz/C46u007CvTs8P7Wegr3fSPstvie8fr0H+7uX+eumdAMW3atOSaa65pOYBhH2JhP3mvVAb9irb6wgsvpL95UbWtDnqciI0nXuZ12lb8PdBNXDJOqBd62e5boY9zmwrJBk7W+d0+2i9LVWXaPckVblWJERs63aqRx34To0J8Yf8pq/CYGFYF+xXG93wPtsGYj7FffIGS/eQ2nir7OhGMJeNn8qILTEGiw6veyCgT2MIgkADG4/x9uATB+IBzww03JJ9//nlPrthrYnEAu++++xoDeQ4GX/rSlyqfTAQMhjnIPvroo5VODqqijXKQXbBgQeMqQtUZBxOF/WJqbC+U2RZlc/XVV5e+slQVgzbqOJQ7i8lLdYO2etdddyXPPvts9kxv1T1O9DJeVt0Wx3CS1/nZlb1inFAr3bT7bs8j8olHZkIwC6HqLVpl8FnEs3hWVtEM5snAxSpmqYUTfsr9tttua4zviYnMEGGWB/tNoufpp59O7rjjjkmPl8aS8TN50QbBID+wZgDNVZJ+nsho/JhexwCvk+uuuy77S4PuqquuSn78x388ezR+ZPXJkFe9qtmtcPU2LHw+UzZNovVXfjDIQr3np6BKdVDXONHLeDnRsbcM44SKdGqr/T6PIGEH2mc/kByI23zRDOaJxndltkg7+f7Kha277747ee655/pWVmUZS8bP5EUbXOW49NJLm7KMTK0s8yMxmlwcFJiGyzSyMKgj2JLtjH9MjcBMBjwcAMB7LrzwwtoMmlROuCoZ36fMwYAfxsofrHiebHfRVUse8zy3D8XTGcmM9+vgwrbrlnmn33A/abxflA1lUpQYbFemZbfFNvLv5z1cTSEh2Wt8DvuV318JZeJEHBMYK3ALRr+S4nWME6EcysbLMmXaaVs8pt/GCRtuD/z000+NE5oQZdtqlfOIsE36R1HfyWMdbsFodavTeLF9kjN1xHeOfw+IWPDSSy+V/rHkfvmN3/iNxj5RftQzM2MCXjOW9MBoTsFTU87p06dHV61aNToWdM5bXnnllWytc06ePDl68803t3x9kA1DXe/du7dRd4sWLRr94IMPsle+kG8PYweD7JXBMxXrlDqj7kL9hKVVfVJ/YR3qlfrNC+2Cvk0fj7X6PBbeV0a+TfG+8Jk8f/To0fSzw3cgroR1w1K0b53k41V+6SZ+xeXJ0qoM2pVpUGZb+fJvVYethP0I72VfQl3wWihr9qVVeQ1qnB+GmN5K2TiRb4Nh4fm8Tm0638/zn9XJVIgTrcqdhe+S165Mq2wrbCcsRfXXTvz+YYsTZQ1zPOmkSlvNt59W7SZeL78N5LdDe61ybESVdh+vG5aqMQ75OJdfqvbdIF8HRWWG8J1Y8nGn6DsWrVdGfn/4zu+88076XKirfB2GZarHkk6qxpoR/jP2poaRkRG2kD3SVGZdTz3WqTS87P+SesV4IpXH7Bpm1fyNv/E3smdUVtVY420jkiRJkiSp1kxeSJIkSZKkWvO2kSFmXU891qk0vOz/knrFeCJpIlSNNc68kCRJkiRJtWbyQpIkSZIk1ZrJC0mSJEmSVGsmLyRJkiRJUq2ZvJAkSZIkSbVm8kKSJEmSJNWayQtJkiRJklRrJi8kSZIkSVKtmbyQJEmSJEm1ZvJCkiRJkiTVmskLSZIkSZJUayOjY7K/k5GRkewvSZIkSZKk/onSER01JS9AAqPKBjS4rOupxzqVhpf9X1KvGE8kTYSqscbbRiRJkiRJUq2ZvJAkSZIkSbVm8kKSJEmSJNWayQtJkiRJklRrJi8kSZIkSVKtmbyQJEmSJEm1ZvJCkiRJkiTVmskLSZIkSZJUayYvJEmSJElSrZm8kCRJkiRJtTbUyYszZ84kq1evThf+buWxxx5L5s2bly5bt27NntWgOHjwYLJ48eKOdUc9L1u2LDl16lT2jAZR2XoM7SL07X379mWv1B/7/tRTT2WPxodyorwot/Ggf4WyzG8rxNrwerwMUrlr8IT2HdrbeI7h+W21arvxmKHT+KKO+J58h/Hud5kx1rCUqQZfmTFDaPNhnfEcV3u5rcnSy7FKL8ojv41WxwPqNqxTZjypiTWUyYvQeK+44orkyiuvTC6++OLslfPROebOnZscOnQoXY4fP552Rg2Obdu2JZdddln2qBh1+uabbyZz5szJntGgCYPbiy66qGM9csBau3Ztsn379kbfXrhwYfbqcNm1a1cyOjqallu3KM/Dhw83ypKYmR/YzZo1K9m/f39jHZY1a9YkM2bMyNaQeotj/cMPP5ysW7eu0eZop61OkNth8Hr//fencYbtHDhwINmxY8d544EwGA6ft2LFimT9+vXpvgyLsmMsy1SDgrb6yCOPJC+88EKjrW7ZsqUpltBuly5dmrbP0FY5FnZzko0nn3wyufbaa5u21epke6orKlvGcFUQL4gb8TaKjgc8pm6pY9ah/h5//HHjTY0MZfJi+vTpyaZNm9JGuWjRouzZ89FZGNAvX748eyZJG/2ePXuyR6o7gtCxY8eS2267LXvmfASkzZs3J6tWrUpPsDSYOJDRp+mj7dCvSUKS1LrkkkuyZ4cTZfHaa68lP/dzP5c9Ux2DOgYA99xzT/ZMktxwww3Je++91zjYE3Opn7i8ed/7779v8kJ9c/To0eTyyy9vSkzSTuO2WRZt9frrr28kwmnTtPO33norfYyivsBnsw/sy7AoO8ayTDUoSPLfddddTW115cqVaUI+4LXdu3c3xZslS5ak/68ab2j3oD8EnIucPn268dqwoOwYr3GxaTwXmYqOB8yqiOsQPKZuqWNQr1/+8peNNzXib160ceLEiWTmzJnZoy989NFHlQORJh4B/plnnmkKQkW40kPSYjxBUYNj586daQa/WyTEmOHx4IMPNqYf8hxXRFpNMQyzQsLrTKPMZ/snGjGMpB0DsvEkEIiTJHnzfezjjz9Ozp49mz06H+9jIFE2gcT+Ut5M233xxRfTsuQxyckw7Tx/VYrkTDzNl3KnLozfw61T2yxCH3nnnXea2s6RI0eaZnnRlknSxX2B9T/77LPSfSy0Wdo2MSa06xB3eI11YiH2hNfpH4NwhXaiyhS8J8SPUH6h3KZSmao/SBzkx4itzhFiJD2YMdFuDFrF559/nn5uGd3EkjqOVYgRlOF4LzYRL0iYxuOzojrkcZxA7SbehHIkblDOlCVjFeqC53k9xj6FcQwL9cU6w5aoKsvkRRdogFUHPpp4zz77bNNVnSIEbq4833nnndkzmsrCQeiCCy5oHERYqhycGcCQAHn99dfTWR5k6Tds2JBeHQwzPxiwBAwWOPDyGgsHJKYkVhUPpkm+bNy4sfGYg17Vg1y/k3affvpp20EWg4MFCxZkjzpj8MfV3BtvvDF5++230ymdTKm95ZZb0jKlHpgVF8qB/5OciW8Nou6J3xoOs2fPTgeroX/T/5k2/Oqrr5Y+AQg4jnAVlFshQr+jz3fqP/SzKgNvPoc2y0n8/Pnz03ZOuw7TmOn3XIUM+G4h9rDwXpaqwgkNC/3y6aefbnzXopOcXpioMkWIH/HMPE5IKbP8bL1elammLo4v9MkwsyLGa+FElHYUz94uK7Rt2nrAcY7+XzZ2VY0ldR2rhIRmvF32rSrKlIuZN910U2M7fL94dguoL+otrEN8uu666yrFGxKujAtD7ODWRWahEWsoe8ZHIaZyXOK2FL5TKHvqa+/evenrOp/JC01JBIXvf//7hQeWGIGbBEeVoKTBRdKRk1cOEhxEOEhwIGGAUHVwzvsZZE+bNi255pprWibAOAjGGFDkp5aWEQbaLCRP+L2I8LjqLTAMHkjaMZCYDBysKRdmXlTFLI8wm4oBzb333puWaR4DvE8++SR7dA4DCk5genUVTPVGPT/00EPpIDIMQum3+ZPVsmhTxIvQ777+9a+3HYgz2O725IWYwqCa70A/aTWDkIF9jDhAPKj6mcSj8L1IBN59992N70q8KupjvTCRZVpWr8pUUxPtk99qoU8WHXdDe6E9gzbbDW6VItkQTqJJLBDLqiobS+o4VgH79cYbb6T/D9uhLLop1x/+8IdpMiFs54477jjvdhDqlzgU1iE+VU12ByQt+L7M2qAcisqScWl+HyjDbspqWJi86AJXKzlhUX1xVZcr41xBIugzWCWIxMGOAEVmk+fDwJarTQSzdoMnDTYGplyxDwcRDuL8JgpXaPuBpAbZ/TAAYel2MNMrfFf6B1dF2J9wdaSbqxmt8CN9raZZcqAmCdHPAzMDLxKTIQawdHPVR4MtPpFg4YpW1SnA4Go8U7bjQT9/x7OsYvQlBtskzPqJkxISsqGNs/SyH/eTZapBw0WO22+/PXnggQdKJfRIQHDbQzczl+gL4bdjWDih5fe6qsausuo4Vgnoj/Hv3tBHiR1cCCmLOvje977XNO6gjEmwxCiDr3zlK9mjc+v84Ac/6KoOy2B/uH03jMdY+jXbbaowedEGAYJAESP7VnR/t+olzvyyEIzIWMdXTvKDWrKrXG167rnn+npSpclDvXIVYiLl2xkLA3AG7pMlvsrKEq6OdHNSQJzkZDAeRITb6loleaveMtKtfBzgBMRfDR9unEigmxif/1eMisYItC1uSePKYL9PspE/wWHp9qrkZLBMNSg4ZtP+nn/++b7NRGqHk9kPP/wwvR2uH+o4VgG3bPTKpZdemv11TtH45cILL0yfj/E7GN3OvigjPyZjdgi3vXqxpZjJizYITjT0OPvFIJ/smKTBxNWF+LcROGi99NJLXd3C0AmfwaB7kA9A4cSh1VUYBjwMLsJJIbhyynNFSV62x4CoH+UdY1892VCMQThJ7KJbvOij4T71osE67ZWpy/EgN5+EY6zA+ICZfnGinB+968dVNPaFH3Yb1Ct0k1GmnKjwGQixjYsbwaCXqfqDxDft5OWXX24kPmkjtMOA4w3tKW7P/HOn/L5BPuEQ2l7Z2Q181re+9a10lmg/Lp7WeazCiT0z3uMxBrf6kmTIlwVlSZnm6wHUwbvvvtv0HZmFSmIy3s5Xv/rVptlfbKefYxaON87sqmYokxdx0OCgSDAKPxiVDyLf+MY30kwrr7GQfZuMjKu6EwakRbeNxHje20YGG8GfPsrAl6x1uF0gf1Bg4BH/aBP1zhTEsv2aAw1xg9ssiCPhdzT4vHDSQ1sLn8ttKmFfwsLBsujex3bCQZklfH543O3tECEWhu11ewBlKn483ZQDfavv1+0tI2Ff2U/2Ny7rMFChrKnXcOIRbgkLC7H8vvvu68vgT/UT4n+o//zJRxUhSRfGCiz5ds6VOdo3x5uwTvjcsmi7tGGORbfeemv6HTjhps2H4xevhdjDiRGvxZ/HfsUn+mXQn8L7iVfj+cHOsmOsiSrTvPhWUbbLjwDHMaVXZaqpgfbMMZ5xRdxWaSP0zYD2QXuK10E3v7MU9yGWbmZ8VIkl4fhZ17EKt4zkxxhV+yN1wOd3+sFOvi/bD+tQn8SpKscNxlLEGdpDKGs+K3z/EGNCzKEewuexsI+tflNFSTIyOib7OzUyMpLkntIUZV1PPdapNLzs/1J7XCnnpMGLUJ0ZTyRNhKqxxttGJEmSJElSrZm8kCRJkiRJteZtI0PMup56rFNpeNn/JfWK8UTSRKgaa5x5IUmSJEmSas3khSRJkiRJqjWTF5IkSZIkqdZMXkiSJEmSpFozeSFJkiRJkmrN5IUkSZIkSao1kxeSJEmSJKnWTF5IkiRJkqRaM3khSZIkSZJqzeSFJEmSJEmqNZMXkiRJkiSp1kZGx2R/JyMjI9lfkiRJkiRJ/ROlIzpqSl6ABEaVDWhwWddTj3UqDS/7v6ReMZ5ImghVY423jUiSJEmSpFozeSFJkiRJkmrN5IUkSZIkSao1kxeSJEmSJKnWTF5IkiRJkqRaM3khSZIkSZJqzeSFJEmSJEmqNZMXkiRJkiSp1kxeSJIkSZKkWjN5IUmSJEmSas3khSRJkiRJqrWhTl6cOXMmWb16dbrwdyuPPfZYMm/evHTZunVr9qzq7uDBg8nixYsbdbdv377slWZx/XZqC5o8oT7L9EHWYV3eU1WIC6FNxEurNlRXTz31VFdlEKMsw/dftmxZcurUqeyV8sqWKX8XrWO/VFll4wRxv9v2HOtF/5hsdYkTQZVthfoO6w9ajNbgKNvWysagsga5jbPvxJfx6mV8KVM/8ViEdXmP6mMokxdhIH3FFVckV155ZXLxxRdnr5yPAc7cuXOTQ4cOpcvx48dtxAOAwPbII48kL7zwQlpvBw4cSLZs2XJe0A/BK9TvihUrkvXr13uiVCPhQLN27dq0fjqh7l977bXksssuy56pbtasWcn+/fsb7YJlzZo1yYwZM7I1hgP9Zc+ePWn/oQyIh/fff39XA4eyZbphw4amdXbu3JlcfvnlyfTp07M1pPOVjRMhWX3RRRclc+bMyZ7tTi/7xyDrZTlU2RbHb+p7+/btjXixcOHC7FWpd2h/ncaUVccqZQx7Gw/na4cPH258/27jS9n6Yb1nnnmmMV6h7Ddv3jx0cb3OhjJ5wSB406ZNaaNctGhR9uz5aMAMcJYvX549k6QNngOr6m3Xrl3JXXfd1TiBpc5XrlyZBqOAQERAvOeee7JnkvSgwInS0aNHs2c02ajD3bt3J9u2bUtmzpyZPdvas88+m1x//fXJ1772teyZamgrHNwuueSS7JlzbeX9998fquQFg4Y33ngjeeihhxqJA+qCsqUsqihbpvS/ON7irbfeKlXvGm5l4wTtkGP/eE8uetk/Blkvy6HKthifcTGJ+o7jitQPZcaUZWNQWbbxL87XiNsB5Xz11VcnJ06cyJ4pp2z9MOagrkOZ83/q+s0330wfa/L5mxdt0DGKGvhHH32UHmRVX5wA5bPT+fokIBEQwyAJ1Otnn302dFfYpwqughw7diy54YYbsmd6g7ZDUqvsAIJ2xNUCsvwvvvhieqWXx+wbUx55nJ+yGK4KhKmKTLXkCsNkxRr6RT7hAAZTvegfZcuUz7vqqquyR53RBii/Bx98MC1z/uY5ypu/i6acUs6h3Hmdso+vqEl5vegfxolmVbbFjKylS5dmj6ozTqiKMmPKXhtvGw+xgvZNO6fd0r5D2+c11okNQhtnnz/88MNk9uzZ2TMT4wc/+EH2V2ehHInrlDNlSVwPsYbXY8SaEPNZqC/WyccgnWPyogs0wLNnz2aPNAgIAEzxW7JkSfZMsR07dqS3CXU6oVL9UMdM9SNDHiekeoFM/IIFC7JHnfH5XC248cYbk7fffjudYnrttdcmt9xyS3pA4moNM7jCgYn/My0xnhpKEo1YUwXbiQ+AGzduTAc/4XH+RKgqBjHsV7j6NB5lypTvw+dVGaQwwGTQ9/rrr6dX1ylrbkUJ0055jqtoAWUS3xpI/RArpKqq9g/jRGdF2woXGS644ILGyQBLlZMs44TGgz5UZkzZrV60cfoMseLIkSPJ/Pnz0/hCPGG/+Zt+zyyEoFdtnO2E/SWu8DnhMXEnxLOq2B+2QYLzvvvu6/k4L+BiCWPJsJ8kS775zW+ms7/KJonZR+IJ5c+ybt26dKY/cYWy//TTTxuJI7b5+OOPp98vlD31tXfv3vR1nc/khaY8AhD3x3FS2y4pQcBl4JKftq7BwEDzq1/9ak8GzDEOLLQLZglUxW1nIZnC/fX33ntv4f5xBeeTTz7JHp3DwY8TmyoHaNo3g5FwAOQ3JRigh8fjadsMmhjIxLdZdatsmTJYYDDVzSCFQQInKNOmTUuuueaa5M4778xeacZ+xKgfppbmr7JJ7YynfxgnirXaFhePSNgw2Kefs8+cEHDxIX8luRPjhKoqO6Ycj162cdo1s1GJERxzW13g6VUbJ36EWEJcIb6Ex+O5BYZYxzZIBDz88MOlEwlV8b25bYSLKyFZwgwKfrerKvaV78vMMcqhqCyp6/yt6pTheMpqqjN50QUaMAc61R9B/vbbb08eeOCBwsFgwAGCwE2Q0uDhIMYVhaeffrqR4SfbT7a86oE+j4MKJxf9PIjQNrmvOxwsWcZzhaLXSOxxEvHoo492lUjIK1umXA2tcstINzhZ4buFcmfh+0pl9bp/tDJMcaLTtriazCyVcDLAOrfddlvffm/EOCGUHVP2gm28GOVBuZDI6Rc+I064jI6OpmOWfsR3xkEkS+LZb0W39OgLJi/aIFPGvZYxrnz0qwGrt7hqQzLi+eefb3mQ4aSXKXlc3TVxMbjoj1x9DAcbFrLc/DL4eAcYVW8Z6VZ8tYKFhBpTCft1daGskNirenW3nX7dMtINBg7xVWgWvi/xQ+qkH/2jnWGIE522RZ/lavJEMk6ozJiyV2zj9UK59HMcGCdLWLjVxH/hpDWTF20QnC699NKm7BdToMbzAzqaGAx+yCC//PLLaUAG9ciPDwU8pi6ZkhdPk2UdM55TGwdjstudrlpyQsDBu5tbRqrg6kbdrnBQLpRPPrHHfhYNZnpdpuO5ZaQs9pPkpQMEFWnXpqv2j16Y6nGiyra4Shz/Hghx5aWXXupLrOYzjBPDrcyYsgraa/gti1Z92jZ+roxvvvnmpjE5seCJJ54onJVJWVKmfBfKqxeoe4QZML3G9wmfoZJGcwqemnJOnz49umrVqtGxA+R5yyuvvJKtdc7JkydHxzpOy9cH2VSt63b1u2HDhmyt0dG9e/cWrrNo0aLRDz74IFtrsEzFOqUuqJOy9RTXa6d16Nv08VZ473e+853sUXn5Nsjnhc/k+aNHj6afHfaPuBLWDUunfSuSj1f5pUr8alXuLHyXvF6XKesU1V0nYT9YKGv2JdQFr4WyJha0Kq9BjfPDcPxupVV7zccA6j2/Dkt8bAjatemq/aOIcWJ8ZZpfv2idVsJ+sAxbnChrmONJrOyYslX7Df03Fm+zXTsaTxuP3xv6W4h/fGboA3GsCZ8Tlm7aeOg7RUtRv+8k3//abSN8Nt+JMo6VrZ84NrB0UwbxcYb3h89m3ynrONbkP48lv09TXdVYM8J/xt7UMDIywhayR5rKrOupxzqVhpf9X1KvGE8kTYSqscbbRiRJkiRJUq2ZvJAkSZIkSbVm8kKSJEmSJNWayQtJkiRJklRrJi8kSZIkSVKtmbyQJEmSJEm1ZvJCkiRJkiTVmskLSZIkSZJUayYvJEmSJElSrZm8kCRJkiRJtWbyQpIkSZIk1ZrJC0mSJEmSVGsmLyRJkiRJUq2NjI7J/k5GRkayvyRJkiRJkvonSkd01JS8AAmMKhvQ4LKupx7rVBpe9n9JvWI8kTQRqsYabxuRJEmSJEm1ZvJCkiRJkiTVmskLSZIkSZJUayYvJEmSJElSrZm8kCRJkiRJtWbyQpIkSZIk1ZrJC0mSJEmSVGsmLyRJkiRJUq2ZvJAkSZIkSbVm8kKSJEmSJNWayQtJkiRJklRrQ5u82LdvXzJv3rymZfXq1cmZM2eyNb7w2GOPNdbZunVr9qwmU1wnreotOHjwYLJ48eLCurMdDK5Qr6FOqMt2qL9ly5Ylp06dyp45h7qmzsN2ym6vbmiT491nyoYyCmXQi3beqv/lPyssrMt7pF4oGydon2GdojgRhGPGoMWHoBdxIh8zxxMnysacuH46HfOliVImbpRt43GsaheD6or9ZZw1nr6Zj9fjLYuycWPQ4/qwGeqZFxs2bEgOHTrUWDZt2pRMnz49e/UcOuLcuXMb6xw/ftyB9SQLgT/UyYoVK5L169e3DErbtm1LLrvssuzR+WwHg4cD2SOPPJK88MILaX0cOHAg2bJlS8sDD3X15ptvJnPmzMmeaTZr1qxk//79jfplWbhwYfbqcKDsbrrpprSthzI4fPhwy4FWWe363zXXXJPWXfg8/r7xxhuTGTNmZGtI3SsTJ8KJOG09tEP6wP333980YA6DW95/6623Zs8OH8qL4y3H3VBelF03g3629fDDDyfr1q1ruy1iUFw/fPaTTz6ZvSpNDtrpnj17GseworhRto0zRiFWbd++vbEtYs0wimMLC2OISy65JHu1vDJxw7g+mLxtpA2CyUUXXZQsX748e+ZcpyJYaXJwUCAY3XPPPdkzSXqSefnllydHjx7NnvkCgenYsWPJbbfdlj1Tne2gfnbt2pXcddddjZNikk0rV65MExB5DB42b96crFq1Kk1SqBj9aPfu3U2JBq54kKjrVrv+x2Bk7dq1TYlC+vCnn36aTJs2LXtG6l6ZOMFzJKxpiwHrX3311cmJEyeyZ871DwbArHvxxRdnzw4f+ijH2zi5S5woir2dFG2LY/t7772Xxm3wf475d955Z/oY8+fPT/8fnyRKE4l2+cYbbyQPPfRQ4xhG3Lj++uuT999/P32MMm0cO3fuTB544IHGSTrbuvTSS71I1qWyccO4PphMXrTBwGXmzJnZoy989NFHTUFHE6fohIe6+Oyzz867WkuAeuaZZ9LBarx+VbaD+iGRFA8G0KqeduzYkSYt8uv3EldJyN6/+OKL6ZRHBvOctIep1bweo22yDq+xPPjgg+k6dRuMc8VjwYIF2aNquul/1CEDjLLrM7CjvClnypCy5GpLuJrCa/nBH6+Hcud16my8s0tUT1XiRIw28+GHHyazZ8/OnumN0C5pqyE28Fxok/np0XWMExxnOTmL96FMmVbx8ccfJ2fPnk3/DrEgPiEMr5VNcnKcprxDf6cseUyMDuWbjwHGCbVDu2Qsmp8RQLK/zMzBuI23GsN+/vnnad8qo5s2Ho6foZ0/9dRTaXyZCuPaXsSNsqrGdYQxY3idsuc9KmeokxdM4wqNh6VswyEYhE6gycfJKbd05A8izz77bJoFj68kF7EdDD4ODEz7W7JkSfbMORycX3vttabsexHqkpP00AY4AFU5gDOI4fYjpnyy0KYWLVqUztBhSimzCcJJNNt9/PHH04NXmM7ICfvevXvT18sKg5Wwz3wmnxces/1uxAMa+lW3SZ+y/S/G1durrroqe9QZ26a8jxw5kpYhZc2MKNoCf2/cuDFNwAT07XgaaagvDYdWcSIIA0r683333Vc6iVYWfYkrrK+//nraV2nvxI3QJnmO2SKoa5zgOEtCklvMwjYo0xtuuCFbozySQ5xchGMu+8otKa+++mrTSRtXqvmM8Hl8NgP+svXDelxZ5Za0t99+O40N1157bXLLLbek3596IG6EEwzjhLpBuyEJER/zyrbxVji2lVG1jfN/ZqTSrkM7Z98ZC1XB9wr9kjHU008/nVxxxRXpY8YRYdxTRdzXWbpNGo43bpRVJa6D7xPfhk79sJ8qb2iTFzS20HBY6Og0nhBgNBgIAgSI+JYOEDC///3vtxykBraDwcdBmPtMGVDnE1icuHICnX8+Fg76cTvgYNPud1Ra4cSAz+IKypo1awpP/El45W9xov1Wva8zv98cLGm74XE8Db4KBl7cPkJfYLDTTV8o2/9i1CODp26udvPbGZw8USZM0W012yM/EKS8Kfd8/NDU0y5OBPQZ+g79mPvUq/b/sogvxAauANJ2i5KrdY4TP/zhD5tOeu64447z9rUM9o1p9+wTJxec9FA2LDG2zWeEz+Oz2YequP0zxAZ+/+jee+8tTK4aJ1QVx0n6VXxLM8q28V4p28ZJnHzyySfZo3OIBcQK3ltWPIbmpP3uu+9Oxw48zt+GWkYYf4RtsjDG7yaB0au4UVaZuA6+Tyx856Lxoop520iGzkrDK5PlZAq692RPPrKVBIGiwddbb72VZkHD1XTqlgFppwBoOxgsnCTffvvt6b2i+YMkJytcpaTew6CBqwIczHitHa5wUr/9mFnDQJj78JcuXZruF0u3Vyj6KQy6GJB1Kq+8bvofV6e4GlFl4FQVCQ6uLIVyZ6l65VmDp12cKMIgkquWzOqbLHWNE3z+9773vaYECn2WK4/dCImBcIJB7I2n0JNA4vWvfOUr6WNw3P31X//1ynGpLOOEquC4xnHy0UcfLTx+dWrj7bT6kfHxIg5yYSeecVp0e0MdsF9Vf3trMuJGWSQ1aC9xfOkmOTPMTF60QWDJdxiylWQ2+znAVnsEJabBcqLT6qoRV0jCgYKFQEHmu5srJ7aDeuJKB/X//PPPF56Q5AcMXA3gqsBzzz3XNPCeDPHVChauCDCFs44Dh2500/+4alPllpFu0F/zs2yIIw4cpq5OcaLO6hon+CHBGMdITsZ6MVPlnXfeSf8fx+if+ImfaLpQQD/m+Ftm2n03jBMqK1xEqzJjId/GW7Xnsr+f0a38cZrvwq1q/ZpxNtEmOm6UlR+bstCGnPFd3lAmLzjwk8mLGwpXE7797W83DZ4Z6OR/7ZerC1wJ0eSgLih/ruTGJ0L82E3VK1K2g8HFQZYT4pdffrkxAKB+aAdVMSDN/8ZF+Oe0+pHkoL3V8Soe+xTvF+XB1HlmoOTLIfQdrhj04oDL9rq9ZaQsvg8/qFU1TmhwlYkTPL755pub2gVt+oknnuh7Mq2dusYJ+ui7777blEBpNWuqapxgHZKc8XRrtnnhhRc2TvjQz3hhnFAZoW3nL6IxnmjX1ovaOBjTxv+CXWh//Uq4sp91S8bR9xiLxftFOVO+zBDJoyyJLdRDHI8w0XGjLPaB75jfX1U0mlPw1JR0+vTp0VWrVo2OBZ50WbRo0egHH3yQvfqFkydPjo4NbBrrvfLKK9krg28Q63rv3r2NuoiXbutvqrWDYei/+TqLl7FBQbZWM+orrEM9Up+xfLtqtZ1WWD+8l8+iDdGW+KyjR4829pfPKWrDrdpdO+3KgaXqd0BcTiyt2nncH/g+rZTtN2yj1WvthHJm26FeQ12wvVDWlBOvFZVXN+VUV8Ny/C6jSpzIt9PQlmJF/bbVuq3E28i3ydAH+Jv9K/q8usSJuN+xsH0+Jy8uV75PXr7cW20n/x2qlkP+/exLKF+eJ0azH2z33XffbVo3LFMpTpRlPGkt3wfiJW7rZds4Qv9nqRJXUKWNs+/xZ4Wl6mcifEbRUrWfBvS1eDtxecbCZ7fa7zJxo9X+VymLeBt8Hu8Ln8trcVznNbYd1g8L6wyzqrFmhP+MvalhZGSELWSPNJVZ11OPdSoNL/u/pF4xnkiaCFVjjb95IUmSJEmSas3khSRJkiRJqjWTF5IkSZIkqdZMXkiSJEmSpFozeSFJkiRJkmrN5IUkSZIkSao1kxeSJEmSJKnWTF5IkiRJkqRaM3khSZIkSZJqzeSFJEmSJEmqNZMXkiRJkiSp1kxeSJIkSZKkWjN5IUmSJEmSas3khSRJkiRJqrWR0THZ38nIyEj2lyRJkiRJUv9E6YiOmpIXIIFRZQMaXNb11GOdSsPL/i+pV4wnkiZC1VjjbSOSJEmSJKnWTF5IkiRJkqRaM3khSZIkSZJqzeSFJEmSJEmqNZMXkiRJkiSp1kxeSJIkSZKkWjN5IUmSJEmSas3khSRJkiRJqjWTF5IkSZIkqdZMXkiSJEmSpFob2uTFvn37knnz5jUtq1evTs6cOZOt8YXHHnussc7WrVuzZzWZqCfqq1Wd4dSpU8myZcsadUedF6FOwzqsz/taidvN4sWLk4MHD2avaKJR9tRBqI9W9RvQjzvVb9jmIPZz9rlTGZQR2ni7bZXpf1WE7YW6pK6kXsgfB4r6dhzXw9KubcfrD9pxoBdxIh4ThSUu13yZh2U8ZRV/Zq/ijjQRysSgoOyxcNjHKvlyypdDP2KQ6mOoZ15s2LAhOXToUGPZtGlTMn369OzVcwgcc+fObaxz/PhxG/4kCgHriiuuSK688srk4osvzl5pRuC6//770/qj3g4cOJDs2LGjqe7Ctg4fPtyoX9bnfbw/j9e2bNmSbot1d+/enVx22WXZq5pI1M8jjzySvPDCC436pW5aHRCp9zfffDOZM2dO9kyxbdu2DW2dhhMyyvHWW2/Nnm1Wtv9VQd0sXbo0WbFiRaMfrl27NntV6h5t+qabbmocB1iI90UD/jLjAXgcSJKLLroo2blzZ1N5LV++PHv1nGuuuaZRRiz8feONNyYzZszI1igv1FfYFrFi/fr1aTyS6qxKDKpyLBzmsQr9nv4flxNlmh//9TIGqV68baQNAgkH6figTGfZs2dP9kgTjcEkg0oC0aJFi7Jnz/f+++8n119/fSO4874bbrgheeutt9LHCNuKDw6sf/XVVycnTpzInjmHoEgSq9WAVhNr165dyV133dVUvytXrkz279+fPo5xoNu8eXOyatWqZNasWdmz56OOjx07ltx2223ZM8Nl4cKFab+ijbdKSpTtf2VRNwzCtm/fnn6+1Eu0qXxygatxXITohseBci655JL0uBqX0dGjR5NPP/00mTZtWvZMOSSqOTG55557smfO1evll1+eblOqs7IxqMqxcNjHKvR7+n9cTpRpPP7rZQxS/Zi8aIMT2JkzZ2aPvvDRRx+Z8a85MqvvvPNOUz0dOXKk45V3ElYffvhhMnv27OyZcweVN954I1myZEn2jCYbCcX8Ab5Vf2XGDUmLdgMCBsjPPPNMmgDp5qSEqyrMWnjxxRfTaYkcSBlchGmNvB7j8+IpjQ8++GC6TtGMn6mMPsrJIAONbtBfKW/KmTKkLMOUVP4umiLK66HceZ06K7oKpqmJE4QFCxZkj8rrxXEgtEvaaogNPBfaJDEhjgFTKU4Qn+fPn185vhadhFAXn332WekrqKxPeYf+TlnymBgdyjcfA4wT6peiGFT2WEjfH89YZSrEIPo9FyjjfWg1/otVjUHdxI0wJgnl9dRTT6XlxbbUO0OdvFi3bl2jgbHQgcug4Z49ezZ7pDoiy81MC6a3h/rl6k2rE1iCC+swSLrvvvuagluoa4JPCFgEp/xJkSYPBzGmcudPLKij1157LbnzzjuzZ4o9++yzTTN1qqLdMO2cqyYsxBZmJjBTi6mKZPtDe6EdPf7442mbC9MZOaDu3bs3fb2scGAN7ZvP5PPCY7ZfdyGhGJ8oVNlv6ovyZjuUIWXNzLgwrX/jxo3pQDEgxhMHQrmH+tLUFg8oOUEoOg50Gg/04jjA53K7xeuvv572Va4UEjdCm+Q5ZpWhznGCxAHT28M28ic8RfiuV111VfZofEhIV0l6cjxntgxTxt9+++00Nlx77bXJLbfckn5/9o24Eb6DcUK91ikGlT0WjnesMhViEP2e5A2344RtcMxnzN9O1RhUNW7wf2b5EitCeRErOWdUbw1t8oIOHBoXC42Sxl82gaH6I8tKvYY6/vrXv95ygMXJJ+sQVB9++OE02AZsh+BDsApBnOBEkOo0YFP/UQf8TgkHs/xglhNXDvTtBrkMKr7//e/3ZGYN7YfP4srAmjVrCk+SOAnKT3dmJgn7WnYwjnBgDe2bAQgxLDymTdcdAyauZscnCgzsql7h5N5WBi6UCdNJW12VYoAYo7wp9/z9+ppaGOgzdZvjAYPN/HG+zHigl8cBBu58JtOXabtFydU6x4lwvAwL5dHqt6LA8wzi4xmN3SI2EC+66bPcBhxiAyeK9957b+FJoHFCvdYpBpU5FvZyrDLoMeiHP/xhU5LgjjvuOG9fY+OJQWXjBseITz75JHt0Dt+N7140HlH3vG0kQ8OiM+cPWkWYgu49U/XGgeHzzz9vChj8HTLKrRDMyaxyZSdGhpX2EQIWgZvHTF3T5OFgfvvttycPPPDAeQcTDlZcIQhXVJmF8/TTT6cHuXiQze+gcBWCaZysR73ynqon0GXRdvi9jvjK5TDP5OGEML6fnSQEfTdOIPYK2+bzQrmzcOKl4cAx4KGHHkoHzq1OtNFqPDCRx4FBihOUR9FvRQWUDydi8fG4G/RVTu76nZg1Tqhf2sWgTsdCxyrn8Pnf+9730v0LKFdmlLTSqxjUDnGQi2WhfljKzEpTdSYv2uDqaf5HdTg4k4XrZwdQb+R/36KoPssgU9vNPdLqLxJUDGKff/758xIX4MDGFYKQmeeKx913350899xzTQc9riSEdVgYVHBloJ9X2fJXeod1Js91112X/TUxiNvxFSCWbmZ6aPhMxnFgqsSJqtO188K0c/pqvxMXME5oopU5FjpW+cKll16a/XUO43tmVrS66DHeGFRWvo5IenLrTT8uxgyzoUxe0OnIhsXTtsjkffvb325q3JwQ0UHiLCOZPbKQqjemjjMFLw4YZK3jwSf1evPNNzfVL23iiSeeaGoHDGSYMsZsjLA92hAHDj5HE48DAuX/8ssvNxIR1CM/jlR3tLFhuYrHYJ+rD5x4FB28GRgxk40fKwvoZxdeeGHPE8R8Pj82Fvd3TW30s7iv0Qa4LZA2F+JG2fHARB8H6hon2K/81UT6OVc2i6Zks16n6drt4gR1wZiLq8zxSRqxvh992TihXioTgzCRx8Ky6hqDiCXvvvtuUwxqN7OiTAzqBeKYCc4JMppT8NSUdPr06dFVq1aNjjX2dFm0aNHoBx98kL36hZMnT46OneA21nvllVeyVwbfINZ1vt7iJV83e/fubXp9w4YN2StfyNcvf/NckXh7rdrLZBuG/tuuDRTVMWgbYZ1WdTyevs7nxu+jbdBG2N7Ro0cb+0sbyrdLlm7aU7tyYGlVFq0U7RdLXF5V+h9CufMe3lskv80q+x3KmfeF/Qx1wWeH78T2ea1o36uWU50Ny/G7itAGw1LUTvNtsF1/HM9xIH5vvk3yWthX2mRRf6xDnEDc71jYfqv+Hb5XO+F7F22nqBxYqpRFvgzYZtguzxOjiR9sc+ykqLC8plKcKMt40htlYhDy7bRVmxvPWCXuT3yWMai1KnGD/cnXM0s8flJrVWPNCP8Ze1PDyMgIW8geaSqzrqce61QaXvZ/Sb1iPJE0EarGGn/zQpIkSZIk1ZrJC0mSJEmSVGsmLyRJkiRJUq2ZvJAkSZIkSbVm8kKSJEmSJNWayQtJkiRJklRrJi8kSZIkSVKtmbyQJEmSJEm1ZvJCkiRJkiTVmskLSZIkSZJUayYvJEmSJElSrZm8kCRJkiRJtWbyQpIkSZIk1ZrJC0mSJEmSVGsjo2Oyv5ORkZHsL0mSJEmSpP6J0hEdNSUvQAKjygY0uKzrqcc6lYaX/V9SrxhPJE2EqrHG20YkSZIkSVKtmbyQJEmSJEm1ZvJCkiRJkiTVmskLSZIkSZJUayYvJEmSJElSrZm8kCRJkiRJtWbyQpIkSZIk1ZrJC0mSJEmSVGsmLyRJkiRJUq2ZvJAkSZIkSbVm8kKSJEmSJNXa0CYv9u3bl8ybN69pWb16dXLmzJlsjS889thjjXW2bt2aPavJRD1RX63qDAcPHkwWL17cqDvqvEhcv+22h7BN28HkK1u/CO0lrEud5w16P2ef25VBFXF8pIwp6xifFV7v1Gc6qdL/pKrKxom4TS9btiw5depU9kqz0Dd61dcmWi/iRJl4WhblTHmHbRXtWyjzeDFWqA7itll0rIx1Gj+WjUF1xf4SC3rRL9lOuzLoZQyqMpZUPQz1zIsNGzYkhw4daiybNm1Kpk+fnr16Dh1i7ty5jXWOHz/eNjipv0LAuuKKK5Irr7wyufjii7NXmhHwHnnkkeSFF15I6+3AgQPJli1bzgtK4SAS6nfFihXJ+vXrWwbfbdu2JZdddln2SJOlbP2C/rp06dK0bkM9r127Nnv1HPv5FygLypIypSx2797d1ObpM4cPH26UFeX65JNPZq9WU7X/SVWUiRPhmBK3afrA/fff3zRwDicpvP/WW2/Nnh1O9Pdrr722UV7EzlYnZO1QvpQz5R3qZ8eOHYWxt8x4TZpI+WPl9u3b03jTauzQbvxIfNmzZ09jW2z78ccfH7pjId+bOHvRRRclc+bMyZ5tVjSmIwbx3qqqjCVVH9420gYdhA60fPny7Jkk7SwEGE0OBisMWggyixYtyp49365du5K77rqrcaDgfStXrkz279+fPgZBiwHrPffckz2TJAsXLkwuv/zy5OjRo9kzXyCYHTt2LLntttuyZzRZytQvOPAzYGBQQd0WsZ9/gTbOIKDViQHlSZ+58847s2eSZP78+en/4xO9Mqr2P6mqMnEiHFPihCbrX3311cmJEyeyZ861TY47rNsqaT4MQj+/4YYb0v+D2Hn69OnKMeD9999Prr/++qb6YbtvvfVW+liqM2JGfKy85JJL0vYcx42g0/iRmERsCtuiT9AX3nnnnfTxsKBMibOMwVqhbLioEo/plixZkv6/arKn7FhS9WLyog0C0MyZM7NHX/joo4+GLhs6aBhM5U9W8/XJgYZAGQ4WoF4/++yzZMaMGdkz5zAoe+aZZ5oOLpo8ZeoXHPg5GaeuW+lFPw9XC1588cV0+iHTHRmohGmN+SsCtKd4qvSDDz6YrlN18N9LfNc33nijMQgoEto+Jx3B2bNn0/9PmzYt/X9ZVfpfKySeKG/KmTKkLLkCzECRv4um8fJ6KHdep866uWqs+isbJ/JoMx9++GEye/bs7JneCO2SthpiA8+FNpmfJl3HONHK559/npZtFfRzYnQcZ48cOdLyimu32D7lHfo7ZcljYnQo33wMME6oKvolFz1IwMd4vtvxI/2hjG7aeDh+hnb+1FNPpfEl7o+DgiQEY72q5dvtMSJWNa4jjBnD65Q971E5Q528WLduXaPxsJRtOASDMGDXYCBwMBWs3YkZmLJadLL77LPPNl0hUr20qt8wEI4HovlEQitV+jkn4UxrZoYHC7GFmUFcPWAa4qeffto4iWZgwHRQ9oMrDCzMXti7d2/6ellhsBK+F5/J51X9nkH4rmw3DHYY2ORP/pkpQVmHz7npppvS9XuR1GvV/1qhP1Le1DNlSFkzeAxTeTdu3JjOvAmI8fHtAaG+NBw6HQfCgJL+fN999/WkTccYJO/cuTN5/fXX077K1T3iRmiTPMcgHHWNE6Fv0lcDtkFfq5q8CFeXuQ007A9lkT+ZQLfjNVCPXCG/8cYbk7fffjuNDdz2csstt6T7Tj0QN8IJhnFCVYTxBcdCEhTdjB8XLFiQbN68Oe2voA3ST2mHZVRt4/yfz6Ndh3bOhQPGPVWwn6FP8h2efvrpRn8uGj/0Et8hjFUoJxIR49XpGFGkSlwH7YVxTih36ofPVHlDm7ygsYWGw0JHp/FUOSBqMBCMuK+26KASI6AUBUCC7/e///1KwUwTp139Up/MJggHERYOGtR1PzDAZh+4orhmzZrCQThJgvxtEbQ5TrLbtc+8MFgJ34uDJTEsPOYErApOPBi4cCBlYRsMbBjgUMYB+37HHXc0Pod1fvjDH2avdq9V/yvjmmuuSU+CKBOuerW6wpW/ikV5U+69GPSo3socB+gztGn68cMPP9w4keg1BrPEBmYr0Xbj27CCusYJkMDkRCictBBT2W43iDuMv8L+fP3rX2+KN+jVeI3bA0NsIKl97733Fp5QGidUBe2CdsnvJvD7CXH7LTt+pI2TbAgn/rTv7373u2mbraJsG6ffffLJJ9mjc4gF8W0wZcR9k5P2u+++u9Gf87+X1WuhX/JZGO+4rswxop0ycR2Mc2KUUf42GLXnbSMZOisNr8wUrVmzZlWeIq3JwYHj9ttvTx544IG2QZSTNQJK0UCO+2/JqJJV5qBCO2Fw268TYJVXpn45IY9/V4GTXKY4dzox6Vc/56DIPZb84FQY/Pf7CkVZDD5o36Es2Vceh9tEKDMGC1/5ylfSx6CMfv3Xf/28E44q2vW/XqLuaQ+h3Fn4bE1tZY8DQTiRiGcXTLQ6x4l8QoSTN37kuOztXgHJB2JxfLLE3/FVyiJVxmvdME6oG8QW+iwzLYIq48eQBGGhf/E7MlVuX6iCfWU2SNgvlqLbGwYFYzxuQes2PlY9RowHSQ2SU6HcWTyfqMbkRRsciDkgx8hWktmMD7aqJwZGnAw9//zzLYNRmFLLlaNWJ07xAYWFoMNVJq/CTK4y9Xvddddlf7U2Gf08vlrBUjTDYaJxfz8DmU5+4id+oimpQxlRVpRZVWX6Xy+xr/FJF0s/Z+Jo8pWJE3VVxzhRhIF/t78Rkv99i6J4PNGME+qVbsePHBtJnl511VXZM72X3zcSdMP4L5xM9DEinjESFi7esB8qZyiTFxz4yTDGDYWD77e//e2mQEEjvvTSS5syedzXxJUQ1RtBmIPEyy+/3Jj+RT3yozgBj8M/txQfSFgnrnPVT5n6BYN/ZlDEv9jNgODCCy9sJCYmup8Td+p4FY/yYLok5RMGL8RKyjn8ABnrUHZxebIO98oWnbgw2OeqAgmK/IBoovsfn88Patm3h0fZ48DNN9/c1C7oo0888URfTxw6qWucyKPcvvWtb6X/ikKIqUEYaxEDigbmxBVu64tjA1eq4yRq2fFarxgnVEardsntomUumrRDG+SfDOc3bvp1Ms2xeVCTcex3fkzBP9/Mb4vlxyGdYlDZsWSvsD/sO//XOIzmFDw1JZ0+fXp01apVo3Pnzk2XRYsWjX7wwQfZq184efLk6NjAprHeK6+8kr0y+AaxrvP1Fi+hbtqts2HDhnQd7N27t3CdQW4Lw9B/y9ZvkF+/aJ3x1i3bjN9L+6Edsc2jR482Pp82V9TuWrW5dtqVA0vR9ywj3r+i/cp/brt9pyxYh/V5X6xq/ysSypn3UdbUY6gLPjt8Bp/Pa0Xl1W051dGwHL/LqBIn8v0/tKVYq/ZatG4r8TbybZLXQn9h/4o+rw5xIr+9dt8/Lle+T5H89yzanyoxp0j+/Xxm+FyeJ0azn2z33XffLSyvqRQnyjKetFelXcZ9gSU/xgh9Pyyt+ksrVdo4+5j/PJZ2fbmV8BlFSzfxin5WtK18/8t/bqv+2S4G5cssXqr093hf2B6fGbbLa3Fcz7eDsOTbw7CpGmtG+M/YmxpGRkbYQvZIU5l1PfVYp9Lwsv9L6hXjiaSJUDXW+JsXkiRJkiSp1kxeSJIkSZKkWjN5IUmSJEmSas3khSRJkiRJqjWTF5IkSZIkqdZMXkiSJEmSpFozeSFJkiRJkmrN5IUkSZIkSao1kxeSJEmSJKnWTF5IkiRJkqRaM3khSZIkSZJqzeSFJEmSJEmqNZMXkiRJkiSp1kxeSJIkSZKkWhsZHZP9nYyMjGR/SZIkSZIk9U+UjuioKXkBEhhVNqDBZV1PPdapNLzs/5J6xXgiaSJUjTXeNiJJkiRJkmrN5IUkSZIkSao1kxeSJEmSJKnWTF5IkiRJkqRaM3khSZIkSZJqzeSFJEmSJEmqNZMXkiRJkiSp1kxeSJIkSZKkWjN5IUmSJEmSas3khSRJkiRJqrWhTV7s27cvmTdvXtOyevXq5MyZM9kaX3jsscca62zdujV7VnV08ODBZPHixY36op7zqM9ly5Ylp06dyp5pxvO8bp3XW5m6BvUX1mlV7/k6b7WtOuN7jme/43KKF/pLVcRR4ml+W636Y3i9VQyWulU2TpRth4M+HhhvnIiFuNlNjEA3MYfX2h2/pTpo1zfyMYmlXZsebz+bTHzXp556KnvUvTCm6DRGILZRnkUxLryWXxx3DJ6hnnmxYcOG5NChQ41l06ZNyfTp07NXzyFYzJ07t7HO8ePH086o+mEgtHbt2mT79u2N+lq4cGH26heDzosuuiiZM2dO9mwzAtjDDz+crFu3rrGNw4cPD+QgdSrjYP7II48kL7zwQlpHBw4cSLZs2dJ0wAoHO+ov1CVt4P77728aJPA3z/Fa2NaOHTuGsp9ThqGsWHhM/OvGrFmzkv379zdtL+6PCP0qvL5ixYpk/fr1DiTUE2XiBMq2Q8cDzXbt2pWMjo6mx9RuVYk5lPWbb77Z8vgt1UWnvkGMidv9tm3bkksuuSR7tVkv+tmgCuO4K664IrnyyiuTiy++OHulWUhMED9uvfXW7Nnz5c/7du7cmVx++eXnnfup3rxtpA0OlASL5cuXZ8+cCzh79uzJHqkuqCsGku0OACQ2CFbUYSvvvPNOcu211zadZN15553pCbAnVPXBwfyuu+5KLrvssvQxB56VK1emJ8sBz5GQpN4D1r/66quTEydOZM8kyfvvv59cf/31Tdu64YYbkrfeeit9PCyIc/nkwhtvvNG3EwVOLOlX99xzT/ZMkn4+A4mjR49mz0jdKxMnyrZDxwPNKI/XXnst+bmf+7nsmeqqxByOv5s3b05WrVqVJkaluupF3wh6ua1BFMZxjN0XLVqUPXs+4gjrsG6rBAfrxPEbjPNmzpyZPdKgMHnRBic4RY36o48+8kS2ZsieLl26NHvUvaLgRjtg0EoQVT0UDXpb9dcYA4EPP/wwmT17dvZMksyYMSNNWsV9+siRI5VO2sOsnhdffDGdDsoUz2PHjqVXDHie12OcMLEOr7E8+OCD6To8XxehPDiJ6weSjCSW4n7FZ3722WdpnZRBfVLelDNlSFlyFT1cheE11onxeih3XqfOnFk1NZWJE2XbYS/GA6Fd0lZDbOC50CbzU8frGif4viQSSAyV7atltIs5zIYjaZGvzzLYLuUd+jtlyWNidCjffAwwTqgbvewb491WN8fHMJZhoW9wywfrT1Vc9LzqqquyR5055qiHoU5ecGtAaFAsZTsoB7yzZ89mjzTZCPAMNC+44ILGgLBKfbbDtl966aWeJEbUPwzmmS64ZMmS7Jlm4YDMScp9993XdKLCVVlmWjAtMbQdrsRWGSSzXaYjcssSC7GFqwRcmWWq+qeffto4oNGmHn/88XSfwtTF+fPnJ3v37k1fL4vtxO2dz+TzwmO2Px5cdSZp12omUyfEyQULFjT2h31ln9vhBIUp42U/k7qjvEk2UYaUNVfCaQv8vXHjxnQ2VkBMiG8jCvWl4dApTgRV2mGV8QAxhUT766+/nvZVZoAQN0Kb5Dlmi6DOcWI8iYR2WsUcYidXn5kF2Y1w9fbGG29M3n777TQ2MMPylltuSb8/9UDcCEkh44S6VbZvEIdCH2QpOpkdbz+renxkH+Lb4ugbrFtVfLLO2JnPCY/zCdrJxH5w7hBfzOrEMUc9DG3ygmAQGhMLjY7G14sTXk0sBo4MIAm0DMpCfRL48xnQKhj0cd8zJ7Zh2rHqhwMQv1nBdPBWJxskF2gXDNz5TZP8STRXVWkzIR58/etf7+oAy/bZB66SrFmzpnDQQXvN3xbBFeJ2tzwVCQPysM+cBBHDwmO+83gwnZLkQzfy+8ZC32z3exYMeDjI52c+lXHNNdek/ZTP5aotbSFOUAUMOGKUN+XezWdqsJSJExhPOyyLvkBsmDZtWtp2i07K6xonKEcSCZyE9FqrmMN35ta+Kt+7CImREBuYWXfvvfcWHtuNE+pG2b5Bm9u9e3ejD7IQc+IERi/7WdnjI/sQC/tZNXlCPwnfi2QtY6HwuGr86iduGSZZU1QWnTjmmFzeNpKh0TGgyDe0ImRCGXSoPqi3+LcqqM/bbrstDU7d4MDBj/6EQabqieTU7bffnjzwwAOlEkzUJe2ExFZAwvLzzz9vOvDwd7gC2mscvJgGyhWJcDWiaKrhZCLBwECml7eMcJWC2Fl0lZrEI5833oRLJww2SHSGcmfp5sqzBkvZONFNO+zXeKCucYJjKjNHwn6FK6vj7UetYg7HYmabkBjm85gh9/TTTyd33HFH+lo/GCfUjfH0DZIU3MIQ9KuftUMSlcRm3O7jhMpUw4yrKreMdMNY0h8mL9rg6mkcTODvH9QPgzyyoL0SBroEGBMX9UXSgZOM559/vlTiop3871sU9f1eol2FKxEsTCPk3tZ+DcarGu8tI2VxwsKUdq5+9DtxAeJ2fkYInz2VB2jDrkycKNMOJ2M8UMc4kd+ncGV1vP23VczhMVcqw+cxQ+7uu+9Onnvuub7FJ+OEutHLvtGvftZOvq+xkFCcijPSiaFVbxnphrGkP4YyeUGjJcsZd0hOWL/97W83ZeEY6Fx66aVNVzoIIGRAVS9kjON7VhmM8lsVVa8cE1DyA122SSKDbaoeqA+uELz88suNASz9NP73xHl88803N/Vf+vwTTzzR1M9pI/zCfVy/47llohP2oe6Z907fP8RQriIUDWzoR/nfuHjyySfT/8f1RSxldlM8hZI6jOusV9gXfmCrH9tWPZWNE2Xa4USPBwYhTnTSKU7E+hlzqzBOqJ9oXxwb45NX+gnjzsls/+wD+8X/h8F4bhkpy1jSR6M5BU9NSadPnx5dtWrV6FjjTZdFixaNfvDBB9mrXzh58uTo2AlQY71XXnkle2XwTbW6pv6ox1BXe/fuzV45Z8OGDY3X4oXng1br0FZoM3U3DP0333fjJa5L5Psvf/NcHm2l3XY6idsNMSK0RT7v6NGjjf3lc/KfxdIq/rTTrhxYqn6HgO3y3qJyCuJyzfezoFOZFpUDS5WyiPt8qNtQF9RD+AzKideKyqvbcqqjYTl+l1E2TlRph3G7Z6k6Hog/K98meY3t8Tf7V7RfdYsT8XaLtlMmTqBMzEEoH5bQ38vI7yv7EsqX54nRbI/yfffddwvLq9tyGmTGk+6U6Rs8F7evVv2jzLZaqXJ8DH0gfE5YqsY4xP00v1Tpt8h//3iJ9y18l/zS6vO+853vVI6lcMzRH1VjzQj/GXtTw8jICFvIHmkqs66nHutUGl72f0m9YjyRNBGqxhp/80KSJEmSJNWayQtJkiRJklRrJi8kSZIkSVKtmbyQJEmSJEm1ZvJCkiRJkiTVmskLSZIkSZJUayYvJEmSJElSrZm8kCRJkiRJtWbyQpIkSZIk1ZrJC0mSJEmSVGsmLyRJkiRJUq2ZvJAkSZIkSbVm8kKSJEmSJNWayQtJkiRJklRrI6Njsr+TkZGR7C9JkiRJkqT+idIRHTUlL0ACo8oGNLis66nHOpWGl/1fUq8YTyRNhKqxxttGJEmSJElSrZm8kCRJkiRJtWbyQpIkSZIk1ZrJC0mSJEmSVGsmLyRJkiRJUq2ZvJAkSZIkSbVm8kKSJEmSJNWayQtJkiRJklRrJi8kSZIkSVKtmbyQJEmSJEm1ZvJCkiRJkiTV2lAlL/bt25fMmzcv/X8rW7duTddheeyxx7Jnm506dSpZtmxZus7ixYuTgwcPZq9oosT1RF1QJ3lxPbHwniLUH/XYblugPXTalurnzJkzyerVq9OFv8cjtJU61j/71C62lRH3BZZW2yvT/2CfUV3RNtu13So6bavssWiyPPXUU+Mex5SNCQjlkR9jhVgdthMv441t0kTp1TihStzoZTzrJcqC+DJe8Vii1ViuU3mFc8D80ouxoSbWUCQvQoPdsmVLcuutt2bPno+Gfvjw4eTQoUPpMnfu3PMOmHSO+++/P+1IrLN9+/Zk27ZtNvwJRJ3s2bMnOXDgQFoH1MXjjz/eVAf8/fDDDyfr1q1r1Cd1m69PAusjjzyS1mPYFu0kj+dpD2Fbx48fH/dgT/1FG+CgdMUVVyRXXnllcvHFF2evVBcGI2vXrk1WrFiRPTu1ENvoCy+88ELaxulf9IW4z4QyjeMkfYOYmB802WdUR7RLxgMXXXRRMmfOnOzZ7pTZVqtj0XhPbOqk6JhcFBOCXbt2JaOjo2m55c2aNSvZv39/o6xY1qxZk8yYMSNbQ6qnXo4TysaNXsazugrfOZQDZbt+/fq0jAJi0E033ZSWR7vy2rBhQ+N1lp07dyaXX355Mn369GwNDYKhSF4sXLgwbaSbNm1qeQLDQZaGfs8992TPJMkNN9yQvPfee00dhIPuXXfdlVx22WXp40suuSS57rrrknfeeSd9rP5jYLNy5cpGsKEuqKu4Do4ePZoGJOo+oG7z9UngeuCBB9J6BNu69NJLm06y+JsDw/Lly7NnkjR4MlhTfdE+6PP0/UWLFmXPdod2sXv37jRROXPmzOzZqSUf2yg/+hn9LQhlyuAsYP2rr746OXHiRPaMfUb1RdslJvQiCVlmWxyXrr322qZj0Z133pmON+Jj0aDiO7zxxhvJQw891HRMvv7665P3338/fRwjNrz22mvJz/3cz2XPfIH3U6bheAzGZmzH5IXqrpfjhLJxo5fxrI6Kzs0oE8b3jPMDnqPsw/gFzMLgoknAOvGYBG+99daUHdNNZf7mRYaBN4PtcPANPv744+Ts2bPZoyTtCEUH0SNHjmR/abKUqYO4PjkAfPbZZ+fV5+eff950IsbfRcHto48+mhKDT008Dsjx9MYHH3wwvWLQ6krlROCgHg+U0KrtxzgZ+fDDD5PZs2dnz/Smz3AlJZRNmErOc1xJ4e/8FNk6lqlUNGBuNd4og/4W39rFlGza+WQdi4oSDigaK7GPmzdvTpOkZZMRlBUnKvnttxOuRr/44otpWREXjh071ogjvB6rW5lKvY4bZYW+w0K/oS/Esy8nGv2e+BJ/Z/pl0dg9jyTSggULskfFiFNXXXVV9qizECuIJYwxKCfGJGG8wmusEwtjlvA6cSk/I0TVmLzo4NNPP00DRidkBjUxCEYMgMLAgqBB1jmuA06kuFoTgi7rMs3s1VdfLVWfZRIhDIbixJZUBm2R25wYJHDFhGX+/PnJ3r17szXKYTthMM7C9FL6QXicH6BXxUk/t40sWbIke6ZZGOQwsLjvvvtKDaiq9BkGb8yMev3119PvxQwQpnzSz8OVJmaLoFdlKvUbbfWll15Kli5dmj1THn2SY1+4zZGFQTz9qop8om/jxo3p/oTH4x1Yc9xlv+KroNixY0d6W0g+SdoOV0Y7nYDkEZOIFZQTC7GR2XfEDG5tYVwXTjB6VaZSP40nbpRFv49v9eR4WnQbdSfxyTr7S3wJj/MXHbpBHGE/ixKacSKSddrFGvaDvh5feOmEmEas4ByBMQbxhBmllBN/811JmgTEwjBmYQkxSeNj8kIDh2DEdDp+y4AARdD47ne/m2akA06kmMbKAIZ1WJeBC4s0mTh5j6c7gissHPCqXF2kjYfbYlho6/SF8JgBfLc4qHPPOreNtNonts/ncGLAvbkMrvqBPkufnzZtWnLNNdekU2fzelWmUj/RR0iic5tj/sS+DBLvn3zySfboHPohcaDK1Vj6BH0jxAp+U4JEYXicv+JbBYN14lA8zRvEFG4X4eSlLMqLgT8zL7pBbOK7coWW71h0ItOrMpX6Zbxxo6z8RVg+i1sxqiQbQfwIsYS4Qt8Lj8d7TCYxwn62ilFhn0NSIVzALMIFThIc3fRzxiLUB+8lPsW3ssfyF0JD7B1PjJXJi474jYwy0xvpAJo4cXBkkHH69OnzpqnnB2hkSctMNUOZHz7iChInVFIVtEumTcdXOoumGk4W9uP2229PfwumzEApJBO5GtJJv/pM3ctU4uSdHwwPybhu0B/5LQlmIoR23osrmb3CiQWJi0cfffS8gTwnCsyiCn00XJFtN0OMhCQXJcZzstNJ3ctUw60XcaMsLgzQf0M/YBnvLKxeIlaQuChzYYb4wwVMvk+rvsxsziq3jHSDBAezuOIybRfzVI7JiwwntJzYxlcPw/TmeLDNCXL+tgMya1P1V34HAXXGiVOnIBR+0DMMhAhuDIzy9Zm/V5e/4x/9Ae/p972HmroYhISkGgvTCJm6PNkDZq5SMDB4/vnnSyUuWpmMPlPXMpVCQpBB63hPQOLEPQvbzP9rW5MhnFi0mrGQ75/himy7E5FubhnpRl3LVMOtl3GjjPwFPxb6dLvZCxOBfsgtslwkLpO4KINxQdVbRrpBLIxnyLLwPeqUFBpEJi8ydNr8vxrC/dQ8Fx+IyaLF/2IFHYDOzVV9TTzqgel0lH+7ky2CL9Pq81POyWbH/wJCuFIbb4u/8/8CCQMvrhxp6gj3aXKQ7OeglbbIYKRu2CeuUrz88suNBB9tPv432nl88803N/UFvs8TTzzRlDyc6D5T1zLVYKNdERPGcyWeuJJPCLIt2mvVOMO26jbo5btQPvkTC/aT8usWZcPYqttbRsqqY5lq6qN9h9+sKmp/PNeruFEG22Z/uo1z/cIYgnEDY/X4VgvGJfH4gnKJxwCUEbezMtuzaObWeG4ZKYt94Ec94/1Uj4zmFDw18Pbu3Ts61kjPW8YG4aMnT57M1hodPX369OiqVasar4+d7GavNIu3t2jRotEPPvgge2WwDGpdv/LKK43yZ6E+8qhX6jesQ71Sv0Xi7eXbRJDfHu+po6nYf7uV78/xUlR/oR0UtRX6OH09v51u+n9RPOpmO+2+H0ur+FWk3bby28n3hX71mbic2De2F/aR10J9sX+9KtNBZ//vjPaSbyssRf0ltKtWbbzMtlqtUxRnOgltPl5a7Vs7+b6ZX6r01VaxkYXyy8vHmqJyB9v9zne+kz2qJi5zvkvYR77z0aNHC+NIvHRTplOR8aSaVn2h6FgU94Oi/lY2brRar1W/aqVVTKgSC4KiPhWWqn2r6NjOUlSm+c9tt+/Elvz7y4jrOHyXUAd8Xthf6onX4lgXlqp1MwyqxpoR/jP2poaRkRG2kD3SVGZdTz3WqTS87P+SesV4ImkiVI013jYiSZIkSZJqzeSFJEmSJEmqNZMXkiRJkiSp1kxeSJIkSZKkWjN5IUmSJEmSas3khSRJkiRJqjWTF5IkSZIkqdZMXkiSJEmSpFozeSFJkiRJkmrN5IUkSZIkSao1kxeSJEmSJKnWTF5IkiRJkqRaM3khSZIkSZJqbWR0TPZ3MjIykv0lSZIkSZLUP1E6oqOm5AVIYFTZgAaXdT31WKfS8LL/S+oV44mkiVA11njbiCRJkiRJqjWTF5IkSZIkqdZMXkiSJEmSpFozeSFJkiRJkmrN5IUkSZIkSao1kxeSJEmSJKnWTF5IkiRJkqRaM3khSZIkSZJqzeSFJEmSJEmqNZMXkiRJkiSp1kxeSJIkSZKkWhuq5MW+ffuSefPmpf9vZevWrek6LI899lj2bLNTp04ly5YtS9dZvHhxcvDgwewV9Vtc9vHSrh54ntep2yLUc9jO6tWrkzNnzmSvnK/TtjS5Qh8fb5tA2W3V2VNPPTXu/e5lOUyFMtXUQNznWMIxZbzKbKtMzJksvYgT8dipVVnEx9qwtCuPKsdmqS561dfz491W26vzcZV9Ib6MV5VY0K48eB/vD6/XMR6rs6FIXoSGvGXLluTWW2/Nnj0fjfjw4cPJoUOH0mXu3Lnpe2MEk/vvvz/tSKyzffv2ZNu2bR5UJ9A111yTHDhwoFFP/H3jjTcmM2bMyNZoRv1cdtll2aNmIXCFba1YsSJZv359y/psty1NLg5QzzzzTLJ///5G39y8eXPTIDoMKtauXZvWdSv0b+JFaGds65FHHqnVoGAilCnTsnq5LalbYRB80UUXJXPmzMme7U6ZbZWNOYOMcdKePXsa8ZJyYZyU79uU086dO9N1wrJ8+fLs1S/wPk7aGIOF9TZt2pRMnz49W0Oqn172dcagDz/8cLJu3bpGH+D8JH+yPQxjlSrj9Hx57N69uzFmZ33ex/vDtijT/Hme6m8okhcLFy5MGykHv4svvjh7thkHSxrxPffckz2TJDfccEPy3nvvNXWQXbt2JXfddVejM1xyySXJddddl7zzzjvpY/UX5c2BIR7EHD16NPn000+TadOmZc98gaB07Nix5Lbbbsue+UJRndNWLr/88nSbee22pcn31ltvpX2TNgL+v3LlyuTNN99MH4N+y8GMJNTMmTOzZ89HG4sHy2zr+uuvT06cOJE+HhZlyrSsXm5L6hZ9OwyAx6vMtsrGnEHF+OiNN95IHnrooUa85DsTL99///30cVWcfHASUpTYkOqql32dc4prr702HZMGd955Zzpmjc9JpvpYpco4nTE6Cc9WiU7W531xmZIk5YKKBou/eZGho3NVIN/gP/744+Ts2bPZoyQ5fvx44RX+I0eOZH9polF38+fPP6/uCHpc6eUEqSiQEeTziRAOCp999tl5ddxpW6qvH/zgB9lf3aP+ubLIga8M2hFTE7kK8+KLL6ZXZ3lM8itMA81fQQlXbXiNhamWDODjgUpd9KJMg7LbmuplKpVRtzbN8ZDjaEhKBq3GSp2EK8bhAlE3KA/KhjhBWREfiBNhujivx4wTqhtOsPPJu1bnKbGqY5W80HdY6Df0hcmcmVB2nM5zJFGXLFmSPXM+1iehShkFlGmVRFOIFcSSBx98MC0nxh2UEX/zWohhAa+HMuV14lJ+rKJqTF50wBX9MhlMMoOaHGRNr7rqquzRF5599tk0A11lELRjx440c5sfiHWzLU0s2gAJpnBg4gDyzW9+Mz1YdTsIDQedm266KU1c5dtFKxxoyf5zO9Pbb7+dTmHkKsott9ySDg5oswwwwr7yf26hYMpnmM7IwZkBdxVsJ5zIs2zcuDFZunRp43HVA2Yvy3S825qsMpXqoldtmu30Mk7kMZBnv/LHS56LP4d9CP01CCcT4WSAhROFKvGGk50NGzak5cTC1PtFixalM2SIG4zrwgmGcUKDgPb/0ksvpf2nSLdjlRjbiG/V4rjKLKiqwr6wsL/El/C4qM9XVTRODxeZKacQ2/KJBNanbCijsD98P2bZl0VMI1ZwwZqLpsQTxh3hVhW+KzNvAuIY54ehTENM0viYvNBAIwgy0Jg9e3b2zDkErO9///tts7B5BFyCTD7b3c22NPE4qHBbwoIFC9KDEgNYMtyzZs3K1qiOtsAB54UXXkjvI6160OUqSZitwz3x9957b2ECjAH7J598kj06h/1vNf2xFQ7OHDjDgXLNmjVN95hXnYbdyzLt1bYmukyluqhrnIgxWGcgH0/zDtjX8BksnBzlfxuDkwKmzHOCwskA65F0ePLJJ7M1yiNpwXfliivfMZ4uHhgnVHeckPNbDZxkFx3rMN6xCvIXYfksboMp6jfthH1hIa7Q98Jj4k6cdKiq1TidfkzCkZjCwmeRJMj/rtYPf/jDpkTlHXfcUXibeCf89h71QYxglksYk+TlZ+WH2DueGCuTFx3xGxllpj6SBdTE46otZZ8PGtxf//rrrzdOlBj8MJAh8BUh2BEQGbTkVd2WJg8H2fggOTo62nGaZRnhxJsZOP3A9pnZE9oYSy+uUPRCL8u0X/VTpM5lKnWj7m2aYyKJi0cffbRUn+b7XH311emJR4ykxX333dfYBnHjS1/6Ul++p3FCdUY75B8aYNxZJolAe+52rMJvatB/Qz9gqdM4t904Hcy+pJwoA5Ao4DHnCeBC5Pe+972m5AkxhgRLv5DgIKkSlynfQ+Nj8iJDgoIr+PHUxDANKf4hSKYz5g+0ZNbG+6vl6k6rW0bizC8LAZlppPlsJ/XNlFQSIK0CYtltqX44QWZQOgjy7YwD3OOPP94Uk+qgl2Xa7/oZlDKVyqprmw4nFuOdscDx/Md//MezRxPDOKE64mT79ttvT9tjmcTFeIVZAXFfoE8zm2oylRmnM/u6zFji0ksvzf46p+jcr5eIhcTEuEz5Hl78HB+TFxk6bf5fDeFfFuG5+ECc/xdIyIrSubn3SROLsi+6ZaQsDgzcj0dmNk5E8ANFvKbBxgEfVQ/6tCuuvMUHbNoDUx+JB/3AgWwQDmbtyjTco172qmW39VPWoJSp6qtqm+63OrbpEC/zJxbsZxxD+TtfjqzDVdH4GB5mQjD+CnjvRx991HTFtFfqWKaa+sIJOfGlqP3xHP3p+eefb8wkoO9w3IzPP3o1VmFb7E/cP+ug7Did8zRu3eB2s7h8uNgYfryUOPPuu+82fcdWs7d7gf3gRz09n+iD0ZyCpwbe3r17R8ca53nLzTffPHry5MlsrdHR06dPj65atarx+oYNG7JXmsXbW7Ro0egHH3yQvTJYBr2uqYdXXnkle1SM+qWeQ33F67dqF63qtN226mIq9t+y8vVZVD/UK/Ubr8eSr/N8LKjaz/PvZ9/C/vH80aNH07YUtsu+hnXDko9PZeTbaH6p2mbLlGkQ1m2131W2VWSyynSQDHP/L4vjer5dsBQd7zu16TLbKhtzyqhjnGj1/Vgov1h+Xfot/bpIXLbt1isSv5fvEj6X70ycCHGE/RvGOFGW8aSaKn09Pp4V9bdWsSXfF/LHxaLPKqNVTKgSC4KiPhWWqn0rxOD80up7xusXrZOvo6qxJX5/+C6hrvje4fPZLq/FdROW+Pigc6rGmhH+M/amhpGREbaQPdJUZl1PPdapNLzs/5J6xXgiaSJUjTXeNiJJkiRJkmrN5IUkSZIkSao1kxeSJEmSJKnWTF5IkiRJkqRaM3khSZIkSZJqzeSFJEmSJEmqNZMXkiRJkiSp1kxeSJIkSZKkWjN5IUmSJEmSas3khSRJkiRJqjWTF5IkSZIkqdZMXkiSJEmSpFozeSFJkiRJkmrN5IUkSZIkSaq1kdEx2d/JyMhI9pckSZIkSVL/ROmIjpqSFyCBUWUDGlzW9dRjnUrDy/4vqVeMJ5ImQtVY420jkiRJkiSp1kxeSJIkSZKkWjN5IUmSJEmSas3khSRJkiRJqjWTF5IkSZIkqdZMXkiSJEmSpFozeSFJkiRJkmrN5IUkSZIkSao1kxeSJEmSJKnWTF5IkiRJkqRaG6rkxb59+5J58+al/29l69at6Tosjz32WPZss1OnTiXLli1L11m8eHFy8ODB7BVNNOqIuqBO8uJ6YqFu80KbiJfVq1cnZ86cydb4Ap8V1inaluqhXZuookw/L9PGJtNTTz017vgUx8Sici3qQyz5fsR+UI7xOr2oJ6mdqn20U/wY9OMA+9xuDFRW6M9FZZAv87CMZ7zUKQ5JddGub1QRx5qwFG2zzn2DsmAcMh79GKfnxyO9iImaOEORvAgNf8uWLcmtt96aPXs+Gvrhw4eTQ4cOpcvcuXPPa9AEhfvvvz/tIKyzffv2ZNu2bYWdSP1F8HnzzTeTOXPmZM98gfp4+OGHk3Xr1jXqk7otClAbNmxorMOyadOmZPr06dmr51DftIewzvHjx7sehKk/wkHroosuKmwTVZTp51Xa2KDiu+zZsyc5cOBA+v0oD8olPzjK96GdO3cml19++Xn9aMWKFU3rUaaXXHJJ9qrUW1X7aLtjCjwOfDHoX7t2bdqfW7nmmmsacYOFv2+88cZkxowZ2RrlFcWhxx9/3HGXaqVs3yiLsQzH0tCHWJYvX569ek7ZY/Sg6+U4nXM96ohxXVh34cKF2asaBEORvKBRhsZ+8cUXZ882o6MzqLnnnnuyZ5LkhhtuSN57772mA+SuXbuSu+66K7nsssvSxwy8r7vuuuSdd95JH2tiUCebN29OVq1alcyaNSt79gtHjx5NT57igETd5uuzDIIfB5H4oMGBiQOG6oODEf28F4OGMv28l22sjvgOb7zxRvLQQw81BgmUx/XXX5+8//776WPw/fMDqrfeeiuZOXNm9kiaHFX6aKdjiseBc4gBu3fvThOPrfo48ZJ4HJ9cUBeffvppMm3atOyZ8vbv35+sXLmyKQ4xPnPcpTop0zd6qewxehiUjc+sR1LDCyeDzd+8yJw4cSJt+PlM3scff5ycPXs2e5Skjb7oysGRI0eyvzQRduzYkQ4w40FpGfn6LIO2UXQg+uijj6bESarON55+3k0bAwfVeBojUy25kjBZbYxYyAlI/gDfqmxirHPVVVdlj3qDcmCqKGX04osvpmXE42PHjjWmqOenidatTFUPRX200zGlF8cBrpLSDh988MG07fI3z4Vp3/kp3/wd337B+2i/g3hVlfKbP3/+eWOs8Sg77uomdoQ6YQnvy68jTabxHKNbIb6Edk/f4JjZaqZanZSNz8xkWbp0afaoujCmIH4Qj0PsCLGd11gnZizpPZMXHXClgE7RCbM2NDEIDK+99lpy5513Zs+cb/bs2WnmOQRdgtf69euTV1999bz6ZEpxCCwsZQM1A59uTlI1uOJ+XqWNdcLJCFd942mMn332WdrGqsif7GzcuDE9UIfH4z1g8l3ZL67utMI+sA7lk8ete2Ffqu4PAzVmzzH1/O23306nyV577bXJLbfckg64uDrLVZZwYterMtXgKttHyxxTWqlyHCAxwuD59ddfT68K0maZDk1cCbPGmPUF9pVbI2jbof1y8r9379709bLYTkiUsHC843PCY7Y/Efiu3SY0FyxYkPZlvguoT75D2XFX1djB9kOdsBBDWKSJxPEqPn7nk5tFyhyjW+F4HN92Qd/gmF1VfLLO/jMOqfIdivRinE78oGwuuOCCpphYdlugXIkFJE6Jx8QSYgflxN98V2Z1BMaS/jB5oYFDYGBaXLspXwxWmErHwJDgdMUVV6SDHZYYg8kQVFgIPgShKsFMw6lsGyuDE6lPPvkke3QOV1SK7utshz5B/wjtec2aNU33zOZv76iCPkHfiG+tK8LJIgOg/H6HKbVhX1g4qFdNqDBDLkwh57cJ7r333sKBWq/KVIOrbB8tc0zpJT6fYw+3UPDbEEVJEwbc3GoRo/9Wne5MGdDmQ5+jLOjH4TF9ot84WWmV0CyDsiLZQP1Rj+z/d7/73TQWVFE2duRndIS4Op74KVVF3wz9lIVkQrvfsyh7jG4lnwwMx+xWs9FaoZ+EfWb8wTgkPK4av9CrcToxlWQG5UgMDtti1l1+tkQnxG1uXSOWcGtifFtbzFjSHyYvOuA3MspMv2Kwrv4jaHPlKWRhGcw8/fTTyR133HFeQA9BIgQ8sqQMoNrVJ8GHoFZmOipTjLu5f1eDK9/Pu2ljRRgkcPLEFUbaNUu3Vyj6gQQDg4VHH3208AAdq3KFle/IFNd+qHuZamJ06qNVjilF+nUcYL/53Z34ymvRlORB0CqhWUV8QkQy5vTp0337XQFOSjjJCeXOMlEzVKRWOKZdffXVhTM7qxyjWyGJyjbidl/14sJEGM84nfeQCA0JGbZ12223pTGqH4wl/WHyIsNAhgFNmJaIMNUobvgcLPOBg84w3n/dQOXkB6JkTe++++7kueeeS19rJ/y4V6f18mgb+RMs2kDRb6Roaui2n3fbxhAPzlk4wNXhF/XZD67IlJmxwMneeK6w9lpdy1STJ99Hyx5TJuM4kL/iyHRjbp8YtATceG4ZKUL/5Wppr39XJ6A+49kqLCRf6ngiJ1U5RreTj4UsbHcQZiKXic98P2ZMTCRjSX+YvMjQqPP/mgD3nvJcHAzy/wIJgwg6N1dzVF8EX6bLxtNzqTuuxMaBmata3/72t5sGRWS7L7300qYrXuP90R9NLuqcDHirK/Hd9POiNlYWB7K6HcxC/+BAG08tZz9bDWZaXWGlHLnHNP6ObJ/tMjOiH+pYpppc4+mjE30cYF+nwhU6+nmnhCb9lHhMjOiUWOR1freEWEyd9Brb54f4BnGGiwZHOCbS7ouOU/T//PiE9TjGhr7UzTG6FbbF/sSfVwfhO8bfZzzjdGJ//Ps21MNLL72U3vrRa8aSPhrNKXhq4O3du3d0rHOft9x8882jJ0+ezNYaHT19+vToqlWrGq+PDXKyV5rF21u0aNHoBx98kL0yWAa9rl955ZVGPeTrkr95LrxOvVK/efk6b1Wf+e3x2XU0FftvWfTXUD/xUtSPQx/Ot5tYp35eto2VEbflsLTbt1by+5RfqrRbvi/fu2g7lE2R73znO23jYb6OWm2nSL6v8t5QRzx/9OjR9LuHuupVmQ6SYe7/Rar20XbHFOS3V/U4EMcU9oXthTbNa+Hz6SfxumHpZryR7zf5pdU4p5VWcaHVvoXv1U743q3qJ64XFrZZRZXY8e677xaWV9VymgqMJ9VU6Rtxm2zVP/Lby/ePVp/HUrWP5GNbWDr13SL5/hovRXG1k3z/LSpPlI3P+XKrUlbxe8N3CeMaPi+OK3F8j5dhjCWdVI01I/xn7E0NIyMjbCF7pKnMup56rFNpeNn/JfWK8UTSRKgaa7xtRJIkSZIk1ZrJC0mSJEmSVGsmLyRJkiRJUq2ZvJAkSZIkSbVm8kKSJEmSJNWayQtJkiRJklRrJi8kSZIkSVKtmbyQJEmSJEm1ZvJCkiRJkiTVmskLSZIkSZJUayYvJEmSJElSrZm8kCRJkiRJtWbyQpIkSZIk1ZrJC0mSJEmSVGsjo2Oyv5ORkZHsL0mSJEmSpP6J0hEdNSUvQAKjygY0uKzrqcc6lYaX/V9SrxhPJE2EqrHG20YkSZIkSVKtmbyQJEmSJEm1ZvJCkiRJkiTVmskLSZIkSZJUayYvJEmSJElSrZm8kCRJkiRJtWbyQpIkSZIk1ZrJC0mSJEmSVGsmLyRJkiRJUq2ZvJAkSZIkSbVm8kKSJEmSJNXaUCUv9u3bl8ybNy/9fytbt25N12F57LHHsmebnTp1Klm2bFm6zuLFi5ODBw9mr2iiUDehnlavXp2cOXMme+V81A/1RN3G4nqMl3Z12mpbqg/aBvVK/Y5Xp22F9hDaTrvYMhmeeuqpccenOCa2Kot8X+rUP3jd2KmJULZt9qOd1xH7PN44xfGW427ZcpjImCxNtl6NE/P9jLYfy78eL3UZi1AWjEPGi+8evlurMX8+PheVQacy1WAYiuQFDZhGumXLluTWW2/Nnj0fgebw4cPJoUOH0mXu3LnnNX46x/333582eNbZvn17sm3btsKOpP4IB4RQTytWrEjWr1/fsg6on8suuyx71Oyaa65JDhw40NgWf994443JjBkzsjWatduWJlc4uF100UXJnDlzsme7U2ZbxIJHHnkkeeGFFxpthxhTl0FDL/Bd9uzZ0+gjlAvxLz5xoN89/PDDybp16xr9iDjaauDGe1977TX7kfquVduM+2gYzMbH/qJ2zntuuummxrE/bGu8JyiDhvLieMtxNy6HVnGPk5c333xz3DEZvdyW1GshabF27dq0f4wH21q6dGlTP+OchPgTmzVrVrJ///7GOixr1qxpOYYdRGXG/PlzM8YsO3bsSMsx9uSTTybXXnttY1uU6bDF8KlgKJIXCxcuTBvppk2bkosvvjh7thkNnwPwPffckz2TJDfccEPy3nvvNXWQXbt2JXfddVdj4H3JJZck1113XfLOO++kj9VfRfVE/V5++eXJ0aNHs2e+wIDq2LFjyW233ZY98wXqjoPM9OnTs2eSdBuffvppMm3atOyZL7TbliYfdRkObONVZlv5WEA7WrlyZTqQmAqIe2+88Uby0EMPNfoI3/X6669P3n///fQxiH0MBuiHwZ133pn20zh2Bs8++2y6ja997WvZM1J/EM85NsRtk2NHfFynbTM2oM8HtPOrr746OXHiRPbMuePM7t27m5JuXOU7fvx49mg4FJUp5VAU9yjjzZs3J6tWrUpPssajl9uS+oHYQIzgItfMmTOzZ7sTthX3syVLlqT/j2MXcYuxbMAYmePzVElelB3z850ZV4T4TNlwDvfWW2+lj8G2wPPB8uXLk9OnTzde02DwNy8yDFK4yhoG6cHHH3+cnD17NnuUpAOVoqBw5MiR7C/1U1HCgUD+2WefnVcvBKNnnnkmPaHM12srtIP58+eft34329LUxkEvHliA9tPtoCVctQnTGZlqyVWEMFCZaLTz/MAI+RhIGVAWsVbxNCQA48FDWZQDV8gpoxdffDEtIx6zvTBVNH8FpW5lqnrIH9fzaDcffvhhMnv27OyZYpykLFiwIHvUGe2fdvjggw82pi7zHO2Wv/O3Q/B3PA2a99F+J3OgTd/nRCHeh1ZxjyufJBrycbIb49lWN7Ej1AlLeJ9XaDWZuGDCTIF2Y1D6Iif2+eN2WcSX0O7pGxwziVGTpeyYn7+5kBIf2zkvKzNL6/PPP0/LrYwwpiB+EI9D7Aixndfysz2MJb1n8qIDrsKXadRkBjU5GNQQ0PPBOlzhja+UdcLVo6uuuip79IVutqXhwmCe20bC1ZEqeC9XFbkNLUxn5ODM4LqK/MnOxo0b06mn4fF4D5gcoNmvdv2AwcNLL72Ufm6MfRtPApD3cIWc27refvvtdFooMz5uueWWdMBF3+UWl3BS1asy1eAi+cCJdhh80zaZbvzqq68WHtfDwJ3B8n333VfYTuOEGMedKifTrLtz587k9ddfT2d10WY3bNiQjh/CTC9OUMC+Pv744+k+hfZLYn3v3r3p62WxnZAoYeEWGj4nPGb7VXCcpQ9zC03YBnEvn5CknLg9jFlY4zXebVWNHbSXUCcsxBAWaaLFx3TaZP5CQR4zDaokVGOMD4hpod3TN+jbVcUn64wDGIeEx3yX0M+6VTTmZ0xCDLriiisan0V5xfE5rM/7A74j+1c2ecHnEAtIjBCPiSXEDsqJv9kWSe3AWNIfJi800AiSRQGdwc73v//9SieSBFRObvJX27rZloYLbYf7LRnU55NoZXDg/OSTT7JH53ACxYC7yok+n82BMxwoufeVk6XwuNPApx0Owhyg4+mbeeHkkEFEPsHBSdlXv/rVcScAmdEREiBcVbn33nsLt9mrMtXgop657YkEAYNZBracuLe6HYz2QT/hBJ/fyqA959HWmM4dBq0hMVIFn8+gmtsT+d2lopNyZobkb4Wk/9K/q8SYcOIeYgBlQT8Oj/nOVf3whz9MB+BhG3fcccd5+8p+kvDvJh7m9WpbZWNHfiZtiKvjiZ9SN+JjOtpdgCBeMR5m5kU3eG8sxLqqs53oJyE2MP5gHBIeV41fea3G/OCYT1wOn/X1r3/9vEQJ4xfidkhwkAQhJlZF3GacQyyhvFtdlDGW9IfJiw74jYz87QhF6ACaWGRMCWJFgy+yz1zdIgNNgGKwyIC0XeDnCh31mA9A3WxLw4Pk1u2335488MADXZ+Y8z4G56GNsfTiCkWv0NY54Xn00UcLD9BgX/lB5HBiFmNQxYDh6aefbnw/rlB885vfTMuvH+peppoY8eCfhatl+SnHebRfrszHV+jy6AckRugX/WhT7De/qRPPnCqakjzR+Pzvfe97TScglAUnKQHlwQwRjpPsN0kj+j5Jjqpl1cttlcVJCTO0QrmzVJ2hIvUaJ97cGtEqBpBAJEHXbXKAJCrxLG73dRrnthvzk0Tm9o94fMLfYSZbwHNxMpckQqufA+gFY0l/mLzI0HAZ0MRXWsI9sfGPN3JfZ356Udn7qtQb1BHTYEk0tLpqFGd+WQjIZFfbZTtb3TLSzbY0HDhg0gaff/75rhMXQb6dcYBj2njR1d+JFAYM7WYshAQO6xZdpckPGFi4GsO/1DLecmunrmWqyRN+XLvbAf5Eoi/F7ZfZDtwK1a+T9rIuvfTS7K9z8uOnfMKIq6F333138txzz1Uu915uq6yieMV4wwsWqrPx3DKCfF9j4djfzeyyXioz5kf+PIy41OkHlRm7lPl9o24ZS/rD5EWGTpv/V0PI2PFcPGAnixb/UjmDCDo3V3PUfwSa8M9HxckDflSoVTa6DOqx6JYRTU0cjMmAj+dKPCfCJLJefvnlxiCaNtjNv2nOgaxuBzPKhfLJDxjYz3gww+N8Aof3Uj6TmSSoY5lqctFuSTzHt2nQZ2+++eam4wfrPfHEE03JbNozS0Db5tYSfkSyHyfR7EP8eXXBMfLdd99tiputZi2WRT8lHnOCMpkxA3w+P8Q3nvGE1AntLPwWTdFxiufy/YF/5pPf4Ssap7Ie5yLd3jJCf+bzuh0P9Qv9sMyYn+/Nv44Wl1enZA7v/9a3vpX+C4Ldxq52jCV9NJpT8NTA27t37+jYgfW8ZWzAMnry5MlsrdHR06dPj65atarx+tggJ3ulWby9RYsWjX7wwQfZK4NlEOu6VV22qgfql3oO673yyivZK83YbqvXgrLbmkxTsf+WRX8NdRMvRf04tKN8DAg6bSsfK4rWqYK2lN9Oq31rJ99G80uVNkt/ol8VbYfyC1qVFeVDOeV1Gz/zZc52wrZ4/ujRo+l3D9vsVZkOkmHu/0Xy/aFVm8yv16qd5NtU1WNA3PbZFz4jtGleC9unT8XrhqWb8Ua7WMXSTbzKx4ZW5Yq4zDqVa7vtoMy2ilSJHe+++25heXVTToPOeFJNq2NmUb+N22SrOJKPAe3aINv/zne+kz2qLh8Dw9Jq39qJ+2l+qdJvURQHWYrKtFN55eNA1X1BXMfh/XwOj/necVzhNWNJOVVjzQj/GXtTw8jICFvIHmkqs66nHutUGl72f0m9YjyRNBGqxhpvG5EkSZIkSbVm8kKSJEmSJNWayQtJkiRJklRrJi8kSZIkSVKtmbyQJEmSJEm1ZvJCkiRJkiTVmskLSZIkSZJUayYvJEmSJElSrZm8kCRJkiRJtWbyQpIkSZIk1ZrJC0mSJEmSVGsmLyRJkiRJUq2ZvJAkSZIkSbVm8kKSJEmSJNXayOiY7O9kZGQk+0uSJEmSJKl/onRER03JC0mSJEmSpLrxthFJkiRJklRrJi8kSZIkSVKtmbyQJEmSJEm1ZvJCkiRJkiTVmskLSZIkSZJUayYvJEmSJElSrZm8kCRJkiRJtWbyQpIkSZIk1ZrJC0mSJEmSVGsmLyRJkiRJUq2ZvJAkSZIkSbVm8kKSJEmSJNWayQtJkiRJklRrJi8kSZIkSVKtmbyQJEmSJEm1ZvJCkiRJkiTVWJL8/wHxYM6vzfcAwQAAAABJRU5ErkJggg==)\n"
      ],
      "metadata": {
        "id": "amsQsAqYEiHt"
      }
    },
    {
      "cell_type": "markdown",
      "source": [
        "Полные результаты тестирования алгоритмов по [ссылке](https://docs.google.com/document/d/1HkwUq6W-e53jyKa7eXlu_3q2DDyeHIq-EZs9QGwxaBA/edit?usp=sharing).\n",
        "\n",
        "**Выводы:**\n",
        "1. Судя по тестированию на реальных графах быстрее всего работает алгоритм транзитивного замыкания, что обосновано облегчением вычислений с помощью единичной матрицы. Второй по скорости Алгоритм Флойда Варшалла и затем уже модифицированный алгоритм Форда Баллмана.\n",
        "2. При тестирование на случайно сгенерированных графов скорость работы алгоритмов такая же. Тестирование проводилась на графах с 100 вершинами максимум.\n",
        "3. Быстрее всего алгоритмы отрабатывают на разряженном графе, где матрица заполнена менее, чем на 25%. При этом на совсем малых графах (до 50 вершин) практически таже быстро алгоритмы Флойда Варшалла и транзитивного замыкания работают на неразряженном графе, то есть на полностью заполненной матрице, где каждая вершина соединена с каждой. В алгоритме Форда Баллмана такой тенденции не выявлено."
      ],
      "metadata": {
        "id": "wUaZ_upu7DPR"
      }
    }
  ]
}