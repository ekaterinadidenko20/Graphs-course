{
  "nbformat": 4,
  "nbformat_minor": 0,
  "metadata": {
    "colab": {
      "provenance": []
    },
    "kernelspec": {
      "name": "python3",
      "display_name": "Python 3"
    },
    "language_info": {
      "name": "python"
    }
  },
  "cells": [
    {
      "cell_type": "code",
      "execution_count": null,
      "metadata": {
        "colab": {
          "base_uri": "https://localhost:8080/"
        },
        "id": "JDtzWhAnE9SM",
        "outputId": "a745bf8c-bf70-4805-cf6f-12a09e79583a"
      },
      "outputs": [
        {
          "output_type": "stream",
          "name": "stdout",
          "text": [
            "Collecting python-graphblas[default]\n",
            "  Downloading python_graphblas-2024.2.0-py3-none-any.whl (350 kB)\n",
            "\u001b[2K     \u001b[90m━━━━━━━━━━━━━━━━━━━━━━━━━━━━━━━━━━━━━━━━\u001b[0m \u001b[32m350.9/350.9 kB\u001b[0m \u001b[31m4.9 MB/s\u001b[0m eta \u001b[36m0:00:00\u001b[0m\n",
            "\u001b[?25hRequirement already satisfied: numpy>=1.22 in /usr/local/lib/python3.10/dist-packages (from python-graphblas[default]) (1.25.2)\n",
            "Collecting donfig>=0.6 (from python-graphblas[default])\n",
            "  Downloading donfig-0.8.1.post1-py3-none-any.whl (21 kB)\n",
            "Requirement already satisfied: pyyaml>=5.4 in /usr/local/lib/python3.10/dist-packages (from python-graphblas[default]) (6.0.1)\n",
            "Collecting suitesparse-graphblas<9,>=7.4.0.0 (from python-graphblas[default])\n",
            "  Downloading suitesparse_graphblas-8.2.1.0-cp310-cp310-manylinux_2_17_x86_64.manylinux2014_x86_64.whl (45.7 MB)\n",
            "\u001b[2K     \u001b[90m━━━━━━━━━━━━━━━━━━━━━━━━━━━━━━━━━━━━━━━━\u001b[0m \u001b[32m45.7/45.7 MB\u001b[0m \u001b[31m2.1 MB/s\u001b[0m eta \u001b[36m0:00:00\u001b[0m\n",
            "\u001b[?25hRequirement already satisfied: numba>=0.55 in /usr/local/lib/python3.10/dist-packages (from python-graphblas[default]) (0.58.1)\n",
            "Requirement already satisfied: llvmlite<0.42,>=0.41.0dev0 in /usr/local/lib/python3.10/dist-packages (from numba>=0.55->python-graphblas[default]) (0.41.1)\n",
            "Requirement already satisfied: cffi>=1.11 in /usr/local/lib/python3.10/dist-packages (from suitesparse-graphblas<9,>=7.4.0.0->python-graphblas[default]) (1.16.0)\n",
            "Requirement already satisfied: scipy>=1.9 in /usr/local/lib/python3.10/dist-packages (from python-graphblas[default]) (1.11.4)\n",
            "Requirement already satisfied: pandas>=1.2 in /usr/local/lib/python3.10/dist-packages (from python-graphblas[default]) (2.0.3)\n",
            "Requirement already satisfied: pycparser in /usr/local/lib/python3.10/dist-packages (from cffi>=1.11->suitesparse-graphblas<9,>=7.4.0.0->python-graphblas[default]) (2.22)\n",
            "Requirement already satisfied: python-dateutil>=2.8.2 in /usr/local/lib/python3.10/dist-packages (from pandas>=1.2->python-graphblas[default]) (2.8.2)\n",
            "Requirement already satisfied: pytz>=2020.1 in /usr/local/lib/python3.10/dist-packages (from pandas>=1.2->python-graphblas[default]) (2023.4)\n",
            "Requirement already satisfied: tzdata>=2022.1 in /usr/local/lib/python3.10/dist-packages (from pandas>=1.2->python-graphblas[default]) (2024.1)\n",
            "Requirement already satisfied: six>=1.5 in /usr/local/lib/python3.10/dist-packages (from python-dateutil>=2.8.2->pandas>=1.2->python-graphblas[default]) (1.16.0)\n",
            "Installing collected packages: donfig, suitesparse-graphblas, python-graphblas\n",
            "Successfully installed donfig-0.8.1.post1 python-graphblas-2024.2.0 suitesparse-graphblas-8.2.1.0\n"
          ]
        }
      ],
      "source": [
        "!pip install python-graphblas[default]"
      ]
    },
    {
      "cell_type": "code",
      "source": [
        "import numpy as np\n",
        "import pandas as pd\n",
        "import networkx as nx\n",
        "import matplotlib.pyplot as plt\n",
        "import graphblas as gb\n",
        "from graphblas import Matrix, Vector, Scalar\n",
        "from graphblas import dtypes\n",
        "from graphblas import unary, binary, monoid, semiring\n",
        "import networkx as nx"
      ],
      "metadata": {
        "id": "JKVKKQUnFGns"
      },
      "execution_count": null,
      "outputs": []
    },
    {
      "cell_type": "markdown",
      "source": [
        "# **PageRank**\n",
        "\n",
        "Используя python-graphblas реализовать функцию PageRank с параметрами из лекции.  Добавить необходимые тесты и небольшие примеры."
      ],
      "metadata": {
        "id": "vyu1faeoFdfg"
      }
    },
    {
      "cell_type": "code",
      "source": [
        "def PageRank(A, damping=0.85, itermax=100, tol=1e-4):\n",
        "  n = A.nrows\n",
        "  A << A.apply(unary.one) # requires binary input graph\n",
        "  teleport = (1 - damping) / n\n",
        "  rdiff = 1  # first iteration is always done\n",
        "  ri = Vector(dtypes.FP32, n)\n",
        "  rj = Vector(dtypes.FP32, n)\n",
        "  # Начальная иницализация\n",
        "  rj[:] << 1 / n\n",
        "  # Вычисление исходящей степени узлов\n",
        "  d_out = A.reduce_rowwise(monoid.plus).new()\n",
        "  d = d_out.dup(dtype=\"FP32\")\n",
        "  d(accum=binary.truediv)[:] << damping # prescale with damping factor\n",
        "  # pagerank iterations\n",
        "  for i in range(itermax):\n",
        "        if rdiff <= tol:\n",
        "            break\n",
        "        # переприсвоим значение\n",
        "        ri = rj\n",
        "        # реализация формулы для расчета\n",
        "        w = Vector(dtypes.FP32, n)\n",
        "        w << ri.ewise_mult(d, binary.truediv)\n",
        "        rj = A.T.mxv(w, semiring.plus_second) + teleport\n",
        "        t = abs(rj - ri)\n",
        "        rdiff = t.reduce(monoid.plus)\n",
        "  return rj\n"
      ],
      "metadata": {
        "id": "58iCQgkLFlpG"
      },
      "execution_count": null,
      "outputs": []
    },
    {
      "cell_type": "markdown",
      "source": [
        "# **Тестирование**\n",
        "Будем сравнивать полученные значения со значениями из networkx."
      ],
      "metadata": {
        "id": "RGFsWODMXwMb"
      }
    },
    {
      "cell_type": "markdown",
      "source": [
        "**Test 1**"
      ],
      "metadata": {
        "id": "yJydULK6X-o9"
      }
    },
    {
      "cell_type": "code",
      "source": [
        "data = [\n",
        "    [0, 1, 1, 2, 2, 3, 1, 3],\n",
        "    [1, 0, 2, 1, 3, 1, 3, 2],\n",
        "    [3, 3, 2, 2, 5, 1, 1, 5],\n",
        "]\n",
        "rows, cols, weights = data\n",
        "M1 = Matrix.from_coo(rows, cols, weights)\n",
        "gb.viz.draw(M1)"
      ],
      "metadata": {
        "colab": {
          "base_uri": "https://localhost:8080/",
          "height": 406
        },
        "id": "FVbcGzNSX9-P",
        "outputId": "cc46f39b-ee67-4f3e-dbed-bb31a132e9d3"
      },
      "execution_count": null,
      "outputs": [
        {
          "output_type": "display_data",
          "data": {
            "text/plain": [
              "<Figure size 640x480 with 1 Axes>"
            ],
            "image/png": "[encoded data removed]"
          },
          "metadata": {}
        }
      ]
    },
    {
      "cell_type": "code",
      "source": [
        "PageRank(M1)"
      ],
      "metadata": {
        "colab": {
          "base_uri": "https://localhost:8080/",
          "height": 150
        },
        "id": "K8CvG0CbYGbS",
        "outputId": "484d547f-5df2-4714-d823-6bc42f0b04ef"
      },
      "execution_count": null,
      "outputs": [
        {
          "output_type": "execute_result",
          "data": {
            "text/plain": [
              "gb.VectorExpression                                         size  dtype\n",
              "v_782.apply(binary.plus[FP64], right=0.037500000000000006)     4   FP64\n",
              "\n",
              "\"Result\"   nvals  size  dtype\n",
              "gb.Vector      4     4   FP64\n",
              "-----------------------------\n",
              "index         0         1         2         3\n",
              "value  0.141401  0.366752  0.245923  0.245923\n",
              "\n",
              "Do expr.new() or other << expr to calculate the expression."
            ],
            "text/html": [
              "<div>\n",
              "<style>\n",
              "table.gb-info-table {\n",
              "    border: 1px solid black;\n",
              "    max-width: 100%;\n",
              "    margin-top: 0px;\n",
              "    margin-bottom: 0px;\n",
              "    padding-top: 0px;\n",
              "    padding-bottom: 0px;\n",
              "}\n",
              "\n",
              "td.gb-info-name-cell {\n",
              "    white-space: nowrap;\n",
              "}\n",
              "\n",
              "details.gb-arg-details {\n",
              "    margin-top: 0px;\n",
              "    margin-bottom: 0px;\n",
              "    padding-top: 0px;\n",
              "    padding-bottom: 5px;\n",
              "    margin-left: 10px;\n",
              "}\n",
              "\n",
              "summary.gb-arg-summary {\n",
              "    display: list-item;\n",
              "    outline: none;\n",
              "    margin-top: 0px;\n",
              "    margin-bottom: 0px;\n",
              "    padding-top: 0px;\n",
              "    padding-bottom: 0px;\n",
              "    margin-left: -10px;\n",
              "}\n",
              "\n",
              "details.gb-expr-details {\n",
              "    margin-top: 0px;\n",
              "    margin-bottom: 0px;\n",
              "    padding-top: 0px;\n",
              "    padding-bottom: 5px;\n",
              "}\n",
              "\n",
              "summary.gb-expr-summary {\n",
              "    display: list-item;\n",
              "    outline: none;\n",
              "    margin-top: 0px;\n",
              "    margin-bottom: 0px;\n",
              "    padding-top: 0px;\n",
              "    padding-bottom: 0px;\n",
              "}\n",
              "\n",
              "blockquote.gb-expr-blockquote {\n",
              "    margin-top: 5px;\n",
              "    margin-bottom: 0px;\n",
              "    padding-top: 0px;\n",
              "    padding-bottom: 0px;\n",
              "    margin-left: 15px;\n",
              "}\n",
              "\n",
              ".gb-scalar {\n",
              "    margin-top: 0px;\n",
              "    margin-bottom: 0px;\n",
              "    padding-top: 0px;\n",
              "    padding-bottom: 5px;\n",
              "}\n",
              "\n",
              "/* modify pandas dataframe */\n",
              "table.dataframe {\n",
              "    margin-top: 0px;\n",
              "    margin-bottom: 0px;\n",
              "    padding-top: 0px;\n",
              "    padding-bottom: 0px;\n",
              "}\n",
              "\n",
              "/* expression tooltips */\n",
              ".expr-tooltip .tooltip-circle {\n",
              "    background: #9a9cc6;\n",
              "    color: #fff;\n",
              "    border-radius: 50%;\n",
              "    width: 40px;\n",
              "    height: 40px;\n",
              "    padding-left: 4px;\n",
              "    padding-right: 4px;\n",
              "}\n",
              ".expr-tooltip .tooltip-text {\n",
              "    visibility: hidden;\n",
              "    position: absolute;\n",
              "    width: 450px;\n",
              "    background: #eef;\n",
              "    border: 1px solid #99a;\n",
              "    text-align: left;\n",
              "    border-radius: 6px;\n",
              "    padding: 3px 3px 3px 8px;\n",
              "    margin-left: 6px;\n",
              "}\n",
              ".expr-tooltip:hover .tooltip-text {\n",
              "    visibility: visible;\n",
              "}\n",
              ".expr-tooltip code {\n",
              "    background-color: #f8ffed;\n",
              "}\n",
              "</style>\n",
              "<details open class=\"gb-arg-details\"><summary class=\"gb-arg-summary\"><tt><b>gb.VectorExpression</b></tt>&nbsp;<span class=\"expr-tooltip\"><span class=\"tooltip-circle\">?</span><span class=\"tooltip-text\"><em>Do <code>expr.new()</code> or <code>other << expr</code> to calculate the expression.</em></span></span><div>\n",
              "<table class=\"gb-info-table\">\n",
              "  <tr>\n",
              "    <td rowspan=\"2\" class=\"gb-info-name-cell\"><pre>v<sub>782</sub>.apply(binary.plus[FP64], right=0.037500000000000006)</pre></td>\n",
              "    <td><pre>nvals</pre></td>\n",
              "    <td><pre>size</pre></td>\n",
              "    <td><pre>dtype</pre></td>\n",
              "  </tr>\n",
              "  <tr>\n",
              "    <td>4</td>\n",
              "    <td>4</td>\n",
              "    <td>FP64</td>\n",
              "  </tr>\n",
              "</table>\n",
              "</div>\n",
              "</summary><div>\n",
              "<style scoped>\n",
              "    .dataframe tbody tr th:only-of-type {\n",
              "        vertical-align: middle;\n",
              "    }\n",
              "\n",
              "    .dataframe tbody tr th {\n",
              "        vertical-align: top;\n",
              "    }\n",
              "\n",
              "    .dataframe thead th {\n",
              "        text-align: right;\n",
              "    }\n",
              "</style>\n",
              "<table border=\"1\" class=\"dataframe\">\n",
              "  <thead>\n",
              "    <tr style=\"text-align: right;\">\n",
              "      <th></th>\n",
              "      <th>0</th>\n",
              "      <th>1</th>\n",
              "      <th>2</th>\n",
              "      <th>3</th>\n",
              "    </tr>\n",
              "  </thead>\n",
              "  <tbody>\n",
              "    <tr>\n",
              "      <th></th>\n",
              "      <td>0.141401</td>\n",
              "      <td>0.366752</td>\n",
              "      <td>0.245923</td>\n",
              "      <td>0.245923</td>\n",
              "    </tr>\n",
              "  </tbody>\n",
              "</table>\n",
              "</div></details></div>"
            ]
          },
          "metadata": {},
          "execution_count": 17
        }
      ]
    },
    {
      "cell_type": "code",
      "source": [
        "g1 = gb.io.to_networkx(M1)\n",
        "nx.pagerank(g1, alpha=0.85, max_iter =100, tol=1e-4)"
      ],
      "metadata": {
        "colab": {
          "base_uri": "https://localhost:8080/"
        },
        "id": "SB4Pat_AYUY0",
        "outputId": "46179605-c6ef-4fe0-fb64-db0f7ba8e06c"
      },
      "execution_count": null,
      "outputs": [
        {
          "output_type": "execute_result",
          "data": {
            "text/plain": [
              "{0: 0.14143975470343678,\n",
              " 1: 0.3666675305315227,\n",
              " 2: 0.24594635738252024,\n",
              " 3: 0.24594635738252024}"
            ]
          },
          "metadata": {},
          "execution_count": 10
        }
      ]
    },
    {
      "cell_type": "markdown",
      "source": [
        "**Test 2**"
      ],
      "metadata": {
        "id": "_Re-kyysZZXO"
      }
    },
    {
      "cell_type": "code",
      "source": [
        "data = [\n",
        "  [1, 2, 3, 1, 4, 5, 5, 5, 4, 1, 6, 0, 3],\n",
        "  [2, 3, 0, 4, 5, 1, 6, 4, 1, 5, 5, 1, 1],\n",
        "  [2, 3, 2, 5, 6, 4, 1, 6, 1, 4, 1, 1, 1],\n",
        "]\n",
        "rows, cols, weights = data\n",
        "M2 = Matrix.from_coo(rows, cols, weights)\n",
        "gb.viz.draw(M2)"
      ],
      "metadata": {
        "colab": {
          "base_uri": "https://localhost:8080/",
          "height": 406
        },
        "id": "FWfOGPF-ZcS-",
        "outputId": "9f343f19-2937-4046-8750-141dde67a859"
      },
      "execution_count": null,
      "outputs": [
        {
          "output_type": "display_data",
          "data": {
            "text/plain": [
              "<Figure size 640x480 with 1 Axes>"
            ],
            "image/png": "[encoded data removed]"
          },
          "metadata": {}
        }
      ]
    },
    {
      "cell_type": "code",
      "source": [
        "PageRank(M2)"
      ],
      "metadata": {
        "colab": {
          "base_uri": "https://localhost:8080/",
          "height": 150
        },
        "id": "Ke3cAc9VaKn2",
        "outputId": "327704b5-4b55-4735-e2d6-309779adb4e8"
      },
      "execution_count": null,
      "outputs": [
        {
          "output_type": "execute_result",
          "data": {
            "text/plain": [
              "gb.VectorExpression                                         size  dtype\n",
              "v_872.apply(binary.plus[FP64], right=0.021428571428571432)     7   FP64\n",
              "\n",
              "\"Result\"   nvals  size  dtype\n",
              "gb.Vector      7     7   FP64\n",
              "-----------------------------\n",
              "index         0         1         2         3         4         5         6\n",
              "value  0.064331  0.254546  0.093552  0.100945  0.160759  0.237232  0.088635\n",
              "\n",
              "Do expr.new() or other << expr to calculate the expression."
            ],
            "text/html": [
              "<div>\n",
              "<style>\n",
              "table.gb-info-table {\n",
              "    border: 1px solid black;\n",
              "    max-width: 100%;\n",
              "    margin-top: 0px;\n",
              "    margin-bottom: 0px;\n",
              "    padding-top: 0px;\n",
              "    padding-bottom: 0px;\n",
              "}\n",
              "\n",
              "td.gb-info-name-cell {\n",
              "    white-space: nowrap;\n",
              "}\n",
              "\n",
              "details.gb-arg-details {\n",
              "    margin-top: 0px;\n",
              "    margin-bottom: 0px;\n",
              "    padding-top: 0px;\n",
              "    padding-bottom: 5px;\n",
              "    margin-left: 10px;\n",
              "}\n",
              "\n",
              "summary.gb-arg-summary {\n",
              "    display: list-item;\n",
              "    outline: none;\n",
              "    margin-top: 0px;\n",
              "    margin-bottom: 0px;\n",
              "    padding-top: 0px;\n",
              "    padding-bottom: 0px;\n",
              "    margin-left: -10px;\n",
              "}\n",
              "\n",
              "details.gb-expr-details {\n",
              "    margin-top: 0px;\n",
              "    margin-bottom: 0px;\n",
              "    padding-top: 0px;\n",
              "    padding-bottom: 5px;\n",
              "}\n",
              "\n",
              "summary.gb-expr-summary {\n",
              "    display: list-item;\n",
              "    outline: none;\n",
              "    margin-top: 0px;\n",
              "    margin-bottom: 0px;\n",
              "    padding-top: 0px;\n",
              "    padding-bottom: 0px;\n",
              "}\n",
              "\n",
              "blockquote.gb-expr-blockquote {\n",
              "    margin-top: 5px;\n",
              "    margin-bottom: 0px;\n",
              "    padding-top: 0px;\n",
              "    padding-bottom: 0px;\n",
              "    margin-left: 15px;\n",
              "}\n",
              "\n",
              ".gb-scalar {\n",
              "    margin-top: 0px;\n",
              "    margin-bottom: 0px;\n",
              "    padding-top: 0px;\n",
              "    padding-bottom: 5px;\n",
              "}\n",
              "\n",
              "/* modify pandas dataframe */\n",
              "table.dataframe {\n",
              "    margin-top: 0px;\n",
              "    margin-bottom: 0px;\n",
              "    padding-top: 0px;\n",
              "    padding-bottom: 0px;\n",
              "}\n",
              "\n",
              "/* expression tooltips */\n",
              ".expr-tooltip .tooltip-circle {\n",
              "    background: #9a9cc6;\n",
              "    color: #fff;\n",
              "    border-radius: 50%;\n",
              "    width: 40px;\n",
              "    height: 40px;\n",
              "    padding-left: 4px;\n",
              "    padding-right: 4px;\n",
              "}\n",
              ".expr-tooltip .tooltip-text {\n",
              "    visibility: hidden;\n",
              "    position: absolute;\n",
              "    width: 450px;\n",
              "    background: #eef;\n",
              "    border: 1px solid #99a;\n",
              "    text-align: left;\n",
              "    border-radius: 6px;\n",
              "    padding: 3px 3px 3px 8px;\n",
              "    margin-left: 6px;\n",
              "}\n",
              ".expr-tooltip:hover .tooltip-text {\n",
              "    visibility: visible;\n",
              "}\n",
              ".expr-tooltip code {\n",
              "    background-color: #f8ffed;\n",
              "}\n",
              "</style>\n",
              "<details open class=\"gb-arg-details\"><summary class=\"gb-arg-summary\"><tt><b>gb.VectorExpression</b></tt>&nbsp;<span class=\"expr-tooltip\"><span class=\"tooltip-circle\">?</span><span class=\"tooltip-text\"><em>Do <code>expr.new()</code> or <code>other << expr</code> to calculate the expression.</em></span></span><div>\n",
              "<table class=\"gb-info-table\">\n",
              "  <tr>\n",
              "    <td rowspan=\"2\" class=\"gb-info-name-cell\"><pre>v<sub>872</sub>.apply(binary.plus[FP64], right=0.021428571428571432)</pre></td>\n",
              "    <td><pre>nvals</pre></td>\n",
              "    <td><pre>size</pre></td>\n",
              "    <td><pre>dtype</pre></td>\n",
              "  </tr>\n",
              "  <tr>\n",
              "    <td>7</td>\n",
              "    <td>7</td>\n",
              "    <td>FP64</td>\n",
              "  </tr>\n",
              "</table>\n",
              "</div>\n",
              "</summary><div>\n",
              "<style scoped>\n",
              "    .dataframe tbody tr th:only-of-type {\n",
              "        vertical-align: middle;\n",
              "    }\n",
              "\n",
              "    .dataframe tbody tr th {\n",
              "        vertical-align: top;\n",
              "    }\n",
              "\n",
              "    .dataframe thead th {\n",
              "        text-align: right;\n",
              "    }\n",
              "</style>\n",
              "<table border=\"1\" class=\"dataframe\">\n",
              "  <thead>\n",
              "    <tr style=\"text-align: right;\">\n",
              "      <th></th>\n",
              "      <th>0</th>\n",
              "      <th>1</th>\n",
              "      <th>2</th>\n",
              "      <th>3</th>\n",
              "      <th>4</th>\n",
              "      <th>5</th>\n",
              "      <th>6</th>\n",
              "    </tr>\n",
              "  </thead>\n",
              "  <tbody>\n",
              "    <tr>\n",
              "      <th></th>\n",
              "      <td>0.064331</td>\n",
              "      <td>0.254546</td>\n",
              "      <td>0.093552</td>\n",
              "      <td>0.100945</td>\n",
              "      <td>0.160759</td>\n",
              "      <td>0.237232</td>\n",
              "      <td>0.088635</td>\n",
              "    </tr>\n",
              "  </tbody>\n",
              "</table>\n",
              "</div></details></div>"
            ]
          },
          "metadata": {},
          "execution_count": 18
        }
      ]
    },
    {
      "cell_type": "code",
      "source": [
        "g2 = gb.io.to_networkx(M2)\n",
        "nx.pagerank(g2, alpha=0.85, max_iter =100, tol=1e-4)"
      ],
      "metadata": {
        "colab": {
          "base_uri": "https://localhost:8080/"
        },
        "id": "3v7kQJjqaNKG",
        "outputId": "d0675f94-b890-4acb-a620-eee0b50e7bce"
      },
      "execution_count": null,
      "outputs": [
        {
          "output_type": "execute_result",
          "data": {
            "text/plain": [
              "{0: 0.06433048002682992,\n",
              " 1: 0.2545381806379269,\n",
              " 2: 0.09356233420647174,\n",
              " 4: 0.1607304891319006,\n",
              " 5: 0.2373061386674685,\n",
              " 3: 0.100935650975402,\n",
              " 6: 0.08859672635400029}"
            ]
          },
          "metadata": {},
          "execution_count": 19
        }
      ]
    },
    {
      "cell_type": "markdown",
      "source": [
        "**Test 3**"
      ],
      "metadata": {
        "id": "zZb5YMfeaX7F"
      }
    },
    {
      "cell_type": "code",
      "source": [
        "data = [\n",
        "  [0, 1, 2, 3, 4, 5, 6, 0, 6, 5],\n",
        "  [1, 2, 3, 4, 5, 6, 0, 6, 5, 4],\n",
        "  [2.0, 3.3, 2.5, 2.5, 4.6, 1.4, 1.6, 1.6, 1.4, 4.6],\n",
        "]\n",
        "rows, cols, weights = data\n",
        "M3 = Matrix.from_coo(rows, cols, weights)\n",
        "gb.viz.draw(M3)"
      ],
      "metadata": {
        "colab": {
          "base_uri": "https://localhost:8080/",
          "height": 406
        },
        "id": "Sc4LIpMOaaAm",
        "outputId": "286d33ec-a783-4718-ffb8-26e304b33860"
      },
      "execution_count": null,
      "outputs": [
        {
          "output_type": "display_data",
          "data": {
            "text/plain": [
              "<Figure size 640x480 with 1 Axes>"
            ],
            "image/png": "[encoded data removed]"
          },
          "metadata": {}
        }
      ]
    },
    {
      "cell_type": "code",
      "source": [
        "PageRank(M3)"
      ],
      "metadata": {
        "colab": {
          "base_uri": "https://localhost:8080/",
          "height": 150
        },
        "id": "OzynDCFjbBHU",
        "outputId": "0752ca73-f208-4a12-f0a5-d9ea8a6db596"
      },
      "execution_count": null,
      "outputs": [
        {
          "output_type": "execute_result",
          "data": {
            "text/plain": [
              "gb.VectorExpression                                          size  dtype\n",
              "v_1002.apply(binary.plus[FP64], right=0.021428571428571432)     7   FP64\n",
              "\n",
              "\"Result\"   nvals  size  dtype\n",
              "gb.Vector      7     7   FP64\n",
              "-----------------------------\n",
              "index         0         1         2         3         4         5         6\n",
              "value  0.099083  0.063533  0.075437  0.085545  0.213307  0.280402  0.182694\n",
              "\n",
              "Do expr.new() or other << expr to calculate the expression."
            ],
            "text/html": [
              "<div>\n",
              "<style>\n",
              "table.gb-info-table {\n",
              "    border: 1px solid black;\n",
              "    max-width: 100%;\n",
              "    margin-top: 0px;\n",
              "    margin-bottom: 0px;\n",
              "    padding-top: 0px;\n",
              "    padding-bottom: 0px;\n",
              "}\n",
              "\n",
              "td.gb-info-name-cell {\n",
              "    white-space: nowrap;\n",
              "}\n",
              "\n",
              "details.gb-arg-details {\n",
              "    margin-top: 0px;\n",
              "    margin-bottom: 0px;\n",
              "    padding-top: 0px;\n",
              "    padding-bottom: 5px;\n",
              "    margin-left: 10px;\n",
              "}\n",
              "\n",
              "summary.gb-arg-summary {\n",
              "    display: list-item;\n",
              "    outline: none;\n",
              "    margin-top: 0px;\n",
              "    margin-bottom: 0px;\n",
              "    padding-top: 0px;\n",
              "    padding-bottom: 0px;\n",
              "    margin-left: -10px;\n",
              "}\n",
              "\n",
              "details.gb-expr-details {\n",
              "    margin-top: 0px;\n",
              "    margin-bottom: 0px;\n",
              "    padding-top: 0px;\n",
              "    padding-bottom: 5px;\n",
              "}\n",
              "\n",
              "summary.gb-expr-summary {\n",
              "    display: list-item;\n",
              "    outline: none;\n",
              "    margin-top: 0px;\n",
              "    margin-bottom: 0px;\n",
              "    padding-top: 0px;\n",
              "    padding-bottom: 0px;\n",
              "}\n",
              "\n",
              "blockquote.gb-expr-blockquote {\n",
              "    margin-top: 5px;\n",
              "    margin-bottom: 0px;\n",
              "    padding-top: 0px;\n",
              "    padding-bottom: 0px;\n",
              "    margin-left: 15px;\n",
              "}\n",
              "\n",
              ".gb-scalar {\n",
              "    margin-top: 0px;\n",
              "    margin-bottom: 0px;\n",
              "    padding-top: 0px;\n",
              "    padding-bottom: 5px;\n",
              "}\n",
              "\n",
              "/* modify pandas dataframe */\n",
              "table.dataframe {\n",
              "    margin-top: 0px;\n",
              "    margin-bottom: 0px;\n",
              "    padding-top: 0px;\n",
              "    padding-bottom: 0px;\n",
              "}\n",
              "\n",
              "/* expression tooltips */\n",
              ".expr-tooltip .tooltip-circle {\n",
              "    background: #9a9cc6;\n",
              "    color: #fff;\n",
              "    border-radius: 50%;\n",
              "    width: 40px;\n",
              "    height: 40px;\n",
              "    padding-left: 4px;\n",
              "    padding-right: 4px;\n",
              "}\n",
              ".expr-tooltip .tooltip-text {\n",
              "    visibility: hidden;\n",
              "    position: absolute;\n",
              "    width: 450px;\n",
              "    background: #eef;\n",
              "    border: 1px solid #99a;\n",
              "    text-align: left;\n",
              "    border-radius: 6px;\n",
              "    padding: 3px 3px 3px 8px;\n",
              "    margin-left: 6px;\n",
              "}\n",
              ".expr-tooltip:hover .tooltip-text {\n",
              "    visibility: visible;\n",
              "}\n",
              ".expr-tooltip code {\n",
              "    background-color: #f8ffed;\n",
              "}\n",
              "</style>\n",
              "<details open class=\"gb-arg-details\"><summary class=\"gb-arg-summary\"><tt><b>gb.VectorExpression</b></tt>&nbsp;<span class=\"expr-tooltip\"><span class=\"tooltip-circle\">?</span><span class=\"tooltip-text\"><em>Do <code>expr.new()</code> or <code>other << expr</code> to calculate the expression.</em></span></span><div>\n",
              "<table class=\"gb-info-table\">\n",
              "  <tr>\n",
              "    <td rowspan=\"2\" class=\"gb-info-name-cell\"><pre>v<sub>1002</sub>.apply(binary.plus[FP64], right=0.021428571428571432)</pre></td>\n",
              "    <td><pre>nvals</pre></td>\n",
              "    <td><pre>size</pre></td>\n",
              "    <td><pre>dtype</pre></td>\n",
              "  </tr>\n",
              "  <tr>\n",
              "    <td>7</td>\n",
              "    <td>7</td>\n",
              "    <td>FP64</td>\n",
              "  </tr>\n",
              "</table>\n",
              "</div>\n",
              "</summary><div>\n",
              "<style scoped>\n",
              "    .dataframe tbody tr th:only-of-type {\n",
              "        vertical-align: middle;\n",
              "    }\n",
              "\n",
              "    .dataframe tbody tr th {\n",
              "        vertical-align: top;\n",
              "    }\n",
              "\n",
              "    .dataframe thead th {\n",
              "        text-align: right;\n",
              "    }\n",
              "</style>\n",
              "<table border=\"1\" class=\"dataframe\">\n",
              "  <thead>\n",
              "    <tr style=\"text-align: right;\">\n",
              "      <th></th>\n",
              "      <th>0</th>\n",
              "      <th>1</th>\n",
              "      <th>2</th>\n",
              "      <th>3</th>\n",
              "      <th>4</th>\n",
              "      <th>5</th>\n",
              "      <th>6</th>\n",
              "    </tr>\n",
              "  </thead>\n",
              "  <tbody>\n",
              "    <tr>\n",
              "      <th></th>\n",
              "      <td>0.099083</td>\n",
              "      <td>0.063533</td>\n",
              "      <td>0.075437</td>\n",
              "      <td>0.085545</td>\n",
              "      <td>0.213307</td>\n",
              "      <td>0.280402</td>\n",
              "      <td>0.182694</td>\n",
              "    </tr>\n",
              "  </tbody>\n",
              "</table>\n",
              "</div></details></div>"
            ]
          },
          "metadata": {},
          "execution_count": 21
        }
      ]
    },
    {
      "cell_type": "code",
      "source": [
        "g3 = gb.io.to_networkx(M3)\n",
        "nx.pagerank(g3, alpha=0.85, max_iter =100, tol=1e-4)"
      ],
      "metadata": {
        "colab": {
          "base_uri": "https://localhost:8080/"
        },
        "id": "KtNQxqjkbEH0",
        "outputId": "ae1cde0c-0236-49f3-d4ff-b5f140f1ed30"
      },
      "execution_count": null,
      "outputs": [
        {
          "output_type": "execute_result",
          "data": {
            "text/plain": [
              "{0: 0.0990775053717801,\n",
              " 1: 0.06355194727745743,\n",
              " 6: 0.18270337398402042,\n",
              " 2: 0.07541498344436291,\n",
              " 3: 0.08557247019862514,\n",
              " 4: 0.21323427211927534,\n",
              " 5: 0.2804454476044787}"
            ]
          },
          "metadata": {},
          "execution_count": 22
        }
      ]
    }
  ]
}