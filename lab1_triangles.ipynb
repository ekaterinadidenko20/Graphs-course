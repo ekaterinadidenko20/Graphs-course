{
  "cells": [
    {
      "cell_type": "code",
      "execution_count": 1,
      "metadata": {
        "colab": {
          "base_uri": "https://localhost:8080/",
          "height": 0
        },
        "id": "cK_YShEXzfrP",
        "outputId": "5bbb6bcf-89ca-4995-bdb2-5efbdbafaad1"
      },
      "outputs": [
        {
          "output_type": "stream",
          "name": "stdout",
          "text": [
            "Collecting python-graphblas[default]\n",
            "  Downloading python_graphblas-2024.2.0-py3-none-any.whl (350 kB)\n",
            "\u001b[2K     \u001b[90m━━━━━━━━━━━━━━━━━━━━━━━━━━━━━━━━━━━━━━━━\u001b[0m \u001b[32m350.9/350.9 kB\u001b[0m \u001b[31m2.6 MB/s\u001b[0m eta \u001b[36m0:00:00\u001b[0m\n",
            "\u001b[?25hRequirement already satisfied: numpy>=1.22 in /usr/local/lib/python3.10/dist-packages (from python-graphblas[default]) (1.25.2)\n",
            "Collecting donfig>=0.6 (from python-graphblas[default])\n",
            "  Downloading donfig-0.8.1.post0-py3-none-any.whl (24 kB)\n",
            "Requirement already satisfied: pyyaml>=5.4 in /usr/local/lib/python3.10/dist-packages (from python-graphblas[default]) (6.0.1)\n",
            "Collecting suitesparse-graphblas<9,>=7.4.0.0 (from python-graphblas[default])\n",
            "  Downloading suitesparse_graphblas-8.2.1.0-cp310-cp310-manylinux_2_17_x86_64.manylinux2014_x86_64.whl (45.7 MB)\n",
            "\u001b[2K     \u001b[90m━━━━━━━━━━━━━━━━━━━━━━━━━━━━━━━━━━━━━━━━\u001b[0m \u001b[32m45.7/45.7 MB\u001b[0m \u001b[31m11.9 MB/s\u001b[0m eta \u001b[36m0:00:00\u001b[0m\n",
            "\u001b[?25hRequirement already satisfied: numba>=0.55 in /usr/local/lib/python3.10/dist-packages (from python-graphblas[default]) (0.58.1)\n",
            "Requirement already satisfied: llvmlite<0.42,>=0.41.0dev0 in /usr/local/lib/python3.10/dist-packages (from numba>=0.55->python-graphblas[default]) (0.41.1)\n",
            "Requirement already satisfied: cffi>=1.11 in /usr/local/lib/python3.10/dist-packages (from suitesparse-graphblas<9,>=7.4.0.0->python-graphblas[default]) (1.16.0)\n",
            "Requirement already satisfied: scipy>=1.9 in /usr/local/lib/python3.10/dist-packages (from python-graphblas[default]) (1.11.4)\n",
            "Requirement already satisfied: pandas>=1.2 in /usr/local/lib/python3.10/dist-packages (from python-graphblas[default]) (2.0.3)\n",
            "Requirement already satisfied: pycparser in /usr/local/lib/python3.10/dist-packages (from cffi>=1.11->suitesparse-graphblas<9,>=7.4.0.0->python-graphblas[default]) (2.22)\n",
            "Requirement already satisfied: python-dateutil>=2.8.2 in /usr/local/lib/python3.10/dist-packages (from pandas>=1.2->python-graphblas[default]) (2.8.2)\n",
            "Requirement already satisfied: pytz>=2020.1 in /usr/local/lib/python3.10/dist-packages (from pandas>=1.2->python-graphblas[default]) (2023.4)\n",
            "Requirement already satisfied: tzdata>=2022.1 in /usr/local/lib/python3.10/dist-packages (from pandas>=1.2->python-graphblas[default]) (2024.1)\n",
            "Requirement already satisfied: six>=1.5 in /usr/local/lib/python3.10/dist-packages (from python-dateutil>=2.8.2->pandas>=1.2->python-graphblas[default]) (1.16.0)\n",
            "Installing collected packages: donfig, suitesparse-graphblas, python-graphblas\n",
            "Successfully installed donfig-0.8.1.post0 python-graphblas-2024.2.0 suitesparse-graphblas-8.2.1.0\n"
          ]
        }
      ],
      "source": [
        "!pip install python-graphblas[default]"
      ]
    },
    {
      "cell_type": "code",
      "execution_count": 2,
      "metadata": {
        "id": "nUCTQistzGjN"
      },
      "outputs": [],
      "source": [
        "import graphblas as gb\n",
        "gb.init(\"suitesparse\", blocking=False)\n",
        "\n",
        "from graphblas import Matrix, dtypes, unary, binary, monoid, semiring, Recorder\n",
        "from graphblas.io import mmread\n",
        "import numpy as np"
      ]
    },
    {
      "cell_type": "markdown",
      "metadata": {
        "id": "j44EPp3Q0XWL"
      },
      "source": [
        "# **Наивный алгоритм**"
      ]
    },
    {
      "cell_type": "markdown",
      "metadata": {
        "id": "aeiBtH3v0fQn"
      },
      "source": [
        "Используя *python-graphblas* реализовать **наивный алгоритм**, для матрицы смежности вычисляющий и возвращающий количество треугольников неориентированного графа.\n",
        "\n",
        "* Функция принимает представление неориентированного графа, удобное для неё\n",
        "(загрузка, конвертация и проверка неориентированности реализованы отдельно).\n",
        "* Функция возвращает число --- количество треугольников в графе."
      ]
    },
    {
      "cell_type": "code",
      "execution_count": 3,
      "metadata": {
        "id": "guYn603f0ZkK"
      },
      "outputs": [],
      "source": [
        "def naiveA3(A):\n",
        "  # шаг 1 - возведение матрицы смежности в квадрат и затем в куб\n",
        "  A2 = A.mxm(A)\n",
        "  A3 = A2.mxm(A)\n",
        "  # шаг 2 - получение вектора из элементов по главной диагонали матрицы А3\n",
        "  vector = A3.diag()\n",
        "  # шаг 3 - подсчет суммы элементов по главной диагонали матрицы А3\n",
        "  summa = vector.reduce(gb.agg.sum).value or 0\n",
        "  # шаг 4 - деление на 6 полученной на предыдущем шаге суммы\n",
        "  final = summa / 6\n",
        "  return int(final)"
      ]
    },
    {
      "cell_type": "markdown",
      "metadata": {
        "id": "dmqh4ebP8taI"
      },
      "source": [
        "# **Наивный алгоритм с маской**"
      ]
    },
    {
      "cell_type": "markdown",
      "metadata": {
        "id": "H7JbLDSz89qZ"
      },
      "source": [
        "Используя *python-graphblas* реализовать **наивный алгоритм с маской**, для матрицы смежности вычисляющий и возвращающий количество треугольников неориентированного графа.\n",
        "* Функция принимает представление неориентированного графа, удобное для неё (загрузка, конвертация и проверка неориентированности реализованы отдельно).\n",
        "* Функция возвращает число --- количество треугольников в графе."
      ]
    },
    {
      "cell_type": "code",
      "execution_count": 4,
      "metadata": {
        "id": "oalsD1a5-TGv"
      },
      "outputs": [],
      "source": [
        "def naiveMaskA2(A):\n",
        "  # шаг 1 - возводение матрицы смежности в квадрат\n",
        "  A2 = A.mxm(A)\n",
        "  # шаг 2 - применение маски к квадрату матрицы смежности\n",
        "  masking = A2.dup(mask=A.dup(dtype=dtypes.BOOL))\n",
        "  # шаг 3 - вычисление суммы построчных сумм элементов квадрата матрицы смежности с маской\n",
        "  summa = masking.reduce_scalar(gb.monoid.plus).value or 0\n",
        "  # шаг 4 - деление на 6 полученной на предыдущем шаге суммы\n",
        "  final = summa / 6\n",
        "  return int(final)"
      ]
    },
    {
      "cell_type": "markdown",
      "metadata": {
        "id": "gQLAK8vPAq3O"
      },
      "source": [
        "# **Сohen's algorithm**"
      ]
    },
    {
      "cell_type": "markdown",
      "metadata": {
        "id": "Dn9m3sbpAydj"
      },
      "source": [
        "Используя *python-graphblas* реализовать **Сohen's algorithm**, вычисляющий количество треугольников неориентированного графа.\n",
        "* Функция принимает представление неориентированного графа, удобное для неё (загрузка, конвертация и проверка неориентированности реализованы отдельно).\n",
        "* Функция возвращает число --- количество треугольников в графе."
      ]
    },
    {
      "cell_type": "code",
      "execution_count": 5,
      "metadata": {
        "id": "wgb5drgsBM1G"
      },
      "outputs": [],
      "source": [
        "def cohen(A):\n",
        "  # шаг 1 - разбиение матрицы смежности A на верхнетреугольную матрицу L и нижнетреугольную матрицу U\n",
        "  L = gb.select.tril(A)\n",
        "  U = gb.select.triu(A)\n",
        "  # шаг 2 - подсчет матрицы B=LхU\n",
        "  B = L.mxm(U)\n",
        "  # шаг 3 - получение матрицы С путем поэлементного умножения матриц A на B с использованием маски\n",
        "  C = B.dup(mask=A.dup(dtype=dtypes.BOOL))\n",
        "  # шаг 4 - искомое число треугольников получаем как sum(C) деленное на 2\n",
        "  final = int (C.reduce_scalar(gb.monoid.plus).value or 0) / 2\n",
        "  return int(final)"
      ]
    },
    {
      "cell_type": "markdown",
      "metadata": {
        "id": "O9usCK-BEBR0"
      },
      "source": [
        "# **Sandia algorithm**"
      ]
    },
    {
      "cell_type": "markdown",
      "metadata": {
        "id": "VwBBcZJWEM9F"
      },
      "source": [
        "Используя *python-graphblas* реализовать **Sandia algorithm**, вычисляющий количество треугольников неориентированного графа.\n",
        "* Функция принимает представление неориентированного графа, удобное для неё (загрузка, конвертация и проверка неориентированности реализованы отдельно).\n",
        "* Функция возвращает число --- количество треугольников в графе."
      ]
    },
    {
      "cell_type": "code",
      "execution_count": 6,
      "metadata": {
        "id": "zbO057_NFjU1"
      },
      "outputs": [],
      "source": [
        "def sandia(A):\n",
        "  # шаг 1 - вычисление верхнетреугольной матрицы L из матрицы смежности А\n",
        "  L = gb.select.tril(A)\n",
        "  # шаг 2 - возведение в квадрат полученной матрицы L\n",
        "  B = L.mxm(L)\n",
        "  # шаг 3 - получение матрицы С путем поэлементного умножения матрицы L на B с использованием маски\n",
        "  C = B.dup(mask=L.dup(dtype=dtypes.BOOL))\n",
        "  # шаг 4 - получение итогового количества треугольников путем суммирования элементов матрицы C, полученной на предыдущем шаге\n",
        "  final = int(C.reduce_scalar(gb.monoid.plus).value or 0)\n",
        "  return int(final)"
      ]
    },
    {
      "cell_type": "markdown",
      "metadata": {
        "id": "NsVi4lhNSeYt"
      },
      "source": [
        "# **Дополнительно**\n",
        "# **Подсчет количества треуголньков для вершин графа**"
      ]
    },
    {
      "cell_type": "markdown",
      "metadata": {
        "id": "6EGvNN2qStyD"
      },
      "source": [
        "Используя *python-graphblas* реализовать **функцию, вычисляющую для каждой вершины неориентированного графа количество треугольников, в которых она участвует**.\n",
        "\n",
        "* Функция принимает представление неориентированного графа, удобное для неё (загрузка, конвертация и проверка неориентированности реализованы отдельно).\n",
        "* Функция возвращает массив, где для каждой вершины указано, в скольки треугольниках она участвует."
      ]
    },
    {
      "cell_type": "markdown",
      "metadata": {
        "id": "b54htuHH5587"
      },
      "source": [
        "**Метод**: считать количество треугольников будем как диагональ куба матрицы смежности деленная пополам."
      ]
    },
    {
      "cell_type": "code",
      "execution_count": null,
      "metadata": {
        "colab": {
          "background_save": true
        },
        "id": "UhpK2QkWSdZ1"
      },
      "outputs": [],
      "source": [
        "def has_triangles(A):\n",
        "  # получение куба матрицы смежности\n",
        "  A2 = A.mxm(A)\n",
        "  A3 = A2.mxm(A)\n",
        "  # получение количества треугольников для вершин - взятие главной диагонали и деление на 2 каждого элемента\n",
        "  # главная диагональ дает количество треуголников для каждой вершины х2, так как треугольники считаются по два раза\n",
        "  n = A3.diag() / 2\n",
        "  # получение количества строк графа\n",
        "  rows = A.nrows\n",
        "  # создание массива из количества треугольников для каждой вершины графа\n",
        "  final = np.array([0] * rows)\n",
        "  # заполнение массива количеством треугольников для каждой вершины графа\n",
        "  idx, vals = n.to_coo()\n",
        "  for i in range(len(idx)):\n",
        "    final[idx[i]] = vals[i]\n",
        "  return final"
      ]
    },
    {
      "cell_type": "markdown",
      "metadata": {
        "id": "QfuTcdQ_ZiGv"
      },
      "source": [
        "# **Тестирование**"
      ]
    },
    {
      "cell_type": "markdown",
      "metadata": {
        "id": "06hkF3rWfVJM"
      },
      "source": [
        "Тесты для проверки корректности полученных реализаций."
      ]
    },
    {
      "cell_type": "markdown",
      "metadata": {
        "id": "N8EebB4zT1EL"
      },
      "source": [
        "**TEST 1**\n",
        "\n",
        "Граф с 4 вершинами, где присутсвует **1 треуголник** с вершинами (0,1,2).\n",
        "\n",
        "Вершины 0, 1 и 1 входят в **1 имеющийся треугольник** и вершина 3 не входит в этот треуго"
      ]
    },
    {
      "cell_type": "code",
      "execution_count": null,
      "metadata": {
        "colab": {
          "base_uri": "https://localhost:8080/",
          "height": 406
        },
        "id": "5U31UNW_T6Kh",
        "outputId": "beb7519f-d998-4c82-aa5e-b9409d0253ee"
      },
      "outputs": [
        {
          "data": {
            "image/png": "[encoded data removed]",
            "text/plain": [
              "<Figure size 640x480 with 1 Axes>"
            ]
          },
          "metadata": {},
          "output_type": "display_data"
        }
      ],
      "source": [
        "M1 = gb.Matrix.from_coo(\n",
        "  [0, 1, 1, 2, 2, 0, 2, 3],\n",
        "  [1, 0, 2, 1, 0, 2, 3, 2],\n",
        "  [1, 1, 1, 1, 1, 1, 1, 1],\n",
        "  nrows=4, ncols=4,)\n",
        "\n",
        "gb.viz.draw(M1)"
      ]
    },
    {
      "cell_type": "code",
      "execution_count": null,
      "metadata": {
        "colab": {
          "base_uri": "https://localhost:8080/"
        },
        "id": "9kR_hR-EUp2F",
        "outputId": "75dfdf14-e846-4646-91fb-68a7fa9b9bca"
      },
      "outputs": [
        {
          "name": "stdout",
          "output_type": "stream",
          "text": [
            "Naive: 1\n",
            "Naive_with_mask: 1\n",
            "Cohen: 1\n",
            "Sandia: 1\n",
            "Triangles amount: [1 1 1 0]\n"
          ]
        }
      ],
      "source": [
        "print('Naive:', naiveA3(M1))\n",
        "print('Naive_with_mask:', naiveMaskA2(M1))\n",
        "print('Cohen:', cohen(M1))\n",
        "print('Sandia:', sandia(M1))\n",
        "print('Triangles amount:', has_triangles(M1))"
      ]
    },
    {
      "cell_type": "markdown",
      "metadata": {
        "id": "LtQI_sDcR_3n"
      },
      "source": [
        "**TEST 2**\n",
        "\n",
        "Граф с 7 вершинами, где присутсвует **1 треуголник** с вершинами (1,4,5).\n",
        "\n",
        "Вершины 1, 4 и 5 входят в **1 имеющийся треугольник** и все остальные вершины не входят ни в один треугольник."
      ]
    },
    {
      "cell_type": "code",
      "execution_count": null,
      "metadata": {
        "colab": {
          "base_uri": "https://localhost:8080/",
          "height": 406
        },
        "id": "ZfuhlmC_gND7",
        "outputId": "aca29aba-c83b-481f-cdd8-2e3f3b75a70d"
      },
      "outputs": [
        {
          "data": {
            "image/png": "[encoded data removed]",
            "text/plain": [
              "<Figure size 640x480 with 1 Axes>"
            ]
          },
          "metadata": {},
          "output_type": "display_data"
        }
      ],
      "source": [
        "M2 = gb.Matrix.from_coo(\n",
        "  [1, 1, 2, 3, 1, 4, 5, 5, 5, 4, 1, 6, 0, 2, 3, 0],\n",
        "  [0, 2, 3, 0, 4, 5, 1, 6, 4, 1, 5, 5, 1, 1, 2, 3],\n",
        "  [1, 1, 1, 1, 1, 1, 1, 1, 1, 1, 1, 1, 1, 1, 1, 1],\n",
        "  nrows=7, ncols=7,)\n",
        "\n",
        "gb.viz.draw(M2)"
      ]
    },
    {
      "cell_type": "code",
      "execution_count": null,
      "metadata": {
        "colab": {
          "base_uri": "https://localhost:8080/"
        },
        "id": "tAVdB9wHI-L4",
        "outputId": "4c16f67a-9453-44e7-eadd-4b75ec977047"
      },
      "outputs": [
        {
          "name": "stdout",
          "output_type": "stream",
          "text": [
            "Naive: 1\n",
            "Naive_with_mask: 1\n",
            "Cohen: 1\n",
            "Sandia: 1\n",
            "Triangles amount: [0 1 0 0 1 1 0]\n"
          ]
        }
      ],
      "source": [
        "print('Naive:', naiveA3(M2))\n",
        "print('Naive_with_mask:', naiveMaskA2(M2))\n",
        "print('Cohen:', cohen(M2))\n",
        "print('Sandia:', sandia(M2))\n",
        "print('Triangles amount:', has_triangles(M2))"
      ]
    },
    {
      "cell_type": "markdown",
      "metadata": {
        "id": "oHmdm11iSdEF"
      },
      "source": [
        "**TEST 3**\n",
        "\n",
        "Граф с 7 вершинами, где присутсвует **3 треуголника** с вершинами (1,4,5), (1,2,3), (1,3,0).\n",
        "\n",
        "Вершина 6 не входит ни в один треугольник, вершины 0, 2, 4 и 5 входят только в **1 треугольник**, вершина 3 входит в **2 треугольника** и вершина 1 входит во все **3 треугольника**."
      ]
    },
    {
      "cell_type": "code",
      "execution_count": null,
      "metadata": {
        "colab": {
          "base_uri": "https://localhost:8080/",
          "height": 406
        },
        "id": "7T09aU9wScdZ",
        "outputId": "810ead7b-7e05-40d8-8738-254d6252a66d"
      },
      "outputs": [
        {
          "data": {
            "image/png": "[encoded data removed]",
            "text/plain": [
              "<Figure size 640x480 with 1 Axes>"
            ]
          },
          "metadata": {},
          "output_type": "display_data"
        }
      ],
      "source": [
        "M3 = gb.Matrix.from_coo(\n",
        "  [1, 1, 2, 3, 1, 4, 5, 5, 5, 4, 1, 6, 0, 2, 3, 0, 1, 3],\n",
        "  [0, 2, 3, 0, 4, 5, 1, 6, 4, 1, 5, 5, 1, 1, 2, 3, 3, 1],\n",
        "  [1, 1, 1, 1, 1, 1, 1, 1, 1, 1, 1, 1, 1, 1, 1, 1, 1, 1],\n",
        "  nrows=7, ncols=7,)\n",
        "\n",
        "gb.viz.draw(M3)"
      ]
    },
    {
      "cell_type": "code",
      "execution_count": null,
      "metadata": {
        "colab": {
          "base_uri": "https://localhost:8080/"
        },
        "id": "Z-D1f5CwTT6v",
        "outputId": "f737457d-24d7-437d-e465-55ff65b98346"
      },
      "outputs": [
        {
          "name": "stdout",
          "output_type": "stream",
          "text": [
            "Naive: 3\n",
            "Naive_with_mask: 3\n",
            "Cohen: 3\n",
            "Sandia: 3\n",
            "Triangles amount: [1 3 1 2 1 1 0]\n"
          ]
        }
      ],
      "source": [
        "print('Naive:', naiveA3(M3))\n",
        "print('Naive_with_mask:', naiveMaskA2(M3))\n",
        "print('Cohen:', cohen(M3))\n",
        "print('Sandia:', sandia(M3))\n",
        "print('Triangles amount:', has_triangles(M3))"
      ]
    },
    {
      "cell_type": "markdown",
      "metadata": {
        "id": "m-8ulV4eiwbq"
      },
      "source": [
        "**TEST 4**\n",
        "\n",
        "Граф с 7 вершинами, где присутсвует **6 треуголников** с вершинами (1,4,5), (1,2,3), (1,3,0), (5,1,0), (1,4,2).\n",
        "\n",
        "Вершина 6 входит только в **1 треуголник**, вершины 0, 2 и 3 входят в **2 треугольника**, вершины 4 и 5 входят в **3 треугольника** и вершина 1 входит в **5 треугольников**."
      ]
    },
    {
      "cell_type": "code",
      "execution_count": null,
      "metadata": {
        "colab": {
          "base_uri": "https://localhost:8080/",
          "height": 406
        },
        "id": "fKaJtpFOilsI",
        "outputId": "3972a657-96c9-4135-c7ab-ed687b433e2c"
      },
      "outputs": [
        {
          "data": {
            "image/png": "[encoded data removed]",
            "text/plain": [
              "<Figure size 640x480 with 1 Axes>"
            ]
          },
          "metadata": {},
          "output_type": "display_data"
        }
      ],
      "source": [
        "M4 = gb.Matrix.from_coo(\n",
        "  [1, 1, 2, 3, 1, 4, 5, 5, 5, 4, 1, 6, 0, 2, 3, 0, 1, 3, 5, 0, 4, 2, 6, 4],\n",
        "  [0, 2, 3, 0, 4, 5, 1, 6, 4, 1, 5, 5, 1, 1, 2, 3, 3, 1, 0, 5, 2, 4, 4, 6],\n",
        "  [1, 1, 1, 1, 1, 1, 1, 1, 1, 1, 1, 1, 1, 1, 1, 1, 1, 1, 1, 1, 1, 1, 1, 1],\n",
        "  nrows=7, ncols=7,)\n",
        "\n",
        "gb.viz.draw(M4)"
      ]
    },
    {
      "cell_type": "code",
      "execution_count": null,
      "metadata": {
        "colab": {
          "base_uri": "https://localhost:8080/"
        },
        "id": "dli4nfGYjPd5",
        "outputId": "6062c572-45ed-463c-cde1-4e5b060608a3"
      },
      "outputs": [
        {
          "name": "stdout",
          "output_type": "stream",
          "text": [
            "Naive: 6\n",
            "Naive_with_mask: 6\n",
            "Cohen: 6\n",
            "Sandia: 6\n",
            "Triangles amount: [2 5 2 2 3 3 1]\n"
          ]
        }
      ],
      "source": [
        "print('Naive:', naiveA3(M4))\n",
        "print('Naive_with_mask:', naiveMaskA2(M4))\n",
        "print('Cohen:', cohen(M4))\n",
        "print('Sandia:', sandia(M4))\n",
        "print('Triangles amount:', has_triangles(M4))"
      ]
    },
    {
      "cell_type": "markdown",
      "metadata": {
        "id": "xrrF7s0QjkIv"
      },
      "source": [
        "**TEST 5**\n",
        "\n",
        "Граф с 7 вершинами, где присутсвует **0 треуголников**.\n",
        "\n",
        "Соответсвенно, каждая вершина не входит ни в один треугольник."
      ]
    },
    {
      "cell_type": "code",
      "execution_count": null,
      "metadata": {
        "colab": {
          "base_uri": "https://localhost:8080/",
          "height": 406
        },
        "id": "45GeZhIxjqoO",
        "outputId": "69f405b1-ac8c-4921-d998-6eae90021253"
      },
      "outputs": [
        {
          "data": {
            "image/png": "[encoded data removed]",
            "text/plain": [
              "<Figure size 640x480 with 1 Axes>"
            ]
          },
          "metadata": {},
          "output_type": "display_data"
        }
      ],
      "source": [
        "M5 = gb.Matrix.from_coo(\n",
        "  [0, 3, 1, 3, 1, 2, 4, 2, 4, 6, 6, 5, 5, 0],\n",
        "  [3, 0, 3, 1, 2, 1, 2, 4, 6, 4, 5, 6, 0, 5],\n",
        "  [1, 1, 1, 1, 1, 1, 1, 1, 1, 1, 1, 1, 1, 1],\n",
        "  nrows=7, ncols=7,)\n",
        "\n",
        "gb.viz.draw(M5)"
      ]
    },
    {
      "cell_type": "code",
      "execution_count": null,
      "metadata": {
        "colab": {
          "base_uri": "https://localhost:8080/"
        },
        "id": "abe0vyH9kTH6",
        "outputId": "d9337e8a-75e5-4d57-c433-fad2600b8a99"
      },
      "outputs": [
        {
          "name": "stdout",
          "output_type": "stream",
          "text": [
            "Naive: 0\n",
            "Naive_with_mask: 0\n",
            "Cohen: 0\n",
            "Sandia: 0\n",
            "Triangles amount: [0 0 0 0 0 0 0]\n"
          ]
        }
      ],
      "source": [
        "print('Naive:', naiveA3(M5))\n",
        "print('Naive_with_mask:', naiveMaskA2(M5))\n",
        "print('Cohen:', cohen(M5))\n",
        "print('Sandia:', sandia(M5))\n",
        "print('Triangles amount:', has_triangles(M5))"
      ]
    },
    {
      "cell_type": "markdown",
      "metadata": {
        "id": "kz9_VNhVkpsP"
      },
      "source": [
        "# **Дополнительно**"
      ]
    },
    {
      "cell_type": "markdown",
      "metadata": {
        "id": "y9_oZxOckyf9"
      },
      "source": [
        "**Скачать 10 графов** в формате Matrix Market с сайта SuiteSparse Matrix Collection и **оценить время работы** всех полученных реализаций. Сделать выводы.\n",
        "* В качестве фильтров для поиска графов на сайте использовать следующие значения: Rutherford-Boeing Type = Binary, Special Structure = Symmetric, Nonzeros.Min = 10000."
      ]
    },
    {
      "cell_type": "code",
      "execution_count": null,
      "metadata": {
        "id": "qfMSDEdMptX_"
      },
      "outputs": [],
      "source": [
        "# читаем 10 графов\n",
        "graph1 = mmread('/content/EX5.mtx')\n",
        "graph2 = mmread('/content/bcsstk32.mtx')\n",
        "graph3 = mmread('/content/can_1054.mtx')\n",
        "graph4 = mmread('/content/can_838.mtx')\n",
        "graph5 = mmread('/content/delaunay_n11.mtx')\n",
        "graph6 = mmread('/content/dwt_1242.mtx')\n",
        "graph7 = mmread('/content/dwt_992.mtx')\n",
        "graph8 = mmread('/content/email.mtx')\n",
        "graph9 = mmread('/content/pkustk08.mtx')\n",
        "graph10 = mmread('/content/power.mtx')"
      ]
    },
    {
      "cell_type": "code",
      "execution_count": null,
      "metadata": {
        "id": "7nKHOIB3vd6z"
      },
      "outputs": [],
      "source": [
        "# создаем массив графов\n",
        "graphs = [graph1, graph2, graph3, graph4, graph5, graph6, graph7, graph8, graph9, graph10]"
      ]
    },
    {
      "cell_type": "code",
      "execution_count": 7,
      "metadata": {
        "id": "2IG5NKIswXL4"
      },
      "outputs": [],
      "source": [
        "# создаем функцию реализации для алгоритмов с подсчетом времени выполнения\n",
        "def alg_time(A):\n",
        "  print('Naive:')\n",
        "  %timeit naiveA3(A)\n",
        "  print('Naive_with_mask:')\n",
        "  %timeit naiveMaskA2(A)\n",
        "  print('Cohen:')\n",
        "  %timeit cohen(A)\n",
        "  print('Sandia:')\n",
        "  %timeit sandia(A)"
      ]
    },
    {
      "cell_type": "code",
      "execution_count": null,
      "metadata": {
        "colab": {
          "base_uri": "https://localhost:8080/"
        },
        "id": "qe8OrKk7veF9",
        "outputId": "6fa86683-0279-4d4e-c630-e8a131e5b56b"
      },
      "outputs": [
        {
          "name": "stdout",
          "output_type": "stream",
          "text": [
            "GRAPH with  295680  triangles\n",
            "Количество вершин: 6545 количество ребер: {295680}\n",
            "Naive:\n",
            "2.86 s ± 565 ms per loop (mean ± std. dev. of 7 runs, 1 loop each)\n",
            "Naive_with_mask:\n",
            "The slowest run took 4.04 times longer than the fastest. This could mean that an intermediate result is being cached.\n",
            "182 ms ± 78.8 ms per loop (mean ± std. dev. of 7 runs, 10 loops each)\n",
            "Cohen:\n",
            "31.7 ms ± 2.06 ms per loop (mean ± std. dev. of 7 runs, 10 loops each)\n",
            "Sandia:\n",
            "22.3 ms ± 1.07 ms per loop (mean ± std. dev. of 7 runs, 10 loops each)\n",
            "None\n",
            "GRAPH with  10381193  triangles\n",
            "Количество вершин: 44609 количество ребер: {2014701}\n",
            "Naive:\n",
            "1.84 s ± 383 ms per loop (mean ± std. dev. of 7 runs, 1 loop each)\n",
            "Naive_with_mask:\n",
            "464 ms ± 27 ms per loop (mean ± std. dev. of 7 runs, 1 loop each)\n",
            "Cohen:\n",
            "395 ms ± 72.4 ms per loop (mean ± std. dev. of 7 runs, 1 loop each)\n",
            "Sandia:\n",
            "177 ms ± 48.1 ms per loop (mean ± std. dev. of 7 runs, 10 loops each)\n",
            "None\n",
            "GRAPH with  18842  triangles\n",
            "Количество вершин: 1054 количество ребер: {12196}\n",
            "Naive:\n",
            "14.2 ms ± 7.57 ms per loop (mean ± std. dev. of 7 runs, 100 loops each)\n",
            "Naive_with_mask:\n",
            "1.81 ms ± 99.1 µs per loop (mean ± std. dev. of 7 runs, 100 loops each)\n",
            "Cohen:\n",
            "1.72 ms ± 276 µs per loop (mean ± std. dev. of 7 runs, 1000 loops each)\n",
            "Sandia:\n",
            "985 µs ± 124 µs per loop (mean ± std. dev. of 7 runs, 1000 loops each)\n",
            "None\n",
            "GRAPH with  15530  triangles\n",
            "Количество вершин: 838 количество ребер: {10010}\n",
            "Naive:\n",
            "The slowest run took 8.70 times longer than the fastest. This could mean that an intermediate result is being cached.\n",
            "17.8 ms ± 18.7 ms per loop (mean ± std. dev. of 7 runs, 10 loops each)\n",
            "Naive_with_mask:\n",
            "1.67 ms ± 707 µs per loop (mean ± std. dev. of 7 runs, 1000 loops each)\n",
            "Cohen:\n",
            "1.22 ms ± 136 µs per loop (mean ± std. dev. of 7 runs, 1000 loops each)\n",
            "Sandia:\n",
            "733 µs ± 73.4 µs per loop (mean ± std. dev. of 7 runs, 1000 loops each)\n",
            "None\n",
            "GRAPH with  4104  triangles\n",
            "Количество вершин: 2048 количество ребер: {12254}\n",
            "Naive:\n",
            "11.6 ms ± 6.61 ms per loop (mean ± std. dev. of 7 runs, 100 loops each)\n",
            "Naive_with_mask:\n",
            "1.83 ms ± 221 µs per loop (mean ± std. dev. of 7 runs, 1000 loops each)\n",
            "Cohen:\n",
            "1.62 ms ± 196 µs per loop (mean ± std. dev. of 7 runs, 1000 loops each)\n",
            "Sandia:\n",
            "1.17 ms ± 185 µs per loop (mean ± std. dev. of 7 runs, 1000 loops each)\n",
            "None\n",
            "GRAPH with  11894  triangles\n",
            "Количество вершин: 1242 количество ребер: {10426}\n",
            "Naive:\n",
            "4.81 ms ± 167 µs per loop (mean ± std. dev. of 7 runs, 100 loops each)\n",
            "Naive_with_mask:\n",
            "1.21 ms ± 219 µs per loop (mean ± std. dev. of 7 runs, 1000 loops each)\n",
            "Cohen:\n",
            "892 µs ± 9.81 µs per loop (mean ± std. dev. of 7 runs, 1000 loops each)\n",
            "Sandia:\n",
            "835 µs ± 178 µs per loop (mean ± std. dev. of 7 runs, 1000 loops each)\n",
            "None\n",
            "GRAPH with  34090  triangles\n",
            "Количество вершин: 992 количество ребер: {16744}\n",
            "Naive:\n",
            "5.44 ms ± 145 µs per loop (mean ± std. dev. of 7 runs, 100 loops each)\n",
            "Naive_with_mask:\n",
            "2.06 ms ± 794 µs per loop (mean ± std. dev. of 7 runs, 1000 loops each)\n",
            "Cohen:\n",
            "1.11 ms ± 124 µs per loop (mean ± std. dev. of 7 runs, 1000 loops each)\n",
            "Sandia:\n",
            "915 µs ± 231 µs per loop (mean ± std. dev. of 7 runs, 1000 loops each)\n",
            "None\n",
            "GRAPH with  5343  triangles\n",
            "Количество вершин: 1133 количество ребер: {10902}\n",
            "Naive:\n",
            "45.6 ms ± 2.27 ms per loop (mean ± std. dev. of 7 runs, 10 loops each)\n",
            "Naive_with_mask:\n",
            "2.1 ms ± 807 µs per loop (mean ± std. dev. of 7 runs, 1000 loops each)\n",
            "Cohen:\n",
            "1.49 ms ± 211 µs per loop (mean ± std. dev. of 7 runs, 1000 loops each)\n",
            "Sandia:\n",
            "1.06 ms ± 157 µs per loop (mean ± std. dev. of 7 runs, 1000 loops each)\n",
            "None\n",
            "GRAPH with  44838440  triangles\n",
            "Количество вершин: 22209 количество ребер: {3226671}\n",
            "Naive:\n",
            "12.2 s ± 382 ms per loop (mean ± std. dev. of 7 runs, 1 loop each)\n",
            "Naive_with_mask:\n",
            "2.54 s ± 410 ms per loop (mean ± std. dev. of 7 runs, 1 loop each)\n",
            "Cohen:\n",
            "1.02 s ± 269 ms per loop (mean ± std. dev. of 7 runs, 1 loop each)\n",
            "Sandia:\n",
            "552 ms ± 17 ms per loop (mean ± std. dev. of 7 runs, 1 loop each)\n",
            "None\n",
            "GRAPH with  651  triangles\n",
            "Количество вершин: 4941 количество ребер: {13188}\n",
            "Naive:\n",
            "10.2 ms ± 4.63 ms per loop (mean ± std. dev. of 7 runs, 100 loops each)\n",
            "Naive_with_mask:\n",
            "1.36 ms ± 179 µs per loop (mean ± std. dev. of 7 runs, 1000 loops each)\n",
            "Cohen:\n",
            "1.47 ms ± 200 µs per loop (mean ± std. dev. of 7 runs, 1000 loops each)\n",
            "Sandia:\n",
            "1.1 ms ± 11.6 µs per loop (mean ± std. dev. of 7 runs, 1000 loops each)\n",
            "None\n"
          ]
        }
      ],
      "source": [
        "# Выводим нужные нам данные для сравнения результатов\n",
        "for k in graphs:\n",
        "  print('GRAPH with ', cohen(k), ' triangles')\n",
        "  print('Количество вершин:', k.nrows, 'количество ребер:', {k.nvals})\n",
        "  print(alg_time(k))"
      ]
    },
    {
      "cell_type": "code",
      "execution_count": null,
      "metadata": {
        "colab": {
          "base_uri": "https://localhost:8080/"
        },
        "id": "Z-yd9NkgE3DU",
        "outputId": "d2d5e27e-edce-4ffd-e4c4-bcf6093471e0"
      },
      "outputs": [
        {
          "name": "stdout",
          "output_type": "stream",
          "text": [
            "GRAPH\n",
            "Количество вершин: 6545 количество ребер: {295680}\n",
            "Triangles amount max: 144\n",
            "2.9 s ± 408 ms per loop (mean ± std. dev. of 7 runs, 1 loop each)\n",
            "GRAPH\n",
            "Количество вершин: 44609 количество ребер: {2014701}\n",
            "Triangles amount max: 3964\n",
            "The slowest run took 4.06 times longer than the fastest. This could mean that an intermediate result is being cached.\n",
            "2.66 s ± 1.72 s per loop (mean ± std. dev. of 7 runs, 1 loop each)\n",
            "GRAPH\n",
            "Количество вершин: 1054 количество ребер: {12196}\n",
            "Triangles amount max: 158\n",
            "13.7 ms ± 8.31 ms per loop (mean ± std. dev. of 7 runs, 100 loops each)\n",
            "GRAPH\n",
            "Количество вершин: 838 количество ребер: {10010}\n",
            "Triangles amount max: 153\n",
            "8.21 ms ± 404 µs per loop (mean ± std. dev. of 7 runs, 100 loops each)\n",
            "GRAPH\n",
            "Количество вершин: 2048 количество ребер: {12254}\n",
            "Triangles amount max: 12\n",
            "13.4 ms ± 7.41 ms per loop (mean ± std. dev. of 7 runs, 100 loops each)\n",
            "GRAPH\n",
            "Количество вершин: 1242 количество ребер: {10426}\n",
            "Triangles amount max: 35\n",
            "The slowest run took 4.11 times longer than the fastest. This could mean that an intermediate result is being cached.\n",
            "9.02 ms ± 6.03 ms per loop (mean ± std. dev. of 7 runs, 100 loops each)\n",
            "GRAPH\n",
            "Количество вершин: 992 количество ребер: {16744}\n",
            "Triangles amount max: 98\n",
            "6.41 ms ± 235 µs per loop (mean ± std. dev. of 7 runs, 100 loops each)\n",
            "GRAPH\n",
            "Количество вершин: 1133 количество ребер: {10902}\n",
            "Triangles amount max: 261\n",
            "41.6 ms ± 1.94 ms per loop (mean ± std. dev. of 7 runs, 10 loops each)\n",
            "GRAPH\n",
            "Количество вершин: 22209 количество ребер: {3226671}\n",
            "Triangles amount max: 12658\n",
            "13.1 s ± 2.46 s per loop (mean ± std. dev. of 7 runs, 1 loop each)\n",
            "GRAPH\n",
            "Количество вершин: 4941 количество ребер: {13188}\n",
            "Triangles amount max: 21\n",
            "12 ms ± 5.26 ms per loop (mean ± std. dev. of 7 runs, 100 loops each)\n"
          ]
        }
      ],
      "source": [
        "for k in graphs:\n",
        "  print('GRAPH')\n",
        "  print('Количество вершин:', k.nrows, 'количество ребер:', {k.nvals})\n",
        "  print('Triangles amount max:', max(has_triangles(k)))\n",
        "  %timeit has_triangles(k)"
      ]
    },
    {
      "cell_type": "markdown",
      "metadata": {
        "id": "XWat0l4AE7CU"
      },
      "source": [
        "**Результаты тестирования реализованных алгоритмов**\n",
        "\n",
        "![Снимок экрана (450).png](data:image/png;base64,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)\n",
        "\n",
        "Результаты в таблице отсортированы по увеличению количества вершин в графе"
      ]
    },
    {
      "cell_type": "markdown",
      "metadata": {
        "id": "_xE50w_iF4Ow"
      },
      "source": [
        "**Выводы:**\n",
        "1. Наивный алгоритм работает дольше всех на графах с любым количеством вершин и ребер, что обосновано сложностью внутренних вычислений. Причем, логично, что с уменьшенией разряжанности графа, увеличивается сложность вычислений.\n",
        "2. Другие алгоритмы работают гораздо быстрее Наивного алгоритма, особенно разницу в скачке видно на графах с бОльшим количеством вершин и ребер. Меньшее время реализации достигается благодаря тому, что не берется куб матрицы смежности, как это делается в Наивном алгоритме.\n",
        "3. Самым быстрым алгоритмом является алгоритм Сандиа, следующий по скорости идет алгоритм Кохена и дальше уже Наивный алгоритм с маской и просто Наивный алгоритм."
      ]
    },
    {
      "cell_type": "markdown",
      "metadata": {
        "id": "3_w0WPxoClX0"
      },
      "source": [
        "# **Дополнительно**"
      ]
    },
    {
      "cell_type": "markdown",
      "metadata": {
        "id": "Y4gHQl1aC0t6"
      },
      "source": [
        "Реализовать **генератор случайных неориентированных графов**, в котором можно задавать количество вершин и степень разреженности графа. Путём генерации случайных графов различного размера и с разной степенью разреженности, **оценить время работы всех полученных реализаций и исследовать границы их применимости**. Сделать выводы."
      ]
    },
    {
      "cell_type": "code",
      "execution_count": 8,
      "metadata": {
        "id": "eJTJYT3Sa3IJ"
      },
      "outputs": [],
      "source": [
        "import random"
      ]
    },
    {
      "cell_type": "code",
      "execution_count": 9,
      "metadata": {
        "id": "kpSrQvWxcmcz"
      },
      "outputs": [],
      "source": [
        "# n_rows - количество вершин графа, density - условно, насколько матрица смежности разряженная\n",
        "def graph_generator(n_rows, density):\n",
        "  # создание пустой матрицы размера n_rows на n_rows\n",
        "  A = gb.Matrix(int, n_rows, n_rows)\n",
        "  # ограничение на количество итераций\n",
        "  while density > 0:\n",
        "      # генерация рандомных чисел для матрицы смежности в интервале от 0 до количества ребер -1\n",
        "      i = random.randint(0, n_rows - 1)\n",
        "      j = random.randint(0, n_rows - 1)\n",
        "      # проверка, что для данной ячеки еще не генерировались значения\n",
        "      if A.get(i,j) is None and i != j:\n",
        "          # заполнение матрицы смежности - записываем '1' в ячейку с только что сгенерированными числами и в смежную ей ячейку\n",
        "          A[i,j] = 1\n",
        "          A[j,i] = 1\n",
        "          density = density - 1\n",
        "  return A"
      ]
    },
    {
      "cell_type": "markdown",
      "metadata": {
        "id": "WPeHtsCao1ha"
      },
      "source": [
        "Проверим на простом графе, что функция работает, сгенерировав матрицу смежности полностью заполненную размера 3 на 3 и построив граф по матрице смежности."
      ]
    },
    {
      "cell_type": "code",
      "execution_count": null,
      "metadata": {
        "colab": {
          "base_uri": "https://localhost:8080/"
        },
        "id": "vmYVVj8Yi2Dm",
        "outputId": "6dd7cede-aac5-4db8-e0d0-774c6717ffbd"
      },
      "outputs": [
        {
          "name": "stdout",
          "output_type": "stream",
          "text": [
            "\"M_1069131\"  nvals  nrows  ncols  dtype         format\n",
            "gb.Matrix        6      3      3  INT64  bitmapr (iso)\n",
            "------------------------------------------------------\n",
            "   0  1  2\n",
            "0     1  1\n",
            "1  1     1\n",
            "2  1  1   \n"
          ]
        }
      ],
      "source": [
        "a = graph_generator(3, 3)\n",
        "print(a)"
      ]
    },
    {
      "cell_type": "code",
      "execution_count": null,
      "metadata": {
        "colab": {
          "base_uri": "https://localhost:8080/",
          "height": 406
        },
        "id": "_hIq3kgXdqa4",
        "outputId": "e33ad09f-8bb5-461a-e1fd-cafde6bf57da"
      },
      "outputs": [
        {
          "data": {
            "image/png": "[encoded data removed]",
            "text/plain": [
              "<Figure size 640x480 with 1 Axes>"
            ]
          },
          "metadata": {},
          "output_type": "display_data"
        }
      ],
      "source": [
        "gb.viz.draw(a)"
      ]
    },
    {
      "cell_type": "markdown",
      "metadata": {
        "id": "ZhC25pA8pBpp"
      },
      "source": [
        "Теперь посмотрим, как ведут себя реализованные алгоритмы на генерирующихся графах. Будем расматривать графы со следующим количеством вершин - [10, 25, 50, 75, 100, 250, 500, 750, 1000]"
      ]
    },
    {
      "cell_type": "markdown",
      "metadata": {
        "id": "fnqZ51cEdBdP"
      },
      "source": [
        "Разряженность графа будем брать следующим образом:\n",
        "\n",
        "vals (максимальное количество непустых значений в строющейся матрицы указанного значения) = *n_rows * n_rows - n_rows* (т.е. количество вершин в квадрате минус количество вершин, чтобы убрать диагональ матрицы)\n",
        "\n",
        "* *density = vals / 2* - максимально заполненная матрица смежности\n",
        "\n",
        "* *density = vals / 2 * 0.75* - матрица смежности заполнена на 75%\n",
        "\n",
        "* *density = vals / 2 * 0.5* - матрица смежности заполнена на 50%\n",
        "\n",
        "* *density = vals / 2 * 0.25* - матрица смежности заполнена на 25%\n",
        "\n",
        "Соответсвенно, чем меньше заполнена матрица смежности, тем более разряженный граф.\n",
        "\n",
        "\n",
        "\n",
        "\n"
      ]
    },
    {
      "cell_type": "code",
      "execution_count": 20,
      "metadata": {
        "id": "fFN-P6Pff3TA",
        "colab": {
          "base_uri": "https://localhost:8080/",
          "height": 0
        },
        "outputId": "3bcfeeba-8946-4958-ea28-42dd4876965d"
      },
      "outputs": [
        {
          "output_type": "stream",
          "name": "stdout",
          "text": [
            "For 10 vetexes: [45, 33, 22, 11]\n",
            "For 25 vetexes: [300, 225, 150, 75]\n",
            "For 50 vetexes: [1225, 918, 612, 306]\n",
            "For 75 vetexes: [2775, 2081, 1387, 693]\n",
            "For 100 vetexes: [4950, 3712, 2475, 1237]\n",
            "For 250 vetexes: [31125, 23343, 15562, 7781]\n",
            "For 500 vetexes: [124750, 93562, 62375, 31187]\n",
            "For 750 vetexes: [280875, 210656, 140437, 70218]\n",
            "For 1000 vetexes: [499500, 374625, 249750, 124875]\n"
          ]
        }
      ],
      "source": [
        "# считаем необходимые нам степени разряженности графа для дальнейшей генерации\n",
        "vertex = [10, 25, 50, 75, 100, 250, 500, 750, 1000]\n",
        "quantity = []\n",
        "for v in vertex:\n",
        "  density = int((v*v - v) / 2)\n",
        "  quantity.append(density)\n",
        "  quantity.append(int(density * 0.75))\n",
        "  quantity.append(int(density * 0.5))\n",
        "  quantity.append(int(density * 0.25))\n",
        "  print('For', v, 'vetexes:', quantity)\n",
        "  quantity = []"
      ]
    },
    {
      "cell_type": "markdown",
      "metadata": {
        "id": "mxmarHhzrl-A"
      },
      "source": [
        "Посмотрим время работы реализованных алгоритмов на графах с разными количествами вершин - от меньшего количества к большему, и с разной степенью разряженности."
      ]
    },
    {
      "cell_type": "code",
      "execution_count": null,
      "metadata": {
        "colab": {
          "base_uri": "https://localhost:8080/"
        },
        "id": "yK-pqqMnmIGB",
        "outputId": "a147532e-359b-473c-b946-b8165589bdbf"
      },
      "outputs": [
        {
          "name": "stdout",
          "output_type": "stream",
          "text": [
            "Количество вершин: 10 количество ребер: {90}\n",
            "Naive:\n",
            "231 µs ± 50.4 µs per loop (mean ± std. dev. of 7 runs, 1000 loops each)\n",
            "Naive_with_mask:\n",
            "251 µs ± 17.8 µs per loop (mean ± std. dev. of 7 runs, 1000 loops each)\n",
            "Cohen:\n",
            "285 µs ± 7.25 µs per loop (mean ± std. dev. of 7 runs, 1000 loops each)\n",
            "Sandia:\n",
            "210 µs ± 32.1 µs per loop (mean ± std. dev. of 7 runs, 10000 loops each)\n",
            "None\n",
            "Количество вершин: 10 количество ребер: {66}\n",
            "Naive:\n",
            "198 µs ± 8.05 µs per loop (mean ± std. dev. of 7 runs, 1000 loops each)\n",
            "Naive_with_mask:\n",
            "167 µs ± 34.2 µs per loop (mean ± std. dev. of 7 runs, 10000 loops each)\n",
            "Cohen:\n",
            "419 µs ± 72.9 µs per loop (mean ± std. dev. of 7 runs, 1000 loops each)\n",
            "Sandia:\n",
            "207 µs ± 46.7 µs per loop (mean ± std. dev. of 7 runs, 1000 loops each)\n",
            "None\n",
            "Количество вершин: 10 количество ребер: {44}\n",
            "Naive:\n",
            "208 µs ± 10.2 µs per loop (mean ± std. dev. of 7 runs, 1000 loops each)\n",
            "Naive_with_mask:\n",
            "166 µs ± 28.3 µs per loop (mean ± std. dev. of 7 runs, 10000 loops each)\n",
            "Cohen:\n",
            "341 µs ± 129 µs per loop (mean ± std. dev. of 7 runs, 1000 loops each)\n",
            "Sandia:\n",
            "192 µs ± 5.61 µs per loop (mean ± std. dev. of 7 runs, 1000 loops each)\n",
            "None\n",
            "Количество вершин: 10 количество ребер: {22}\n",
            "Naive:\n",
            "The slowest run took 4.18 times longer than the fastest. This could mean that an intermediate result is being cached.\n",
            "479 µs ± 190 µs per loop (mean ± std. dev. of 7 runs, 1000 loops each)\n",
            "Naive_with_mask:\n",
            "The slowest run took 4.21 times longer than the fastest. This could mean that an intermediate result is being cached.\n",
            "344 µs ± 170 µs per loop (mean ± std. dev. of 7 runs, 1000 loops each)\n",
            "Cohen:\n",
            "290 µs ± 12.1 µs per loop (mean ± std. dev. of 7 runs, 1000 loops each)\n",
            "Sandia:\n",
            "197 µs ± 10.3 µs per loop (mean ± std. dev. of 7 runs, 1000 loops each)\n",
            "None\n"
          ]
        }
      ],
      "source": [
        "# 10 veryexes\n",
        "rows = 10\n",
        "density = [45, 33, 22, 11]\n",
        "for d in density:\n",
        "  k = graph_generator(rows, d)\n",
        "  print('Количество вершин:', k.nrows, 'количество ребер:', {k.nvals})\n",
        "  print(alg_time(k))"
      ]
    },
    {
      "cell_type": "code",
      "source": [
        "# 25 veryexes\n",
        "rows = 25\n",
        "density = [300, 225, 150, 75]\n",
        "for d in density:\n",
        "  k = graph_generator(rows, d)\n",
        "  print('Количество вершин:', k.nrows, 'количество ребер:', {k.nvals})\n",
        "  print(alg_time(k))"
      ],
      "metadata": {
        "colab": {
          "base_uri": "https://localhost:8080/",
          "height": 0
        },
        "id": "B2SOSgUEkIlc",
        "outputId": "1312e2e8-b9ef-444c-f8e5-d3a691ada1ec"
      },
      "execution_count": 21,
      "outputs": [
        {
          "output_type": "stream",
          "name": "stdout",
          "text": [
            "Количество вершин: 25 количество ребер: {600}\n",
            "Naive:\n",
            "The slowest run took 5.10 times longer than the fastest. This could mean that an intermediate result is being cached.\n",
            "522 µs ± 408 µs per loop (mean ± std. dev. of 7 runs, 1000 loops each)\n",
            "Naive_with_mask:\n",
            "256 µs ± 86.3 µs per loop (mean ± std. dev. of 7 runs, 10000 loops each)\n",
            "Cohen:\n",
            "325 µs ± 11.7 µs per loop (mean ± std. dev. of 7 runs, 1000 loops each)\n",
            "Sandia:\n",
            "234 µs ± 11.1 µs per loop (mean ± std. dev. of 7 runs, 1000 loops each)\n",
            "None\n",
            "Количество вершин: 25 количество ребер: {450}\n",
            "Naive:\n",
            "377 µs ± 9.28 µs per loop (mean ± std. dev. of 7 runs, 1000 loops each)\n",
            "Naive_with_mask:\n",
            "329 µs ± 55.4 µs per loop (mean ± std. dev. of 7 runs, 1000 loops each)\n",
            "Cohen:\n",
            "482 µs ± 180 µs per loop (mean ± std. dev. of 7 runs, 1000 loops each)\n",
            "Sandia:\n",
            "247 µs ± 5.02 µs per loop (mean ± std. dev. of 7 runs, 1000 loops each)\n",
            "None\n",
            "Количество вершин: 25 количество ребер: {300}\n",
            "Naive:\n",
            "388 µs ± 7.77 µs per loop (mean ± std. dev. of 7 runs, 1000 loops each)\n",
            "Naive_with_mask:\n",
            "284 µs ± 55.4 µs per loop (mean ± std. dev. of 7 runs, 1000 loops each)\n",
            "Cohen:\n",
            "424 µs ± 94.7 µs per loop (mean ± std. dev. of 7 runs, 1000 loops each)\n",
            "Sandia:\n",
            "239 µs ± 6.71 µs per loop (mean ± std. dev. of 7 runs, 1000 loops each)\n",
            "None\n",
            "Количество вершин: 25 количество ребер: {150}\n",
            "Naive:\n",
            "368 µs ± 6.98 µs per loop (mean ± std. dev. of 7 runs, 1000 loops each)\n",
            "Naive_with_mask:\n",
            "233 µs ± 35.1 µs per loop (mean ± std. dev. of 7 runs, 10000 loops each)\n",
            "Cohen:\n",
            "324 µs ± 16.7 µs per loop (mean ± std. dev. of 7 runs, 1000 loops each)\n",
            "Sandia:\n",
            "215 µs ± 7.75 µs per loop (mean ± std. dev. of 7 runs, 1000 loops each)\n",
            "None\n"
          ]
        }
      ]
    },
    {
      "cell_type": "code",
      "source": [
        "# 50 veryexes\n",
        "rows = 50\n",
        "density = [1225, 918, 612, 306]\n",
        "for d in density:\n",
        "  k = graph_generator(rows, d)\n",
        "  print('Количество вершин:', k.nrows, 'количество ребер:', {k.nvals})\n",
        "  print(alg_time(k))"
      ],
      "metadata": {
        "colab": {
          "base_uri": "https://localhost:8080/",
          "height": 0
        },
        "id": "p9wMEcP9iUa-",
        "outputId": "b2aa8efa-2246-40b8-e6e2-4c303f706f64"
      },
      "execution_count": 17,
      "outputs": [
        {
          "output_type": "stream",
          "name": "stdout",
          "text": [
            "Количество вершин: 50 количество ребер: {2450}\n",
            "Naive:\n",
            "763 µs ± 101 µs per loop (mean ± std. dev. of 7 runs, 1000 loops each)\n",
            "Naive_with_mask:\n",
            "542 µs ± 147 µs per loop (mean ± std. dev. of 7 runs, 1000 loops each)\n",
            "Cohen:\n",
            "749 µs ± 185 µs per loop (mean ± std. dev. of 7 runs, 1000 loops each)\n",
            "Sandia:\n",
            "558 µs ± 98.4 µs per loop (mean ± std. dev. of 7 runs, 1000 loops each)\n",
            "None\n",
            "Количество вершин: 50 количество ребер: {1836}\n",
            "Naive:\n",
            "1.54 ms ± 208 µs per loop (mean ± std. dev. of 7 runs, 1000 loops each)\n",
            "Naive_with_mask:\n",
            "1.14 ms ± 155 µs per loop (mean ± std. dev. of 7 runs, 1000 loops each)\n",
            "Cohen:\n",
            "960 µs ± 162 µs per loop (mean ± std. dev. of 7 runs, 1000 loops each)\n",
            "Sandia:\n",
            "1.08 ms ± 300 µs per loop (mean ± std. dev. of 7 runs, 1000 loops each)\n",
            "None\n",
            "Количество вершин: 50 количество ребер: {1224}\n",
            "Naive:\n",
            "1.64 ms ± 157 µs per loop (mean ± std. dev. of 7 runs, 1000 loops each)\n",
            "Naive_with_mask:\n",
            "901 µs ± 55.8 µs per loop (mean ± std. dev. of 7 runs, 1000 loops each)\n",
            "Cohen:\n",
            "791 µs ± 135 µs per loop (mean ± std. dev. of 7 runs, 1000 loops each)\n",
            "Sandia:\n",
            "446 µs ± 7.05 µs per loop (mean ± std. dev. of 7 runs, 1000 loops each)\n",
            "None\n",
            "Количество вершин: 50 количество ребер: {612}\n",
            "Naive:\n",
            "394 µs ± 10.3 µs per loop (mean ± std. dev. of 7 runs, 1000 loops each)\n",
            "Naive_with_mask:\n",
            "315 µs ± 58.5 µs per loop (mean ± std. dev. of 7 runs, 1000 loops each)\n",
            "Cohen:\n",
            "452 µs ± 91.7 µs per loop (mean ± std. dev. of 7 runs, 1000 loops each)\n",
            "Sandia:\n",
            "274 µs ± 13.4 µs per loop (mean ± std. dev. of 7 runs, 1000 loops each)\n",
            "None\n"
          ]
        }
      ]
    },
    {
      "cell_type": "code",
      "source": [
        "# 75 veryexes\n",
        "rows = 75\n",
        "density = [2775, 2081, 1387, 693]\n",
        "for d in density:\n",
        "  k = graph_generator(rows, d)\n",
        "  print('Количество вершин:', k.nrows, 'количество ребер:', {k.nvals})\n",
        "  print(alg_time(k))"
      ],
      "metadata": {
        "colab": {
          "base_uri": "https://localhost:8080/",
          "height": 0
        },
        "id": "REQuQcfmkMVk",
        "outputId": "cb2521b1-db45-4ccc-fc0d-75e84b94e191"
      },
      "execution_count": 22,
      "outputs": [
        {
          "output_type": "stream",
          "name": "stdout",
          "text": [
            "Количество вершин: 75 количество ребер: {5550}\n",
            "Naive:\n",
            "2.03 ms ± 105 µs per loop (mean ± std. dev. of 7 runs, 100 loops each)\n",
            "Naive_with_mask:\n",
            "1.48 ms ± 508 µs per loop (mean ± std. dev. of 7 runs, 1000 loops each)\n",
            "Cohen:\n",
            "1.24 ms ± 471 µs per loop (mean ± std. dev. of 7 runs, 1000 loops each)\n",
            "Sandia:\n",
            "662 µs ± 13.4 µs per loop (mean ± std. dev. of 7 runs, 1000 loops each)\n",
            "None\n",
            "Количество вершин: 75 количество ребер: {4162}\n",
            "Naive:\n",
            "5.9 ms ± 3.03 ms per loop (mean ± std. dev. of 7 runs, 100 loops each)\n",
            "Naive_with_mask:\n",
            "2.37 ms ± 73.8 µs per loop (mean ± std. dev. of 7 runs, 100 loops each)\n",
            "Cohen:\n",
            "1.64 ms ± 440 µs per loop (mean ± std. dev. of 7 runs, 1000 loops each)\n",
            "Sandia:\n",
            "1.81 ms ± 799 µs per loop (mean ± std. dev. of 7 runs, 1000 loops each)\n",
            "None\n",
            "Количество вершин: 75 количество ребер: {2774}\n",
            "Naive:\n",
            "9.14 ms ± 3.8 ms per loop (mean ± std. dev. of 7 runs, 100 loops each)\n",
            "Naive_with_mask:\n",
            "2.46 ms ± 653 µs per loop (mean ± std. dev. of 7 runs, 100 loops each)\n",
            "Cohen:\n",
            "2 ms ± 971 µs per loop (mean ± std. dev. of 7 runs, 1000 loops each)\n",
            "Sandia:\n",
            "969 µs ± 229 µs per loop (mean ± std. dev. of 7 runs, 100 loops each)\n",
            "None\n",
            "Количество вершин: 75 количество ребер: {1386}\n",
            "Naive:\n",
            "1.08 ms ± 218 µs per loop (mean ± std. dev. of 7 runs, 1000 loops each)\n",
            "Naive_with_mask:\n",
            "568 µs ± 118 µs per loop (mean ± std. dev. of 7 runs, 1000 loops each)\n",
            "Cohen:\n",
            "878 µs ± 214 µs per loop (mean ± std. dev. of 7 runs, 1000 loops each)\n",
            "Sandia:\n",
            "370 µs ± 40.6 µs per loop (mean ± std. dev. of 7 runs, 1000 loops each)\n",
            "None\n"
          ]
        }
      ]
    },
    {
      "cell_type": "code",
      "execution_count": null,
      "metadata": {
        "colab": {
          "base_uri": "https://localhost:8080/"
        },
        "id": "gDPiABmInXXL",
        "outputId": "63f435a5-80dc-4697-aa73-9a7beacb1bc0"
      },
      "outputs": [
        {
          "name": "stdout",
          "output_type": "stream",
          "text": [
            "Количество вершин: 100 количество ребер: {9900}\n",
            "Naive:\n",
            "3.79 ms ± 189 µs per loop (mean ± std. dev. of 7 runs, 100 loops each)\n",
            "Naive_with_mask:\n",
            "2.26 ms ± 136 µs per loop (mean ± std. dev. of 7 runs, 100 loops each)\n",
            "Cohen:\n",
            "2.2 ms ± 731 µs per loop (mean ± std. dev. of 7 runs, 1000 loops each)\n",
            "Sandia:\n",
            "1.89 ms ± 1.3 ms per loop (mean ± std. dev. of 7 runs, 1000 loops each)\n",
            "None\n",
            "Количество вершин: 100 количество ребер: {7424}\n",
            "Naive:\n",
            "15.4 ms ± 7.09 ms per loop (mean ± std. dev. of 7 runs, 100 loops each)\n",
            "Naive_with_mask:\n",
            "4.73 ms ± 71.6 µs per loop (mean ± std. dev. of 7 runs, 100 loops each)\n",
            "Cohen:\n",
            "2.42 ms ± 95.9 µs per loop (mean ± std. dev. of 7 runs, 100 loops each)\n",
            "Sandia:\n",
            "2.16 ms ± 824 µs per loop (mean ± std. dev. of 7 runs, 1000 loops each)\n",
            "None\n",
            "Количество вершин: 100 количество ребер: {4950}\n",
            "Naive:\n",
            "20.3 ms ± 9.96 ms per loop (mean ± std. dev. of 7 runs, 100 loops each)\n",
            "Naive_with_mask:\n",
            "The slowest run took 4.40 times longer than the fastest. This could mean that an intermediate result is being cached.\n",
            "9.36 ms ± 5.45 ms per loop (mean ± std. dev. of 7 runs, 100 loops each)\n",
            "Cohen:\n",
            "6.17 ms ± 2.15 ms per loop (mean ± std. dev. of 7 runs, 100 loops each)\n",
            "Sandia:\n",
            "2.54 ms ± 1.39 ms per loop (mean ± std. dev. of 7 runs, 1000 loops each)\n",
            "None\n",
            "Количество вершин: 100 количество ребер: {2474}\n",
            "Naive:\n",
            "1.1 ms ± 132 µs per loop (mean ± std. dev. of 7 runs, 100 loops each)\n",
            "Naive_with_mask:\n",
            "748 µs ± 8.97 µs per loop (mean ± std. dev. of 7 runs, 1000 loops each)\n",
            "Cohen:\n",
            "933 µs ± 381 µs per loop (mean ± std. dev. of 7 runs, 1000 loops each)\n",
            "Sandia:\n",
            "391 µs ± 6.98 µs per loop (mean ± std. dev. of 7 runs, 1000 loops each)\n",
            "None\n"
          ]
        }
      ],
      "source": [
        "# 100 veryexes\n",
        "rows = 100\n",
        "density = [4950, 3712, 2475, 1237]\n",
        "for d in density:\n",
        "  k = graph_generator(rows, d)\n",
        "  print('Количество вершин:', k.nrows, 'количество ребер:', {k.nvals})\n",
        "  print(alg_time(k))"
      ]
    },
    {
      "cell_type": "code",
      "source": [
        "# 250 veryexes\n",
        "rows = 250\n",
        "density = [31125, 23343, 15562, 7781]\n",
        "for d in density:\n",
        "  k = graph_generator(rows, d)\n",
        "  print('Количество вершин:', k.nrows, 'количество ребер:', {k.nvals})\n",
        "  print(alg_time(k))"
      ],
      "metadata": {
        "colab": {
          "base_uri": "https://localhost:8080/",
          "height": 0
        },
        "id": "oRe-8TYjibc2",
        "outputId": "c306edb9-50e3-4ea0-caeb-cb57cc9cd07f"
      },
      "execution_count": 18,
      "outputs": [
        {
          "output_type": "stream",
          "name": "stdout",
          "text": [
            "Количество вершин: 250 количество ребер: {62250}\n",
            "Naive:\n",
            "71.3 ms ± 18.3 ms per loop (mean ± std. dev. of 7 runs, 10 loops each)\n",
            "Naive_with_mask:\n",
            "29.9 ms ± 718 µs per loop (mean ± std. dev. of 7 runs, 10 loops each)\n",
            "Cohen:\n",
            "16.1 ms ± 4.12 ms per loop (mean ± std. dev. of 7 runs, 100 loops each)\n",
            "Sandia:\n",
            "8.37 ms ± 92.1 µs per loop (mean ± std. dev. of 7 runs, 100 loops each)\n",
            "None\n",
            "Количество вершин: 250 количество ребер: {46686}\n",
            "Naive:\n",
            "92.7 ms ± 583 µs per loop (mean ± std. dev. of 7 runs, 10 loops each)\n",
            "Naive_with_mask:\n",
            "81.8 ms ± 18.2 ms per loop (mean ± std. dev. of 7 runs, 10 loops each)\n",
            "Cohen:\n",
            "26.1 ms ± 1.22 ms per loop (mean ± std. dev. of 7 runs, 10 loops each)\n",
            "Sandia:\n",
            "16.5 ms ± 3.91 ms per loop (mean ± std. dev. of 7 runs, 100 loops each)\n",
            "None\n",
            "Количество вершин: 250 количество ребер: {31124}\n",
            "Naive:\n",
            "125 ms ± 26 ms per loop (mean ± std. dev. of 7 runs, 10 loops each)\n",
            "Naive_with_mask:\n",
            "55.6 ms ± 609 µs per loop (mean ± std. dev. of 7 runs, 10 loops each)\n",
            "Cohen:\n",
            "24.9 ms ± 3.66 ms per loop (mean ± std. dev. of 7 runs, 10 loops each)\n",
            "Sandia:\n",
            "24.9 ms ± 4.55 ms per loop (mean ± std. dev. of 7 runs, 10 loops each)\n",
            "None\n",
            "Количество вершин: 250 количество ребер: {15562}\n",
            "Naive:\n",
            "7.88 ms ± 231 µs per loop (mean ± std. dev. of 7 runs, 100 loops each)\n",
            "Naive_with_mask:\n",
            "The slowest run took 5.25 times longer than the fastest. This could mean that an intermediate result is being cached.\n",
            "12.5 ms ± 9.45 ms per loop (mean ± std. dev. of 7 runs, 100 loops each)\n",
            "Cohen:\n",
            "3.21 ms ± 1.27 ms per loop (mean ± std. dev. of 7 runs, 100 loops each)\n",
            "Sandia:\n",
            "1.8 ms ± 556 µs per loop (mean ± std. dev. of 7 runs, 1000 loops each)\n",
            "None\n"
          ]
        }
      ]
    },
    {
      "cell_type": "code",
      "execution_count": null,
      "metadata": {
        "colab": {
          "base_uri": "https://localhost:8080/"
        },
        "id": "UfIYWS8snfAH",
        "outputId": "bfedc90a-98d3-4d7f-dae5-db3fe3e7415f"
      },
      "outputs": [
        {
          "name": "stdout",
          "output_type": "stream",
          "text": [
            "Количество вершин: 500 количество ребер: {249500}\n",
            "Naive:\n",
            "681 ms ± 241 ms per loop (mean ± std. dev. of 7 runs, 1 loop each)\n",
            "Naive_with_mask:\n",
            "364 ms ± 109 ms per loop (mean ± std. dev. of 7 runs, 1 loop each)\n",
            "Cohen:\n",
            "157 ms ± 50.2 ms per loop (mean ± std. dev. of 7 runs, 10 loops each)\n",
            "Sandia:\n",
            "76.8 ms ± 14.6 ms per loop (mean ± std. dev. of 7 runs, 10 loops each)\n",
            "None\n",
            "Количество вершин: 500 количество ребер: {187124}\n",
            "Naive:\n",
            "1.26 s ± 525 ms per loop (mean ± std. dev. of 7 runs, 1 loop each)\n",
            "Naive_with_mask:\n",
            "498 ms ± 4.59 ms per loop (mean ± std. dev. of 7 runs, 1 loop each)\n",
            "Cohen:\n",
            "208 ms ± 38 ms per loop (mean ± std. dev. of 7 runs, 10 loops each)\n",
            "Sandia:\n",
            "141 ms ± 30.2 ms per loop (mean ± std. dev. of 7 runs, 10 loops each)\n",
            "None\n",
            "Количество вершин: 500 количество ребер: {124750}\n",
            "Naive:\n",
            "1.22 s ± 220 ms per loop (mean ± std. dev. of 7 runs, 1 loop each)\n",
            "Naive_with_mask:\n",
            "594 ms ± 166 ms per loop (mean ± std. dev. of 7 runs, 1 loop each)\n",
            "Cohen:\n",
            "209 ms ± 39.7 ms per loop (mean ± std. dev. of 7 runs, 10 loops each)\n",
            "Sandia:\n",
            "98.4 ms ± 22.7 ms per loop (mean ± std. dev. of 7 runs, 10 loops each)\n",
            "None\n",
            "Количество вершин: 500 количество ребер: {62374}\n",
            "Naive:\n",
            "52.3 ms ± 1.58 ms per loop (mean ± std. dev. of 7 runs, 10 loops each)\n",
            "Naive_with_mask:\n",
            "76.2 ms ± 20.8 ms per loop (mean ± std. dev. of 7 runs, 10 loops each)\n",
            "Cohen:\n",
            "24.7 ms ± 11.5 ms per loop (mean ± std. dev. of 7 runs, 10 loops each)\n",
            "Sandia:\n",
            "13.3 ms ± 6.78 ms per loop (mean ± std. dev. of 7 runs, 100 loops each)\n",
            "None\n"
          ]
        }
      ],
      "source": [
        "# 500 veryexes\n",
        "rows = 500\n",
        "density = [124750, 93562, 62375, 31187]\n",
        "for d in density:\n",
        "  k = graph_generator(rows, d)\n",
        "  print('Количество вершин:', k.nrows, 'количество ребер:', {k.nvals})\n",
        "  print(alg_time(k))"
      ]
    },
    {
      "cell_type": "code",
      "source": [
        "# 750 veryexes\n",
        "rows = 750\n",
        "density = [280875, 210656, 140437, 70218]\n",
        "for d in density:\n",
        "  k = graph_generator(rows, d)\n",
        "  print('Количество вершин:', k.nrows, 'количество ребер:', {k.nvals})\n",
        "  print(alg_time(k))"
      ],
      "metadata": {
        "colab": {
          "base_uri": "https://localhost:8080/",
          "height": 0
        },
        "id": "0-suI6-YihN4",
        "outputId": "5e0fd3a6-d343-4118-94e7-7c4325eebced"
      },
      "execution_count": 19,
      "outputs": [
        {
          "output_type": "stream",
          "name": "stdout",
          "text": [
            "Количество вершин: 750 количество ребер: {561750}\n",
            "Naive:\n",
            "1.87 s ± 596 ms per loop (mean ± std. dev. of 7 runs, 1 loop each)\n",
            "Naive_with_mask:\n",
            "962 ms ± 229 ms per loop (mean ± std. dev. of 7 runs, 1 loop each)\n",
            "Cohen:\n",
            "296 ms ± 4.39 ms per loop (mean ± std. dev. of 7 runs, 1 loop each)\n",
            "Sandia:\n",
            "185 ms ± 40.3 ms per loop (mean ± std. dev. of 7 runs, 10 loops each)\n",
            "None\n",
            "Количество вершин: 750 количество ребер: {421312}\n",
            "Naive:\n",
            "2.88 s ± 365 ms per loop (mean ± std. dev. of 7 runs, 1 loop each)\n",
            "Naive_with_mask:\n",
            "1.86 s ± 329 ms per loop (mean ± std. dev. of 7 runs, 1 loop each)\n",
            "Cohen:\n",
            "603 ms ± 5.3 ms per loop (mean ± std. dev. of 7 runs, 1 loop each)\n",
            "Sandia:\n",
            "357 ms ± 66.3 ms per loop (mean ± std. dev. of 7 runs, 1 loop each)\n",
            "None\n",
            "Количество вершин: 750 количество ребер: {280874}\n",
            "Naive:\n",
            "3.51 s ± 776 ms per loop (mean ± std. dev. of 7 runs, 1 loop each)\n",
            "Naive_with_mask:\n",
            "1.55 s ± 120 ms per loop (mean ± std. dev. of 7 runs, 1 loop each)\n",
            "Cohen:\n",
            "627 ms ± 122 ms per loop (mean ± std. dev. of 7 runs, 1 loop each)\n",
            "Sandia:\n",
            "282 ms ± 7.01 ms per loop (mean ± std. dev. of 7 runs, 1 loop each)\n",
            "None\n",
            "Количество вершин: 750 количество ребер: {140436}\n",
            "Naive:\n",
            "191 ms ± 35 ms per loop (mean ± std. dev. of 7 runs, 10 loops each)\n",
            "Naive_with_mask:\n",
            "145 ms ± 31 ms per loop (mean ± std. dev. of 7 runs, 10 loops each)\n",
            "Cohen:\n",
            "72.3 ms ± 28.3 ms per loop (mean ± std. dev. of 7 runs, 10 loops each)\n",
            "Sandia:\n",
            "25.3 ms ± 637 µs per loop (mean ± std. dev. of 7 runs, 10 loops each)\n",
            "None\n"
          ]
        }
      ]
    },
    {
      "cell_type": "code",
      "execution_count": null,
      "metadata": {
        "colab": {
          "base_uri": "https://localhost:8080/"
        },
        "id": "pjOV0LwBnmR2",
        "outputId": "a4463cec-eb03-43b9-d64e-412f6359cab3"
      },
      "outputs": [
        {
          "name": "stdout",
          "output_type": "stream",
          "text": [
            "Количество вершин: 1000 количество ребер: {999000}\n",
            "Naive:\n",
            "4.42 s ± 881 ms per loop (mean ± std. dev. of 7 runs, 1 loop each)\n",
            "Naive_with_mask:\n",
            "2.02 s ± 315 ms per loop (mean ± std. dev. of 7 runs, 1 loop each)\n",
            "Cohen:\n",
            "908 ms ± 224 ms per loop (mean ± std. dev. of 7 runs, 1 loop each)\n",
            "Sandia:\n",
            "383 ms ± 9.79 ms per loop (mean ± std. dev. of 7 runs, 1 loop each)\n",
            "None\n",
            "Количество вершин: 1000 количество ребер: {749250}\n",
            "Naive:\n",
            "7.51 s ± 1.18 s per loop (mean ± std. dev. of 7 runs, 1 loop each)\n",
            "Naive_with_mask:\n",
            "5.75 s ± 1.01 s per loop (mean ± std. dev. of 7 runs, 1 loop each)\n",
            "Cohen:\n",
            "2.24 s ± 784 ms per loop (mean ± std. dev. of 7 runs, 1 loop each)\n",
            "Sandia:\n",
            "745 ms ± 9.02 ms per loop (mean ± std. dev. of 7 runs, 1 loop each)\n",
            "None\n",
            "Количество вершин: 1000 количество ребер: {499500}\n",
            "Naive:\n",
            "7.81 s ± 629 ms per loop (mean ± std. dev. of 7 runs, 1 loop each)\n",
            "Naive_with_mask:\n",
            "4.56 s ± 1.08 s per loop (mean ± std. dev. of 7 runs, 1 loop each)\n",
            "Cohen:\n",
            "1.25 s ± 7.13 ms per loop (mean ± std. dev. of 7 runs, 1 loop each)\n",
            "Sandia:\n",
            "849 ms ± 188 ms per loop (mean ± std. dev. of 7 runs, 1 loop each)\n",
            "None\n",
            "Количество вершин: 1000 количество ребер: {249750}\n",
            "Naive:\n",
            "387 ms ± 10.7 ms per loop (mean ± std. dev. of 7 runs, 1 loop each)\n",
            "Naive_with_mask:\n",
            "317 ms ± 7.85 ms per loop (mean ± std. dev. of 7 runs, 1 loop each)\n",
            "Cohen:\n",
            "135 ms ± 38.1 ms per loop (mean ± std. dev. of 7 runs, 10 loops each)\n",
            "Sandia:\n",
            "59.5 ms ± 5.01 ms per loop (mean ± std. dev. of 7 runs, 10 loops each)\n",
            "None\n"
          ]
        }
      ],
      "source": [
        "# 1000 veryexes\n",
        "rows = 1000\n",
        "density = [499500, 374625, 249750, 124875]\n",
        "for d in density:\n",
        "  k = graph_generator(rows, d)\n",
        "  print('Количество вершин:', k.nrows, 'количество ребер:', {k.nvals})\n",
        "  print(alg_time(k))"
      ]
    },
    {
      "cell_type": "markdown",
      "metadata": {
        "id": "fY3665rQsDUp"
      },
      "source": [
        "**Выводы:**\n",
        "\n",
        "\n",
        "1.   Наивный алгоритм все также работает дольше всех. Если на графе с 10 вершинами Наивный алгоритм идет примерно на ровне со всеми другими, иногда даже выигрывая по времени у других алгоритмов, то уже на графе с 25 вершинами Наивный алгоритм выигрывает повремени лишь у алгоритма Кохена. А на графе с 50 вершинами Наивный алгоритм начинает работать уже дольше всех. Затем по времени выполнения идет Наивный алгоритм с маской, алгоритм Кохема и быстрее всех с задачей справляется алгоритм Сандиа.\n",
        "2.   Если сравнивать алгоритмы Кохена и Сандиа, то с увеличением количества вершин все более показательно, что Сандиа все-таки быстрее. А также, скорее всего эффективнее в использование памяти, так как только этот алгоритм хранит только часть матрицы смежности.\n",
        "3.   Также достаточно очевидно, что с уменьшением разряженности графа, увеличивается время работы алгоритма, что более показательно видно при увеличение количества вершин в графе. Тем не менее при полном заполнение матрицы смежности время работы алгоритмов опять уменьшается.\n",
        "4. Наивный алгоритм и Наивный алгоритм с маской могут использовать в графах с небольшим количеством вершин, в то время как для больших неразряженных графов эффективнее использовать алгоритм Сандиа или Кохена.\n",
        "\n",
        "\n"
      ]
    }
  ],
  "metadata": {
    "colab": {
      "provenance": []
    },
    "kernelspec": {
      "display_name": "Python 3",
      "name": "python3"
    },
    "language_info": {
      "name": "python"
    }
  },
  "nbformat": 4,
  "nbformat_minor": 0
}