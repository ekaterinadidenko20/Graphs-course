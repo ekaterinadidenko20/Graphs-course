{
  "nbformat": 4,
  "nbformat_minor": 0,
  "metadata": {
    "colab": {
      "provenance": []
    },
    "kernelspec": {
      "name": "python3",
      "display_name": "Python 3"
    },
    "language_info": {
      "name": "python"
    }
  },
  "cells": [
    {
      "cell_type": "code",
      "execution_count": null,
      "metadata": {
        "colab": {
          "base_uri": "https://localhost:8080/"
        },
        "id": "lXoMmzN4QBuH",
        "outputId": "012f5538-7299-4920-c33d-de24c2c6dfb5"
      },
      "outputs": [
        {
          "output_type": "stream",
          "name": "stdout",
          "text": [
            "Collecting python-graphblas[default]\n",
            "  Downloading python_graphblas-2024.2.0-py3-none-any.whl (350 kB)\n",
            "\u001b[2K     \u001b[90m━━━━━━━━━━━━━━━━━━━━━━━━━━━━━━━━━━━━━━━━\u001b[0m \u001b[32m350.9/350.9 kB\u001b[0m \u001b[31m2.0 MB/s\u001b[0m eta \u001b[36m0:00:00\u001b[0m\n",
            "\u001b[?25hRequirement already satisfied: numpy>=1.22 in /usr/local/lib/python3.10/dist-packages (from python-graphblas[default]) (1.25.2)\n",
            "Collecting donfig>=0.6 (from python-graphblas[default])\n",
            "  Downloading donfig-0.8.1.post0-py3-none-any.whl (24 kB)\n",
            "Requirement already satisfied: pyyaml>=5.4 in /usr/local/lib/python3.10/dist-packages (from python-graphblas[default]) (6.0.1)\n",
            "Collecting suitesparse-graphblas<9,>=7.4.0.0 (from python-graphblas[default])\n",
            "  Downloading suitesparse_graphblas-8.2.1.0-cp310-cp310-manylinux_2_17_x86_64.manylinux2014_x86_64.whl (45.7 MB)\n",
            "\u001b[2K     \u001b[90m━━━━━━━━━━━━━━━━━━━━━━━━━━━━━━━━━━━━━━━━\u001b[0m \u001b[32m45.7/45.7 MB\u001b[0m \u001b[31m14.0 MB/s\u001b[0m eta \u001b[36m0:00:00\u001b[0m\n",
            "\u001b[?25hRequirement already satisfied: numba>=0.55 in /usr/local/lib/python3.10/dist-packages (from python-graphblas[default]) (0.58.1)\n",
            "Requirement already satisfied: llvmlite<0.42,>=0.41.0dev0 in /usr/local/lib/python3.10/dist-packages (from numba>=0.55->python-graphblas[default]) (0.41.1)\n",
            "Requirement already satisfied: cffi>=1.11 in /usr/local/lib/python3.10/dist-packages (from suitesparse-graphblas<9,>=7.4.0.0->python-graphblas[default]) (1.16.0)\n",
            "Requirement already satisfied: scipy>=1.9 in /usr/local/lib/python3.10/dist-packages (from python-graphblas[default]) (1.11.4)\n",
            "Requirement already satisfied: pandas>=1.2 in /usr/local/lib/python3.10/dist-packages (from python-graphblas[default]) (2.0.3)\n",
            "Requirement already satisfied: pycparser in /usr/local/lib/python3.10/dist-packages (from cffi>=1.11->suitesparse-graphblas<9,>=7.4.0.0->python-graphblas[default]) (2.22)\n",
            "Requirement already satisfied: python-dateutil>=2.8.2 in /usr/local/lib/python3.10/dist-packages (from pandas>=1.2->python-graphblas[default]) (2.8.2)\n",
            "Requirement already satisfied: pytz>=2020.1 in /usr/local/lib/python3.10/dist-packages (from pandas>=1.2->python-graphblas[default]) (2023.4)\n",
            "Requirement already satisfied: tzdata>=2022.1 in /usr/local/lib/python3.10/dist-packages (from pandas>=1.2->python-graphblas[default]) (2024.1)\n",
            "Requirement already satisfied: six>=1.5 in /usr/local/lib/python3.10/dist-packages (from python-dateutil>=2.8.2->pandas>=1.2->python-graphblas[default]) (1.16.0)\n",
            "Installing collected packages: donfig, suitesparse-graphblas, python-graphblas\n",
            "Successfully installed donfig-0.8.1.post0 python-graphblas-2024.2.0 suitesparse-graphblas-8.2.1.0\n"
          ]
        }
      ],
      "source": [
        "!pip install python-graphblas[default]"
      ]
    },
    {
      "cell_type": "code",
      "source": [
        "import numpy as np\n",
        "import pandas as pd\n",
        "import networkx as nx\n",
        "import matplotlib.pyplot as plt\n",
        "import graphblas as gb\n",
        "from graphblas import Matrix, Vector, Scalar\n",
        "from graphblas import dtypes\n",
        "from graphblas import unary, binary, monoid, semiring\n",
        "from graphblas.io import mmread"
      ],
      "metadata": {
        "id": "jfAlx8slQGfD"
      },
      "execution_count": null,
      "outputs": []
    },
    {
      "cell_type": "markdown",
      "source": [
        "# **MSBFS-Levels**"
      ],
      "metadata": {
        "id": "sMYKmfUrQcZ5"
      }
    },
    {
      "cell_type": "markdown",
      "source": [
        "Используя python-graphblas реализовать функцию обхода ориентированного графа (MSBFS-Levels) в ширину из нескольких заданных стартовых вершин.\n",
        "* Функция принимает представление графа, удобное для неё (загрузка, конвертация реализованы отдельно) и массив номеров стартовых вершин.\n",
        "* Функция возвращает массив пар: стартовая вершина, и массив (levels), где для каждой вершины указано, на каком уровне она достижима из этой стартовой. Стартовая вершина достижима на нулевом уровне, если вершина не достижима, то значение соответствующей ячейки сделайте равной -1."
      ],
      "metadata": {
        "id": "NuzeMwdPQh8J"
      }
    },
    {
      "cell_type": "code",
      "source": [
        "def level_BFS(A, massiv):\n",
        "  # количество вершин в графе\n",
        "  n = A.nrows\n",
        "  # количество стартовых вершин\n",
        "  m = len(massiv)\n",
        "  # матрица для результата с уровнями для каждой стартовой вершины\n",
        "  result = Matrix(dtypes.INT32, m, n)  # vector for result with levels\n",
        "  # фронт\n",
        "  f = Matrix(bool, m, n)\n",
        "  # заполние изначальной матрицы значениями для каждой стартовой вершины\n",
        "  for i in range(m):\n",
        "    f[i, massiv[i]] << True\n",
        "  # вектор перехода к доступным вершинам из текущей\n",
        "  succ = Vector(bool, m)\n",
        "  # уровень начальный\n",
        "  level = 0\n",
        "  # создание цикла для обхода графа\n",
        "  while True:\n",
        "    # уровень для стартовых вершин по маске f\n",
        "    result(mask=f.V) << level\n",
        "    # рассчет следующего фронта\n",
        "    f(~result.S, replace=True) << f.mxm(A, semiring.lor_land)\n",
        "    # заполнение вектора перехода к доступным вершинам для каждой из стартовых вершин\n",
        "    for i in range(m):\n",
        "      succ[i] << f[i,:].reduce(monoid.lor, allow_empty=False)\n",
        "    # остановка цикла, если дальше нет вершин для перехода\n",
        "    # если есть хотя бы одно True, то значит дальше можно не проверять\n",
        "    for i in range(m):\n",
        "      if succ[i]:\n",
        "        break\n",
        "    # если все False значит граф полностью обошли\n",
        "    if not succ[i]:\n",
        "      break\n",
        "    # переходим на следующий уровень\n",
        "    level += 1\n",
        "  # создание массива пар с помощью словаря, где ключ - стартовая вершина, значение - массив (levels), где указано, на каком уровне каждая вершина достижима из текущей стартовой вершины\n",
        "  final = dict() # словарь\n",
        "  for i in range(0, m):\n",
        "    values = [] # массив levels\n",
        "    for j in range(0, n):\n",
        "      if result[i, j].value is None:\n",
        "        values.append(-1) # -1, если вершина не достижима\n",
        "      else:\n",
        "        values.append(result[i, j].value)\n",
        "    final[massiv[i]] = values\n",
        "  return final"
      ],
      "metadata": {
        "id": "R5GpVVztRksR"
      },
      "execution_count": null,
      "outputs": []
    },
    {
      "cell_type": "markdown",
      "source": [
        "# **MSBFS-Parents**"
      ],
      "metadata": {
        "id": "5uiVz4N4cGEs"
      }
    },
    {
      "cell_type": "markdown",
      "source": [
        "Используя python-graphblas реализовать функцию обхода ориентированного графа (MSBFS-Parents) в ширину из нескольких заданных стартовых вершин.\n",
        "* Функция принимает представление графа, удобное для неё (загрузка, конвертация реализованы отдельно) и массив номеров стартовых вершин.\n",
        "* Функция возвращает массив пар: стартовая вершина, и массив (parents), где для каждой вершины графа указано, из какой вершины мы пришли в эту по кратчайшему пути из стартовой вершины. При этом для самой стартовой вершины такое значение взять равное -1, а для недостижимых вершин взять равное -2. При наличии нескольких возможных значений в массивах parents брать наименьшее"
      ],
      "metadata": {
        "id": "mpo5R3-qReNA"
      }
    },
    {
      "cell_type": "code",
      "source": [
        "def parent_BFS(A, massiv):\n",
        "  # количество вершин в графе\n",
        "  n = A.nrows\n",
        "  # количество стартовых вершин\n",
        "  m = len(massiv)\n",
        "  # матрица для результата с индентификаторами вершин\n",
        "  index_ramp = Matrix(dtypes.UINT64, m, n)\n",
        "  # заполнение матрицы текущими номерами вершин\n",
        "  for i in range(m):\n",
        "    for j in range(n):\n",
        "      index_ramp[i,j] << j\n",
        "  # создание массива \"родителей\"\n",
        "  parents = Matrix(dtypes.UINT64, m, n)\n",
        "  # фронт\n",
        "  wavefront = Matrix(dtypes.UINT64, m, n)\n",
        "  # заполнение матрицы номерами соответвующих вершин \"родителей\"\n",
        "  for i in range(m):\n",
        "    parents[i,massiv[i]] << massiv[i]\n",
        "    wavefront[i, massiv[i]] << 1\n",
        "  # создание цикла для обхода графа\n",
        "  while wavefront.nvals > 0:\n",
        "    # конвертирование сохраненных значений фронта в индексы значений\n",
        "    wavefront << index_ramp.ewise_mult(wavefront, binary.first)\n",
        "    # маскирование \"родителей\"\n",
        "    wavefront (~parents.S, replace=True) << wavefront.mxm(A, semiring.min_first)\n",
        "    # объединение существующих \"родителей\" с новыми из фронта\n",
        "    parents(binary.plus) << wavefront\n",
        "# создание массива пар с помощью словаря, где ключ - стартовая вершина, значение - массив (parents), где указано, из какой вершины мы пришли в эту по кратчайшему пути из стартовой вершины\n",
        "  final = dict() # словарь\n",
        "  for i in range(m):\n",
        "    values = [] # значения\n",
        "    for j in range(n):\n",
        "      if parents[i, j].value is None:\n",
        "        values.append(-2) # -2 для недостижимых вершин\n",
        "      elif j == massiv[i]:\n",
        "        values.append(-1) # -1 для стартовых вершин\n",
        "      else:\n",
        "        values.append(parents[i,j].value)\n",
        "    final[massiv[i]] = values\n",
        "  return final"
      ],
      "metadata": {
        "id": "FuKGuscwRmFC"
      },
      "execution_count": null,
      "outputs": []
    },
    {
      "cell_type": "markdown",
      "source": [
        "# **Тестирование**"
      ],
      "metadata": {
        "id": "KvBOz4HyRmZY"
      }
    },
    {
      "cell_type": "markdown",
      "source": [
        "**TEST 1**\n",
        "\n",
        "Все вершины достижимы из любой вершины"
      ],
      "metadata": {
        "id": "m7cSJa-X3Tu3"
      }
    },
    {
      "cell_type": "code",
      "source": [
        "edges = [\n",
        "  [0, 1, 1, 2, 2, 0, 2, 3],\n",
        "  [1, 0, 2, 1, 0, 2, 3, 2],\n",
        "]\n",
        "M1 = Matrix.from_coo(edges[0], edges[1], [True for _ in edges[0]])\n",
        "gb.viz.draw(M1)"
      ],
      "metadata": {
        "id": "314JCpD9RqLX",
        "colab": {
          "base_uri": "https://localhost:8080/",
          "height": 406
        },
        "outputId": "13fdbdf7-a06f-42b2-8f6c-2ba2731adb4b"
      },
      "execution_count": null,
      "outputs": [
        {
          "output_type": "display_data",
          "data": {
            "text/plain": [
              "<Figure size 640x480 with 1 Axes>"
            ],
            "image/png": "[encoded data removed]"
          },
          "metadata": {}
        }
      ]
    },
    {
      "cell_type": "code",
      "source": [
        "# стартовые вершины 0 и 1\n",
        "p = [0, 1]\n",
        "# правильные ответы\n",
        "a1 = {0: [0, 1, 1, 2], 1: [1, 0, 1, 2]}\n",
        "a2 = {0: [-1, 0, 0, 2], 1: [1, -1, 1, 2]}\n",
        "\n",
        "print('level_BFS:', level_BFS(M1, p))\n",
        "print('parent_BFS:', parent_BFS(M1, p))\n",
        "\n",
        "if level_BFS(M1, p) == a1 and parent_BFS(M1, p) == a2:\n",
        "  print('Test passed')\n",
        "else:\n",
        "  print('Test failed')"
      ],
      "metadata": {
        "id": "ZLo_90WkRqNU",
        "colab": {
          "base_uri": "https://localhost:8080/"
        },
        "outputId": "6166fb2f-c241-437a-dd60-72634f455ace"
      },
      "execution_count": null,
      "outputs": [
        {
          "output_type": "stream",
          "name": "stdout",
          "text": [
            "level_BFS: {0: [0, 1, 1, 2], 1: [1, 0, 1, 2]}\n",
            "parent_BFS: {0: [-1, 0, 0, 2], 1: [1, -1, 1, 2]}\n",
            "Test passed\n"
          ]
        }
      ]
    },
    {
      "cell_type": "markdown",
      "source": [
        "**TEST 2**\n",
        "\n",
        "Одна вершина не достижима из всех вершин, а вторая вершина достижима из любой вершины"
      ],
      "metadata": {
        "id": "Ybo8A9MKZV_s"
      }
    },
    {
      "cell_type": "code",
      "source": [
        "edges = [\n",
        "  [1, 1, 2, 3, 1, 4, 5, 5, 5, 4, 1, 6],\n",
        "  [0, 2, 3, 0, 4, 5, 1, 6, 4, 1, 5, 5],\n",
        "]\n",
        "M2 = Matrix.from_coo(edges[0], edges[1], [True for _ in edges[0]])\n",
        "gb.viz.draw(M2)"
      ],
      "metadata": {
        "id": "0bbMOUcLRqQ8",
        "colab": {
          "base_uri": "https://localhost:8080/",
          "height": 406
        },
        "outputId": "1f33ad4f-2bd0-45cb-fc58-08c14f942142"
      },
      "execution_count": null,
      "outputs": [
        {
          "output_type": "display_data",
          "data": {
            "text/plain": [
              "<Figure size 640x480 with 1 Axes>"
            ],
            "image/png": "[encoded data removed]"
          },
          "metadata": {}
        }
      ]
    },
    {
      "cell_type": "code",
      "source": [
        "# стартовые вершины 0 и 1\n",
        "p = [0, 1]\n",
        "# правильные ответы\n",
        "a1 = {0: [0, -1, -1, -1, -1, -1, -1], 1: [1, 0, 1, 2, 1, 1, 2]}\n",
        "a2 = {0: [-1, -2, -2, -2, -2, -2, -2], 1: [1, -1, 1, 2, 1, 1, 5]}\n",
        "\n",
        "print('level_BFS:', level_BFS(M2, p))\n",
        "print('parent_BFS:', parent_BFS(M2, p))\n",
        "\n",
        "if level_BFS(M2, p) == a1 and parent_BFS(M2, p) == a2:\n",
        "  print('Test passed')\n",
        "else:\n",
        "  print('Test failed')"
      ],
      "metadata": {
        "colab": {
          "base_uri": "https://localhost:8080/"
        },
        "id": "jq1GuK7kZXjn",
        "outputId": "32a55f47-69eb-48d2-bbcf-29c040280c47"
      },
      "execution_count": null,
      "outputs": [
        {
          "output_type": "stream",
          "name": "stdout",
          "text": [
            "level_BFS: {0: [0, -1, -1, -1, -1, -1, -1], 1: [1, 0, 1, 2, 1, 1, 2]}\n",
            "parent_BFS: {0: [-1, -2, -2, -2, -2, -2, -2], 1: [1, -1, 1, 2, 1, 1, 5]}\n",
            "Test passed\n"
          ]
        }
      ]
    },
    {
      "cell_type": "markdown",
      "source": [
        "**TEST 3**\n",
        "\n",
        "Увеличим количество стартовых вершин - все будут достижимы"
      ],
      "metadata": {
        "id": "0X7bcgO3bfvM"
      }
    },
    {
      "cell_type": "code",
      "source": [
        "edges = [\n",
        "  [1, 2, 3, 1, 4, 5, 5, 5, 4, 1, 6, 0, 3],\n",
        "  [2, 3, 0, 4, 5, 1, 6, 4, 1, 5, 5, 1, 1],\n",
        "]\n",
        "M3 = Matrix.from_coo(edges[0], edges[1], [True for _ in edges[0]])\n",
        "gb.viz.draw(M3)"
      ],
      "metadata": {
        "colab": {
          "base_uri": "https://localhost:8080/",
          "height": 406
        },
        "id": "AYJtb0pgZXly",
        "outputId": "d3e35d94-6c5f-4349-bb22-4c4373e38e5a"
      },
      "execution_count": null,
      "outputs": [
        {
          "output_type": "display_data",
          "data": {
            "text/plain": [
              "<Figure size 640x480 with 1 Axes>"
            ],
            "image/png": "[encoded data removed]"
          },
          "metadata": {}
        }
      ]
    },
    {
      "cell_type": "code",
      "source": [
        "# стартовые вершины 0, 1, 5 и 6\n",
        "p = [0, 1, 5, 6]\n",
        "# правильные ответы\n",
        "a1 = {0: [0, 1, 2, 3, 2, 2, 3], 1: [3, 0, 1, 2, 1, 1, 2], 5: [4, 1, 2, 3, 1, 0, 1], 6: [5, 2, 3, 4, 2, 1, 0]}\n",
        "a2 = {0: [-1, 0, 1, 2, 1, 1, 5], 1: [3, -1, 1, 2, 1, 1, 5], 5: [3, 5, 1, 2, 5, -1, 5], 6: [3, 5, 1, 2, 5, 6, -1]}\n",
        "\n",
        "print('level_BFS:', level_BFS(M3, p))\n",
        "print('parent_BFS:', parent_BFS(M3, p))\n",
        "\n",
        "if level_BFS(M3, p) == a1 and parent_BFS(M3, p) == a2:\n",
        "  print('Test passed')\n",
        "else:\n",
        "  print('Test failed')"
      ],
      "metadata": {
        "colab": {
          "base_uri": "https://localhost:8080/"
        },
        "id": "zrIvJqI0ZXn7",
        "outputId": "dad979d6-e452-4818-d26e-243b7cfc2448"
      },
      "execution_count": null,
      "outputs": [
        {
          "output_type": "stream",
          "name": "stdout",
          "text": [
            "level_BFS: {0: [0, 1, 2, 3, 2, 2, 3], 1: [3, 0, 1, 2, 1, 1, 2], 5: [4, 1, 2, 3, 1, 0, 1], 6: [5, 2, 3, 4, 2, 1, 0]}\n",
            "parent_BFS: {0: [-1, 0, 1, 2, 1, 1, 5], 1: [3, -1, 1, 2, 1, 1, 5], 5: [3, 5, 1, 2, 5, -1, 5], 6: [3, 5, 1, 2, 5, 6, -1]}\n",
            "Test passed\n"
          ]
        }
      ]
    },
    {
      "cell_type": "markdown",
      "source": [
        "**TEST 4**\n"
      ],
      "metadata": {
        "id": "CjKoCvmagRfu"
      }
    },
    {
      "cell_type": "code",
      "source": [
        "edges = [\n",
        "  [0, 1, 2, 3, 4, 5, 6],\n",
        "  [1, 2, 3, 4, 5, 6, 0],\n",
        "]\n",
        "M4 = Matrix.from_coo(edges[0], edges[1], [True for _ in edges[0]])\n",
        "gb.viz.draw(M4)"
      ],
      "metadata": {
        "colab": {
          "base_uri": "https://localhost:8080/",
          "height": 406
        },
        "id": "Tnv7pj0uZXrh",
        "outputId": "788e6f3f-9f8f-4304-ff6f-511d19192512"
      },
      "execution_count": null,
      "outputs": [
        {
          "output_type": "display_data",
          "data": {
            "text/plain": [
              "<Figure size 640x480 with 1 Axes>"
            ],
            "image/png": "[encoded data removed]"
          },
          "metadata": {}
        }
      ]
    },
    {
      "cell_type": "code",
      "source": [
        "# стартовые вершины 0 и 6\n",
        "p = [0, 6]\n",
        "# правильные ответы\n",
        "a1 = {0: [0, 1, 2, 3, 4, 5, 6], 6: [1, 2, 3, 4, 5, 6, 0]}\n",
        "a2 = {0: [-1, 0, 1, 2, 3, 4, 5], 6: [6, 0, 1, 2, 3, 4, -1]}\n",
        "\n",
        "print('level_BFS:', level_BFS(M4, p))\n",
        "print('parent_BFS:', parent_BFS(M4, p))\n",
        "\n",
        "if level_BFS(M4, p) == a1 and parent_BFS(M4, p) == a2:\n",
        "  print('Test passed')\n",
        "else:\n",
        "  print('Test failed')"
      ],
      "metadata": {
        "colab": {
          "base_uri": "https://localhost:8080/"
        },
        "id": "zICSjgKFgVND",
        "outputId": "87974a46-30bd-4af0-a9ef-811a6d305964"
      },
      "execution_count": null,
      "outputs": [
        {
          "output_type": "stream",
          "name": "stdout",
          "text": [
            "level_BFS: {0: [0, 1, 2, 3, 4, 5, 6], 6: [1, 2, 3, 4, 5, 6, 0]}\n",
            "parent_BFS: {0: [-1, 0, 1, 2, 3, 4, 5], 6: [6, 0, 1, 2, 3, 4, -1]}\n",
            "Test passed\n"
          ]
        }
      ]
    },
    {
      "cell_type": "markdown",
      "source": [
        "**TEST 5**\n",
        "\n",
        "Совсем немного измненим прошлый граф и уже другой результат"
      ],
      "metadata": {
        "id": "Q5H6tnJIkgaz"
      }
    },
    {
      "cell_type": "code",
      "source": [
        "edges = [\n",
        "  [0, 1, 2, 3, 4, 5, 6, 0, 6, 5],\n",
        "  [1, 2, 3, 4, 5, 6, 0, 6, 5, 4],\n",
        "]\n",
        "M5 = Matrix.from_coo(edges[0], edges[1], [True for _ in edges[0]])\n",
        "gb.viz.draw(M5)"
      ],
      "metadata": {
        "colab": {
          "base_uri": "https://localhost:8080/",
          "height": 406
        },
        "id": "WdgpdK3vgVPO",
        "outputId": "d733972e-6e15-4b55-8423-17a81746b34c"
      },
      "execution_count": null,
      "outputs": [
        {
          "output_type": "display_data",
          "data": {
            "text/plain": [
              "<Figure size 640x480 with 1 Axes>"
            ],
            "image/png": "[encoded data removed]"
          },
          "metadata": {}
        }
      ]
    },
    {
      "cell_type": "code",
      "source": [
        "# стартовые вершины 0 и 6\n",
        "p = [0, 6]\n",
        "# правильные ответы\n",
        "a1 = {0: [0, 1, 2, 3, 3, 2, 1], 6: [1, 2, 3, 4, 2, 1, 0]}\n",
        "a2 = {0: [-1, 0, 1, 2, 5, 6, 0], 6: [6, 0, 1, 2, 5, 6, -1]}\n",
        "\n",
        "print('level_BFS:', level_BFS(M5, p))\n",
        "print('parent_BFS:', parent_BFS(M5, p))\n",
        "\n",
        "if level_BFS(M5, p) == a1 and parent_BFS(M5, p) == a2:\n",
        "  print('Test passed')\n",
        "else:\n",
        "  print('Test failed')"
      ],
      "metadata": {
        "colab": {
          "base_uri": "https://localhost:8080/"
        },
        "id": "qW3QW-WPgVSw",
        "outputId": "cd554a43-fb37-4077-bc2c-89934615e17a"
      },
      "execution_count": null,
      "outputs": [
        {
          "output_type": "stream",
          "name": "stdout",
          "text": [
            "level_BFS: {0: [0, 1, 2, 3, 3, 2, 1], 6: [1, 2, 3, 4, 2, 1, 0]}\n",
            "parent_BFS: {0: [-1, 0, 1, 2, 5, 6, 0], 6: [6, 0, 1, 2, 5, 6, -1]}\n",
            "Test passed\n"
          ]
        }
      ]
    },
    {
      "cell_type": "markdown",
      "source": [
        "# **Дополнительно**\n",
        "\n",
        "Провести экспериментальное исследование полученных реализаций на некоторых больших графах в формате Matrix Market с сайта SuiteSparse Matrix Collection и на случайных сгенерированных. При этом описать зависимость времени работы всех полученных реализаций от размеров графа, его степени разреженности, количестве стартовых вершин."
      ],
      "metadata": {
        "id": "sqPtRJXXRqiw"
      }
    },
    {
      "cell_type": "markdown",
      "source": [
        "**Тестирование на больших графах с сайта SuiteSparse Matrix Collection**"
      ],
      "metadata": {
        "id": "7DH6UBLNmXgM"
      }
    },
    {
      "cell_type": "code",
      "source": [
        "import random"
      ],
      "metadata": {
        "id": "fav70YwvSCJj"
      },
      "execution_count": null,
      "outputs": []
    },
    {
      "cell_type": "code",
      "source": [
        "# читаем 5 графов\n",
        "graph1 = mmread('/content/can_838.mtx')\n",
        "graph2 = mmread('/content/dwt_992.mtx')\n",
        "graph3 = mmread('/content/can_1054.mtx')\n",
        "graph4 = mmread('/content/email.mtx')\n",
        "graph5 = mmread('/content/delaunay_n11.mtx')\n",
        "\n",
        "# создаем массив графов\n",
        "graphs = [graph1, graph2, graph3, graph4, graph5]"
      ],
      "metadata": {
        "id": "lyrKnG1gmNd1"
      },
      "execution_count": null,
      "outputs": []
    },
    {
      "cell_type": "code",
      "source": [
        "# создаем функцию реализации для алгоритмов с подсчетом времени выполнения\n",
        "def alg_time(A, a):\n",
        "  print('level_BFS:')\n",
        "  %timeit level_BFS(A, a)\n",
        "  print('parent_BFS:')\n",
        "  %timeit parent_BFS(A, a)"
      ],
      "metadata": {
        "id": "Rr0phUfwmhta"
      },
      "execution_count": null,
      "outputs": []
    },
    {
      "cell_type": "code",
      "source": [
        "# создаем функцию для генерации массива стартовых вершин, где n - количество вершин в графе и p - доля генерируемых стартовых вершин\n",
        "def vertex_generate(n, p):\n",
        "  population = range(n)\n",
        "  vertex_array = random.sample(population, round(n * p))\n",
        "  return np.array(vertex_array)"
      ],
      "metadata": {
        "id": "_LnMHSIsegdu"
      },
      "execution_count": null,
      "outputs": []
    },
    {
      "cell_type": "code",
      "source": [
        "# Выводим нужные нам данные для сравнения результатов\n",
        "\n",
        "gen_vertex = [0.01, 0.05, 0.1, 0.5] # доля генерируемых вершин\n",
        "for k in graphs:\n",
        "  print('Количество вершин:', k.nrows, 'Количество ребер:', k.nvals)\n",
        "  for p in gen_vertex:\n",
        "    print('Количество стартовых вершин:', round(k.nrows * p))\n",
        "    print(alg_time(k, vertex_generate(k.nrows, p)))"
      ],
      "metadata": {
        "id": "LLUxog85mhvZ",
        "colab": {
          "base_uri": "https://localhost:8080/"
        },
        "outputId": "0a0013a8-f401-4883-d2ec-ba76b1136c96"
      },
      "execution_count": null,
      "outputs": [
        {
          "output_type": "stream",
          "name": "stdout",
          "text": [
            "Количество вершин: 838 Количество ребер: 10010\n",
            "Количество стартовых вершин: 8\n",
            "level_BFS:\n",
            "543 ms ± 12.9 ms per loop (mean ± std. dev. of 7 runs, 1 loop each)\n",
            "parent_BFS:\n",
            "738 ms ± 51 ms per loop (mean ± std. dev. of 7 runs, 1 loop each)\n",
            "None\n",
            "Количество стартовых вершин: 42\n",
            "level_BFS:\n",
            "2.9 s ± 386 ms per loop (mean ± std. dev. of 7 runs, 1 loop each)\n",
            "parent_BFS:\n",
            "4.14 s ± 402 ms per loop (mean ± std. dev. of 7 runs, 1 loop each)\n",
            "None\n",
            "Количество стартовых вершин: 84\n",
            "level_BFS:\n",
            "6.13 s ± 478 ms per loop (mean ± std. dev. of 7 runs, 1 loop each)\n",
            "parent_BFS:\n",
            "9.45 s ± 2.22 s per loop (mean ± std. dev. of 7 runs, 1 loop each)\n",
            "None\n",
            "Количество стартовых вершин: 419\n",
            "level_BFS:\n",
            "30.4 s ± 596 ms per loop (mean ± std. dev. of 7 runs, 1 loop each)\n",
            "parent_BFS:\n",
            "41 s ± 665 ms per loop (mean ± std. dev. of 7 runs, 1 loop each)\n",
            "None\n",
            "Количество вершин: 992 Количество ребер: 16744\n",
            "Количество стартовых вершин: 10\n",
            "level_BFS:\n",
            "794 ms ± 9.78 ms per loop (mean ± std. dev. of 7 runs, 1 loop each)\n",
            "parent_BFS:\n",
            "1.22 s ± 221 ms per loop (mean ± std. dev. of 7 runs, 1 loop each)\n",
            "None\n",
            "Количество стартовых вершин: 50\n",
            "level_BFS:\n",
            "4.46 s ± 530 ms per loop (mean ± std. dev. of 7 runs, 1 loop each)\n",
            "parent_BFS:\n",
            "6 s ± 445 ms per loop (mean ± std. dev. of 7 runs, 1 loop each)\n",
            "None\n",
            "Количество стартовых вершин: 99\n",
            "level_BFS:\n",
            "8.72 s ± 461 ms per loop (mean ± std. dev. of 7 runs, 1 loop each)\n",
            "parent_BFS:\n",
            "11.5 s ± 224 ms per loop (mean ± std. dev. of 7 runs, 1 loop each)\n",
            "None\n",
            "Количество стартовых вершин: 496\n",
            "level_BFS:\n",
            "42.9 s ± 463 ms per loop (mean ± std. dev. of 7 runs, 1 loop each)\n",
            "parent_BFS:\n",
            "1min 4s ± 8.53 s per loop (mean ± std. dev. of 7 runs, 1 loop each)\n",
            "None\n",
            "Количество вершин: 1054 Количество ребер: 12196\n",
            "Количество стартовых вершин: 11\n",
            "level_BFS:\n",
            "1.05 s ± 238 ms per loop (mean ± std. dev. of 7 runs, 1 loop each)\n",
            "parent_BFS:\n",
            "1.45 s ± 272 ms per loop (mean ± std. dev. of 7 runs, 1 loop each)\n",
            "None\n",
            "Количество стартовых вершин: 53\n",
            "level_BFS:\n",
            "5.28 s ± 834 ms per loop (mean ± std. dev. of 7 runs, 1 loop each)\n",
            "parent_BFS:\n",
            "6.54 s ± 432 ms per loop (mean ± std. dev. of 7 runs, 1 loop each)\n",
            "None\n",
            "Количество стартовых вершин: 105\n",
            "level_BFS:\n",
            "9.58 s ± 366 ms per loop (mean ± std. dev. of 7 runs, 1 loop each)\n",
            "parent_BFS:\n",
            "13.1 s ± 542 ms per loop (mean ± std. dev. of 7 runs, 1 loop each)\n",
            "None\n",
            "Количество стартовых вершин: 527\n",
            "level_BFS:\n",
            "47.9 s ± 707 ms per loop (mean ± std. dev. of 7 runs, 1 loop each)\n",
            "parent_BFS:\n",
            "1min 7s ± 1.63 s per loop (mean ± std. dev. of 7 runs, 1 loop each)\n",
            "None\n",
            "Количество вершин: 1133 Количество ребер: 10902\n",
            "Количество стартовых вершин: 11\n",
            "level_BFS:\n",
            "1.12 s ± 209 ms per loop (mean ± std. dev. of 7 runs, 1 loop each)\n",
            "parent_BFS:\n",
            "1.5 s ± 258 ms per loop (mean ± std. dev. of 7 runs, 1 loop each)\n",
            "None\n",
            "Количество стартовых вершин: 57\n",
            "level_BFS:\n",
            "5.95 s ± 584 ms per loop (mean ± std. dev. of 7 runs, 1 loop each)\n",
            "parent_BFS:\n",
            "8.01 s ± 508 ms per loop (mean ± std. dev. of 7 runs, 1 loop each)\n",
            "None\n",
            "Количество стартовых вершин: 113\n",
            "level_BFS:\n",
            "11.5 s ± 188 ms per loop (mean ± std. dev. of 7 runs, 1 loop each)\n",
            "parent_BFS:\n",
            "15.4 s ± 482 ms per loop (mean ± std. dev. of 7 runs, 1 loop each)\n",
            "None\n",
            "Количество стартовых вершин: 566\n",
            "level_BFS:\n",
            "54.7 s ± 1.23 s per loop (mean ± std. dev. of 7 runs, 1 loop each)\n",
            "parent_BFS:\n",
            "1min 15s ± 704 ms per loop (mean ± std. dev. of 7 runs, 1 loop each)\n",
            "None\n",
            "Количество вершин: 2048 Количество ребер: 12254\n",
            "Количество стартовых вершин: 20\n",
            "level_BFS:\n",
            "3.52 s ± 408 ms per loop (mean ± std. dev. of 7 runs, 1 loop each)\n",
            "parent_BFS:\n",
            "4.9 s ± 492 ms per loop (mean ± std. dev. of 7 runs, 1 loop each)\n",
            "None\n",
            "Количество стартовых вершин: 102\n",
            "level_BFS:\n",
            "18 s ± 494 ms per loop (mean ± std. dev. of 7 runs, 1 loop each)\n",
            "parent_BFS:\n",
            "24.8 s ± 338 ms per loop (mean ± std. dev. of 7 runs, 1 loop each)\n",
            "None\n",
            "Количество стартовых вершин: 205\n",
            "level_BFS:\n",
            "36.1 s ± 710 ms per loop (mean ± std. dev. of 7 runs, 1 loop each)\n",
            "parent_BFS:\n",
            "49.6 s ± 741 ms per loop (mean ± std. dev. of 7 runs, 1 loop each)\n",
            "None\n",
            "Количество стартовых вершин: 1024\n",
            "level_BFS:\n",
            "3min ± 965 ms per loop (mean ± std. dev. of 7 runs, 1 loop each)\n",
            "parent_BFS:\n",
            "4min 6s ± 1.48 s per loop (mean ± std. dev. of 7 runs, 1 loop each)\n",
            "None\n"
          ]
        }
      ]
    },
    {
      "cell_type": "markdown",
      "source": [
        "**Тестирование на случайно сгенерированных графах с использованием реализации с прошлой лабораторной работы**"
      ],
      "metadata": {
        "id": "2eYg8cnpP1U1"
      }
    },
    {
      "cell_type": "code",
      "source": [
        "# n_rows - количество вершин графа, density - условно, насколько матрица смежности разряженная\n",
        "def graph_generator(n_rows, density):\n",
        "  # создание пустой матрицы размера n_rows на n_rows\n",
        "  A = gb.Matrix(int, n_rows, n_rows)\n",
        "  # ограничение на количество итераций\n",
        "  while density > 0:\n",
        "      # генерация рандомных чисел для матрицы смежности в интервале от 0 до количества ребер -1\n",
        "      i = random.randint(0, n_rows - 1)\n",
        "      j = random.randint(0, n_rows - 1)\n",
        "      # проверка, что для данной ячеки еще не генерировались значения\n",
        "      if A.get(i,j) is None and i != j:\n",
        "          # заполнение матрицы смежности - записываем '1' в ячейку с только что сгенерированными числами и в смежную ей ячейку\n",
        "          A[i,j] = 1\n",
        "          A[j,i] = 1\n",
        "          density = density - 1\n",
        "  return A"
      ],
      "metadata": {
        "id": "HynQC7Tcmhxx"
      },
      "execution_count": null,
      "outputs": []
    },
    {
      "cell_type": "code",
      "source": [
        "# 10 vertexes\n",
        "rows = 10\n",
        "density = [45, 33, 22, 11]\n",
        "gen_vertex = [0.1, 0.3, 0.5] # доля генерируемых вершин\n",
        "for d in density:\n",
        "  k = graph_generator(rows, d)\n",
        "  print('Количество вершин:', k.nrows, 'количество ребер:', k.nvals)\n",
        "  for p in gen_vertex:\n",
        "    print('Количество стартовых вершин:', round(k.nrows * p))\n",
        "    print(alg_time(k, vertex_generate(k.nrows, p)))"
      ],
      "metadata": {
        "id": "p8iPimQrmh0S",
        "colab": {
          "base_uri": "https://localhost:8080/"
        },
        "outputId": "f2cd5cf4-f7af-400a-8319-c93c2fa2cddb"
      },
      "execution_count": null,
      "outputs": [
        {
          "output_type": "stream",
          "name": "stdout",
          "text": [
            "Количество вершин: 10 количество ребер: 90\n",
            "Количество стартовых вершин: 1\n",
            "level_BFS:\n",
            "1.78 ms ± 80.1 µs per loop (mean ± std. dev. of 7 runs, 100 loops each)\n",
            "parent_BFS:\n",
            "1.78 ms ± 224 µs per loop (mean ± std. dev. of 7 runs, 1000 loops each)\n",
            "None\n",
            "Количество стартовых вершин: 3\n",
            "level_BFS:\n",
            "4.58 ms ± 1.01 ms per loop (mean ± std. dev. of 7 runs, 100 loops each)\n",
            "parent_BFS:\n",
            "4.18 ms ± 112 µs per loop (mean ± std. dev. of 7 runs, 100 loops each)\n",
            "None\n",
            "Количество стартовых вершин: 5\n",
            "level_BFS:\n",
            "7.73 ms ± 1.88 ms per loop (mean ± std. dev. of 7 runs, 100 loops each)\n",
            "parent_BFS:\n",
            "6.68 ms ± 98.6 µs per loop (mean ± std. dev. of 7 runs, 100 loops each)\n",
            "None\n",
            "Количество вершин: 10 количество ребер: 66\n",
            "Количество стартовых вершин: 1\n",
            "level_BFS:\n",
            "2.06 ms ± 40 µs per loop (mean ± std. dev. of 7 runs, 100 loops each)\n",
            "parent_BFS:\n",
            "1.93 ms ± 343 µs per loop (mean ± std. dev. of 7 runs, 1000 loops each)\n",
            "None\n",
            "Количество стартовых вершин: 3\n",
            "level_BFS:\n",
            "6.51 ms ± 1.26 ms per loop (mean ± std. dev. of 7 runs, 100 loops each)\n",
            "parent_BFS:\n",
            "4.32 ms ± 88.6 µs per loop (mean ± std. dev. of 7 runs, 100 loops each)\n",
            "None\n",
            "Количество стартовых вершин: 5\n",
            "level_BFS:\n",
            "8.24 ms ± 1.55 ms per loop (mean ± std. dev. of 7 runs, 100 loops each)\n",
            "parent_BFS:\n",
            "7.11 ms ± 650 µs per loop (mean ± std. dev. of 7 runs, 100 loops each)\n",
            "None\n",
            "Количество вершин: 10 количество ребер: 44\n",
            "Количество стартовых вершин: 1\n",
            "level_BFS:\n",
            "2.1 ms ± 60.5 µs per loop (mean ± std. dev. of 7 runs, 100 loops each)\n",
            "parent_BFS:\n",
            "1.9 ms ± 379 µs per loop (mean ± std. dev. of 7 runs, 1000 loops each)\n",
            "None\n",
            "Количество стартовых вершин: 3\n",
            "level_BFS:\n",
            "6.52 ms ± 1.32 ms per loop (mean ± std. dev. of 7 runs, 100 loops each)\n",
            "parent_BFS:\n",
            "4.7 ms ± 1.15 ms per loop (mean ± std. dev. of 7 runs, 100 loops each)\n",
            "None\n",
            "Количество стартовых вершин: 5\n",
            "level_BFS:\n",
            "10.8 ms ± 2.32 ms per loop (mean ± std. dev. of 7 runs, 100 loops each)\n",
            "parent_BFS:\n",
            "6.66 ms ± 102 µs per loop (mean ± std. dev. of 7 runs, 100 loops each)\n",
            "None\n",
            "Количество вершин: 10 количество ребер: 22\n",
            "Количество стартовых вершин: 1\n",
            "level_BFS:\n",
            "1.11 ms ± 258 µs per loop (mean ± std. dev. of 7 runs, 1000 loops each)\n",
            "parent_BFS:\n",
            "1.08 ms ± 25.4 µs per loop (mean ± std. dev. of 7 runs, 1000 loops each)\n",
            "None\n",
            "Количество стартовых вершин: 3\n",
            "level_BFS:\n",
            "6.78 ms ± 1.58 ms per loop (mean ± std. dev. of 7 runs, 100 loops each)\n",
            "parent_BFS:\n",
            "3.9 ms ± 73.1 µs per loop (mean ± std. dev. of 7 runs, 100 loops each)\n",
            "None\n",
            "Количество стартовых вершин: 5\n",
            "level_BFS:\n",
            "10 ms ± 2.12 ms per loop (mean ± std. dev. of 7 runs, 100 loops each)\n",
            "parent_BFS:\n",
            "6.38 ms ± 120 µs per loop (mean ± std. dev. of 7 runs, 100 loops each)\n",
            "None\n"
          ]
        }
      ]
    },
    {
      "cell_type": "code",
      "source": [
        "# 50 vertexes\n",
        "rows = 50\n",
        "density = [1225, 918, 612, 306]\n",
        "gen_vertex = [0.1, 0.3, 0.5] # доля генерируемых вершин\n",
        "for d in density:\n",
        "  k = graph_generator(rows, d)\n",
        "  print('Количество вершин:', k.nrows, 'количество ребер:', k.nvals)\n",
        "  for p in gen_vertex:\n",
        "    print('Количество стартовых вершин:', round(k.nrows * p))\n",
        "    print(alg_time(k, vertex_generate(k.nrows, p)))"
      ],
      "metadata": {
        "id": "nIQCARcNmh3a",
        "colab": {
          "base_uri": "https://localhost:8080/"
        },
        "outputId": "070eb314-eb93-4dfb-c21c-d68e1e801933"
      },
      "execution_count": null,
      "outputs": [
        {
          "output_type": "stream",
          "name": "stdout",
          "text": [
            "Количество вершин: 50 количество ребер: 2450\n",
            "Количество стартовых вершин: 5\n",
            "level_BFS:\n",
            "24.9 ms ± 943 µs per loop (mean ± std. dev. of 7 runs, 10 loops each)\n",
            "parent_BFS:\n",
            "The slowest run took 4.49 times longer than the fastest. This could mean that an intermediate result is being cached.\n",
            "56.2 ms ± 37.5 ms per loop (mean ± std. dev. of 7 runs, 10 loops each)\n",
            "None\n",
            "Количество стартовых вершин: 15\n",
            "level_BFS:\n",
            "181 ms ± 44.6 ms per loop (mean ± std. dev. of 7 runs, 1 loop each)\n",
            "parent_BFS:\n",
            "113 ms ± 29.2 ms per loop (mean ± std. dev. of 7 runs, 10 loops each)\n",
            "None\n",
            "Количество стартовых вершин: 25\n",
            "level_BFS:\n",
            "128 ms ± 20.1 ms per loop (mean ± std. dev. of 7 runs, 10 loops each)\n",
            "parent_BFS:\n",
            "169 ms ± 31.6 ms per loop (mean ± std. dev. of 7 runs, 10 loops each)\n",
            "None\n",
            "Количество вершин: 50 количество ребер: 1836\n",
            "Количество стартовых вершин: 5\n",
            "level_BFS:\n",
            "25.9 ms ± 1.17 ms per loop (mean ± std. dev. of 7 runs, 10 loops each)\n",
            "parent_BFS:\n",
            "44.4 ms ± 8.82 ms per loop (mean ± std. dev. of 7 runs, 10 loops each)\n",
            "None\n",
            "Количество стартовых вершин: 15\n",
            "level_BFS:\n",
            "73.4 ms ± 1.27 ms per loop (mean ± std. dev. of 7 runs, 10 loops each)\n",
            "parent_BFS:\n",
            "107 ms ± 22.1 ms per loop (mean ± std. dev. of 7 runs, 10 loops each)\n",
            "None\n",
            "Количество стартовых вершин: 25\n",
            "level_BFS:\n",
            "150 ms ± 45.1 ms per loop (mean ± std. dev. of 7 runs, 10 loops each)\n",
            "parent_BFS:\n",
            "224 ms ± 46.5 ms per loop (mean ± std. dev. of 7 runs, 1 loop each)\n",
            "None\n",
            "Количество вершин: 50 количество ребер: 1224\n",
            "Количество стартовых вершин: 5\n",
            "level_BFS:\n",
            "25.4 ms ± 604 µs per loop (mean ± std. dev. of 7 runs, 10 loops each)\n",
            "parent_BFS:\n",
            "30.7 ms ± 891 µs per loop (mean ± std. dev. of 7 runs, 10 loops each)\n",
            "None\n",
            "Количество стартовых вершин: 15\n",
            "level_BFS:\n",
            "91 ms ± 20.1 ms per loop (mean ± std. dev. of 7 runs, 10 loops each)\n",
            "parent_BFS:\n",
            "89.9 ms ± 1.44 ms per loop (mean ± std. dev. of 7 runs, 10 loops each)\n",
            "None\n",
            "Количество стартовых вершин: 25\n",
            "level_BFS:\n",
            "145 ms ± 27.2 ms per loop (mean ± std. dev. of 7 runs, 10 loops each)\n",
            "parent_BFS:\n",
            "166 ms ± 27.1 ms per loop (mean ± std. dev. of 7 runs, 10 loops each)\n",
            "None\n",
            "Количество вершин: 50 количество ребер: 612\n",
            "Количество стартовых вершин: 5\n",
            "level_BFS:\n",
            "25.8 ms ± 649 µs per loop (mean ± std. dev. of 7 runs, 10 loops each)\n",
            "parent_BFS:\n",
            "40.9 ms ± 9.19 ms per loop (mean ± std. dev. of 7 runs, 10 loops each)\n",
            "None\n",
            "Количество стартовых вершин: 15\n",
            "level_BFS:\n",
            "75.6 ms ± 1.28 ms per loop (mean ± std. dev. of 7 runs, 10 loops each)\n",
            "parent_BFS:\n",
            "107 ms ± 25.5 ms per loop (mean ± std. dev. of 7 runs, 10 loops each)\n",
            "None\n",
            "Количество стартовых вершин: 25\n",
            "level_BFS:\n",
            "131 ms ± 19.1 ms per loop (mean ± std. dev. of 7 runs, 10 loops each)\n",
            "parent_BFS:\n",
            "239 ms ± 38.9 ms per loop (mean ± std. dev. of 7 runs, 1 loop each)\n",
            "None\n"
          ]
        }
      ]
    },
    {
      "cell_type": "code",
      "source": [
        "# 100 vertexes\n",
        "rows = 100\n",
        "density = [4950, 3712, 2475, 1237]\n",
        "gen_vertex = [0.1, 0.3, 0.5] # доля генерируемых вершин\n",
        "for d in density:\n",
        "  k = graph_generator(rows, d)\n",
        "  print('Количество вершин:', k.nrows, 'количество ребер:', k.nvals)\n",
        "  for p in gen_vertex:\n",
        "    print('Количество стартовых вершин:', round(k.nrows * p))\n",
        "    print(alg_time(k, vertex_generate(k.nrows, p)))"
      ],
      "metadata": {
        "id": "HEu6bRnPRJPq",
        "colab": {
          "base_uri": "https://localhost:8080/"
        },
        "outputId": "0fef5af8-3ba8-484d-d54d-3aadd318604d"
      },
      "execution_count": null,
      "outputs": [
        {
          "output_type": "stream",
          "name": "stdout",
          "text": [
            "Количество вершин: 100 количество ребер: 9900\n",
            "Количество стартовых вершин: 10\n",
            "level_BFS:\n",
            "92.3 ms ± 1.29 ms per loop (mean ± std. dev. of 7 runs, 10 loops each)\n",
            "parent_BFS:\n",
            "126 ms ± 15.3 ms per loop (mean ± std. dev. of 7 runs, 10 loops each)\n",
            "None\n",
            "Количество стартовых вершин: 30\n",
            "level_BFS:\n",
            "276 ms ± 12.5 ms per loop (mean ± std. dev. of 7 runs, 1 loop each)\n",
            "parent_BFS:\n",
            "499 ms ± 117 ms per loop (mean ± std. dev. of 7 runs, 1 loop each)\n",
            "None\n",
            "Количество стартовых вершин: 50\n",
            "level_BFS:\n",
            "461 ms ± 14.3 ms per loop (mean ± std. dev. of 7 runs, 1 loop each)\n",
            "parent_BFS:\n",
            "609 ms ± 10.3 ms per loop (mean ± std. dev. of 7 runs, 1 loop each)\n",
            "None\n",
            "Количество вершин: 100 количество ребер: 7424\n",
            "Количество стартовых вершин: 10\n",
            "level_BFS:\n",
            "99.4 ms ± 15.1 ms per loop (mean ± std. dev. of 7 runs, 10 loops each)\n",
            "parent_BFS:\n",
            "138 ms ± 27.9 ms per loop (mean ± std. dev. of 7 runs, 10 loops each)\n",
            "None\n",
            "Количество стартовых вершин: 30\n",
            "level_BFS:\n",
            "280 ms ± 4.91 ms per loop (mean ± std. dev. of 7 runs, 1 loop each)\n",
            "parent_BFS:\n",
            "368 ms ± 15.9 ms per loop (mean ± std. dev. of 7 runs, 1 loop each)\n",
            "None\n",
            "Количество стартовых вершин: 50\n",
            "level_BFS:\n",
            "649 ms ± 165 ms per loop (mean ± std. dev. of 7 runs, 1 loop each)\n",
            "parent_BFS:\n",
            "606 ms ± 18.3 ms per loop (mean ± std. dev. of 7 runs, 1 loop each)\n",
            "None\n",
            "Количество вершин: 100 количество ребер: 4950\n",
            "Количество стартовых вершин: 10\n",
            "level_BFS:\n",
            "113 ms ± 22.8 ms per loop (mean ± std. dev. of 7 runs, 10 loops each)\n",
            "parent_BFS:\n",
            "138 ms ± 26 ms per loop (mean ± std. dev. of 7 runs, 10 loops each)\n",
            "None\n",
            "Количество стартовых вершин: 30\n",
            "level_BFS:\n",
            "285 ms ± 7.73 ms per loop (mean ± std. dev. of 7 runs, 1 loop each)\n",
            "parent_BFS:\n",
            "367 ms ± 10.4 ms per loop (mean ± std. dev. of 7 runs, 1 loop each)\n",
            "None\n",
            "Количество стартовых вершин: 50\n",
            "level_BFS:\n",
            "478 ms ± 20.5 ms per loop (mean ± std. dev. of 7 runs, 1 loop each)\n",
            "parent_BFS:\n",
            "728 ms ± 168 ms per loop (mean ± std. dev. of 7 runs, 1 loop each)\n",
            "None\n",
            "Количество вершин: 100 количество ребер: 2474\n",
            "Количество стартовых вершин: 10\n",
            "level_BFS:\n",
            "102 ms ± 18.2 ms per loop (mean ± std. dev. of 7 runs, 10 loops each)\n",
            "parent_BFS:\n",
            "122 ms ± 2.27 ms per loop (mean ± std. dev. of 7 runs, 10 loops each)\n",
            "None\n",
            "Количество стартовых вершин: 30\n",
            "level_BFS:\n",
            "379 ms ± 83.1 ms per loop (mean ± std. dev. of 7 runs, 1 loop each)\n",
            "parent_BFS:\n",
            "405 ms ± 92.6 ms per loop (mean ± std. dev. of 7 runs, 1 loop each)\n",
            "None\n",
            "Количество стартовых вершин: 50\n",
            "level_BFS:\n",
            "474 ms ± 10.4 ms per loop (mean ± std. dev. of 7 runs, 1 loop each)\n",
            "parent_BFS:\n",
            "664 ms ± 142 ms per loop (mean ± std. dev. of 7 runs, 1 loop each)\n",
            "None\n"
          ]
        }
      ]
    },
    {
      "cell_type": "markdown",
      "source": [
        "Выводы:\n",
        "1. Количество вершин в графе, очевидно, влияют на время выполнения обоих алгоритмов, в то время как разряженность графа не особо влияет на их время выполнения.\n",
        "2. С увеличением числа стартовых вершин сильно увеличивается и время работы обоих алгоритмов.\n",
        "3. Судя по тестированию алгоритм BFS level работает быстрее на больших графах. На небольших случайно сгенерированных графах BFS parent работает практически всегда быстрее, чем BFS level, хотя уже на случайно сгенерированных графах с 50 и более вершинами BFS parent начинает проигрывать по скорости. Из этого можно сделать вывод, что BFS parent эффективнее использовать на небольших графах."
      ],
      "metadata": {
        "id": "gIvrRDyfSEvH"
      }
    },
    {
      "cell_type": "markdown",
      "source": [
        "# **Дополнительно**\n",
        "\n",
        "Добавить реализации описанных алгоритмов с использованием других полуколец (*any.pair для levels и any.first для parents*). Добавить тесты для проверки корректности. Провести экспериментальное исследование со сравнением этих реализаций с первоначальными на различных графах."
      ],
      "metadata": {
        "id": "H5dmfLWzSKjj"
      }
    },
    {
      "cell_type": "markdown",
      "source": [
        "# **MSBFS-Levels**"
      ],
      "metadata": {
        "id": "cA6gMsfkSQG7"
      }
    },
    {
      "cell_type": "code",
      "source": [
        "def level_BFS_2(A, massiv):\n",
        "  # количество вершин в графе\n",
        "  n = A.nrows\n",
        "  # количество стартовых вершин\n",
        "  m = len(massiv)\n",
        "  # матрица для результата с уровнями для каждой стартовой вершины\n",
        "  result = Matrix(dtypes.INT32, m, n)  # vector for result with levels\n",
        "  # фронт\n",
        "  f = Matrix(bool, m, n)\n",
        "  # заполние изначальной матрицы значениями для каждой стартовой вершины\n",
        "  for i in range(m):\n",
        "    f[i, massiv[i]] << True\n",
        "  # вектор перехода к доступным вершинам из текущей\n",
        "  succ = Vector(bool, m)\n",
        "  # уровень начальный\n",
        "  level = 0\n",
        "  # создание цикла для обхода графа\n",
        "  while True:\n",
        "    # уровень для стартовых вершин по маске f\n",
        "    result(mask=f.V) << level\n",
        "    # рассчет следующего фронта\n",
        "    f(~result.S, replace=True) << f.mxm(A, semiring.any_pair)\n",
        "    # заполнение вектора перехода к доступным вершинам для каждой из стартовых вершин\n",
        "    for i in range(m):\n",
        "      succ[i] << f[i,:].reduce(monoid.lor, allow_empty=False)\n",
        "    # остановка цикла, если дальше нет вершин для перехода\n",
        "    # если есть хотя бы одно True, то значит дальше можно не проверять\n",
        "    for i in range(m):\n",
        "      if succ[i]:\n",
        "        break\n",
        "    # если все False значит граф полностью обошли\n",
        "    if not succ[i]:\n",
        "      break\n",
        "    # переходим на следующий уровень\n",
        "    level += 1\n",
        "  # создание массива пар с помощью словаря, где ключ - стартовая вершина, значение - массив (levels), где указано, на каком уровне каждая вершина достижима из текущей стартовой вершины\n",
        "  final = dict() # словарь\n",
        "  for i in range(0, m):\n",
        "    values = [] # массив levels\n",
        "    for j in range(0, n):\n",
        "      if result[i, j].value is None:\n",
        "        values.append(-1) # -1, если вершина не достижима\n",
        "      else:\n",
        "        values.append(result[i, j].value)\n",
        "    final[massiv[i]] = values\n",
        "  return final"
      ],
      "metadata": {
        "id": "Bv_hxKm0SUrn"
      },
      "execution_count": null,
      "outputs": []
    },
    {
      "cell_type": "markdown",
      "source": [
        "# **MSBFS-Parents**"
      ],
      "metadata": {
        "id": "XZwTRxuUSiOA"
      }
    },
    {
      "cell_type": "code",
      "source": [
        "def parent_BFS_2(A, massiv):\n",
        "  # количество вершин в графе\n",
        "  n = A.nrows\n",
        "  # количество стартовых вершин\n",
        "  m = len(massiv)\n",
        "  # матрица для результата с индентификаторами вершин\n",
        "  index_ramp = Matrix(dtypes.UINT64, m, n)\n",
        "  # заполнение матрицы текущими номерами вершин\n",
        "  for i in range(m):\n",
        "    for j in range(n):\n",
        "      index_ramp[i,j] << j\n",
        "  # создание массива \"родителей\"\n",
        "  parents = Matrix(dtypes.UINT64, m, n)\n",
        "  # фронт\n",
        "  wavefront = Matrix(dtypes.UINT64, m, n)\n",
        "  # заполнение матрицы номерами соответвующих вершин \"родителей\"\n",
        "  for i in range(m):\n",
        "    parents[i,massiv[i]] << massiv[i]\n",
        "    wavefront[i, massiv[i]] << 1\n",
        "  # создание цикла для обхода графа\n",
        "  while wavefront.nvals > 0:\n",
        "    # конвертирование сохраненных значений фронта в индексы значений\n",
        "    wavefront << index_ramp.ewise_mult(wavefront, binary.first)\n",
        "    # маскирование \"родителей\"\n",
        "    wavefront (~parents.S, replace=True) << wavefront.mxm(A, semiring.any_first)\n",
        "    # объединение существующих \"родителей\" с новыми из фронта\n",
        "    parents(binary.plus) << wavefront\n",
        "# создание массива пар с помощью словаря, где ключ - стартовая вершина, значение - массив (parents), где указано, из какой вершины мы пришли в эту по кратчайшему пути из стартовой вершины\n",
        "  final = dict() # словарь\n",
        "  for i in range(m):\n",
        "    values = [] # значения\n",
        "    for j in range(n):\n",
        "      if parents[i, j].value is None:\n",
        "        values.append(-2) # -2 для недостижимых вершин\n",
        "      elif j == massiv[i]:\n",
        "        values.append(-1) # -1 для стартовых вершин\n",
        "      else:\n",
        "        values.append(parents[i,j].value)\n",
        "    final[massiv[i]] = values\n",
        "  return final"
      ],
      "metadata": {
        "id": "D_rtaxEISirb"
      },
      "execution_count": null,
      "outputs": []
    },
    {
      "cell_type": "markdown",
      "source": [
        "# **Тестирование**"
      ],
      "metadata": {
        "id": "HAuZnxzHTnTf"
      }
    },
    {
      "cell_type": "markdown",
      "source": [
        "**TEST 1**"
      ],
      "metadata": {
        "id": "7gcFh9WYToAJ"
      }
    },
    {
      "cell_type": "code",
      "source": [
        "# стартовые вершины 0 и 1\n",
        "p = [0, 1]\n",
        "# правильные ответы\n",
        "a1 = {0: [0, 1, 1, 2], 1: [1, 0, 1, 2]}\n",
        "a2 = {0: [-1, 0, 0, 2], 1: [1, -1, 1, 2]}\n",
        "\n",
        "print('level_BFS_2:', level_BFS_2(M1, p))\n",
        "print('parent_BFS_2:', parent_BFS_2(M1, p))\n",
        "\n",
        "if level_BFS_2(M1, p) == a1 and parent_BFS_2(M1, p) == a2:\n",
        "  print('Test passed')\n",
        "else:\n",
        "  print('Test failed')"
      ],
      "metadata": {
        "id": "qzOtOPu_UUZP",
        "colab": {
          "base_uri": "https://localhost:8080/"
        },
        "outputId": "a908f7ee-688d-421d-e844-79156a50dd2d"
      },
      "execution_count": null,
      "outputs": [
        {
          "output_type": "stream",
          "name": "stdout",
          "text": [
            "level_BFS_2: {0: [0, 1, 1, 2], 1: [1, 0, 1, 2]}\n",
            "parent_BFS_2: {0: [-1, 0, 0, 2], 1: [1, -1, 1, 2]}\n",
            "Test passed\n"
          ]
        }
      ]
    },
    {
      "cell_type": "markdown",
      "source": [
        "**TEST 2**"
      ],
      "metadata": {
        "id": "7Ftes27pVz_T"
      }
    },
    {
      "cell_type": "code",
      "source": [
        "# стартовые вершины 0 и 1\n",
        "p = [0, 1]\n",
        "# правильные ответы\n",
        "a1 = {0: [0, -1, -1, -1, -1, -1, -1], 1: [1, 0, 1, 2, 1, 1, 2]}\n",
        "a2 = {0: [-1, -2, -2, -2, -2, -2, -2], 1: [1, -1, 1, 2, 1, 1, 5]}\n",
        "\n",
        "print('level_BFS_2:', level_BFS_2(M2, p))\n",
        "print('parent_BFS_2:', parent_BFS_2(M2, p))\n",
        "\n",
        "if level_BFS_2(M2, p) == a1 and parent_BFS_2(M2, p) == a2:\n",
        "  print('Test passed')\n",
        "else:\n",
        "  print('Test failed')"
      ],
      "metadata": {
        "id": "5g-bsT-SV167",
        "colab": {
          "base_uri": "https://localhost:8080/"
        },
        "outputId": "b2a35fbf-ef5d-4710-843c-25866d3d2c67"
      },
      "execution_count": null,
      "outputs": [
        {
          "output_type": "stream",
          "name": "stdout",
          "text": [
            "level_BFS_2: {0: [0, -1, -1, -1, -1, -1, -1], 1: [1, 0, 1, 2, 1, 1, 2]}\n",
            "parent_BFS_2: {0: [-1, -2, -2, -2, -2, -2, -2], 1: [1, -1, 1, 2, 1, 1, 5]}\n",
            "Test passed\n"
          ]
        }
      ]
    },
    {
      "cell_type": "markdown",
      "source": [
        "**TEST 3**"
      ],
      "metadata": {
        "id": "pTCR4DUKV6H_"
      }
    },
    {
      "cell_type": "code",
      "source": [
        "# стартовые вершины 0, 1, 5 и 6\n",
        "p = [0, 1, 5, 6]\n",
        "# правильные ответы\n",
        "a1 = {0: [0, 1, 2, 3, 2, 2, 3], 1: [3, 0, 1, 2, 1, 1, 2], 5: [4, 1, 2, 3, 1, 0, 1], 6: [5, 2, 3, 4, 2, 1, 0]}\n",
        "a2 = {0: [-1, 0, 1, 2, 1, 1, 5], 1: [3, -1, 1, 2, 1, 1, 5], 5: [3, 5, 1, 2, 5, -1, 5], 6: [3, 5, 1, 2, 5, 6, -1]}\n",
        "\n",
        "print('level_BFS_2:', level_BFS_2(M3, p))\n",
        "print('parent_BFS_2:', parent_BFS_2(M3, p))\n",
        "\n",
        "if level_BFS_2(M3, p) == a1 and parent_BFS_2(M3, p) == a2:\n",
        "  print('Test passed')\n",
        "else:\n",
        "  print('Test failed')"
      ],
      "metadata": {
        "id": "66nQggLMV7_-",
        "colab": {
          "base_uri": "https://localhost:8080/"
        },
        "outputId": "664ab898-cbb9-4af4-9d8c-c33f857cd814"
      },
      "execution_count": null,
      "outputs": [
        {
          "output_type": "stream",
          "name": "stdout",
          "text": [
            "level_BFS_2: {0: [0, 1, 2, 3, 2, 2, 3], 1: [3, 0, 1, 2, 1, 1, 2], 5: [4, 1, 2, 3, 1, 0, 1], 6: [5, 2, 3, 4, 2, 1, 0]}\n",
            "parent_BFS_2: {0: [-1, 0, 1, 2, 1, 1, 5], 1: [3, -1, 1, 2, 1, 1, 5], 5: [3, 5, 1, 2, 5, -1, 5], 6: [3, 5, 1, 2, 5, 6, -1]}\n",
            "Test passed\n"
          ]
        }
      ]
    },
    {
      "cell_type": "markdown",
      "source": [
        "**TEST 4**"
      ],
      "metadata": {
        "id": "OC862qNiWI0d"
      }
    },
    {
      "cell_type": "code",
      "source": [
        "# стартовые вершины 0 и 6\n",
        "p = [0, 6]\n",
        "# правильные ответы\n",
        "a1 = {0: [0, 1, 2, 3, 4, 5, 6], 6: [1, 2, 3, 4, 5, 6, 0]}\n",
        "a2 = {0: [-1, 0, 1, 2, 3, 4, 5], 6: [6, 0, 1, 2, 3, 4, -1]}\n",
        "\n",
        "print('level_BFS_2:', level_BFS_2(M4, p))\n",
        "print('parent_BFS_2:', parent_BFS_2(M4, p))\n",
        "\n",
        "if level_BFS_2(M4, p) == a1 and parent_BFS_2(M4, p) == a2:\n",
        "  print('Test passed')\n",
        "else:\n",
        "  print('Test failed')"
      ],
      "metadata": {
        "id": "Qyvl-FKtWKqI",
        "colab": {
          "base_uri": "https://localhost:8080/"
        },
        "outputId": "f91be7fc-1366-49b3-e6ff-52e88a0f911b"
      },
      "execution_count": null,
      "outputs": [
        {
          "output_type": "stream",
          "name": "stdout",
          "text": [
            "level_BFS_2: {0: [0, 1, 2, 3, 4, 5, 6], 6: [1, 2, 3, 4, 5, 6, 0]}\n",
            "parent_BFS_2: {0: [-1, 0, 1, 2, 3, 4, 5], 6: [6, 0, 1, 2, 3, 4, -1]}\n",
            "Test passed\n"
          ]
        }
      ]
    },
    {
      "cell_type": "markdown",
      "source": [
        "**TEST 5**"
      ],
      "metadata": {
        "id": "AAMer6vFWQ9A"
      }
    },
    {
      "cell_type": "code",
      "source": [
        "# стартовые вершины 0 и 6\n",
        "p = [0, 6]\n",
        "# правильные ответы\n",
        "a1 = {0: [0, 1, 2, 3, 3, 2, 1], 6: [1, 2, 3, 4, 2, 1, 0]}\n",
        "a2 = {0: [-1, 0, 1, 2, 5, 6, 0], 6: [6, 0, 1, 2, 5, 6, -1]}\n",
        "\n",
        "print('level_BFS_2:', level_BFS_2(M5, p))\n",
        "print('parent_BFS_2:', parent_BFS_2(M5, p))\n",
        "\n",
        "if level_BFS_2(M5, p) == a1 and parent_BFS_2(M5, p) == a2:\n",
        "  print('Test passed')\n",
        "else:\n",
        "  print('Test failed')"
      ],
      "metadata": {
        "id": "JNTDp61EWSc0",
        "colab": {
          "base_uri": "https://localhost:8080/"
        },
        "outputId": "ef6542f4-e788-4cbb-d7dd-c0d90a2cf795"
      },
      "execution_count": null,
      "outputs": [
        {
          "output_type": "stream",
          "name": "stdout",
          "text": [
            "level_BFS_2: {0: [0, 1, 2, 3, 3, 2, 1], 6: [1, 2, 3, 4, 2, 1, 0]}\n",
            "parent_BFS_2: {0: [-1, 0, 1, 2, 5, 6, 0], 6: [6, 0, 1, 2, 5, 6, -1]}\n",
            "Test passed\n"
          ]
        }
      ]
    },
    {
      "cell_type": "markdown",
      "source": [
        "**Тестирование на больших графах с сайта SuiteSparse Matrix Collection**"
      ],
      "metadata": {
        "id": "7PJIUI1Nt_Zf"
      }
    },
    {
      "cell_type": "code",
      "source": [
        "# создаем функцию реализации для алгоритмов с подсчетом времени выполнения\n",
        "def alg_time_2(A, a):\n",
        "  print('level_BFS2:')\n",
        "  %timeit level_BFS_2(A, a)\n",
        "  print('parent_BFS_2:')\n",
        "  %timeit parent_BFS_2(A, a)"
      ],
      "metadata": {
        "id": "AsFbqggyt-qH"
      },
      "execution_count": null,
      "outputs": []
    },
    {
      "cell_type": "code",
      "source": [
        "# Выводим нужные нам данные для сравнения результатов\n",
        "\n",
        "gen_vertex = [0.01, 0.05, 0.1, 0.5] # доля генерируемых вершин\n",
        "for k in graphs:\n",
        "  print('Количество вершин:', k.nrows, 'Количество ребер:', k.nvals)\n",
        "  for p in gen_vertex:\n",
        "    print('Количество стартовых вершин:', round(k.nrows * p))\n",
        "    print(alg_time_2(k, vertex_generate(k.nrows, p)))"
      ],
      "metadata": {
        "id": "4RkO355PuMw-",
        "colab": {
          "base_uri": "https://localhost:8080/"
        },
        "outputId": "2373f3d4-beae-4477-da99-7cfeb268039c"
      },
      "execution_count": null,
      "outputs": [
        {
          "output_type": "stream",
          "name": "stdout",
          "text": [
            "Количество вершин: 838 Количество ребер: 10010\n",
            "Количество стартовых вершин: 8\n",
            "level_BFS2:\n",
            "611 ms ± 13.1 ms per loop (mean ± std. dev. of 7 runs, 1 loop each)\n",
            "parent_BFS_2:\n",
            "1.01 s ± 251 ms per loop (mean ± std. dev. of 7 runs, 1 loop each)\n",
            "None\n",
            "Количество стартовых вершин: 42\n",
            "level_BFS2:\n",
            "3.71 s ± 604 ms per loop (mean ± std. dev. of 7 runs, 1 loop each)\n",
            "parent_BFS_2:\n",
            "4.88 s ± 586 ms per loop (mean ± std. dev. of 7 runs, 1 loop each)\n",
            "None\n",
            "Количество стартовых вершин: 84\n",
            "level_BFS2:\n",
            "7.1 s ± 504 ms per loop (mean ± std. dev. of 7 runs, 1 loop each)\n",
            "parent_BFS_2:\n",
            "9.83 s ± 881 ms per loop (mean ± std. dev. of 7 runs, 1 loop each)\n",
            "None\n",
            "Количество стартовых вершин: 419\n",
            "level_BFS2:\n",
            "35.2 s ± 728 ms per loop (mean ± std. dev. of 7 runs, 1 loop each)\n",
            "parent_BFS_2:\n",
            "47.8 s ± 1.03 s per loop (mean ± std. dev. of 7 runs, 1 loop each)\n",
            "None\n",
            "Количество вершин: 992 Количество ребер: 16744\n",
            "Количество стартовых вершин: 10\n",
            "level_BFS2:\n",
            "1.1 s ± 233 ms per loop (mean ± std. dev. of 7 runs, 1 loop each)\n",
            "parent_BFS_2:\n",
            "1.41 s ± 285 ms per loop (mean ± std. dev. of 7 runs, 1 loop each)\n",
            "None\n",
            "Количество стартовых вершин: 50\n",
            "level_BFS2:\n",
            "5.1 s ± 553 ms per loop (mean ± std. dev. of 7 runs, 1 loop each)\n",
            "parent_BFS_2:\n",
            "7.03 s ± 554 ms per loop (mean ± std. dev. of 7 runs, 1 loop each)\n",
            "None\n",
            "Количество стартовых вершин: 99\n",
            "level_BFS2:\n",
            "10 s ± 604 ms per loop (mean ± std. dev. of 7 runs, 1 loop each)\n",
            "parent_BFS_2:\n",
            "13.6 s ± 689 ms per loop (mean ± std. dev. of 7 runs, 1 loop each)\n",
            "None\n",
            "Количество стартовых вершин: 496\n",
            "level_BFS2:\n",
            "50.9 s ± 587 ms per loop (mean ± std. dev. of 7 runs, 1 loop each)\n",
            "parent_BFS_2:\n",
            "1min 7s ± 837 ms per loop (mean ± std. dev. of 7 runs, 1 loop each)\n",
            "None\n",
            "Количество вершин: 1054 Количество ребер: 12196\n",
            "Количество стартовых вершин: 11\n",
            "level_BFS2:\n",
            "1.06 s ± 15 ms per loop (mean ± std. dev. of 7 runs, 1 loop each)\n",
            "parent_BFS_2:\n",
            "1.62 s ± 281 ms per loop (mean ± std. dev. of 7 runs, 1 loop each)\n",
            "None\n",
            "Количество стартовых вершин: 53\n",
            "level_BFS2:\n",
            "5.64 s ± 561 ms per loop (mean ± std. dev. of 7 runs, 1 loop each)\n",
            "parent_BFS_2:\n",
            "7.73 s ± 584 ms per loop (mean ± std. dev. of 7 runs, 1 loop each)\n",
            "None\n",
            "Количество стартовых вершин: 105\n",
            "level_BFS2:\n",
            "11.2 s ± 370 ms per loop (mean ± std. dev. of 7 runs, 1 loop each)\n",
            "parent_BFS_2:\n",
            "15.2 s ± 334 ms per loop (mean ± std. dev. of 7 runs, 1 loop each)\n",
            "None\n",
            "Количество стартовых вершин: 527\n",
            "level_BFS2:\n",
            "56 s ± 768 ms per loop (mean ± std. dev. of 7 runs, 1 loop each)\n",
            "parent_BFS_2:\n",
            "1min 16s ± 523 ms per loop (mean ± std. dev. of 7 runs, 1 loop each)\n",
            "None\n",
            "Количество вершин: 1133 Количество ребер: 10902\n",
            "Количество стартовых вершин: 11\n",
            "level_BFS2:\n",
            "1.1 s ± 13.2 ms per loop (mean ± std. dev. of 7 runs, 1 loop each)\n",
            "parent_BFS_2:\n",
            "1.75 s ± 293 ms per loop (mean ± std. dev. of 7 runs, 1 loop each)\n",
            "None\n",
            "Количество стартовых вершин: 57\n",
            "level_BFS2:\n",
            "6.32 s ± 631 ms per loop (mean ± std. dev. of 7 runs, 1 loop each)\n",
            "parent_BFS_2:\n",
            "9.19 s ± 548 ms per loop (mean ± std. dev. of 7 runs, 1 loop each)\n",
            "None\n",
            "Количество стартовых вершин: 113\n",
            "level_BFS2:\n",
            "12.5 s ± 134 ms per loop (mean ± std. dev. of 7 runs, 1 loop each)\n",
            "parent_BFS_2:\n",
            "17.4 s ± 466 ms per loop (mean ± std. dev. of 7 runs, 1 loop each)\n",
            "None\n",
            "Количество стартовых вершин: 566\n",
            "level_BFS2:\n",
            "1min 3s ± 887 ms per loop (mean ± std. dev. of 7 runs, 1 loop each)\n",
            "parent_BFS_2:\n",
            "1min 28s ± 578 ms per loop (mean ± std. dev. of 7 runs, 1 loop each)\n",
            "None\n",
            "Количество вершин: 2048 Количество ребер: 12254\n",
            "Количество стартовых вершин: 20\n",
            "level_BFS2:\n",
            "4.04 s ± 522 ms per loop (mean ± std. dev. of 7 runs, 1 loop each)\n",
            "parent_BFS_2:\n",
            "5.68 s ± 497 ms per loop (mean ± std. dev. of 7 runs, 1 loop each)\n",
            "None\n",
            "Количество стартовых вершин: 102\n",
            "level_BFS2:\n",
            "20.8 s ± 594 ms per loop (mean ± std. dev. of 7 runs, 1 loop each)\n",
            "parent_BFS_2:\n",
            "28.9 s ± 701 ms per loop (mean ± std. dev. of 7 runs, 1 loop each)\n",
            "None\n",
            "Количество стартовых вершин: 205\n",
            "level_BFS2:\n",
            "42.1 s ± 972 ms per loop (mean ± std. dev. of 7 runs, 1 loop each)\n",
            "parent_BFS_2:\n",
            "57.7 s ± 1.21 s per loop (mean ± std. dev. of 7 runs, 1 loop each)\n",
            "None\n",
            "Количество стартовых вершин: 1024\n",
            "level_BFS2:\n",
            "3min 29s ± 548 ms per loop (mean ± std. dev. of 7 runs, 1 loop each)\n",
            "parent_BFS_2:\n",
            "4min 46s ± 1.14 s per loop (mean ± std. dev. of 7 runs, 1 loop each)\n",
            "None\n"
          ]
        }
      ]
    },
    {
      "cell_type": "markdown",
      "source": [
        "**Тестирование на случайно сгенерированных графах с использованием реализации с прошлой лабораторной работы**"
      ],
      "metadata": {
        "id": "V0Mv2YnWPS4s"
      }
    },
    {
      "cell_type": "code",
      "source": [
        "# 10 vertexes\n",
        "rows = 10\n",
        "density = [45, 33, 22, 11]\n",
        "gen_vertex = [0.1, 0.3, 0.5] # доля генерируемых вершин\n",
        "for d in density:\n",
        "  k = graph_generator(rows, d)\n",
        "  print('Количество вершин:', k.nrows, 'количество ребер:', k.nvals)\n",
        "  for p in gen_vertex:\n",
        "    print('Количество стартовых вершин:', round(k.nrows * p))\n",
        "    print(alg_time_2(k, vertex_generate(k.nrows, p)))"
      ],
      "metadata": {
        "id": "H52l8pp5ugfc",
        "colab": {
          "base_uri": "https://localhost:8080/"
        },
        "outputId": "ba2cb884-5aa4-4a84-cf51-da4d6f60aca8"
      },
      "execution_count": null,
      "outputs": [
        {
          "output_type": "stream",
          "name": "stdout",
          "text": [
            "Количество вершин: 10 количество ребер: 90\n",
            "Количество стартовых вершин: 1\n",
            "level_BFS2:\n",
            "3.24 ms ± 941 µs per loop (mean ± std. dev. of 7 runs, 100 loops each)\n",
            "parent_BFS_2:\n",
            "2.63 ms ± 758 µs per loop (mean ± std. dev. of 7 runs, 1000 loops each)\n",
            "None\n",
            "Количество стартовых вершин: 3\n",
            "level_BFS2:\n",
            "4.69 ms ± 294 µs per loop (mean ± std. dev. of 7 runs, 100 loops each)\n",
            "parent_BFS_2:\n",
            "4.47 ms ± 249 µs per loop (mean ± std. dev. of 7 runs, 100 loops each)\n",
            "None\n",
            "Количество стартовых вершин: 5\n",
            "level_BFS2:\n",
            "9.7 ms ± 2.02 ms per loop (mean ± std. dev. of 7 runs, 100 loops each)\n",
            "parent_BFS_2:\n",
            "6.82 ms ± 201 µs per loop (mean ± std. dev. of 7 runs, 100 loops each)\n",
            "None\n",
            "Количество вершин: 10 количество ребер: 66\n",
            "Количество стартовых вершин: 1\n",
            "level_BFS2:\n",
            "2.73 ms ± 670 µs per loop (mean ± std. dev. of 7 runs, 100 loops each)\n",
            "parent_BFS_2:\n",
            "2.94 ms ± 558 µs per loop (mean ± std. dev. of 7 runs, 100 loops each)\n",
            "None\n",
            "Количество стартовых вершин: 3\n",
            "level_BFS2:\n",
            "5.16 ms ± 280 µs per loop (mean ± std. dev. of 7 runs, 100 loops each)\n",
            "parent_BFS_2:\n",
            "4.44 ms ± 154 µs per loop (mean ± std. dev. of 7 runs, 100 loops each)\n",
            "None\n",
            "Количество стартовых вершин: 5\n",
            "level_BFS2:\n",
            "9.96 ms ± 2.17 ms per loop (mean ± std. dev. of 7 runs, 100 loops each)\n",
            "parent_BFS_2:\n",
            "7.01 ms ± 246 µs per loop (mean ± std. dev. of 7 runs, 100 loops each)\n",
            "None\n",
            "Количество вершин: 10 количество ребер: 44\n",
            "Количество стартовых вершин: 1\n",
            "level_BFS2:\n",
            "2.47 ms ± 422 µs per loop (mean ± std. dev. of 7 runs, 100 loops each)\n",
            "parent_BFS_2:\n",
            "3.02 ms ± 250 µs per loop (mean ± std. dev. of 7 runs, 100 loops each)\n",
            "None\n",
            "Количество стартовых вершин: 3\n",
            "level_BFS2:\n",
            "5.01 ms ± 128 µs per loop (mean ± std. dev. of 7 runs, 100 loops each)\n",
            "parent_BFS_2:\n",
            "4.61 ms ± 352 µs per loop (mean ± std. dev. of 7 runs, 100 loops each)\n",
            "None\n",
            "Количество стартовых вершин: 5\n",
            "level_BFS2:\n",
            "10.1 ms ± 2.75 ms per loop (mean ± std. dev. of 7 runs, 100 loops each)\n",
            "parent_BFS_2:\n",
            "7.71 ms ± 460 µs per loop (mean ± std. dev. of 7 runs, 100 loops each)\n",
            "None\n",
            "Количество вершин: 10 количество ребер: 22\n",
            "Количество стартовых вершин: 1\n",
            "level_BFS2:\n",
            "3.89 ms ± 762 µs per loop (mean ± std. dev. of 7 runs, 100 loops each)\n",
            "parent_BFS_2:\n",
            "2.65 ms ± 647 µs per loop (mean ± std. dev. of 7 runs, 100 loops each)\n",
            "None\n",
            "Количество стартовых вершин: 3\n",
            "level_BFS2:\n",
            "7.25 ms ± 793 µs per loop (mean ± std. dev. of 7 runs, 100 loops each)\n",
            "parent_BFS_2:\n",
            "4.67 ms ± 393 µs per loop (mean ± std. dev. of 7 runs, 100 loops each)\n",
            "None\n",
            "Количество стартовых вершин: 5\n",
            "level_BFS2:\n",
            "10.1 ms ± 1.72 ms per loop (mean ± std. dev. of 7 runs, 100 loops each)\n",
            "parent_BFS_2:\n",
            "8.45 ms ± 2.15 ms per loop (mean ± std. dev. of 7 runs, 100 loops each)\n",
            "None\n"
          ]
        }
      ]
    },
    {
      "cell_type": "code",
      "source": [
        "# 50 vertexes\n",
        "rows = 50\n",
        "density = [1225, 918, 612, 306]\n",
        "gen_vertex = [0.1, 0.3, 0.5] # доля генерируемых вершин\n",
        "for d in density:\n",
        "  k = graph_generator(rows, d)\n",
        "  print('Количество вершин:', k.nrows, 'количество ребер:', k.nvals)\n",
        "  for p in gen_vertex:\n",
        "    print('Количество стартовых вершин:', round(k.nrows * p))\n",
        "    print(alg_time_2(k, vertex_generate(k.nrows, p)))"
      ],
      "metadata": {
        "id": "sJn-UHsFuksA",
        "colab": {
          "base_uri": "https://localhost:8080/"
        },
        "outputId": "9a804650-60d5-4dae-8004-3cdbb0799e42"
      },
      "execution_count": null,
      "outputs": [
        {
          "output_type": "stream",
          "name": "stdout",
          "text": [
            "Количество вершин: 50 количество ребер: 2450\n",
            "Количество стартовых вершин: 5\n",
            "level_BFS2:\n",
            "26.9 ms ± 1.16 ms per loop (mean ± std. dev. of 7 runs, 10 loops each)\n",
            "parent_BFS_2:\n",
            "32.4 ms ± 1.65 ms per loop (mean ± std. dev. of 7 runs, 10 loops each)\n",
            "None\n",
            "Количество стартовых вершин: 15\n",
            "level_BFS2:\n",
            "84.7 ms ± 14 ms per loop (mean ± std. dev. of 7 runs, 10 loops each)\n",
            "parent_BFS_2:\n",
            "99.5 ms ± 16 ms per loop (mean ± std. dev. of 7 runs, 10 loops each)\n",
            "None\n",
            "Количество стартовых вершин: 25\n",
            "level_BFS2:\n",
            "146 ms ± 33.7 ms per loop (mean ± std. dev. of 7 runs, 10 loops each)\n",
            "parent_BFS_2:\n",
            "174 ms ± 35.4 ms per loop (mean ± std. dev. of 7 runs, 10 loops each)\n",
            "None\n",
            "Количество вершин: 50 количество ребер: 1836\n",
            "Количество стартовых вершин: 5\n",
            "level_BFS2:\n",
            "26.3 ms ± 873 µs per loop (mean ± std. dev. of 7 runs, 10 loops each)\n",
            "parent_BFS_2:\n",
            "38.2 ms ± 8.6 ms per loop (mean ± std. dev. of 7 runs, 10 loops each)\n",
            "None\n",
            "Количество стартовых вершин: 15\n",
            "level_BFS2:\n",
            "78 ms ± 7.23 ms per loop (mean ± std. dev. of 7 runs, 10 loops each)\n",
            "parent_BFS_2:\n",
            "111 ms ± 22.7 ms per loop (mean ± std. dev. of 7 runs, 10 loops each)\n",
            "None\n",
            "Количество стартовых вершин: 25\n",
            "level_BFS2:\n",
            "135 ms ± 21.8 ms per loop (mean ± std. dev. of 7 runs, 10 loops each)\n",
            "parent_BFS_2:\n",
            "241 ms ± 39.3 ms per loop (mean ± std. dev. of 7 runs, 1 loop each)\n",
            "None\n",
            "Количество вершин: 50 количество ребер: 1224\n",
            "Количество стартовых вершин: 5\n",
            "level_BFS2:\n",
            "26.4 ms ± 1.4 ms per loop (mean ± std. dev. of 7 runs, 10 loops each)\n",
            "parent_BFS_2:\n",
            "31.5 ms ± 1.36 ms per loop (mean ± std. dev. of 7 runs, 10 loops each)\n",
            "None\n",
            "Количество стартовых вершин: 15\n",
            "level_BFS2:\n",
            "90.7 ms ± 19.5 ms per loop (mean ± std. dev. of 7 runs, 10 loops each)\n",
            "parent_BFS_2:\n",
            "97.5 ms ± 5.72 ms per loop (mean ± std. dev. of 7 runs, 10 loops each)\n",
            "None\n",
            "Количество стартовых вершин: 25\n",
            "level_BFS2:\n",
            "144 ms ± 30.3 ms per loop (mean ± std. dev. of 7 runs, 10 loops each)\n",
            "parent_BFS_2:\n",
            "185 ms ± 38.5 ms per loop (mean ± std. dev. of 7 runs, 10 loops each)\n",
            "None\n",
            "Количество вершин: 50 количество ребер: 612\n",
            "Количество стартовых вершин: 5\n",
            "level_BFS2:\n",
            "33.4 ms ± 5.2 ms per loop (mean ± std. dev. of 7 runs, 10 loops each)\n",
            "parent_BFS_2:\n",
            "52.5 ms ± 8.32 ms per loop (mean ± std. dev. of 7 runs, 10 loops each)\n",
            "None\n",
            "Количество стартовых вершин: 15\n",
            "level_BFS2:\n",
            "82.7 ms ± 3.48 ms per loop (mean ± std. dev. of 7 runs, 10 loops each)\n",
            "parent_BFS_2:\n",
            "119 ms ± 27.7 ms per loop (mean ± std. dev. of 7 runs, 10 loops each)\n",
            "None\n",
            "Количество стартовых вершин: 25\n",
            "level_BFS2:\n",
            "148 ms ± 30.9 ms per loop (mean ± std. dev. of 7 runs, 10 loops each)\n",
            "parent_BFS_2:\n",
            "173 ms ± 32.3 ms per loop (mean ± std. dev. of 7 runs, 10 loops each)\n",
            "None\n"
          ]
        }
      ]
    },
    {
      "cell_type": "code",
      "source": [
        "# 100 vertexes\n",
        "rows = 100\n",
        "density = [4950, 3712, 2475, 1237]\n",
        "gen_vertex = [0.1, 0.3, 0.5] # доля генерируемых вершин\n",
        "for d in density:\n",
        "  k = graph_generator(rows, d)\n",
        "  print('Количество вершин:', k.nrows, 'количество ребер:', k.nvals)\n",
        "  for p in gen_vertex:\n",
        "    print('Количество стартовых вершин:', round(k.nrows * p))\n",
        "    print(alg_time_2(k, vertex_generate(k.nrows, p)))"
      ],
      "metadata": {
        "id": "Z9nUBR0Zuk5W",
        "colab": {
          "base_uri": "https://localhost:8080/"
        },
        "outputId": "afca7b15-562a-4022-96df-8a93424bd637"
      },
      "execution_count": null,
      "outputs": [
        {
          "output_type": "stream",
          "name": "stdout",
          "text": [
            "Количество вершин: 100 количество ребер: 9900\n",
            "Количество стартовых вершин: 10\n",
            "level_BFS2:\n",
            "113 ms ± 25.7 ms per loop (mean ± std. dev. of 7 runs, 10 loops each)\n",
            "parent_BFS_2:\n",
            "131 ms ± 17.1 ms per loop (mean ± std. dev. of 7 runs, 10 loops each)\n",
            "None\n",
            "Количество стартовых вершин: 30\n",
            "level_BFS2:\n",
            "366 ms ± 92.1 ms per loop (mean ± std. dev. of 7 runs, 1 loop each)\n",
            "parent_BFS_2:\n",
            "361 ms ± 8.89 ms per loop (mean ± std. dev. of 7 runs, 1 loop each)\n",
            "None\n",
            "Количество стартовых вершин: 50\n",
            "level_BFS2:\n",
            "496 ms ± 24.7 ms per loop (mean ± std. dev. of 7 runs, 1 loop each)\n",
            "parent_BFS_2:\n",
            "806 ms ± 174 ms per loop (mean ± std. dev. of 7 runs, 1 loop each)\n",
            "None\n",
            "Количество вершин: 100 количество ребер: 7424\n",
            "Количество стартовых вершин: 10\n",
            "level_BFS2:\n",
            "97.1 ms ± 5.4 ms per loop (mean ± std. dev. of 7 runs, 10 loops each)\n",
            "parent_BFS_2:\n",
            "136 ms ± 22.9 ms per loop (mean ± std. dev. of 7 runs, 10 loops each)\n",
            "None\n",
            "Количество стартовых вершин: 30\n",
            "level_BFS2:\n",
            "303 ms ± 28.5 ms per loop (mean ± std. dev. of 7 runs, 1 loop each)\n",
            "parent_BFS_2:\n",
            "545 ms ± 113 ms per loop (mean ± std. dev. of 7 runs, 1 loop each)\n",
            "None\n",
            "Количество стартовых вершин: 50\n",
            "level_BFS2:\n",
            "475 ms ± 21.8 ms per loop (mean ± std. dev. of 7 runs, 1 loop each)\n",
            "parent_BFS_2:\n",
            "712 ms ± 109 ms per loop (mean ± std. dev. of 7 runs, 1 loop each)\n",
            "None\n",
            "Количество вершин: 100 количество ребер: 4950\n",
            "Количество стартовых вершин: 10\n",
            "level_BFS2:\n",
            "98 ms ± 4.88 ms per loop (mean ± std. dev. of 7 runs, 10 loops each)\n",
            "parent_BFS_2:\n",
            "148 ms ± 28.9 ms per loop (mean ± std. dev. of 7 runs, 10 loops each)\n",
            "None\n",
            "Количество стартовых вершин: 30\n",
            "level_BFS2:\n",
            "278 ms ± 14.1 ms per loop (mean ± std. dev. of 7 runs, 1 loop each)\n",
            "parent_BFS_2:\n",
            "413 ms ± 90.3 ms per loop (mean ± std. dev. of 7 runs, 1 loop each)\n",
            "None\n",
            "Количество стартовых вершин: 50\n",
            "level_BFS2:\n",
            "594 ms ± 166 ms per loop (mean ± std. dev. of 7 runs, 1 loop each)\n",
            "parent_BFS_2:\n",
            "659 ms ± 41.7 ms per loop (mean ± std. dev. of 7 runs, 1 loop each)\n",
            "None\n",
            "Количество вершин: 100 количество ребер: 2474\n",
            "Количество стартовых вершин: 10\n",
            "level_BFS2:\n",
            "114 ms ± 26.1 ms per loop (mean ± std. dev. of 7 runs, 10 loops each)\n",
            "parent_BFS_2:\n",
            "144 ms ± 25.2 ms per loop (mean ± std. dev. of 7 runs, 10 loops each)\n",
            "None\n",
            "Количество стартовых вершин: 30\n",
            "level_BFS2:\n",
            "313 ms ± 48.8 ms per loop (mean ± std. dev. of 7 runs, 1 loop each)\n",
            "parent_BFS_2:\n",
            "390 ms ± 33.4 ms per loop (mean ± std. dev. of 7 runs, 1 loop each)\n",
            "None\n",
            "Количество стартовых вершин: 50\n",
            "level_BFS2:\n",
            "608 ms ± 154 ms per loop (mean ± std. dev. of 7 runs, 1 loop each)\n",
            "parent_BFS_2:\n",
            "636 ms ± 36.2 ms per loop (mean ± std. dev. of 7 runs, 1 loop each)\n",
            "None\n"
          ]
        }
      ]
    },
    {
      "cell_type": "markdown",
      "source": [
        "Сводная таблица с результатми тестирования представлена в следующем [файле](https://docs.google.com/document/d/1sl5f_5TEmo2lcHoLOSS0Gw0bkHIEyl-ivuyUIaHC1ng/edit)."
      ],
      "metadata": {
        "id": "q_l86FTOOQk2"
      }
    },
    {
      "cell_type": "markdown",
      "source": [
        "Выводы:\n",
        "1. На реальных графах тестирование показало, что первоначальные варианты алгоритмов BFS и level BFS parent работают быстрее в сравнение с теми, где были использованы any_pair для levels и any_first для parents. Возможно просто так совпало, потому что any_pair в теории должно дава\n",
        "2. На случайно сгенерированых графах немного иной результат тестирования. На небольших графах сильноразряженных или среднеразряженных any_pair показывает себя слегка эффективнее в половине случаев причем количество стартовых вершин не влияет на результаты. В то время как какой-то особой закономерности не было выявлено для level BFS parent. Примерно в 20% any_first для parents был эффективнее, но какой-то зависимости не получилось выследить."
      ],
      "metadata": {
        "id": "bS0KACSvOR9E"
      }
    }
  ]
}